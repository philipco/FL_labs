{
 "cells": [
  {
   "cell_type": "markdown",
   "metadata": {
    "id": "R1HAUoCKWjtk"
   },
   "source": [
    "# An Introduction to Federated Learning with Flower\n",
    "\n",
    "Welcome to this Flower federated learning tutorial!\n",
    "\n",
    "In this notebook, we'll build a federated learning system using Flower and PyTorch. In part 1, we use PyTorch for the model training pipeline and data loading. In part 2, we continue to federate the PyTorch-based pipeline using Flower.\n",
    "\n",
    "Let's start!"
   ]
  },
  {
   "cell_type": "markdown",
   "metadata": {
    "id": "y8YzEUdpw96O"
   },
   "source": [
    "## Step 0: What is Flower ?\n",
    "\n",
    "You can have a look on the Flower's [documentation](https://flower.dev/docs/), on the github [repository](https://github.com/adap/flower) (2.4k stars, 500 forks) or on the [paper](https://arxiv.org/pdf/2007.14390.pdf) released on arXiv. "
   ]
  },
  {
   "cell_type": "markdown",
   "metadata": {
    "id": "nBVj_kTPzUJV"
   },
   "source": [
    "*Flower* is a FL framework that supports large-cohort training and evaluation, both on real edge devices and on single-node or multi-node compute clusters. This unlocks scalable algorithmic research of real-world system conditions such as limited computational resources which are common for typical FL workloads.\n",
    "\n",
    "The team building it is dynamic and proposes a large variety of notebooks to get started with their framework!"
   ]
  },
  {
   "cell_type": "markdown",
   "metadata": {},
   "source": [
    "<img src=\"Flower_blogs.png\" alt=\"Flower framework\"/>"
   ]
  },
  {
   "cell_type": "markdown",
   "metadata": {
    "id": "EliuP_AAzut3"
   },
   "source": [
    "### Design goals \n",
    "\n",
    "\n",
    "1.   Scalable: Given that real-world FL would encounter a large number of clients, Flower should scale to a large number of\n",
    "concurrent clients to foster research on a realistic scale.\n",
    "2.   Client-agnostic: Given the heterogeneous environment on\n",
    "mobile clients, Flower should be interoperable with different\n",
    "programming languages, operating systems, and hardware.\n",
    "3.   Communication-agnostic: Given the heterogeneous connectivity settings, Flower should allow different serialization\n",
    "and communication approaches.\n",
    "4.   Privacy-agnostic: Different FL settings (cross-device, cross-\n",
    "silo) have different privacy requirements (secure aggregation, differential privacy). Flower should support common\n",
    "approaches whilst not be prescriptive about their usage.\n",
    "5.   Flexible: Given the rate of change in FL and the velocity\n",
    "of the general ML ecosystem, Flower should be flexible to\n",
    "enable both experimental research and adoption of recently\n",
    "proposed approaches with low engineering overhead."
   ]
  },
  {
   "cell_type": "markdown",
   "metadata": {
    "id": "QGg9RSebWjtn"
   },
   "source": [
    "## Step 1: Preparation\n",
    "\n",
    "Before we begin with any actual code, let's make sure that we have everything we need."
   ]
  },
  {
   "cell_type": "markdown",
   "metadata": {
    "id": "fpeHBNzfWjto"
   },
   "source": [
    "### Installing dependencies\n",
    "\n",
    "Next, we install the necessary packages for PyTorch (`torch` and `torchvision`) and Flower (`flwr`):"
   ]
  },
  {
   "cell_type": "code",
   "execution_count": null,
   "metadata": {
    "colab": {
     "base_uri": "https://localhost:8080/"
    },
    "id": "M2_qI3GUWjtq",
    "outputId": "25e46fdc-27fe-4ea0-bed1-27c78f488267"
   },
   "outputs": [
    {
     "name": "stdout",
     "output_type": "stream",
     "text": [
      "\u001b[2K     \u001b[90m━━━━━━━━━━━━━━━━━━━━━━━━━━━━━━━━━━━━━━━\u001b[0m \u001b[32m157.2/157.2 kB\u001b[0m \u001b[31m7.1 MB/s\u001b[0m eta \u001b[36m0:00:00\u001b[0m\n",
      "\u001b[2K     \u001b[90m━━━━━━━━━━━━━━━━━━━━━━━━━━━━━━━━━━━━━━━━\u001b[0m \u001b[32m56.2/56.2 MB\u001b[0m \u001b[31m16.5 MB/s\u001b[0m eta \u001b[36m0:00:00\u001b[0m\n",
      "\u001b[2K     \u001b[90m━━━━━━━━━━━━━━━━━━━━━━━━━━━━━━━━━━━━━━\u001b[0m \u001b[32m149.6/149.6 kB\u001b[0m \u001b[31m15.1 MB/s\u001b[0m eta \u001b[36m0:00:00\u001b[0m\n",
      "\u001b[2K     \u001b[90m━━━━━━━━━━━━━━━━━━━━━━━━━━━━━━━━━━━━━━━━\u001b[0m \u001b[32m4.8/4.8 MB\u001b[0m \u001b[31m41.1 MB/s\u001b[0m eta \u001b[36m0:00:00\u001b[0m\n",
      "\u001b[2K     \u001b[90m━━━━━━━━━━━━━━━━━━━━━━━━━━━━━━━━━━━━━━━━\u001b[0m \u001b[32m1.0/1.0 MB\u001b[0m \u001b[31m33.9 MB/s\u001b[0m eta \u001b[36m0:00:00\u001b[0m\n",
      "\u001b[2K     \u001b[90m━━━━━━━━━━━━━━━━━━━━━━━━━━━━━━━━━━━━━━\u001b[0m \u001b[32m201.4/201.4 kB\u001b[0m \u001b[31m16.8 MB/s\u001b[0m eta \u001b[36m0:00:00\u001b[0m\n",
      "\u001b[2K     \u001b[90m━━━━━━━━━━━━━━━━━━━━━━━━━━━━━━━━━━━━━━━━\u001b[0m \u001b[32m3.0/3.0 MB\u001b[0m \u001b[31m54.7 MB/s\u001b[0m eta \u001b[36m0:00:00\u001b[0m\n",
      "\u001b[2K     \u001b[90m━━━━━━━━━━━━━━━━━━━━━━━━━━━━━━━━━━━━━━━━\u001b[0m \u001b[32m97.9/97.9 kB\u001b[0m \u001b[31m5.3 MB/s\u001b[0m eta \u001b[36m0:00:00\u001b[0m\n",
      "\u001b[?25h  Installing build dependencies ... \u001b[?25l\u001b[?25hdone\n",
      "  Getting requirements to build wheel ... \u001b[?25l\u001b[?25hdone\n",
      "  Preparing metadata (pyproject.toml) ... \u001b[?25l\u001b[?25hdone\n",
      "\u001b[2K     \u001b[90m━━━━━━━━━━━━━━━━━━━━━━━━━━━━━━━━━━━━━━\u001b[0m \u001b[32m128.2/128.2 kB\u001b[0m \u001b[31m14.8 MB/s\u001b[0m eta \u001b[36m0:00:00\u001b[0m\n",
      "\u001b[2K     \u001b[90m━━━━━━━━━━━━━━━━━━━━━━━━━━━━━━━━━━━━━━━━\u001b[0m \u001b[32m8.7/8.7 MB\u001b[0m \u001b[31m101.7 MB/s\u001b[0m eta \u001b[36m0:00:00\u001b[0m\n",
      "\u001b[2K     \u001b[90m━━━━━━━━━━━━━━━━━━━━━━━━━━━━━━━━━━━━━━\u001b[0m \u001b[32m114.5/114.5 kB\u001b[0m \u001b[31m12.7 MB/s\u001b[0m eta \u001b[36m0:00:00\u001b[0m\n",
      "\u001b[2K     \u001b[90m━━━━━━━━━━━━━━━━━━━━━━━━━━━━━━━━━━━━━━\u001b[0m \u001b[32m268.8/268.8 kB\u001b[0m \u001b[31m25.7 MB/s\u001b[0m eta \u001b[36m0:00:00\u001b[0m\n",
      "\u001b[2K     \u001b[90m━━━━━━━━━━━━━━━━━━━━━━━━━━━━━━━━━━━━━━━━\u001b[0m \u001b[32m58.4/58.4 kB\u001b[0m \u001b[31m6.8 MB/s\u001b[0m eta \u001b[36m0:00:00\u001b[0m\n",
      "\u001b[2K     \u001b[90m━━━━━━━━━━━━━━━━━━━━━━━━━━━━━━━━━━━━━━\u001b[0m \u001b[32m468.5/468.5 kB\u001b[0m \u001b[31m43.3 MB/s\u001b[0m eta \u001b[36m0:00:00\u001b[0m\n",
      "\u001b[?25h  Building wheel for gpustat (pyproject.toml) ... \u001b[?25l\u001b[?25hdone\n"
     ]
    }
   ],
   "source": [
    "%pip install -q flwr[simulation] torch torchvision matplotlib "
   ]
  },
  {
   "cell_type": "markdown",
   "metadata": {
    "id": "-qJaZrKNWjts"
   },
   "source": [
    "Now that we have all dependencies installed, we can import everything we need for this tutorial:"
   ]
  },
  {
   "cell_type": "code",
   "execution_count": null,
   "metadata": {
    "colab": {
     "base_uri": "https://localhost:8080/"
    },
    "id": "Hp1e7pwwWjts",
    "outputId": "b8f1b2d2-217b-4621-e135-f54c2d523c4e"
   },
   "outputs": [
    {
     "name": "stdout",
     "output_type": "stream",
     "text": [
      "Training on cpu using PyTorch 2.0.1+cu118 and Flower 1.4.0\n"
     ]
    }
   ],
   "source": [
    "from collections import OrderedDict\n",
    "from typing import List, Tuple\n",
    "\n",
    "import copy\n",
    "\n",
    "import matplotlib\n",
    "import matplotlib.pyplot as plt\n",
    "import numpy as np\n",
    "import torch\n",
    "import torch.nn as nn\n",
    "import torch.nn.functional as F\n",
    "import torchvision\n",
    "import torchvision.transforms as transforms\n",
    "from torch.utils.data import DataLoader, random_split\n",
    "from torchvision.datasets import CIFAR10, MNIST, EMNIST\n",
    "\n",
    "# Limit the precision of elements\n",
    "torch.set_printoptions(precision=3)\n",
    "\n",
    "import flwr as fl\n",
    "from flwr.common import Metrics\n",
    "\n",
    "DEVICE = torch.device('cuda' if torch.cuda.is_available() else 'cpu')\n",
    "print(\n",
    "    f\"Training on {DEVICE} using PyTorch {torch.__version__} and Flower {fl.__version__}\"\n",
    ")\n",
    "\n",
    "#torch.cuda.set_device(0) "
   ]
  },
  {
   "cell_type": "markdown",
   "metadata": {
    "id": "n9Qa2uXiWjtt"
   },
   "source": [
    "It is possible to switch to a runtime that has GPU acceleration enabled (on Google Colab: `Runtime > Change runtime type > Hardware acclerator: GPU > Save`). Note, however, that Google Colab is not always able to offer GPU acceleration. If you see an error related to GPU availability in one of the following sections, consider switching back to CPU-based execution by setting `DEVICE = torch.device(\"cpu\")`. If the runtime has GPU acceleration enabled, you should see the output `Training on cuda`, otherwise it'll say `Training on cpu`."
   ]
  },
  {
   "cell_type": "markdown",
   "metadata": {
    "id": "7jiF4RAcWjtu"
   },
   "source": [
    "\n",
    "### Loading the data\n",
    "\n",
    "Federated learning can be applied to many different types of tasks across different domains. In this tutorial, we introduce federated learning by training a simple convolutional neural network (CNN) on the popular CIFAR-10 dataset. CIFAR-10 can be used to train image classifiers that distinguish between images from ten different classes:"
   ]
  },
  {
   "cell_type": "code",
   "execution_count": null,
   "metadata": {
    "id": "ADFyJfHNWjtv"
   },
   "outputs": [],
   "source": [
    "dataset = \"CIFAR10\"\n",
    "\n",
    "if dataset == \"MNIST\":\n",
    "    CLASSES = (\"0\",\"1\",\"2\",\"3\",\"4\",\"5\",\"6\",\"7\",\"8\",\"9\")\n",
    "elif dataset == \"CIFAR10\":\n",
    "    CLASSES = (\"plane\",\"car\",\"bird\",\"cat\",\"deer\",\"dog\",\"frog\",\"horse\",\"ship\",\"truck\")\n",
    "elif dataset == \"EMNIST\":\n",
    "    CLASSES = (\"0\", \"1\", \"2\", \"3\", \"4\", \"5\", \"6\", \"7\", \"8\", \"9\", \"A\", \"B\", \"C\", \"D\", \"E\", \"F\", \"G\", \"H\", \"I\", \"J\", \"K\", \"L\", \"M\", \"N\", \"O\", \"P\", \"Q\", \"R\", \"S\", \"T\", \"U\", \"V\", \"W\", \"X\", \"Y\", \"Z\", \"a\", \"b\", \"d\", \"e\", \"f\", \"g\", \"h\", \"n\", \"q\", \"r\", \"t\")\n"
   ]
  },
  {
   "cell_type": "markdown",
   "metadata": {
    "id": "aNTapzptWjty"
   },
   "source": [
    "We simulate having multiple datasets from multiple organizations (also called the \"cross-silo\" setting in federated learning) by splitting the original CIFAR-10 dataset into multiple partitions. Each partition will represent the data from a single organization. We're doing this purely for experimentation purposes, in the real world there's no need for data splitting because each organization already has their own data (so the data is naturally partitioned).\n",
    "\n",
    "Each organization will act as a client in the federated learning system. So having ten organizations participate in a federation means having ten clients connected to the federated learning server:\n"
   ]
  },
  {
   "cell_type": "code",
   "execution_count": null,
   "metadata": {
    "id": "evLEpUgQWjtz"
   },
   "outputs": [],
   "source": [
    "NUM_CLIENTS = 20\n",
    "NUM_EPOCHS = 20\n",
    "DIRICHLET_COEF = 0.3 # Degree of heterogeneity, the greater it is, the more homogeneous will be the clients.\n",
    "BATCH_SIZE = 128\n",
    "LR = 0.1\n",
    "NUM_LOCAL_EPOCHS = 1\n",
    "NUM_COMPONENTS = 3 # Following Marfocq and al. 2021"
   ]
  },
  {
   "cell_type": "markdown",
   "metadata": {
    "id": "Ez1McMAbvXZp"
   },
   "source": [
    "### Heterogeneous split of the data\n",
    "\n",
    "We need to create heterogeneous clients, to do so we rely on a Dirichlet distribution to splits the dataset.\n",
    "\n",
    "Specifically, we sample $p_k \\sim Dir_N (\\beta)$ and allocate a $p_{k,j}$ proportion of the instances of class $k$ to party $j$. Here $Dir(\\cdot)$ denotes\n",
    "the Dirichlet distribution and $\\beta$ is a concentration parameter ($\\beta > 0$). An advantage of this approach is that we can flexibly change the imbalance level by varying the concentration parameter $\\beta$. If $\\beta$ is set to a smaller value, then the partition is more unbalanced\n",
    "\n",
    "See [Federated Learning on Non-IID Data Silos: An Experimental Study](https://arxiv.org/pdf/2102.02079.pdf) by Li et al, 2021."
   ]
  },
  {
   "cell_type": "code",
   "execution_count": null,
   "metadata": {
    "id": "gppHnYTWIOOH"
   },
   "outputs": [],
   "source": [
    "from numpy.random import dirichlet\n",
    "import random\n",
    "\n",
    "def non_iid_split(train_data, nb_devices, dirichlet_coef=1):\n",
    "    \"\"\"Splits the training data by target values (leads to a highly non-iid data distribution) using a Dirichlet \n",
    "        distribution.\"\"\"\n",
    "    unique_values = {}\n",
    "    targets = train_data.targets\n",
    "    n = len(targets)\n",
    "\n",
    "    # Splitting the dataset by target value.\n",
    "    if not torch.is_tensor(targets):\n",
    "        targets = torch.Tensor(targets)\n",
    "    for i in range(n):\n",
    "        if targets[i].item() in unique_values:\n",
    "            unique_values[targets[i].item()] = np.append(unique_values[targets[i].item()], [i])\n",
    "        else:\n",
    "            unique_values[targets[i].item()] = np.array([i])\n",
    "    nb_labels = len(unique_values)\n",
    "\n",
    "    nb_points_by_clients = n // nb_devices\n",
    "    matrix = (dirichlet([dirichlet_coef] * nb_labels, size=nb_devices)  * (nb_points_by_clients+2)).astype(int)# 1 line = 1 worker\n",
    "    ordered_indices = sorted(unique_values.values(), key=len)\n",
    "    split = []\n",
    "    for i in range(nb_devices):\n",
    "        indices_for_client_i = []\n",
    "        for j in range(nb_labels):\n",
    "            indices_by_label = ordered_indices[j]\n",
    "            indices_for_client_i += random.sample(list(indices_by_label), matrix[i][j]) # Join lists\n",
    "        split.append(np.array(indices_for_client_i))\n",
    "\n",
    "    return split"
   ]
  },
  {
   "cell_type": "markdown",
   "metadata": {
    "id": "YB1jX1w6Wjtz"
   },
   "source": [
    "\n",
    "Let's now load the CIFAR-10 training and test set, partition them into ten smaller datasets (each split into training and validation set), and wrap the resulting partitions by creating a PyTorch `DataLoader` for each of them:"
   ]
  },
  {
   "cell_type": "code",
   "execution_count": null,
   "metadata": {
    "id": "_18vHNkDWjtz"
   },
   "outputs": [],
   "source": [
    "import math\n",
    "from torch.utils.data import DataLoader, Subset, RandomSampler\n",
    "\n",
    "def load_datasets(nb_clients):\n",
    "    # Download and transform CIFAR10/MNIST (train and test)\n",
    "\n",
    "    if dataset == \"MNIST\":\n",
    "        transform = transforms.Compose([\n",
    "          torchvision.transforms.ToTensor(), torchvision.transforms.Normalize((0.1307,), (0.3081,))]\n",
    "          )\n",
    "        trainset = MNIST(\"./dataset\", train=True, download=True, transform=transform)\n",
    "        testset = MNIST(\"./dataset\", train=False, download=True, transform=transform)\n",
    "    elif dataset == \"CIFAR10\":\n",
    "        transform = transforms.Compose(\n",
    "            [transforms.ToTensor(), transforms.Normalize((0.5, 0.5, 0.5), (0.5, 0.5, 0.5))]\n",
    "        )\n",
    "        trainset = CIFAR10(\"./dataset\", train=True, download=True, transform=transform)\n",
    "        testset = CIFAR10(\"./dataset\", train=False, download=True, transform=transform)\n",
    "    elif dataset == \"EMNIST\":\n",
    "        transform = transforms.Compose([\n",
    "          torchvision.transforms.ToTensor(), torchvision.transforms.Normalize((0.5,), (0.5,))]\n",
    "          )\n",
    "        trainset = EMNIST(\"./dataset\", train=True, download=True, transform=transform, split=\"balanced\")\n",
    "        testset = EMNIST(\"./dataset\", train=False, download=True, transform=transform, split=\"balanced\")\n",
    "\n",
    "    \n",
    "    \n",
    "    split = non_iid_split(trainset, nb_clients, DIRICHLET_COEF)\n",
    "    \n",
    "\n",
    "    # Split each partition into train/val and create DataLoader\n",
    "    trainloaders = []\n",
    "    valloaders = []\n",
    "    for indices in split:\n",
    "        \n",
    "        random.shuffle(indices)\n",
    "        \n",
    "        indices_train = indices[:math.floor(len(indices)*0.9)]\n",
    "        indices_val = indices[math.floor(len(indices)*0.9)+1:]\n",
    "        \n",
    "        # shuffle = False is necesseray to later mulply the loss of a given item with the corresponding posterior proba.\n",
    "        trainloaders.append(DataLoader(Subset(trainset, indices_train), batch_size=BATCH_SIZE, \n",
    "                                       shuffle=False, \n",
    "                                       pin_memory=True if torch.cuda.is_available() else False,\n",
    "                                       num_workers=2 if torch.cuda.is_available() else 0))\n",
    "        valloaders.append(DataLoader(Subset(trainset, indices_val), batch_size=BATCH_SIZE,  \n",
    "                                     shuffle=False, \n",
    "                                     pin_memory=True if torch.cuda.is_available() else False,\n",
    "                                     num_workers=2 if torch.cuda.is_available() else 0))\n",
    "    testloader = DataLoader(testset, batch_size=BATCH_SIZE, \n",
    "                            pin_memory=True if torch.cuda.is_available() else False,\n",
    "                            num_workers=2 if torch.cuda.is_available() else 0)\n",
    "    return trainloaders, valloaders, testloader\n"
   ]
  },
  {
   "cell_type": "code",
   "execution_count": null,
   "metadata": {
    "colab": {
     "base_uri": "https://localhost:8080/"
    },
    "id": "p6YpTii8MiZf",
    "outputId": "1041f808-b277-4720-eb7b-dcee50485603"
   },
   "outputs": [
    {
     "name": "stdout",
     "output_type": "stream",
     "text": [
      "Downloading https://www.cs.toronto.edu/~kriz/cifar-10-python.tar.gz to ./dataset/cifar-10-python.tar.gz\n"
     ]
    },
    {
     "name": "stderr",
     "output_type": "stream",
     "text": [
      "100%|██████████| 170498071/170498071 [00:04<00:00, 37112171.47it/s]\n"
     ]
    },
    {
     "name": "stdout",
     "output_type": "stream",
     "text": [
      "Extracting ./dataset/cifar-10-python.tar.gz to ./dataset\n",
      "Files already downloaded and verified\n"
     ]
    }
   ],
   "source": [
    "trainloaders, valloaders, testloader = load_datasets(NUM_CLIENTS)"
   ]
  },
  {
   "cell_type": "markdown",
   "metadata": {
    "id": "xY309JqDWjt0"
   },
   "source": [
    "We now have a list of ten training sets and ten validation sets (`trainloaders` and `valloaders`) representing the data of ten different organizations. Each `trainloader`/`valloader` pair contains 4500 training examples and 500 validation examples. There's also a single `testloader` (we did not split the test set). Again, this is only necessary for building research or educational systems, actual federated learning systems have their data naturally distributed across multiple partitions.\n",
    "\n"
   ]
  },
  {
   "cell_type": "markdown",
   "metadata": {
    "id": "TwI2eB2cwZM-"
   },
   "source": [
    "### Visualisation of client's heterogeneity"
   ]
  },
  {
   "cell_type": "markdown",
   "metadata": {
    "id": "s3cRTA31wmVQ"
   },
   "source": [
    "Below, we represent the labels' distribution for the firsts three clients. We can see that they are higly heterogeneous."
   ]
  },
  {
   "cell_type": "code",
   "execution_count": null,
   "metadata": {
    "colab": {
     "base_uri": "https://localhost:8080/",
     "height": 1000
    },
    "id": "NI_c7cf1IOOL",
    "outputId": "47171c48-f91f-4a94-a5b4-7a3cc7aa9716"
   },
   "outputs": [
    {
     "data": {
      "image/png": "[encoded data removed]",
      "text/plain": [
       "<Figure size 640x480 with 1 Axes>"
      ]
     },
     "metadata": {},
     "output_type": "display_data"
    },
    {
     "data": {
      "image/png": "[encoded data removed]",
      "text/plain": [
       "<Figure size 640x480 with 1 Axes>"
      ]
     },
     "metadata": {},
     "output_type": "display_data"
    },
    {
     "data": {
      "image/png": "[encoded data removed]",
      "text/plain": [
       "<Figure size 640x480 with 1 Axes>"
      ]
     },
     "metadata": {},
     "output_type": "display_data"
    }
   ],
   "source": [
    "def plot_label_distribution(list_loader, client_id, classes):\n",
    "    loader = list_loader[client_id]\n",
    "    labels = np.zeros(len(classes))  \n",
    "    for images, targets in loader:\n",
    "        for target in targets:\n",
    "            labels[target] += 1\n",
    "    plt.bar(np.arange(len(classes)), labels)\n",
    "    plt.xticks(np.arange(len(classes)), classes)\n",
    "    plt.ylabel('Count')\n",
    "    plt.title('Label Distribution for client {0}'.format(client_id))\n",
    "    plt.show()\n",
    "    \n",
    "plot_label_distribution(trainloaders, 0, CLASSES)\n",
    "plot_label_distribution(trainloaders, 1, CLASSES)\n",
    "plot_label_distribution(trainloaders, 2, CLASSES)"
   ]
  },
  {
   "cell_type": "markdown",
   "metadata": {
    "id": "MsL2eIBSwkFu"
   },
   "source": [
    "Let's take a look at the first batch of images and labels in the first training set (i.e., `trainloaders[0]`) before we move on:"
   ]
  },
  {
   "cell_type": "code",
   "execution_count": null,
   "metadata": {
    "colab": {
     "base_uri": "https://localhost:8080/",
     "height": 607
    },
    "id": "cIOW9UV4Wjt2",
    "outputId": "7b229e7f-8eb7-4ba7-acd8-585ac8c35182"
   },
   "outputs": [
    {
     "data": {
      "image/png": "[encoded data removed]",
      "text/plain": [
       "<Figure size 1200x600 with 32 Axes>"
      ]
     },
     "metadata": {},
     "output_type": "display_data"
    }
   ],
   "source": [
    "images, labels = next(iter(trainloaders[0]))\n",
    "\n",
    "# Reshape and convert images to a NumPy array\n",
    "# matplotlib requires images with the shape (height, width, 3)\n",
    "images = images.permute(0, 2, 3, 1).numpy()\n",
    "# Denormalize\n",
    "images = images / 2 + 0.5\n",
    "\n",
    "# Create a figure and a grid of subplots\n",
    "fig, axs = plt.subplots(4, 8, figsize=(12, 6))\n",
    "\n",
    "# Loop over the images and plot them\n",
    "for i, ax in enumerate(axs.flat):\n",
    "    ax.imshow(images[i])\n",
    "    ax.set_title(CLASSES[labels[i]])\n",
    "    ax.axis(\"off\")\n",
    "\n",
    "# Show the plot\n",
    "fig.tight_layout()\n",
    "plt.show()"
   ]
  },
  {
   "cell_type": "markdown",
   "metadata": {
    "id": "dkunk-owWjt2"
   },
   "source": [
    "The output above shows a random batch of images from the first `trainloader` in our list of ten `trainloaders`. It also prints the labels associated with each image (i.e., one of the ten possible labels we've seen above). If you run the cell again, you should see another batch of images."
   ]
  },
  {
   "cell_type": "markdown",
   "metadata": {
    "id": "HdhQngMsWjt2"
   },
   "source": [
    "## Step 2: Centralized Training with PyTorch\n",
    "\n"
   ]
  },
  {
   "cell_type": "markdown",
   "metadata": {
    "id": "nrfKofMjWjt3"
   },
   "source": [
    "Next, we're going to use PyTorch to define a simple convolutional neural network. This introduction assumes basic familiarity with PyTorch, so it doesn't cover the PyTorch-related aspects in full detail. If you want to dive deeper into PyTorch, we recommend [*DEEP LEARNING WITH PYTORCH: A 60 MINUTE BLITZ*](https://pytorch.org/tutorials/beginner/deep_learning_60min_blitz.html).\n"
   ]
  },
  {
   "cell_type": "markdown",
   "metadata": {
    "id": "0iXi15YHWjt3"
   },
   "source": [
    "### Defining the model\n",
    "\n",
    "We use a simple one-layer neural network, the advantage being simplicity and speed. Also, the convex function that we want to minimize is convex."
   ]
  },
  {
   "cell_type": "code",
   "execution_count": null,
   "metadata": {
    "id": "VWPC8Cptn10a"
   },
   "outputs": [],
   "source": [
    "class Net(nn.Module):\n",
    "    def __init__(self):\n",
    "        super(Net, self).__init__()\n",
    "        if dataset == \"MNIST\":\n",
    "            self.fc = nn.Linear(28 * 28, 10)\n",
    "        elif dataset == \"CIFAR10\":\n",
    "            self.fc = nn.Linear(32 * 32 * 3, 10) # 32x32x3 input features, 10 output classes\n",
    "        elif dataset == \"EMNIST\":\n",
    "            self.fc = nn.Linear(28 * 28, 47)\n",
    "        \n",
    "    \n",
    "    def forward(self, x):\n",
    "        if dataset in [\"MNIST\", \"EMNIST\"]:\n",
    "            x = x.view(-1, 28 * 28) # Flatten the input\n",
    "        else:\n",
    "            x = x.view(-1, 32 * 32 * 3) # Flatten the input\n",
    "        \n",
    "        x = self.fc(x)\n",
    "        return x"
   ]
  },
  {
   "cell_type": "markdown",
   "metadata": {
    "id": "43opB2HoWjt4"
   },
   "source": [
    "Let's continue with the usual training and test functions:"
   ]
  },
  {
   "cell_type": "code",
   "execution_count": null,
   "metadata": {
    "id": "gMQ3jbuFWjt5"
   },
   "outputs": [],
   "source": [
    "def train(net, trainloader, epochs: int, verbose=False):\n",
    "    \"\"\"Train the network on the training set.\"\"\"\n",
    "    criterion = torch.nn.CrossEntropyLoss()\n",
    "    optimizer = torch.optim.SGD(net.parameters(), lr=LR, momentum=0.9, weight_decay=5e-4)\n",
    "    net.train()\n",
    "    for epoch in range(epochs):\n",
    "        correct, total, epoch_loss = 0, 0, 0.0\n",
    "        for images, labels in trainloader:\n",
    "            images, labels = images.to(DEVICE), labels.to(DEVICE)\n",
    "            optimizer.zero_grad()\n",
    "            outputs = net(images)\n",
    "            loss = criterion(outputs, labels)\n",
    "            loss.backward()\n",
    "            optimizer.step()\n",
    "            # Metrics\n",
    "            epoch_loss += loss\n",
    "            total += labels.size(0)\n",
    "            correct += (torch.max(outputs.data, 1)[1] == labels).sum().item()\n",
    "        epoch_loss /= len(trainloader)\n",
    "        epoch_acc = correct / total\n",
    "        if verbose:\n",
    "            print(f\"Epoch {epoch+1}: train loss {epoch_loss}, accuracy {epoch_acc}\")\n",
    "    return epoch_loss\n"
   ]
  },
  {
   "cell_type": "code",
   "execution_count": null,
   "metadata": {
    "id": "esDH1ffD1zUE"
   },
   "outputs": [],
   "source": [
    "def test(net, testloader):\n",
    "    \"\"\"Evaluate the network on the entire test set.\"\"\"\n",
    "    criterion = torch.nn.CrossEntropyLoss()\n",
    "    correct, total, loss = 0, 0, 0.0\n",
    "    net.eval()\n",
    "    with torch.no_grad():\n",
    "        for images, labels in testloader:\n",
    "            images, labels = images.to(DEVICE), labels.to(DEVICE)\n",
    "            outputs = net(images)\n",
    "            loss += criterion(outputs, labels).item()\n",
    "            _, predicted = torch.max(outputs.data, 1)\n",
    "            total += labels.size(0)\n",
    "            correct += (predicted == labels).sum().item()\n",
    "    loss /= len(testloader)\n",
    "    accuracy = correct / total\n",
    "    return loss, accuracy"
   ]
  },
  {
   "cell_type": "markdown",
   "metadata": {
    "id": "wJH4J1M-Wjt5"
   },
   "source": [
    "### Training the model\n",
    "\n",
    "We now have all the basic building blocks we need: a dataset, a model, a training function, and a test function. Let's put them together to train the model on the dataset of one of our organizations (`trainloaders[0]`). This simulates the reality of most machine learning projects today: each organization has their own data and trains models only on this internal data: "
   ]
  },
  {
   "cell_type": "code",
   "execution_count": null,
   "metadata": {
    "id": "27_1WZoXpK_x"
   },
   "outputs": [],
   "source": [
    "trainloader = trainloaders[0]\n",
    "valloader = valloaders[0]\n",
    "net = Net().to(DEVICE)"
   ]
  },
  {
   "cell_type": "code",
   "execution_count": null,
   "metadata": {
    "colab": {
     "base_uri": "https://localhost:8080/"
    },
    "id": "ljchGOaqWjt5",
    "outputId": "567766de-58eb-4c7d-f755-44b25a65dfdd"
   },
   "outputs": [
    {
     "name": "stdout",
     "output_type": "stream",
     "text": [
      "Epoch 1: validation loss 2.4297890663146973, accuracy 0.46184738955823296\n",
      "Epoch 2: validation loss 2.5034648180007935, accuracy 0.5060240963855421\n",
      "Epoch 3: validation loss 2.5155121088027954, accuracy 0.5301204819277109\n",
      "Epoch 4: validation loss 2.7929463386535645, accuracy 0.5140562248995983\n",
      "Epoch 5: validation loss 2.732156753540039, accuracy 0.5261044176706827\n",
      "Epoch 6: validation loss 2.73828661441803, accuracy 0.5863453815261044\n",
      "Epoch 7: validation loss 2.8356274366378784, accuracy 0.5421686746987951\n",
      "Epoch 8: validation loss 2.946555733680725, accuracy 0.5180722891566265\n",
      "Epoch 9: validation loss 3.0119115114212036, accuracy 0.5100401606425703\n",
      "Epoch 10: validation loss 2.6840702295303345, accuracy 0.5140562248995983\n",
      "Epoch 11: validation loss 2.692099094390869, accuracy 0.5421686746987951\n",
      "Epoch 12: validation loss 2.704618453979492, accuracy 0.5220883534136547\n",
      "Epoch 13: validation loss 2.6559265851974487, accuracy 0.5220883534136547\n",
      "Epoch 14: validation loss 2.48550546169281, accuracy 0.5261044176706827\n",
      "Epoch 15: validation loss 2.5362926721572876, accuracy 0.5381526104417671\n",
      "Epoch 16: validation loss 2.495712161064148, accuracy 0.5381526104417671\n",
      "Epoch 17: validation loss 2.6323094367980957, accuracy 0.4859437751004016\n",
      "Epoch 18: validation loss 2.4640852212905884, accuracy 0.5180722891566265\n",
      "Epoch 19: validation loss 2.674850344657898, accuracy 0.5341365461847389\n",
      "Epoch 20: validation loss 3.064100503921509, accuracy 0.5020080321285141\n",
      "Final test set performance:\n",
      "\tloss 6.163530935215045\n",
      "\taccuracy 0.2057\n"
     ]
    }
   ],
   "source": [
    "for epoch in range(NUM_EPOCHS):\n",
    "    epoch_loss = train(net, trainloader, 1)\n",
    "    loss, accuracy = test(net, valloader)\n",
    "    print(f\"Epoch {epoch+1}: validation loss {loss}, accuracy {accuracy}\")\n",
    "\n",
    "loss, accuracy = test(net, testloader)\n",
    "print(f\"Final test set performance:\\n\\tloss {loss}\\n\\taccuracy {accuracy}\")"
   ]
  },
  {
   "cell_type": "markdown",
   "metadata": {
    "id": "-zW_2S7cWjt6"
   },
   "source": [
    "Training the simple CNN on our CIFAR-10 split for 5 epochs should result in a test set accuracy of about 41%, which is not good, but at the same time, it doesn't really matter for the purposes of this tutorial. The intent was just to show a simplistic centralized training pipeline that sets the stage for what comes next - federated learning!"
   ]
  },
  {
   "cell_type": "markdown",
   "metadata": {
    "id": "KccAio_JWjt6"
   },
   "source": [
    "## Step 3: Federated Learning with Flower\n",
    "\n",
    "Step 1 demonstrated a simple centralized training pipeline. All data was in one place (i.e., a single `trainloader` and a single `valloader`). Next, we'll simulate a situation where we have multiple datasets in multiple organizations and where we train a model over these organizations using federated learning."
   ]
  },
  {
   "cell_type": "markdown",
   "metadata": {
    "id": "_9p9bEQZWjt7"
   },
   "source": [
    "### Updating model parameters\n",
    "\n",
    "In federated learning, the server sends the global model parameters to the client, and the client updates the local model with the parameters received from the server. It then trains the model on the local data (which changes the model parameters locally) and sends the updated/changed model parameters back to the server (or, alternatively, it sends just the gradients back to the server, not the full model parameters).\n",
    "\n",
    "We need two helper functions to update the local model with parameters received from the server and to get the updated model parameters from the local model: `set_parameters` and `get_parameters`. The following two functions do just that for the PyTorch model above.\n",
    "\n",
    "The details of how this works are not really important here (feel free to consult the PyTorch documentation if you want to learn more). In essence, we use `state_dict` to access PyTorch model parameter tensors. The parameter tensors are then converted to/from a list of NumPy ndarray's (which Flower knows how to serialize/deserialize):"
   ]
  },
  {
   "cell_type": "code",
   "execution_count": null,
   "metadata": {
    "id": "p4Gh2JWqWjt7"
   },
   "outputs": [],
   "source": [
    "def get_parameters_network(net) -> List[np.ndarray]:\n",
    "    return [val.cpu().numpy() for _, val in net.state_dict().items()]\n",
    "\n",
    "def set_parameters_network(net, parameters: List[np.ndarray]) -> None:\n",
    "    params_dict = zip(net.state_dict().keys(), parameters)\n",
    "    state_dict = OrderedDict({k: torch.Tensor(v) for k, v in params_dict})\n",
    "    net.load_state_dict(state_dict, strict=True)\n",
    "\n"
   ]
  },
  {
   "cell_type": "markdown",
   "metadata": {
    "id": "K9s4ndKEWbbj"
   },
   "source": [
    "We will also need to aggregate a list of networks."
   ]
  },
  {
   "cell_type": "code",
   "execution_count": null,
   "metadata": {
    "id": "JtuTENTUWaWJ"
   },
   "outputs": [],
   "source": [
    "def aggregate_networks(models: List[nn.Module], weights: np.array) -> nn.Module:\n",
    "\n",
    "    all_parameters = [get_parameters_network(net) for net in models]\n",
    "    aggregated_parameters = [np.sum([weights[n] * all_parameters[n][p] for n in range(len(models))], axis=0) \n",
    "              for p in range(len(all_parameters[0]))]\n",
    "\n",
    "    net = copy.deepcopy(models[0])\n",
    "    set_parameters_network(net, aggregated_parameters)\n",
    "    return net"
   ]
  },
  {
   "cell_type": "markdown",
   "metadata": {
    "id": "0HEu1GLOWjt8"
   },
   "source": [
    "### Implementing a Flower client\n",
    "\n",
    "With that out of the way, let's move on to the interesting part. Federated learning systems consist of a server and multiple clients. In Flower, we create clients by implementing subclasses of `flwr.client.Client` or `flwr.client.NumPyClient`. We use `NumPyClient` in this tutorial because it is easier to implement and requires us to write less boilerplate.\n",
    "\n",
    "To implement the Flower client, we create a subclass of `flwr.client.NumPyClient` and implement the three methods `get_parameters`, `fit`, and `evaluate`:\n",
    "\n",
    "* `get_parameters`: Return the current local model parameters\n",
    "* `fit`: Receive model parameters from the server, train the model parameters on the local data, and return the (updated) model parameters to the server\n",
    "* `evaluate`: Receive model parameters from the server, evaluate the model parameters on the local data, and return the evaluation result to the server\n",
    "\n",
    "We mentioned that our clients will use the previously defined PyTorch components for model training and evaluation. Let's see a simple Flower client implementation that brings everything together:"
   ]
  },
  {
   "cell_type": "code",
   "execution_count": null,
   "metadata": {
    "id": "X6vS7MjFWjt8"
   },
   "outputs": [],
   "source": [
    "class FlowerClient(fl.client.NumPyClient):\n",
    "    def __init__(self, net, trainloader, valloader):\n",
    "        self.net = net\n",
    "        self.trainloader = trainloader\n",
    "        self.valloader = valloader\n",
    "\n",
    "    def get_parameters(self, config):\n",
    "        return get_parameters_network(self.net)\n",
    "\n",
    "    def fit(self, parameters, config):\n",
    "        set_parameters_network(self.net, parameters)\n",
    "        epoch_loss = train(self.net, self.trainloader, epochs=NUM_LOCAL_EPOCHS)\n",
    "        return get_parameters_network(self.net), len(self.trainloader), {\"train_loss\": float(epoch_loss)}\n",
    "\n",
    "    def evaluate(self, parameters, config):\n",
    "        set_parameters_network(self.net, parameters)\n",
    "        loss, accuracy = test(self.net, self.valloader)\n",
    "        return float(loss), len(self.valloader), {\"test_accuracy\": float(accuracy)}"
   ]
  },
  {
   "cell_type": "markdown",
   "metadata": {
    "id": "vriOO6UhWjt8"
   },
   "source": [
    "Our class `FlowerClient` defines how local training/evaluation will be performed and allows Flower to call the local training/evaluation through `fit` and `evaluate`. Each instance of `FlowerClient` represents a *single client* in our federated learning system. Federated learning systems have multiple clients (otherwise, there's not much to federate), so each client will be represented by its own instance of `FlowerClient`. If we have, for example, three clients in our workload, then we'd have three instances of `FlowerClient`. Flower calls `FlowerClient.fit` on the respective instance when the server selects a particular client for training (and `FlowerClient.evaluate` for evaluation).\n",
    "\n",
    "### Using the Virtual Client Engine\n",
    "\n",
    "In this notebook, we want to simulate a federated learning system with 10 clients on a single machine. This means that the server and all 10 clients will live on a single machine and share resources such as CPU, GPU, and memory. Having 10 clients would mean having 10 instances of `FlowerClient` in memory. Doing this on a single machine can quickly exhaust the available memory resources, even if only a subset of these clients participates in a single round of federated learning.\n",
    "\n",
    "In addition to the regular capabilities where server and clients run on multiple machines, Flower, therefore, provides special simulation capabilities that create `FlowerClient` instances only when they are actually necessary for training or evaluation. To enable the Flower framework to create clients when necessary, we need to implement a function called `client_fn` that creates a `FlowerClient` instance on demand. Flower calls `client_fn` whenever it needs an instance of one particular client to call `fit` or `evaluate` (those instances are usually discarded after use, so they should not keep any local state). Clients are identified by a client ID, or short `cid`. The `cid` can be used, for example, to load different local data partitions for different clients, as can be seen below:"
   ]
  },
  {
   "cell_type": "code",
   "execution_count": null,
   "metadata": {
    "id": "Rb2huDGeWjt9"
   },
   "outputs": [],
   "source": [
    "def client_fn_FedAvg(cid: str) -> FlowerClient:\n",
    "    \"\"\"Create a Flower client representing a single organization.\"\"\"\n",
    "\n",
    "    # Load model\n",
    "    net = Net().to(DEVICE)\n",
    "\n",
    "    # Load data (CIFAR-10)\n",
    "    # Note: each client gets a different trainloader/valloader, so each client\n",
    "    # will train and evaluate on their own unique data\n",
    "    trainloader = trainloaders[int(cid)]\n",
    "    valloader = valloaders[int(cid)]\n",
    "\n",
    "    # Create a  single Flower client representing a single organization\n",
    "    return FlowerClient(net, trainloader, valloader)"
   ]
  },
  {
   "cell_type": "markdown",
   "metadata": {
    "id": "s2Vjq_RKWjt_"
   },
   "source": [
    "### How to get train loss and test accuracy?\n",
    "\n",
    "Flower can automatically aggregate losses returned by individual clients, but it cannot do the same for metrics in the generic metrics dictionary (the one with the `accuracy` key). Metrics dictionaries can contain very different kinds of metrics and even key/value pairs that are not metrics at all, so the framework does not (and can not) know how to handle these automatically.\n",
    "\n",
    "As users, we need to tell the framework how to handle/aggregate these custom metrics, and we do so by passing metric aggregation functions to the strategy. The strategy will then call these functions whenever it receives fit or evaluate metrics from clients. The two possible functions are `fit_metrics_aggregation_fn` and `evaluate_metrics_aggregation_fn`.\n",
    "\n",
    "Let's create a simple weighted averaging function to aggregate the `accuracy` metric we return from `evaluate`:"
   ]
  },
  {
   "cell_type": "code",
   "execution_count": null,
   "metadata": {
    "id": "2UFhua0RWjt_"
   },
   "outputs": [],
   "source": [
    "def weighted_average_test_acc(metrics: List[Tuple[int, Metrics]]) -> Metrics:\n",
    "    # Multiply accuracy of each client by number of examples used\n",
    "    accuracies = [num_examples * m[\"test_accuracy\"] for num_examples, m in metrics]\n",
    "    examples = [num_examples for num_examples, _ in metrics]\n",
    "\n",
    "    # Aggregate and return custom metric (weighted average)\n",
    "    return {\"test_accuracy\": sum(accuracies) / sum(examples)}\n",
    "\n",
    "\n",
    "def weighted_average_train_loss(metrics: List[Tuple[int, Metrics]]) -> Metrics:\n",
    "    # Multiply accuracy of each client by number of examples used\n",
    "    losses = [num_examples * m[\"train_loss\"] for num_examples, m in metrics]\n",
    "    examples = [num_examples for num_examples, _ in metrics]\n",
    "\n",
    "    # Aggregate and return custom metric (weighted average)\n",
    "    return {\"train_loss\": sum(losses) / sum(examples)}"
   ]
  },
  {
   "cell_type": "markdown",
   "metadata": {
    "id": "KYjqoskgWjt9"
   },
   "source": [
    "### Starting the training\n",
    "\n",
    "We now have the class `FlowerClient` which defines client-side training/evaluation and `client_fn` which allows Flower to create `FlowerClient` instances whenever it needs to call `fit` or `evaluate` on one particular client. The last step is to start the actual simulation using `flwr.simulation.start_simulation`. \n",
    "\n",
    "The function `start_simulation` accepts a number of arguments, amongst them the `client_fn` used to create `FlowerClient` instances, the number of clients to simulate (`num_clients`), the number of federated learning rounds (`num_rounds`), and the strategy. The strategy encapsulates the federated learning approach/algorithm, for example, *Federated Averaging* (FedAvg).\n",
    "\n",
    "Flower has a number of built-in strategies, but we can also use our own strategy implementations to customize nearly all aspects of the federated learning approach. For this example, we use the built-in `FedAvg` implementation and customize it using a few basic parameters. The last step is the actual call to `start_simulation` which - you guessed it - starts the simulation:"
   ]
  },
  {
   "cell_type": "code",
   "execution_count": null,
   "metadata": {
    "colab": {
     "base_uri": "https://localhost:8080/"
    },
    "id": "Ib7LPdBO2w2g",
    "outputId": "3526335e-1ae5-4d01-f37c-fb447bdf4614"
   },
   "outputs": [
    {
     "name": "stdout",
     "output_type": "stream",
     "text": [
      "None\n"
     ]
    }
   ],
   "source": [
    "client_resources = None\n",
    "if DEVICE.type == \"cuda\":\n",
    "    client_resources = {\"num_gpus\": 1}\n",
    "\n",
    "print(client_resources)"
   ]
  },
  {
   "cell_type": "code",
   "execution_count": null,
   "metadata": {
    "colab": {
     "base_uri": "https://localhost:8080/"
    },
    "id": "DEyyChrzWjt-",
    "outputId": "6de44b29-2f9c-44e2-a4be-c03129c502c3"
   },
   "outputs": [
    {
     "name": "stderr",
     "output_type": "stream",
     "text": [
      "INFO flwr 2023-06-10 12:55:12,580 | app.py:146 | Starting Flower simulation, config: ServerConfig(num_rounds=20, round_timeout=None)\n",
      "INFO:flwr:Starting Flower simulation, config: ServerConfig(num_rounds=20, round_timeout=None)\n",
      "2023-06-10 12:55:15,264\tINFO worker.py:1636 -- Started a local Ray instance.\n",
      "INFO flwr 2023-06-10 12:55:17,113 | app.py:180 | Flower VCE: Ray initialized with resources: {'node:172.28.0.12': 1.0, 'memory': 7786974414.0, 'object_store_memory': 3893487206.0, 'CPU': 2.0}\n",
      "INFO:flwr:Flower VCE: Ray initialized with resources: {'node:172.28.0.12': 1.0, 'memory': 7786974414.0, 'object_store_memory': 3893487206.0, 'CPU': 2.0}\n",
      "INFO flwr 2023-06-10 12:55:17,127 | server.py:86 | Initializing global parameters\n",
      "INFO:flwr:Initializing global parameters\n",
      "INFO flwr 2023-06-10 12:55:17,142 | server.py:273 | Requesting initial parameters from one random client\n",
      "INFO:flwr:Requesting initial parameters from one random client\n",
      "\u001b[2m\u001b[36m(pid=1210)\u001b[0m 2023-06-10 12:55:21.109499: W tensorflow/compiler/tf2tensorrt/utils/py_utils.cc:38] TF-TRT Warning: Could not find TensorRT\n",
      "INFO flwr 2023-06-10 12:55:26,245 | server.py:277 | Received initial parameters from one random client\n",
      "INFO:flwr:Received initial parameters from one random client\n",
      "INFO flwr 2023-06-10 12:55:26,250 | server.py:88 | Evaluating initial parameters\n",
      "INFO:flwr:Evaluating initial parameters\n",
      "INFO flwr 2023-06-10 12:55:26,254 | server.py:101 | FL starting\n",
      "INFO:flwr:FL starting\n",
      "DEBUG flwr 2023-06-10 12:55:26,260 | server.py:218 | fit_round 1: strategy sampled 20 clients (out of 20)\n",
      "DEBUG:flwr:fit_round 1: strategy sampled 20 clients (out of 20)\n",
      "\u001b[2m\u001b[36m(pid=1209)\u001b[0m 2023-06-10 12:55:41.834016: W tensorflow/compiler/tf2tensorrt/utils/py_utils.cc:38] TF-TRT Warning: Could not find TensorRT\n",
      "DEBUG flwr 2023-06-10 12:56:23,912 | server.py:232 | fit_round 1 received 20 results and 0 failures\n",
      "DEBUG:flwr:fit_round 1 received 20 results and 0 failures\n",
      "DEBUG flwr 2023-06-10 12:56:23,932 | server.py:168 | evaluate_round 1: strategy sampled 20 clients (out of 20)\n",
      "DEBUG:flwr:evaluate_round 1: strategy sampled 20 clients (out of 20)\n",
      "DEBUG flwr 2023-06-10 12:57:01,432 | server.py:182 | evaluate_round 1 received 20 results and 0 failures\n",
      "DEBUG:flwr:evaluate_round 1 received 20 results and 0 failures\n",
      "DEBUG flwr 2023-06-10 12:57:01,441 | server.py:218 | fit_round 2: strategy sampled 20 clients (out of 20)\n",
      "DEBUG:flwr:fit_round 2: strategy sampled 20 clients (out of 20)\n",
      "DEBUG flwr 2023-06-10 12:57:49,551 | server.py:232 | fit_round 2 received 20 results and 0 failures\n",
      "DEBUG:flwr:fit_round 2 received 20 results and 0 failures\n",
      "DEBUG flwr 2023-06-10 12:57:49,569 | server.py:168 | evaluate_round 2: strategy sampled 20 clients (out of 20)\n",
      "DEBUG:flwr:evaluate_round 2: strategy sampled 20 clients (out of 20)\n",
      "DEBUG flwr 2023-06-10 12:58:27,964 | server.py:182 | evaluate_round 2 received 20 results and 0 failures\n",
      "DEBUG:flwr:evaluate_round 2 received 20 results and 0 failures\n",
      "DEBUG flwr 2023-06-10 12:58:27,971 | server.py:218 | fit_round 3: strategy sampled 20 clients (out of 20)\n",
      "DEBUG:flwr:fit_round 3: strategy sampled 20 clients (out of 20)\n",
      "DEBUG flwr 2023-06-10 12:59:17,409 | server.py:232 | fit_round 3 received 20 results and 0 failures\n",
      "DEBUG:flwr:fit_round 3 received 20 results and 0 failures\n",
      "DEBUG flwr 2023-06-10 12:59:17,427 | server.py:168 | evaluate_round 3: strategy sampled 20 clients (out of 20)\n",
      "DEBUG:flwr:evaluate_round 3: strategy sampled 20 clients (out of 20)\n",
      "DEBUG flwr 2023-06-10 12:59:56,303 | server.py:182 | evaluate_round 3 received 20 results and 0 failures\n",
      "DEBUG:flwr:evaluate_round 3 received 20 results and 0 failures\n",
      "DEBUG flwr 2023-06-10 12:59:56,309 | server.py:218 | fit_round 4: strategy sampled 20 clients (out of 20)\n",
      "DEBUG:flwr:fit_round 4: strategy sampled 20 clients (out of 20)\n",
      "DEBUG flwr 2023-06-10 13:00:43,247 | server.py:232 | fit_round 4 received 20 results and 0 failures\n",
      "DEBUG:flwr:fit_round 4 received 20 results and 0 failures\n",
      "DEBUG flwr 2023-06-10 13:00:43,276 | server.py:168 | evaluate_round 4: strategy sampled 20 clients (out of 20)\n",
      "DEBUG:flwr:evaluate_round 4: strategy sampled 20 clients (out of 20)\n",
      "DEBUG flwr 2023-06-10 13:01:25,445 | server.py:182 | evaluate_round 4 received 20 results and 0 failures\n",
      "DEBUG:flwr:evaluate_round 4 received 20 results and 0 failures\n",
      "DEBUG flwr 2023-06-10 13:01:25,450 | server.py:218 | fit_round 5: strategy sampled 20 clients (out of 20)\n",
      "DEBUG:flwr:fit_round 5: strategy sampled 20 clients (out of 20)\n",
      "DEBUG flwr 2023-06-10 13:02:18,107 | server.py:232 | fit_round 5 received 20 results and 0 failures\n",
      "DEBUG:flwr:fit_round 5 received 20 results and 0 failures\n",
      "DEBUG flwr 2023-06-10 13:02:18,127 | server.py:168 | evaluate_round 5: strategy sampled 20 clients (out of 20)\n",
      "DEBUG:flwr:evaluate_round 5: strategy sampled 20 clients (out of 20)\n",
      "DEBUG flwr 2023-06-10 13:02:55,533 | server.py:182 | evaluate_round 5 received 20 results and 0 failures\n",
      "DEBUG:flwr:evaluate_round 5 received 20 results and 0 failures\n",
      "DEBUG flwr 2023-06-10 13:02:55,537 | server.py:218 | fit_round 6: strategy sampled 20 clients (out of 20)\n",
      "DEBUG:flwr:fit_round 6: strategy sampled 20 clients (out of 20)\n",
      "DEBUG flwr 2023-06-10 13:03:44,113 | server.py:232 | fit_round 6 received 20 results and 0 failures\n",
      "DEBUG:flwr:fit_round 6 received 20 results and 0 failures\n",
      "DEBUG flwr 2023-06-10 13:03:44,131 | server.py:168 | evaluate_round 6: strategy sampled 20 clients (out of 20)\n",
      "DEBUG:flwr:evaluate_round 6: strategy sampled 20 clients (out of 20)\n",
      "DEBUG flwr 2023-06-10 13:04:20,799 | server.py:182 | evaluate_round 6 received 20 results and 0 failures\n",
      "DEBUG:flwr:evaluate_round 6 received 20 results and 0 failures\n",
      "DEBUG flwr 2023-06-10 13:04:20,802 | server.py:218 | fit_round 7: strategy sampled 20 clients (out of 20)\n",
      "DEBUG:flwr:fit_round 7: strategy sampled 20 clients (out of 20)\n",
      "DEBUG flwr 2023-06-10 13:05:10,671 | server.py:232 | fit_round 7 received 20 results and 0 failures\n",
      "DEBUG:flwr:fit_round 7 received 20 results and 0 failures\n",
      "DEBUG flwr 2023-06-10 13:05:10,700 | server.py:168 | evaluate_round 7: strategy sampled 20 clients (out of 20)\n",
      "DEBUG:flwr:evaluate_round 7: strategy sampled 20 clients (out of 20)\n",
      "DEBUG flwr 2023-06-10 13:05:48,505 | server.py:182 | evaluate_round 7 received 20 results and 0 failures\n",
      "DEBUG:flwr:evaluate_round 7 received 20 results and 0 failures\n",
      "DEBUG flwr 2023-06-10 13:05:48,510 | server.py:218 | fit_round 8: strategy sampled 20 clients (out of 20)\n",
      "DEBUG:flwr:fit_round 8: strategy sampled 20 clients (out of 20)\n",
      "DEBUG flwr 2023-06-10 13:06:37,077 | server.py:232 | fit_round 8 received 20 results and 0 failures\n",
      "DEBUG:flwr:fit_round 8 received 20 results and 0 failures\n",
      "DEBUG flwr 2023-06-10 13:06:37,096 | server.py:168 | evaluate_round 8: strategy sampled 20 clients (out of 20)\n",
      "DEBUG:flwr:evaluate_round 8: strategy sampled 20 clients (out of 20)\n",
      "DEBUG flwr 2023-06-10 13:07:13,931 | server.py:182 | evaluate_round 8 received 20 results and 0 failures\n",
      "DEBUG:flwr:evaluate_round 8 received 20 results and 0 failures\n",
      "DEBUG flwr 2023-06-10 13:07:13,934 | server.py:218 | fit_round 9: strategy sampled 20 clients (out of 20)\n",
      "DEBUG:flwr:fit_round 9: strategy sampled 20 clients (out of 20)\n",
      "DEBUG flwr 2023-06-10 13:08:02,112 | server.py:232 | fit_round 9 received 20 results and 0 failures\n",
      "DEBUG:flwr:fit_round 9 received 20 results and 0 failures\n",
      "DEBUG flwr 2023-06-10 13:08:02,129 | server.py:168 | evaluate_round 9: strategy sampled 20 clients (out of 20)\n",
      "DEBUG:flwr:evaluate_round 9: strategy sampled 20 clients (out of 20)\n",
      "DEBUG flwr 2023-06-10 13:08:44,644 | server.py:182 | evaluate_round 9 received 20 results and 0 failures\n",
      "DEBUG:flwr:evaluate_round 9 received 20 results and 0 failures\n",
      "DEBUG flwr 2023-06-10 13:08:44,648 | server.py:218 | fit_round 10: strategy sampled 20 clients (out of 20)\n",
      "DEBUG:flwr:fit_round 10: strategy sampled 20 clients (out of 20)\n",
      "DEBUG flwr 2023-06-10 13:09:30,976 | server.py:232 | fit_round 10 received 20 results and 0 failures\n",
      "DEBUG:flwr:fit_round 10 received 20 results and 0 failures\n",
      "DEBUG flwr 2023-06-10 13:09:31,006 | server.py:168 | evaluate_round 10: strategy sampled 20 clients (out of 20)\n",
      "DEBUG:flwr:evaluate_round 10: strategy sampled 20 clients (out of 20)\n",
      "DEBUG flwr 2023-06-10 13:10:09,420 | server.py:182 | evaluate_round 10 received 20 results and 0 failures\n",
      "DEBUG:flwr:evaluate_round 10 received 20 results and 0 failures\n",
      "DEBUG flwr 2023-06-10 13:10:09,424 | server.py:218 | fit_round 11: strategy sampled 20 clients (out of 20)\n",
      "DEBUG:flwr:fit_round 11: strategy sampled 20 clients (out of 20)\n",
      "DEBUG flwr 2023-06-10 13:10:54,987 | server.py:232 | fit_round 11 received 20 results and 0 failures\n",
      "DEBUG:flwr:fit_round 11 received 20 results and 0 failures\n",
      "DEBUG flwr 2023-06-10 13:10:55,005 | server.py:168 | evaluate_round 11: strategy sampled 20 clients (out of 20)\n",
      "DEBUG:flwr:evaluate_round 11: strategy sampled 20 clients (out of 20)\n",
      "DEBUG flwr 2023-06-10 13:11:43,730 | server.py:182 | evaluate_round 11 received 20 results and 0 failures\n",
      "DEBUG:flwr:evaluate_round 11 received 20 results and 0 failures\n",
      "DEBUG flwr 2023-06-10 13:11:43,734 | server.py:218 | fit_round 12: strategy sampled 20 clients (out of 20)\n",
      "DEBUG:flwr:fit_round 12: strategy sampled 20 clients (out of 20)\n",
      "DEBUG flwr 2023-06-10 13:12:38,421 | server.py:232 | fit_round 12 received 20 results and 0 failures\n",
      "DEBUG:flwr:fit_round 12 received 20 results and 0 failures\n",
      "DEBUG flwr 2023-06-10 13:12:38,442 | server.py:168 | evaluate_round 12: strategy sampled 20 clients (out of 20)\n",
      "DEBUG:flwr:evaluate_round 12: strategy sampled 20 clients (out of 20)\n",
      "DEBUG flwr 2023-06-10 13:13:15,453 | server.py:182 | evaluate_round 12 received 20 results and 0 failures\n",
      "DEBUG:flwr:evaluate_round 12 received 20 results and 0 failures\n",
      "DEBUG flwr 2023-06-10 13:13:15,456 | server.py:218 | fit_round 13: strategy sampled 20 clients (out of 20)\n",
      "DEBUG:flwr:fit_round 13: strategy sampled 20 clients (out of 20)\n",
      "DEBUG flwr 2023-06-10 13:14:04,539 | server.py:232 | fit_round 13 received 20 results and 0 failures\n",
      "DEBUG:flwr:fit_round 13 received 20 results and 0 failures\n",
      "DEBUG flwr 2023-06-10 13:14:04,561 | server.py:168 | evaluate_round 13: strategy sampled 20 clients (out of 20)\n",
      "DEBUG:flwr:evaluate_round 13: strategy sampled 20 clients (out of 20)\n",
      "DEBUG flwr 2023-06-10 13:14:41,773 | server.py:182 | evaluate_round 13 received 20 results and 0 failures\n",
      "DEBUG:flwr:evaluate_round 13 received 20 results and 0 failures\n",
      "DEBUG flwr 2023-06-10 13:14:41,776 | server.py:218 | fit_round 14: strategy sampled 20 clients (out of 20)\n",
      "DEBUG:flwr:fit_round 14: strategy sampled 20 clients (out of 20)\n",
      "DEBUG flwr 2023-06-10 13:15:34,824 | server.py:232 | fit_round 14 received 20 results and 0 failures\n",
      "DEBUG:flwr:fit_round 14 received 20 results and 0 failures\n",
      "DEBUG flwr 2023-06-10 13:15:34,843 | server.py:168 | evaluate_round 14: strategy sampled 20 clients (out of 20)\n",
      "DEBUG:flwr:evaluate_round 14: strategy sampled 20 clients (out of 20)\n",
      "DEBUG flwr 2023-06-10 13:16:15,090 | server.py:182 | evaluate_round 14 received 20 results and 0 failures\n",
      "DEBUG:flwr:evaluate_round 14 received 20 results and 0 failures\n",
      "DEBUG flwr 2023-06-10 13:16:15,100 | server.py:218 | fit_round 15: strategy sampled 20 clients (out of 20)\n",
      "DEBUG:flwr:fit_round 15: strategy sampled 20 clients (out of 20)\n",
      "DEBUG flwr 2023-06-10 13:17:05,208 | server.py:232 | fit_round 15 received 20 results and 0 failures\n",
      "DEBUG:flwr:fit_round 15 received 20 results and 0 failures\n",
      "DEBUG flwr 2023-06-10 13:17:05,231 | server.py:168 | evaluate_round 15: strategy sampled 20 clients (out of 20)\n",
      "DEBUG:flwr:evaluate_round 15: strategy sampled 20 clients (out of 20)\n",
      "DEBUG flwr 2023-06-10 13:17:44,290 | server.py:182 | evaluate_round 15 received 20 results and 0 failures\n",
      "DEBUG:flwr:evaluate_round 15 received 20 results and 0 failures\n",
      "DEBUG flwr 2023-06-10 13:17:44,293 | server.py:218 | fit_round 16: strategy sampled 20 clients (out of 20)\n",
      "DEBUG:flwr:fit_round 16: strategy sampled 20 clients (out of 20)\n",
      "DEBUG flwr 2023-06-10 13:18:32,470 | server.py:232 | fit_round 16 received 20 results and 0 failures\n",
      "DEBUG:flwr:fit_round 16 received 20 results and 0 failures\n",
      "DEBUG flwr 2023-06-10 13:18:32,490 | server.py:168 | evaluate_round 16: strategy sampled 20 clients (out of 20)\n",
      "DEBUG:flwr:evaluate_round 16: strategy sampled 20 clients (out of 20)\n",
      "DEBUG flwr 2023-06-10 13:19:15,411 | server.py:182 | evaluate_round 16 received 20 results and 0 failures\n",
      "DEBUG:flwr:evaluate_round 16 received 20 results and 0 failures\n",
      "DEBUG flwr 2023-06-10 13:19:15,418 | server.py:218 | fit_round 17: strategy sampled 20 clients (out of 20)\n",
      "DEBUG:flwr:fit_round 17: strategy sampled 20 clients (out of 20)\n",
      "DEBUG flwr 2023-06-10 13:20:03,039 | server.py:232 | fit_round 17 received 20 results and 0 failures\n",
      "DEBUG:flwr:fit_round 17 received 20 results and 0 failures\n",
      "DEBUG flwr 2023-06-10 13:20:03,073 | server.py:168 | evaluate_round 17: strategy sampled 20 clients (out of 20)\n",
      "DEBUG:flwr:evaluate_round 17: strategy sampled 20 clients (out of 20)\n",
      "DEBUG flwr 2023-06-10 13:20:56,094 | server.py:182 | evaluate_round 17 received 20 results and 0 failures\n",
      "DEBUG:flwr:evaluate_round 17 received 20 results and 0 failures\n",
      "DEBUG flwr 2023-06-10 13:20:56,098 | server.py:218 | fit_round 18: strategy sampled 20 clients (out of 20)\n",
      "DEBUG:flwr:fit_round 18: strategy sampled 20 clients (out of 20)\n",
      "DEBUG flwr 2023-06-10 13:21:52,626 | server.py:232 | fit_round 18 received 20 results and 0 failures\n",
      "DEBUG:flwr:fit_round 18 received 20 results and 0 failures\n",
      "DEBUG flwr 2023-06-10 13:21:52,646 | server.py:168 | evaluate_round 18: strategy sampled 20 clients (out of 20)\n",
      "DEBUG:flwr:evaluate_round 18: strategy sampled 20 clients (out of 20)\n",
      "DEBUG flwr 2023-06-10 13:22:36,854 | server.py:182 | evaluate_round 18 received 20 results and 0 failures\n",
      "DEBUG:flwr:evaluate_round 18 received 20 results and 0 failures\n",
      "DEBUG flwr 2023-06-10 13:22:36,860 | server.py:218 | fit_round 19: strategy sampled 20 clients (out of 20)\n",
      "DEBUG:flwr:fit_round 19: strategy sampled 20 clients (out of 20)\n",
      "DEBUG flwr 2023-06-10 13:23:25,012 | server.py:232 | fit_round 19 received 20 results and 0 failures\n",
      "DEBUG:flwr:fit_round 19 received 20 results and 0 failures\n",
      "DEBUG flwr 2023-06-10 13:23:25,031 | server.py:168 | evaluate_round 19: strategy sampled 20 clients (out of 20)\n",
      "DEBUG:flwr:evaluate_round 19: strategy sampled 20 clients (out of 20)\n",
      "DEBUG flwr 2023-06-10 13:24:04,043 | server.py:182 | evaluate_round 19 received 20 results and 0 failures\n",
      "DEBUG:flwr:evaluate_round 19 received 20 results and 0 failures\n",
      "DEBUG flwr 2023-06-10 13:24:04,049 | server.py:218 | fit_round 20: strategy sampled 20 clients (out of 20)\n",
      "DEBUG:flwr:fit_round 20: strategy sampled 20 clients (out of 20)\n",
      "DEBUG flwr 2023-06-10 13:24:52,340 | server.py:232 | fit_round 20 received 20 results and 0 failures\n",
      "DEBUG:flwr:fit_round 20 received 20 results and 0 failures\n",
      "DEBUG flwr 2023-06-10 13:24:52,368 | server.py:168 | evaluate_round 20: strategy sampled 20 clients (out of 20)\n",
      "DEBUG:flwr:evaluate_round 20: strategy sampled 20 clients (out of 20)\n",
      "DEBUG flwr 2023-06-10 13:25:33,230 | server.py:182 | evaluate_round 20 received 20 results and 0 failures\n",
      "DEBUG:flwr:evaluate_round 20 received 20 results and 0 failures\n",
      "INFO flwr 2023-06-10 13:25:33,235 | server.py:147 | FL finished in 1806.975073885\n",
      "INFO:flwr:FL finished in 1806.975073885\n",
      "INFO flwr 2023-06-10 13:25:33,239 | app.py:218 | app_fit: losses_distributed [(1, 1.8885029673576355), (2, 1.8350256592035294), (3, 1.788763827085495), (4, 1.7318290591239929), (5, 1.805234783887863), (6, 1.7944912999868392), (7, 1.7556712299585342), (8, 1.7948932379484177), (9, 1.7782229334115982), (10, 1.7765065371990203), (11, 1.7829085111618042), (12, 1.803725579380989), (13, 1.7946914851665496), (14, 1.774632379412651), (15, 1.7834945648908616), (16, 1.8016938626766206), (17, 1.7602413475513459), (18, 1.7674365371465683), (19, 1.7748110502958299), (20, 1.7817722976207733)]\n",
      "INFO:flwr:app_fit: losses_distributed [(1, 1.8885029673576355), (2, 1.8350256592035294), (3, 1.788763827085495), (4, 1.7318290591239929), (5, 1.805234783887863), (6, 1.7944912999868392), (7, 1.7556712299585342), (8, 1.7948932379484177), (9, 1.7782229334115982), (10, 1.7765065371990203), (11, 1.7829085111618042), (12, 1.803725579380989), (13, 1.7946914851665496), (14, 1.774632379412651), (15, 1.7834945648908616), (16, 1.8016938626766206), (17, 1.7602413475513459), (18, 1.7674365371465683), (19, 1.7748110502958299), (20, 1.7817722976207733)]\n",
      "INFO flwr 2023-06-10 13:25:33,242 | app.py:219 | app_fit: metrics_distributed_fit {'train_loss': [(1, 2.5768407940864564), (2, 2.234515005350113), (3, 2.2485895812511445), (4, 2.0906788229942324), (5, 2.1563164055347444), (6, 2.2165987730026244), (7, 2.1374534249305723), (8, 2.118491697311401), (9, 2.165386414527893), (10, 2.037648504972458), (11, 2.1250304102897646), (12, 2.0924944937229157), (13, 2.112409716844559), (14, 2.077766662836075), (15, 2.083015167713165), (16, 2.0806057691574096), (17, 2.026514381170273), (18, 1.9727744579315185), (19, 2.01218244433403), (20, 2.022272288799286)]}\n",
      "INFO:flwr:app_fit: metrics_distributed_fit {'train_loss': [(1, 2.5768407940864564), (2, 2.234515005350113), (3, 2.2485895812511445), (4, 2.0906788229942324), (5, 2.1563164055347444), (6, 2.2165987730026244), (7, 2.1374534249305723), (8, 2.118491697311401), (9, 2.165386414527893), (10, 2.037648504972458), (11, 2.1250304102897646), (12, 2.0924944937229157), (13, 2.112409716844559), (14, 2.077766662836075), (15, 2.083015167713165), (16, 2.0806057691574096), (17, 2.026514381170273), (18, 1.9727744579315185), (19, 2.01218244433403), (20, 2.022272288799286)]}\n",
      "INFO flwr 2023-06-10 13:25:33,244 | app.py:220 | app_fit: metrics_distributed {'test_accuracy': [(1, 0.39839357429718875), (2, 0.3875502008032129), (3, 0.413855421686747), (4, 0.4257028112449799), (5, 0.4116465863453816), (6, 0.4273092369477912), (7, 0.42771084337349397), (8, 0.4172690763052208), (9, 0.4333333333333334), (10, 0.41746987951807224), (11, 0.4335341365461847), (12, 0.41907630522088357), (13, 0.42971887550200805), (14, 0.4283132530120481), (15, 0.42710843373493984), (16, 0.4287148594377509), (17, 0.43654618473895584), (18, 0.42791164658634545), (19, 0.4315261044176707), (20, 0.428714859437751)]}\n",
      "INFO:flwr:app_fit: metrics_distributed {'test_accuracy': [(1, 0.39839357429718875), (2, 0.3875502008032129), (3, 0.413855421686747), (4, 0.4257028112449799), (5, 0.4116465863453816), (6, 0.4273092369477912), (7, 0.42771084337349397), (8, 0.4172690763052208), (9, 0.4333333333333334), (10, 0.41746987951807224), (11, 0.4335341365461847), (12, 0.41907630522088357), (13, 0.42971887550200805), (14, 0.4283132530120481), (15, 0.42710843373493984), (16, 0.4287148594377509), (17, 0.43654618473895584), (18, 0.42791164658634545), (19, 0.4315261044176707), (20, 0.428714859437751)]}\n",
      "INFO flwr 2023-06-10 13:25:33,247 | app.py:221 | app_fit: losses_centralized []\n",
      "INFO:flwr:app_fit: losses_centralized []\n",
      "INFO flwr 2023-06-10 13:25:33,249 | app.py:222 | app_fit: metrics_centralized {}\n",
      "INFO:flwr:app_fit: metrics_centralized {}\n"
     ]
    }
   ],
   "source": [
    "# Create FedAvg strategy\n",
    "strategy = fl.server.strategy.FedAvg(\n",
    "    fraction_fit=1,  # Sample 100% of available clients for training\n",
    "    fraction_evaluate=1,  # Sample 50% of available clients for evaluation\n",
    "    min_fit_clients=5,  # Never sample less than 10 clients for training\n",
    "    min_evaluate_clients=5,  # Never sample less than 5 clients for evaluation\n",
    "    min_available_clients=5,  # Wait until all 10 clients are available\n",
    "    evaluate_metrics_aggregation_fn=weighted_average_test_acc,  # <-- pass the metric aggregation function\n",
    "    fit_metrics_aggregation_fn=weighted_average_train_loss,\n",
    ")\n",
    "\n",
    "# Specify client resources if you need GPU (defaults to 1 CPU and 0 GPU)\n",
    "client_resources = None\n",
    "if DEVICE.type == \"cuda\":\n",
    "    client_resources = {\"num_gpus\": 1}\n",
    "\n",
    "# Start simulation\n",
    "result_fedavg = fl.simulation.start_simulation(\n",
    "    client_fn=client_fn_FedAvg,\n",
    "    num_clients=NUM_CLIENTS,\n",
    "    config=fl.server.ServerConfig(num_rounds=NUM_EPOCHS),\n",
    "    strategy=strategy,\n",
    "    client_resources=client_resources,\n",
    ")"
   ]
  },
  {
   "cell_type": "markdown",
   "metadata": {
    "id": "fmGj0shtWjt_"
   },
   "source": [
    "### Behind the scenes\n",
    "\n",
    "So how does this work? How does Flower execute this simulation?\n",
    "\n",
    "When we call `start_simulation`, we tell Flower that there are 10 clients (`num_clients=10`). Flower then goes ahead an asks the `FedAvg` strategy to select clients. `FedAvg` knows that it should select 100% of the available clients (`fraction_fit=1.0`), so it goes ahead and selects 10 random clients (i.e., 100% of 10).\n",
    "\n",
    "Flower then asks the selected 10 clients to train the model. When the server receives the model parameter updates from the clients, it hands those updates over to the strategy (*FedAvg*) for aggregation. The strategy aggregates those updates and returns the new global model, which then gets used in the next round of federated learning."
   ]
  },
  {
   "cell_type": "markdown",
   "metadata": {
    "id": "v7meFn2qWjuA"
   },
   "source": [
    "We now have a full system that performs federated training and federated evaluation. It uses the `weighted_average` function to aggregate custom evaluation metrics and calculates a single `accuracy` metric across all clients on the server side.\n",
    "\n",
    "The other two categories of metrics (`losses_centralized` and `metrics_centralized`) are still empty because they only apply when centralized evaluation is being used. Part two of the Flower tutorial will cover centralized evaluation."
   ]
  },
  {
   "cell_type": "markdown",
   "metadata": {
    "id": "fJIHGIKMeTT6"
   },
   "source": [
    "### Plotting error and accuracy\n",
    "\n",
    "Now, it remains to plot the logarithm excess loss and the training accuracy."
   ]
  },
  {
   "cell_type": "code",
   "execution_count": null,
   "metadata": {
    "id": "j3BYp7dgPLCw"
   },
   "outputs": [],
   "source": [
    "def plot_metrics(list_test_losses, liss_accuracies, list_names):\n",
    "    fig, ax = plt.subplots(nrows=1, ncols=2, figsize=(10, 5))\n",
    "    for (test_loss, acc, name) in zip(list_test_losses, liss_accuracies, list_names):\n",
    "        ax[0].plot(test_loss, label=name)\n",
    "        ax[0].set_title('log10(Test Loss)')\n",
    "        ax[0].set_xlabel('Epoch')\n",
    "        ax[0].set_ylabel('log10(Train loss)')\n",
    "        ax[0].set_yscale('log')\n",
    "        ax[0].legend()\n",
    "        ax[1].plot(acc, label=name)\n",
    "        ax[1].set_title('Test Accuracy')\n",
    "        ax[1].set_xlabel('Epoch')\n",
    "        ax[1].set_ylabel('Accuracy')\n",
    "        ax[1].legend()\n",
    "    plt.show()"
   ]
  },
  {
   "cell_type": "code",
   "execution_count": null,
   "metadata": {
    "colab": {
     "base_uri": "https://localhost:8080/"
    },
    "id": "7i59eFMgv-CK",
    "outputId": "cf169194-7ffa-4a21-8103-aa06440f73ad"
   },
   "outputs": [
    {
     "data": {
      "text/plain": [
       "History (loss, distributed):\n",
       "\tround 1: 1.8885029673576355\n",
       "\tround 2: 1.8350256592035294\n",
       "\tround 3: 1.788763827085495\n",
       "\tround 4: 1.7318290591239929\n",
       "\tround 5: 1.805234783887863\n",
       "\tround 6: 1.7944912999868392\n",
       "\tround 7: 1.7556712299585342\n",
       "\tround 8: 1.7948932379484177\n",
       "\tround 9: 1.7782229334115982\n",
       "\tround 10: 1.7765065371990203\n",
       "\tround 11: 1.7829085111618042\n",
       "\tround 12: 1.803725579380989\n",
       "\tround 13: 1.7946914851665496\n",
       "\tround 14: 1.774632379412651\n",
       "\tround 15: 1.7834945648908616\n",
       "\tround 16: 1.8016938626766206\n",
       "\tround 17: 1.7602413475513459\n",
       "\tround 18: 1.7674365371465683\n",
       "\tround 19: 1.7748110502958299\n",
       "\tround 20: 1.7817722976207733\n",
       "History (metrics, distributed, fit):\n",
       "{'train_loss': [(1, 2.5768407940864564), (2, 2.234515005350113), (3, 2.2485895812511445), (4, 2.0906788229942324), (5, 2.1563164055347444), (6, 2.2165987730026244), (7, 2.1374534249305723), (8, 2.118491697311401), (9, 2.165386414527893), (10, 2.037648504972458), (11, 2.1250304102897646), (12, 2.0924944937229157), (13, 2.112409716844559), (14, 2.077766662836075), (15, 2.083015167713165), (16, 2.0806057691574096), (17, 2.026514381170273), (18, 1.9727744579315185), (19, 2.01218244433403), (20, 2.022272288799286)]}History (metrics, distributed, evaluate):\n",
       "{'test_accuracy': [(1, 0.39839357429718875), (2, 0.3875502008032129), (3, 0.413855421686747), (4, 0.4257028112449799), (5, 0.4116465863453816), (6, 0.4273092369477912), (7, 0.42771084337349397), (8, 0.4172690763052208), (9, 0.4333333333333334), (10, 0.41746987951807224), (11, 0.4335341365461847), (12, 0.41907630522088357), (13, 0.42971887550200805), (14, 0.4283132530120481), (15, 0.42710843373493984), (16, 0.4287148594377509), (17, 0.43654618473895584), (18, 0.42791164658634545), (19, 0.4315261044176707), (20, 0.428714859437751)]}"
      ]
     },
     "execution_count": 23,
     "metadata": {},
     "output_type": "execute_result"
    }
   ],
   "source": [
    "result_fedavg"
   ]
  },
  {
   "cell_type": "code",
   "execution_count": null,
   "metadata": {
    "colab": {
     "base_uri": "https://localhost:8080/",
     "height": 487
    },
    "id": "AYxly6JbbVuO",
    "outputId": "37c511f6-cbe5-4441-f35d-4b879b324fec"
   },
   "outputs": [
    {
     "data": {
      "image/png": "[encoded data removed]",
      "text/plain": [
       "<Figure size 1000x500 with 2 Axes>"
      ]
     },
     "metadata": {},
     "output_type": "display_data"
    }
   ],
   "source": [
    "test_losses_fedavg = [key[1] for key in result_fedavg.losses_distributed]\n",
    "accuracies_fedavg = [key[1] for key in result_fedavg.metrics_distributed['test_accuracy']]\n",
    "\n",
    "\n",
    "plot_metrics([test_losses_fedavg], [accuracies_fedavg], [\"FedAvg\"])"
   ]
  },
  {
   "cell_type": "markdown",
   "metadata": {
    "id": "XTdq5D9znaWR"
   },
   "source": [
    "## Step 4: FedEM, an algorithm to train personalized models\n",
    "\n"
   ]
  },
  {
   "cell_type": "markdown",
   "metadata": {
    "id": "417Tofpznpmg"
   },
   "source": [
    "### Implementing Flower clients adapted to FedEM"
   ]
  },
  {
   "cell_type": "code",
   "execution_count": null,
   "metadata": {
    "id": "NBRSh1ht7Oan"
   },
   "outputs": [],
   "source": [
    "def zero_like(net) -> List[np.ndarray]:\n",
    "    return [np.zeros_like(val.cpu().numpy()) for _, val in net.state_dict().items()]\n"
   ]
  },
  {
   "cell_type": "code",
   "execution_count": null,
   "metadata": {
    "id": "ljpL2-_KVF-R"
   },
   "outputs": [],
   "source": [
    "class FlowerClientFedEM(fl.client.NumPyClient):\n",
    "    def __init__(self, cid, trainloader, valloader):\n",
    "        self.cid = cid\n",
    "        self.trainloader = trainloader\n",
    "        self.valloader = valloader\n",
    "\n",
    "        self.local_epochs = NUM_LOCAL_EPOCHS\n",
    "        self.num_components = NUM_COMPONENTS\n",
    "        self.lr = LR\n",
    "\n",
    "    def train(self, models, mixture_weights, verbose=False):\n",
    "        \"\"\"Train the network on the training set.\"\"\"\n",
    "        \n",
    "        criterion = torch.nn.CrossEntropyLoss(reduce=False)\n",
    "        trained_models = [] # To store the m updated models.\n",
    "\n",
    "        \n",
    "        # Computing the mixture'weights\n",
    "        probas = [[] for m in range(self.num_components)]\n",
    "        for images, labels in self.trainloader:\n",
    "            images, labels = images.to(DEVICE), labels.to(DEVICE)\n",
    "            for m in range(self.num_components):\n",
    "                net = models[m]\n",
    "                net.eval()\n",
    "                with torch.no_grad():\n",
    "                    outputs = net(images)\n",
    "                    loss = criterion(outputs, labels)\n",
    "                probas[m].append(mixture_weights[m] * torch.exp(-loss))\n",
    "        probas = torch.stack([torch.cat(p) for p in probas])\n",
    "        normalized_proba = probas.detach().clone()\n",
    "        normalization = torch.sum(torch.Tensor(probas), axis=0)\n",
    "        for i in range(len(probas)):\n",
    "                normalized_proba[i] /= normalization\n",
    "        #print(\"probas after normalization {0}: {1}\".format(self.cid, normalized_proba))\n",
    "\n",
    "        mixture_weights = torch.sum(normalized_proba, axis=1) / len(self.trainloader.dataset)\n",
    "\n",
    "\n",
    "        # Update the m model.\n",
    "        for m in range(self.num_components):\n",
    "\n",
    "            net = models[m]\n",
    "\n",
    "            optimizer = torch.optim.SGD(net.parameters(), lr=LR, momentum=0.9, weight_decay=5e-4)\n",
    "            net.train()\n",
    "            trainloader_iter = iter(self.trainloader)\n",
    "            for epoch in range(self.local_epochs):\n",
    "                correct, total, epoch_loss = 0, 0, 0.0\n",
    "                cpt = 0\n",
    "                for images, labels in self.trainloader:\n",
    "                    images, labels = images.to(DEVICE), labels.to(DEVICE)\n",
    "\n",
    "                    optimizer.zero_grad()\n",
    "                    outputs = net(images)\n",
    "                    loss_vec = criterion(outputs, labels)\n",
    "                    # It works because we are in full batch!\n",
    "                    loss = (loss_vec.T @ normalized_proba[m][cpt:cpt+len(images)]) / loss_vec.size(0)\n",
    "                    loss.backward()\n",
    "\n",
    "                    # Scaffold step\n",
    "                    optimizer.step()\n",
    "                    cpt += 1\n",
    "\n",
    "                    # Metrics\n",
    "                    epoch_loss += loss.detach()\n",
    "                    total += labels.size(0)\n",
    "                    correct += (torch.max(outputs.data, 1)[1] == labels).sum().item()\n",
    "                epoch_loss /= len(self.trainloader)\n",
    "                epoch_acc = correct / total\n",
    "                if verbose:\n",
    "                    print(f\"Epoch {epoch + 1} on client {self.cid}: train loss {epoch_loss}, accuracy {epoch_acc}\")\n",
    "                trained_models.append(net)  \n",
    "          \n",
    "        return trained_models, mixture_weights, epoch_loss\n",
    "\n",
    "    def get_parameters(self, config):\n",
    "        return get_parameters(self.net)\n",
    "\n",
    "    def fit(self, parameters, config):\n",
    "\n",
    "        # Getting the new m models\n",
    "        models = config[\"models\"]\n",
    "\n",
    "        try:\n",
    "            mixture_weights = torch.load('mixture_weights_{0}.pkl'.format(self.cid))\n",
    "        except FileNotFoundError:\n",
    "            raise FileNotFoundError(\"The mixture's weights should already exist.\")\n",
    "\n",
    "        \n",
    "        trained_models, new_mixture_weights, epoch_loss = self.train(models, mixture_weights)\n",
    "        torch.save(new_mixture_weights, 'mixture_weights_{0}.pkl'.format(self.cid))\n",
    "\n",
    "        # Personalized model after local updates and before communication with the central server\n",
    "        #self.personalized_model = aggregate_networks(trained_models, new_mixture_weights)\n",
    "        #set_parameters_network(self.personalized_model, parameters)\n",
    "\n",
    "        # Flower requires to return 1) the local upated model, 2) the local dataset size, 3) a dictionary with the additional variables.\n",
    "        return get_parameters_network(aggregate_networks(trained_models, new_mixture_weights)), len(self.trainloader), {\"trained_models\": trained_models, \n",
    "                                                                                                                        \"train_loss\": epoch_loss}\n",
    "\n",
    "\n",
    "    def test(self, networks, weights):\n",
    "        \"\"\"Evaluate the network on the entire test set.\"\"\"\n",
    "        criterion = torch.nn.CrossEntropyLoss()\n",
    "        correct, total, loss = 0, 0, 0.0\n",
    "        for net in networks:\n",
    "            net.eval()\n",
    "        with torch.no_grad():\n",
    "            for images, labels in self.valloader:\n",
    "                images, labels = images.to(DEVICE), labels.to(DEVICE)\n",
    "                outputs = torch.sum(torch.stack([networks[i](images) * weights[i] for i in range(len(networks))]), axis=0)\n",
    "                loss += criterion(outputs, labels)\n",
    "                _, predicted = torch.max(outputs.data, 1)\n",
    "                total += labels.size(0)\n",
    "                correct += (predicted == labels).sum().item()\n",
    "        loss /= len(self.valloader)\n",
    "        accuracy = correct / total\n",
    "        return loss, accuracy\n",
    "\n",
    "\n",
    "    def evaluate(self, parameters, config):\n",
    "        \n",
    "        # Getting the new m models\n",
    "        models = config[\"models\"]\n",
    "\n",
    "        try:\n",
    "            mixture_weights = torch.load('mixture_weights_{0}.pkl'.format(self.cid))\n",
    "        except FileNotFoundError:\n",
    "            raise FileNotFoundError(\"The mixture's weights should already exist.\")\n",
    "        \n",
    "        # Personalized model after communication with the central server\n",
    "        #self.personalized_model = aggregate_networks(models, mixture_weights)\n",
    "        loss, accuracy = self.test(models, mixture_weights)\n",
    "        return float(loss), len(self.valloader), {\"test_accuracy\": float(accuracy)}"
   ]
  },
  {
   "cell_type": "code",
   "execution_count": null,
   "metadata": {
    "id": "vkEiBlcZvoXm"
   },
   "outputs": [],
   "source": [
    "def client_fn_FedEM(cid: str) -> FlowerClientFedEM:\n",
    "    \"\"\"Create a Flower client representing a single organization.\"\"\"\n",
    "\n",
    "    # Load model\n",
    "    #net = Net().to(DEVICE)\n",
    "\n",
    "    # Load data (CIFAR-10)\n",
    "    # Note: each client gets a different trainloader/valloader, so each client\n",
    "    # will train and evaluate on their own unique data\n",
    "    trainloader = trainloaders[int(cid)]\n",
    "    valloader = valloaders[int(cid)]\n",
    "\n",
    "    # Create a  single Flower client representing a single organization\n",
    "    return FlowerClientFedEM(cid, trainloader, valloader)"
   ]
  },
  {
   "cell_type": "markdown",
   "metadata": {
    "id": "U9y7JGi09vZM"
   },
   "source": [
    "### Implementing the FedEM strategy for the central server"
   ]
  },
  {
   "cell_type": "code",
   "execution_count": null,
   "metadata": {
    "id": "QoT5PsMV9s6S"
   },
   "outputs": [],
   "source": [
    "from logging import WARNING\n",
    "from typing import Dict, List, Optional, Tuple\n",
    "from typing import Callable, Union\n",
    "\n",
    "from flwr.common import (EvaluateRes, EvaluateIns, FitIns, MetricsAggregationFn, Parameters, FitRes, Scalar, \n",
    "                        ndarrays_to_parameters, parameters_to_ndarrays)\n",
    "from flwr.server.client_manager import ClientManager\n",
    "from flwr.server.client_proxy import ClientProxy\n",
    "from flwr.server.strategy.aggregate import aggregate, weighted_loss_avg\n",
    "from flwr.common.logger import log\n",
    "\n",
    "class FedEM(fl.server.strategy.FedAvg):\n",
    "    def __init__(\n",
    "        self,\n",
    "        initial_parameters,\n",
    "        network_constructor,\n",
    "        total_nb_clients: int,\n",
    "        num_components: int,\n",
    "        fraction_fit: float = 1.0,\n",
    "        fraction_evaluate: float = 1.0,\n",
    "        min_fit_clients: int = 2,\n",
    "        min_evaluate_clients: int = 2,\n",
    "        min_available_clients: int = 2,\n",
    "        evaluate_metrics_aggregation_fn: Optional[MetricsAggregationFn] = None,\n",
    "        fit_metrics_aggregation_fn: Optional[MetricsAggregationFn] = None\n",
    "    ) -> None:\n",
    "        super().__init__(initial_parameters=initial_parameters)\n",
    "        self.fraction_fit = fraction_fit\n",
    "        self.fraction_evaluate = fraction_evaluate\n",
    "        self.min_fit_clients = min_fit_clients\n",
    "        self.min_evaluate_clients = min_evaluate_clients\n",
    "        self.min_available_clients = min_available_clients\n",
    "        self.evaluate_metrics_aggregation_fn = evaluate_metrics_aggregation_fn\n",
    "        self.fit_metrics_aggregation_fn = fit_metrics_aggregation_fn\n",
    "        self.models = [network_constructor() for m in range(num_components)]\n",
    "        self.total_nb_clients = total_nb_clients\n",
    "        self.num_components = num_components\n",
    "        self.initialize_mixture_weights()\n",
    "\n",
    "    def initialize_mixture_weights(self) -> None:\n",
    "        # Initialization of the mixtures weights if it not exists.\n",
    "        print(\"=== Mixture's weights initialization ===\")\n",
    "        for i in range(self.total_nb_clients):\n",
    "            mixture_weights = torch.rand(self.num_components)\n",
    "            mixture_weights /= torch.sum(mixture_weights)\n",
    "            print(\"\\t{0}: {1}\".format(i, mixture_weights))\n",
    "            torch.save(mixture_weights, 'mixture_weights_{0}.pkl'.format(i))\n",
    "        \n",
    "    def __repr__(self) -> str:\n",
    "        return \"FedEM\"\n",
    "\n",
    "    def aggregate_fit(\n",
    "        self,\n",
    "        server_round: int,\n",
    "        results: List[Tuple[ClientProxy, FitRes]],\n",
    "        failures: List[Union[Tuple[ClientProxy, FitRes], BaseException]],\n",
    "    ) -> Tuple[Optional[Parameters], Dict[str, Scalar]]:\n",
    "        \"\"\"Aggregate fit results using weighted average.\"\"\"\n",
    "\n",
    "        if not results:\n",
    "            return None, {}\n",
    "\n",
    "        # Do not aggregate if there are failures and failures are not accepted\n",
    "        if not self.accept_failures and failures:\n",
    "            return None, {}\n",
    "\n",
    "        # Aggregate personalized models\n",
    "        weights_results = [\n",
    "            (parameters_to_ndarrays(fit_res.parameters), fit_res.num_examples)\n",
    "            for _, fit_res in results\n",
    "        ]\n",
    "        aggregated_model = ndarrays_to_parameters(aggregate(weights_results))\n",
    "\n",
    "        # Convert results\n",
    "        trained_models = [fit_res.metrics[\"trained_models\"] for _, fit_res in results]\n",
    "\n",
    "        dataset_size = [fit_res.num_examples for _, fit_res in results]\n",
    "        weights_of_the_dataset = dataset_size / np.sum(dataset_size)\n",
    "\n",
    "        self.models = [aggregate_networks([models[m] for models in trained_models], weights_of_the_dataset) for m in range(self.num_components)]\n",
    "\n",
    "        # Aggregate custom metrics if aggregation fn was provided\n",
    "        metrics_aggregated = {}\n",
    "        if self.fit_metrics_aggregation_fn:\n",
    "            fit_metrics = [(res.num_examples, res.metrics) for _, res in results]\n",
    "            metrics_aggregated = self.fit_metrics_aggregation_fn(fit_metrics)\n",
    "        elif server_round == 1:  # Only log this warning once\n",
    "            log(WARNING, \"No fit_metrics_aggregation_fn provided\")\n",
    "\n",
    "        metrics_aggregated[\"models\"] = self.models\n",
    "\n",
    "        return aggregated_model, metrics_aggregated\n",
    "\n",
    "    def configure_fit(\n",
    "        self, server_round: int, parameters: Parameters, client_manager: ClientManager\n",
    "    ) -> List[Tuple[ClientProxy, FitIns]]:\n",
    "        \"\"\"Configure the next round of training.\"\"\"\n",
    "        config = {}\n",
    "        if self.on_fit_config_fn is not None:\n",
    "            # Custom fit config function provided\n",
    "            config = self.on_fit_config_fn(server_round)\n",
    "\n",
    "        # Adding the models to the message that is sent to the clients\n",
    "        config[\"models\"] = self.models\n",
    "        # The parameters will not be used to evaluate the model but the personalized model hold on the client.\n",
    "        fit_ins = FitIns(parameters, config)\n",
    "\n",
    "        # Sample clients\n",
    "        sample_size, min_num_clients = self.num_fit_clients(\n",
    "            client_manager.num_available()\n",
    "        )\n",
    "        clients = client_manager.sample(\n",
    "            num_clients=sample_size, min_num_clients=min_num_clients\n",
    "        )\n",
    "\n",
    "        # Return client/config pairs\n",
    "        return [(client, fit_ins) for client in clients]\n",
    "\n",
    "    \n",
    "    def configure_evaluate(\n",
    "        self, server_round: int, parameters: Parameters, client_manager: ClientManager\n",
    "    ) -> List[Tuple[ClientProxy, EvaluateIns]]:\n",
    "        \"\"\"Configure the next round of evaluation.\"\"\"\n",
    "\n",
    "        # Do not configure federated evaluation if fraction eval is 0.\n",
    "        if self.fraction_evaluate == 0.0:\n",
    "            return []\n",
    "\n",
    "        # Parameters and config\n",
    "        config = {}\n",
    "        if self.on_evaluate_config_fn is not None:\n",
    "            # Custom evaluation config function provided\n",
    "            config = self.on_evaluate_config_fn(server_round)\n",
    "        \n",
    "        # Adding the models to the message that is sent to the clients\n",
    "        config[\"models\"] = self.models\n",
    "        evaluate_ins = EvaluateIns(parameters, config)\n",
    "\n",
    "\n",
    "        # Sample clients\n",
    "        sample_size, min_num_clients = self.num_evaluation_clients(\n",
    "            client_manager.num_available()\n",
    "        )\n",
    "        clients = client_manager.sample(\n",
    "            num_clients=sample_size, min_num_clients=min_num_clients\n",
    "        )\n",
    "\n",
    "        # Return client/config pairs\n",
    "        return [(client, evaluate_ins) for client in clients]\n",
    "\n",
    "    def aggregate_evaluate(\n",
    "            self,\n",
    "            server_round: int,\n",
    "            results: List[Tuple[ClientProxy, EvaluateRes]],\n",
    "            failures: List[Union[Tuple[ClientProxy, EvaluateRes], BaseException]],\n",
    "    ) -> Tuple[Optional[float], Dict[str, Scalar]]:\n",
    "        \"\"\"Aggregate evaluation losses using weighted average.\"\"\"\n",
    "        if not results:\n",
    "            return None, {}\n",
    "        # Do not aggregate if there are failures and failures are not accepted\n",
    "        if not self.accept_failures and failures:\n",
    "            return None, {}\n",
    "\n",
    "        # Aggregate loss\n",
    "        loss_aggregated = weighted_loss_avg(\n",
    "            [\n",
    "                (evaluate_res.num_examples, evaluate_res.loss)\n",
    "                for _, evaluate_res in results\n",
    "            ]\n",
    "        )\n",
    "\n",
    "        # Aggregate custom metrics if aggregation fn was provided\n",
    "        metrics_aggregated = {}\n",
    "        if self.evaluate_metrics_aggregation_fn:\n",
    "            eval_metrics = [(res.num_examples, res.metrics) for _, res in results]\n",
    "            metrics_aggregated = self.evaluate_metrics_aggregation_fn(eval_metrics)\n",
    "        elif server_round == 1:  # Only log this warning once\n",
    "            log(WARNING, \"No evaluate_metrics_aggregation_fn provided\")\n",
    "\n",
    "        return loss_aggregated, metrics_aggregated\n",
    "        \n",
    "\n",
    "    "
   ]
  },
  {
   "cell_type": "markdown",
   "metadata": {
    "id": "5I8aVacP-VrI"
   },
   "source": [
    "### Starting the training"
   ]
  },
  {
   "cell_type": "code",
   "execution_count": null,
   "metadata": {
    "colab": {
     "base_uri": "https://localhost:8080/"
    },
    "id": "Z3g1FqHA-U4i",
    "outputId": "244b8ec4-b129-41ac-b59b-254888e2e07b"
   },
   "outputs": [
    {
     "name": "stderr",
     "output_type": "stream",
     "text": [
      "INFO flwr 2023-06-10 13:25:34,728 | app.py:146 | Starting Flower simulation, config: ServerConfig(num_rounds=20, round_timeout=None)\n",
      "INFO:flwr:Starting Flower simulation, config: ServerConfig(num_rounds=20, round_timeout=None)\n"
     ]
    },
    {
     "name": "stdout",
     "output_type": "stream",
     "text": [
      "=== Mixture's weights initialization ===\n",
      "\t0: tensor([0.660, 0.104, 0.236])\n",
      "\t1: tensor([0.207, 0.657, 0.136])\n",
      "\t2: tensor([0.081, 0.134, 0.785])\n",
      "\t3: tensor([0.046, 0.007, 0.948])\n",
      "\t4: tensor([0.294, 0.287, 0.419])\n",
      "\t5: tensor([0.453, 0.095, 0.451])\n",
      "\t6: tensor([0.375, 0.478, 0.147])\n",
      "\t7: tensor([0.253, 0.271, 0.476])\n",
      "\t8: tensor([0.153, 0.410, 0.437])\n",
      "\t9: tensor([0.079, 0.136, 0.785])\n",
      "\t10: tensor([0.348, 0.305, 0.347])\n",
      "\t11: tensor([0.220, 0.389, 0.391])\n",
      "\t12: tensor([0.016, 0.581, 0.403])\n",
      "\t13: tensor([0.102, 0.411, 0.488])\n",
      "\t14: tensor([0.333, 0.065, 0.602])\n",
      "\t15: tensor([0.295, 0.451, 0.254])\n",
      "\t16: tensor([0.407, 0.226, 0.367])\n",
      "\t17: tensor([0.425, 0.241, 0.334])\n",
      "\t18: tensor([0.382, 0.413, 0.205])\n",
      "\t19: tensor([0.242, 0.295, 0.462])\n"
     ]
    },
    {
     "name": "stderr",
     "output_type": "stream",
     "text": [
      "2023-06-10 13:25:41,979\tINFO worker.py:1636 -- Started a local Ray instance.\n",
      "INFO flwr 2023-06-10 13:25:45,479 | app.py:180 | Flower VCE: Ray initialized with resources: {'node:172.28.0.12': 1.0, 'memory': 7808979764.0, 'object_store_memory': 3904489881.0, 'CPU': 2.0}\n",
      "INFO:flwr:Flower VCE: Ray initialized with resources: {'node:172.28.0.12': 1.0, 'memory': 7808979764.0, 'object_store_memory': 3904489881.0, 'CPU': 2.0}\n",
      "INFO flwr 2023-06-10 13:25:45,485 | server.py:86 | Initializing global parameters\n",
      "INFO:flwr:Initializing global parameters\n",
      "INFO flwr 2023-06-10 13:25:45,492 | server.py:269 | Using initial parameters provided by strategy\n",
      "INFO:flwr:Using initial parameters provided by strategy\n",
      "INFO flwr 2023-06-10 13:25:45,500 | server.py:88 | Evaluating initial parameters\n",
      "INFO:flwr:Evaluating initial parameters\n",
      "INFO flwr 2023-06-10 13:25:45,515 | server.py:101 | FL starting\n",
      "INFO:flwr:FL starting\n",
      "DEBUG flwr 2023-06-10 13:25:45,521 | server.py:218 | fit_round 1: strategy sampled 20 clients (out of 20)\n",
      "DEBUG:flwr:fit_round 1: strategy sampled 20 clients (out of 20)\n",
      "\u001b[2m\u001b[36m(pid=9375)\u001b[0m 2023-06-10 13:26:00.438742: W tensorflow/compiler/tf2tensorrt/utils/py_utils.cc:38] TF-TRT Warning: Could not find TensorRT\n",
      "\u001b[2m\u001b[36m(launch_and_fit pid=9375)\u001b[0m /usr/local/lib/python3.10/dist-packages/torch/nn/_reduction.py:42: UserWarning: size_average and reduce args will be deprecated, please use reduction='none' instead.\n",
      "\u001b[2m\u001b[36m(launch_and_fit pid=9375)\u001b[0m   warnings.warn(warning.format(ret))\n",
      "\u001b[2m\u001b[36m(pid=9376)\u001b[0m   warnings.warn(warning.format(ret))\n"
     ]
    },
    {
     "name": "stdout",
     "output_type": "stream",
     "text": [
      "\u001b[2m\u001b[36m(launch_and_fit pid=9375)\u001b[0m \t New mixture's weights 10: tensor([0.3314, 0.3084, 0.3602])\n"
     ]
    },
    {
     "name": "stderr",
     "output_type": "stream",
     "text": [
      "\u001b[2m\u001b[36m(launch_and_fit pid=9376)\u001b[0m <ipython-input-26-e82dc36b617d>:58: UserWarning: The use of `x.T` on tensors of dimension other than 2 to reverse their shape is deprecated and it will throw an error in a future release. Consider `x.mT` to transpose batches of matrices or `x.permute(*torch.arange(x.ndim - 1, -1, -1))` to reverse the dimensions of a tensor. (Triggered internally at ../aten/src/ATen/native/TensorShape.cpp:3571.)\n",
      "\u001b[2m\u001b[36m(launch_and_fit pid=9376)\u001b[0m /usr/local/lib/python3.10/dist-packages/numpy/core/fromnumeric.py:86: FutureWarning: The input object of type 'Tensor' is an array-like implementing one of the corresponding protocols (`__array__`, `__array_interface__` or `__array_struct__`); but not a sequence (or 0-D). In the future, this object will be coerced as if it was first converted using `np.array(obj)`. To retain the old behaviour, you have to either modify the type 'Tensor', or assign to an empty array created with `np.empty(correct_shape, dtype=object)`.\n",
      "\u001b[2m\u001b[36m(launch_and_fit pid=9376)\u001b[0m   return ufunc.reduce(obj, axis, dtype, out, **passkwargs)\n",
      "\u001b[2m\u001b[36m(launch_and_fit pid=9376)\u001b[0m /usr/local/lib/python3.10/dist-packages/numpy/core/fromnumeric.py:86: VisibleDeprecationWarning: Creating an ndarray from ragged nested sequences (which is a list-or-tuple of lists-or-tuples-or ndarrays with different lengths or shapes) is deprecated. If you meant to do this, you must specify 'dtype=object' when creating the ndarray.\n",
      "\u001b[2m\u001b[36m(launch_and_fit pid=9376)\u001b[0m   return ufunc.reduce(obj, axis, dtype, out, **passkwargs)\n",
      "\u001b[2m\u001b[36m(launch_and_fit pid=9376)\u001b[0m   return ufunc.reduce(obj, axis, dtype, out, **passkwargs)\n",
      "\u001b[2m\u001b[36m(launch_and_fit pid=9376)\u001b[0m   return ufunc.reduce(obj, axis, dtype, out, **passkwargs)\n",
      "\u001b[2m\u001b[36m(launch_and_fit pid=9375)\u001b[0m   return ufunc.reduce(obj, axis, dtype, out, **passkwargs)\n"
     ]
    },
    {
     "name": "stdout",
     "output_type": "stream",
     "text": [
      "\u001b[2m\u001b[36m(launch_and_fit pid=9376)\u001b[0m \t New mixture's weights 12: tensor([0.0153, 0.5364, 0.4483])\u001b[32m [repeated 2x across cluster] (Ray deduplicates logs by default. Set RAY_DEDUP_LOGS=0 to disable log deduplication, or see https://docs.ray.io/en/master/ray-observability/ray-logging.html#log-deduplication for more options.)\u001b[0m\n",
      "\u001b[2m\u001b[36m(launch_and_fit pid=9376)\u001b[0m \t New mixture's weights 14: tensor([0.3316, 0.0650, 0.6034])\u001b[32m [repeated 2x across cluster]\u001b[0m\n",
      "\u001b[2m\u001b[36m(launch_and_fit pid=9375)\u001b[0m \t New mixture's weights 17: tensor([0.4116, 0.2472, 0.3412])\u001b[32m [repeated 2x across cluster]\u001b[0m\n",
      "\u001b[2m\u001b[36m(launch_and_fit pid=9376)\u001b[0m \t New mixture's weights 6: tensor([0.3667, 0.4782, 0.1552])\u001b[32m [repeated 2x across cluster]\u001b[0m\n",
      "\u001b[2m\u001b[36m(launch_and_fit pid=9376)\u001b[0m \t New mixture's weights 5: tensor([0.4545, 0.0892, 0.4564])\u001b[32m [repeated 2x across cluster]\u001b[0m\n",
      "\u001b[2m\u001b[36m(launch_and_fit pid=9376)\u001b[0m \t New mixture's weights 13: tensor([0.1023, 0.4032, 0.4944])\u001b[32m [repeated 2x across cluster]\u001b[0m\n",
      "\u001b[2m\u001b[36m(launch_and_fit pid=9376)\u001b[0m \t New mixture's weights 11: tensor([0.2144, 0.3734, 0.4122])\u001b[32m [repeated 2x across cluster]\u001b[0m\n",
      "\u001b[2m\u001b[36m(launch_and_fit pid=9376)\u001b[0m \t New mixture's weights 19: tensor([0.2439, 0.2985, 0.4576])\u001b[32m [repeated 2x across cluster]\u001b[0m\n"
     ]
    },
    {
     "name": "stderr",
     "output_type": "stream",
     "text": [
      "DEBUG flwr 2023-06-10 13:27:28,708 | server.py:232 | fit_round 1 received 20 results and 0 failures\n",
      "DEBUG:flwr:fit_round 1 received 20 results and 0 failures\n",
      "DEBUG flwr 2023-06-10 13:27:28,759 | server.py:168 | evaluate_round 1: strategy sampled 20 clients (out of 20)\n",
      "DEBUG:flwr:evaluate_round 1: strategy sampled 20 clients (out of 20)\n",
      "DEBUG flwr 2023-06-10 13:28:06,805 | server.py:182 | evaluate_round 1 received 20 results and 0 failures\n",
      "DEBUG:flwr:evaluate_round 1 received 20 results and 0 failures\n",
      "DEBUG flwr 2023-06-10 13:28:06,808 | server.py:218 | fit_round 2: strategy sampled 20 clients (out of 20)\n",
      "DEBUG:flwr:fit_round 2: strategy sampled 20 clients (out of 20)\n"
     ]
    },
    {
     "name": "stdout",
     "output_type": "stream",
     "text": [
      "\u001b[2m\u001b[36m(launch_and_fit pid=9376)\u001b[0m \t New mixture's weights 13: tensor([0.0984, 0.3986, 0.5031])\u001b[32m [repeated 4x across cluster]\u001b[0m\n",
      "\u001b[2m\u001b[36m(launch_and_fit pid=9376)\u001b[0m \t New mixture's weights 12: tensor([0.0141, 0.6015, 0.3844])\u001b[32m [repeated 2x across cluster]\u001b[0m\n",
      "\u001b[2m\u001b[36m(launch_and_fit pid=9376)\u001b[0m \t New mixture's weights 19: tensor([0.2452, 0.3097, 0.4451])\u001b[32m [repeated 2x across cluster]\u001b[0m\n",
      "\u001b[2m\u001b[36m(launch_and_fit pid=9376)\u001b[0m \t New mixture's weights 14: tensor([0.3198, 0.0612, 0.6189])\u001b[32m [repeated 2x across cluster]\u001b[0m\n",
      "\u001b[2m\u001b[36m(launch_and_fit pid=9376)\u001b[0m \t New mixture's weights 18: tensor([0.3502, 0.4332, 0.2166])\u001b[32m [repeated 2x across cluster]\u001b[0m\n",
      "\u001b[2m\u001b[36m(launch_and_fit pid=9376)\u001b[0m \t New mixture's weights 8: tensor([0.1561, 0.4301, 0.4138])\u001b[32m [repeated 2x across cluster]\u001b[0m\n",
      "\u001b[2m\u001b[36m(launch_and_fit pid=9376)\u001b[0m \t New mixture's weights 16: tensor([0.4278, 0.2043, 0.3678])\u001b[32m [repeated 2x across cluster]\u001b[0m\n",
      "\u001b[2m\u001b[36m(launch_and_fit pid=9376)\u001b[0m \t New mixture's weights 1: tensor([0.1991, 0.6598, 0.1411])\u001b[32m [repeated 2x across cluster]\u001b[0m\n",
      "\u001b[2m\u001b[36m(launch_and_fit pid=9375)\u001b[0m \t New mixture's weights 7: tensor([0.2551, 0.2470, 0.4979])\u001b[32m [repeated 3x across cluster]\u001b[0m\n",
      "\u001b[2m\u001b[36m(launch_and_fit pid=9376)\u001b[0m \t New mixture's weights 2: tensor([0.0790, 0.1110, 0.8100])\n",
      "\u001b[2m\u001b[36m(launch_and_fit pid=9375)\u001b[0m \t New mixture's weights 11: tensor([0.2151, 0.3935, 0.3914])\n"
     ]
    },
    {
     "name": "stderr",
     "output_type": "stream",
     "text": [
      "DEBUG flwr 2023-06-10 13:29:39,160 | server.py:232 | fit_round 2 received 20 results and 0 failures\n",
      "DEBUG:flwr:fit_round 2 received 20 results and 0 failures\n",
      "DEBUG flwr 2023-06-10 13:29:39,190 | server.py:168 | evaluate_round 2: strategy sampled 20 clients (out of 20)\n",
      "DEBUG:flwr:evaluate_round 2: strategy sampled 20 clients (out of 20)\n",
      "DEBUG flwr 2023-06-10 13:30:15,965 | server.py:182 | evaluate_round 2 received 20 results and 0 failures\n",
      "DEBUG:flwr:evaluate_round 2 received 20 results and 0 failures\n",
      "DEBUG flwr 2023-06-10 13:30:15,970 | server.py:218 | fit_round 3: strategy sampled 20 clients (out of 20)\n",
      "DEBUG:flwr:fit_round 3: strategy sampled 20 clients (out of 20)\n"
     ]
    },
    {
     "name": "stdout",
     "output_type": "stream",
     "text": [
      "\u001b[2m\u001b[36m(launch_and_fit pid=9375)\u001b[0m \t New mixture's weights 3: tensor([0.0394, 0.0046, 0.9561])\n",
      "\u001b[2m\u001b[36m(launch_and_fit pid=9376)\u001b[0m \t New mixture's weights 9: tensor([0.0738, 0.1164, 0.8099])\n",
      "\u001b[2m\u001b[36m(launch_and_fit pid=9376)\u001b[0m \t New mixture's weights 8: tensor([0.1463, 0.4547, 0.3990])\n",
      "\u001b[2m\u001b[36m(launch_and_fit pid=9375)\u001b[0m \t New mixture's weights 7: tensor([0.2446, 0.2291, 0.5262])\n",
      "\u001b[2m\u001b[36m(launch_and_fit pid=9376)\u001b[0m \t New mixture's weights 12: tensor([0.0124, 0.6238, 0.3638])\n",
      "\u001b[2m\u001b[36m(launch_and_fit pid=9375)\u001b[0m \t New mixture's weights 1: tensor([0.1947, 0.6649, 0.1404])\n",
      "\u001b[2m\u001b[36m(launch_and_fit pid=9376)\u001b[0m \t New mixture's weights 17: tensor([0.4081, 0.2675, 0.3244])\n",
      "\u001b[2m\u001b[36m(launch_and_fit pid=9375)\u001b[0m \t New mixture's weights 0: tensor([0.6054, 0.0720, 0.3225])\n",
      "\u001b[2m\u001b[36m(launch_and_fit pid=9376)\u001b[0m \t New mixture's weights 13: tensor([0.0951, 0.3987, 0.5062])\n",
      "\u001b[2m\u001b[36m(launch_and_fit pid=9375)\u001b[0m \t New mixture's weights 15: tensor([0.2971, 0.4442, 0.2588])\n",
      "\u001b[2m\u001b[36m(launch_and_fit pid=9376)\u001b[0m \t New mixture's weights 4: tensor([0.2992, 0.2683, 0.4326])\n",
      "\u001b[2m\u001b[36m(launch_and_fit pid=9375)\u001b[0m \t New mixture's weights 10: tensor([0.3216, 0.3474, 0.3309])\n",
      "\u001b[2m\u001b[36m(launch_and_fit pid=9376)\u001b[0m \t New mixture's weights 16: tensor([0.4471, 0.1969, 0.3560])\n",
      "\u001b[2m\u001b[36m(launch_and_fit pid=9375)\u001b[0m \t New mixture's weights 5: tensor([0.4198, 0.0710, 0.5092])\n",
      "\u001b[2m\u001b[36m(launch_and_fit pid=9376)\u001b[0m \t New mixture's weights 19: tensor([0.2431, 0.3122, 0.4447])\n",
      "\u001b[2m\u001b[36m(launch_and_fit pid=9375)\u001b[0m \t New mixture's weights 2: tensor([0.0721, 0.0911, 0.8368])\n",
      "\u001b[2m\u001b[36m(launch_and_fit pid=9376)\u001b[0m \t New mixture's weights 11: tensor([0.2115, 0.4068, 0.3818])\u001b[32m [repeated 3x across cluster]\u001b[0m\n"
     ]
    },
    {
     "name": "stderr",
     "output_type": "stream",
     "text": [
      "DEBUG flwr 2023-06-10 13:31:54,266 | server.py:232 | fit_round 3 received 20 results and 0 failures\n",
      "DEBUG:flwr:fit_round 3 received 20 results and 0 failures\n",
      "DEBUG flwr 2023-06-10 13:31:54,295 | server.py:168 | evaluate_round 3: strategy sampled 20 clients (out of 20)\n",
      "DEBUG:flwr:evaluate_round 3: strategy sampled 20 clients (out of 20)\n",
      "DEBUG flwr 2023-06-10 13:32:32,480 | server.py:182 | evaluate_round 3 received 20 results and 0 failures\n",
      "DEBUG:flwr:evaluate_round 3 received 20 results and 0 failures\n",
      "DEBUG flwr 2023-06-10 13:32:32,483 | server.py:218 | fit_round 4: strategy sampled 20 clients (out of 20)\n",
      "DEBUG:flwr:fit_round 4: strategy sampled 20 clients (out of 20)\n"
     ]
    },
    {
     "name": "stdout",
     "output_type": "stream",
     "text": [
      "\u001b[2m\u001b[36m(launch_and_fit pid=9376)\u001b[0m \t New mixture's weights 11: tensor([0.2118, 0.4183, 0.3699])\u001b[32m [repeated 2x across cluster]\u001b[0m\n",
      "\u001b[2m\u001b[36m(launch_and_fit pid=9376)\u001b[0m \t New mixture's weights 16: tensor([0.4673, 0.1797, 0.3531])\u001b[32m [repeated 2x across cluster]\u001b[0m\n",
      "\u001b[2m\u001b[36m(launch_and_fit pid=9375)\u001b[0m \t New mixture's weights 3: tensor([0.0338, 0.0035, 0.9626])\u001b[32m [repeated 2x across cluster]\u001b[0m\n",
      "\u001b[2m\u001b[36m(launch_and_fit pid=9375)\u001b[0m \t New mixture's weights 8: tensor([0.1371, 0.4849, 0.3780])\u001b[32m [repeated 2x across cluster]\u001b[0m\n",
      "\u001b[2m\u001b[36m(launch_and_fit pid=9375)\u001b[0m \t New mixture's weights 13: tensor([0.0916, 0.3948, 0.5136])\u001b[32m [repeated 2x across cluster]\u001b[0m\n",
      "\u001b[2m\u001b[36m(launch_and_fit pid=9375)\u001b[0m \t New mixture's weights 14: tensor([0.3083, 0.0554, 0.6364])\u001b[32m [repeated 2x across cluster]\u001b[0m\n",
      "\u001b[2m\u001b[36m(launch_and_fit pid=9375)\u001b[0m \t New mixture's weights 17: tensor([0.3973, 0.2954, 0.3073])\u001b[32m [repeated 2x across cluster]\u001b[0m\n",
      "\u001b[2m\u001b[36m(launch_and_fit pid=9375)\u001b[0m \t New mixture's weights 12: tensor([0.0109, 0.6608, 0.3283])\u001b[32m [repeated 2x across cluster]\u001b[0m\n",
      "\u001b[2m\u001b[36m(launch_and_fit pid=9375)\u001b[0m \t New mixture's weights 19: tensor([0.2390, 0.3279, 0.4331])\u001b[32m [repeated 2x across cluster]\u001b[0m\n",
      "\u001b[2m\u001b[36m(launch_and_fit pid=9375)\u001b[0m \t New mixture's weights 15: tensor([0.2940, 0.4439, 0.2621])\u001b[32m [repeated 2x across cluster]\u001b[0m\n"
     ]
    },
    {
     "name": "stderr",
     "output_type": "stream",
     "text": [
      "DEBUG flwr 2023-06-10 13:34:06,630 | server.py:232 | fit_round 4 received 20 results and 0 failures\n",
      "DEBUG:flwr:fit_round 4 received 20 results and 0 failures\n",
      "DEBUG flwr 2023-06-10 13:34:06,674 | server.py:168 | evaluate_round 4: strategy sampled 20 clients (out of 20)\n",
      "DEBUG:flwr:evaluate_round 4: strategy sampled 20 clients (out of 20)\n",
      "DEBUG flwr 2023-06-10 13:34:44,266 | server.py:182 | evaluate_round 4 received 20 results and 0 failures\n",
      "DEBUG:flwr:evaluate_round 4 received 20 results and 0 failures\n",
      "DEBUG flwr 2023-06-10 13:34:44,274 | server.py:218 | fit_round 5: strategy sampled 20 clients (out of 20)\n",
      "DEBUG:flwr:fit_round 5: strategy sampled 20 clients (out of 20)\n"
     ]
    },
    {
     "name": "stdout",
     "output_type": "stream",
     "text": [
      "\u001b[2m\u001b[36m(launch_and_fit pid=9376)\u001b[0m \t New mixture's weights 9: tensor([0.0641, 0.0905, 0.8454])\u001b[32m [repeated 2x across cluster]\u001b[0m\n",
      "\u001b[2m\u001b[36m(launch_and_fit pid=9376)\u001b[0m \t New mixture's weights 6: tensor([0.3339, 0.5308, 0.1353])\u001b[32m [repeated 2x across cluster]\u001b[0m\n",
      "\u001b[2m\u001b[36m(launch_and_fit pid=9376)\u001b[0m \t New mixture's weights 1: tensor([0.1821, 0.6888, 0.1291])\u001b[32m [repeated 2x across cluster]\u001b[0m\n",
      "\u001b[2m\u001b[36m(launch_and_fit pid=9375)\u001b[0m \t New mixture's weights 15: tensor([0.2857, 0.4534, 0.2610])\n",
      "\u001b[2m\u001b[36m(launch_and_fit pid=9376)\u001b[0m \t New mixture's weights 10: tensor([0.3004, 0.4059, 0.2937])\n",
      "\u001b[2m\u001b[36m(launch_and_fit pid=9376)\u001b[0m \t New mixture's weights 13: tensor([0.0873, 0.3929, 0.5198])\u001b[32m [repeated 2x across cluster]\u001b[0m\n",
      "\u001b[2m\u001b[36m(launch_and_fit pid=9375)\u001b[0m \t New mixture's weights 3: tensor([0.0285, 0.0028, 0.9687])\n",
      "\u001b[2m\u001b[36m(launch_and_fit pid=9376)\u001b[0m \t New mixture's weights 14: tensor([0.3003, 0.0520, 0.6477])\n",
      "\u001b[2m\u001b[36m(launch_and_fit pid=9376)\u001b[0m \t New mixture's weights 2: tensor([0.0558, 0.0573, 0.8870])\u001b[32m [repeated 2x across cluster]\u001b[0m\n",
      "\u001b[2m\u001b[36m(launch_and_fit pid=9375)\u001b[0m \t New mixture's weights 4: tensor([0.2935, 0.2544, 0.4521])\n",
      "\u001b[2m\u001b[36m(launch_and_fit pid=9376)\u001b[0m \t New mixture's weights 8: tensor([0.1254, 0.5214, 0.3531])\n",
      "\u001b[2m\u001b[36m(launch_and_fit pid=9376)\u001b[0m \t New mixture's weights 7: tensor([0.2234, 0.1931, 0.5835])\u001b[32m [repeated 2x across cluster]\u001b[0m\n",
      "\u001b[2m\u001b[36m(launch_and_fit pid=9376)\u001b[0m \t New mixture's weights 0: tensor([0.5257, 0.0477, 0.4266])\u001b[32m [repeated 2x across cluster]\u001b[0m\n",
      "\u001b[2m\u001b[36m(launch_and_fit pid=9375)\u001b[0m \t New mixture's weights 11: tensor([0.2102, 0.4379, 0.3520])\n"
     ]
    },
    {
     "name": "stderr",
     "output_type": "stream",
     "text": [
      "DEBUG flwr 2023-06-10 13:36:15,529 | server.py:232 | fit_round 5 received 20 results and 0 failures\n",
      "DEBUG:flwr:fit_round 5 received 20 results and 0 failures\n",
      "DEBUG flwr 2023-06-10 13:36:15,559 | server.py:168 | evaluate_round 5: strategy sampled 20 clients (out of 20)\n",
      "DEBUG:flwr:evaluate_round 5: strategy sampled 20 clients (out of 20)\n",
      "DEBUG flwr 2023-06-10 13:36:53,652 | server.py:182 | evaluate_round 5 received 20 results and 0 failures\n",
      "DEBUG:flwr:evaluate_round 5 received 20 results and 0 failures\n",
      "DEBUG flwr 2023-06-10 13:36:53,655 | server.py:218 | fit_round 6: strategy sampled 20 clients (out of 20)\n",
      "DEBUG:flwr:fit_round 6: strategy sampled 20 clients (out of 20)\n"
     ]
    },
    {
     "name": "stdout",
     "output_type": "stream",
     "text": [
      "\u001b[2m\u001b[36m(launch_and_fit pid=9375)\u001b[0m \t New mixture's weights 13: tensor([0.0836, 0.3893, 0.5272])\n",
      "\u001b[2m\u001b[36m(launch_and_fit pid=9375)\u001b[0m \t New mixture's weights 14: tensor([0.2939, 0.0480, 0.6581])\u001b[32m [repeated 2x across cluster]\u001b[0m\n",
      "\u001b[2m\u001b[36m(launch_and_fit pid=9376)\u001b[0m \t New mixture's weights 12: tensor([0.0084, 0.7368, 0.2548])\u001b[32m [repeated 2x across cluster]\u001b[0m\n",
      "\u001b[2m\u001b[36m(launch_and_fit pid=9376)\u001b[0m \t New mixture's weights 0: tensor([0.4812, 0.0379, 0.4809])\u001b[32m [repeated 2x across cluster]\u001b[0m\n",
      "\u001b[2m\u001b[36m(launch_and_fit pid=9376)\u001b[0m \t New mixture's weights 17: tensor([0.3866, 0.3318, 0.2816])\u001b[32m [repeated 2x across cluster]\u001b[0m\n",
      "\u001b[2m\u001b[36m(launch_and_fit pid=9376)\u001b[0m \t New mixture's weights 8: tensor([0.1147, 0.5582, 0.3271])\u001b[32m [repeated 2x across cluster]\u001b[0m\n",
      "\u001b[2m\u001b[36m(launch_and_fit pid=9376)\u001b[0m \t New mixture's weights 1: tensor([0.1721, 0.7076, 0.1203])\u001b[32m [repeated 2x across cluster]\u001b[0m\n",
      "\u001b[2m\u001b[36m(launch_and_fit pid=9376)\u001b[0m \t New mixture's weights 3: tensor([0.0240, 0.0021, 0.9739])\u001b[32m [repeated 2x across cluster]\u001b[0m\n",
      "\u001b[2m\u001b[36m(launch_and_fit pid=9376)\u001b[0m \t New mixture's weights 15: tensor([0.2803, 0.4569, 0.2628])\u001b[32m [repeated 2x across cluster]\u001b[0m\n",
      "\u001b[2m\u001b[36m(launch_and_fit pid=9375)\u001b[0m \t New mixture's weights 5: tensor([0.3404, 0.0434, 0.6161])\u001b[32m [repeated 3x across cluster]\u001b[0m\n"
     ]
    },
    {
     "name": "stderr",
     "output_type": "stream",
     "text": [
      "DEBUG flwr 2023-06-10 13:38:24,947 | server.py:232 | fit_round 6 received 20 results and 0 failures\n",
      "DEBUG:flwr:fit_round 6 received 20 results and 0 failures\n",
      "DEBUG flwr 2023-06-10 13:38:24,982 | server.py:168 | evaluate_round 6: strategy sampled 20 clients (out of 20)\n",
      "DEBUG:flwr:evaluate_round 6: strategy sampled 20 clients (out of 20)\n",
      "DEBUG flwr 2023-06-10 13:39:02,844 | server.py:182 | evaluate_round 6 received 20 results and 0 failures\n",
      "DEBUG:flwr:evaluate_round 6 received 20 results and 0 failures\n",
      "DEBUG flwr 2023-06-10 13:39:02,854 | server.py:218 | fit_round 7: strategy sampled 20 clients (out of 20)\n",
      "DEBUG:flwr:fit_round 7: strategy sampled 20 clients (out of 20)\n"
     ]
    },
    {
     "name": "stdout",
     "output_type": "stream",
     "text": [
      "\u001b[2m\u001b[36m(launch_and_fit pid=9375)\u001b[0m \t New mixture's weights 18: tensor([0.2840, 0.5763, 0.1398])\n",
      "\u001b[2m\u001b[36m(launch_and_fit pid=9376)\u001b[0m \t New mixture's weights 13: tensor([0.0797, 0.3884, 0.5319])\n",
      "\u001b[2m\u001b[36m(launch_and_fit pid=9375)\u001b[0m \t New mixture's weights 15: tensor([0.2705, 0.4683, 0.2611])\n",
      "\u001b[2m\u001b[36m(launch_and_fit pid=9376)\u001b[0m \t New mixture's weights 9: tensor([0.0540, 0.0666, 0.8793])\n",
      "\u001b[2m\u001b[36m(launch_and_fit pid=9376)\u001b[0m \t New mixture's weights 19: tensor([0.2307, 0.3484, 0.4209])\n",
      "\u001b[2m\u001b[36m(launch_and_fit pid=9375)\u001b[0m \t New mixture's weights 6: tensor([0.3196, 0.5593, 0.1212])\n",
      "\u001b[2m\u001b[36m(launch_and_fit pid=9375)\u001b[0m \t New mixture's weights 12: tensor([0.0072, 0.7752, 0.2176])\n",
      "\u001b[2m\u001b[36m(launch_and_fit pid=9376)\u001b[0m \t New mixture's weights 2: tensor([0.0408, 0.0344, 0.9248])\n",
      "\u001b[2m\u001b[36m(launch_and_fit pid=9375)\u001b[0m \t New mixture's weights 11: tensor([0.2083, 0.4815, 0.3102])\n",
      "\u001b[2m\u001b[36m(launch_and_fit pid=9376)\u001b[0m \t New mixture's weights 5: tensor([0.3125, 0.0362, 0.6513])\n",
      "\u001b[2m\u001b[36m(launch_and_fit pid=9376)\u001b[0m \t New mixture's weights 4: tensor([0.2869, 0.2421, 0.4711])\n",
      "\u001b[2m\u001b[36m(launch_and_fit pid=9375)\u001b[0m \t New mixture's weights 3: tensor([0.0201, 0.0016, 0.9783])\n",
      "\u001b[2m\u001b[36m(launch_and_fit pid=9375)\u001b[0m \t New mixture's weights 14: tensor([0.2899, 0.0449, 0.6652])\n",
      "\u001b[2m\u001b[36m(launch_and_fit pid=9376)\u001b[0m \t New mixture's weights 8: tensor([0.1021, 0.6005, 0.2975])\n",
      "\u001b[2m\u001b[36m(launch_and_fit pid=9375)\u001b[0m \t New mixture's weights 17: tensor([0.3912, 0.3357, 0.2731])\n",
      "\u001b[2m\u001b[36m(launch_and_fit pid=9376)\u001b[0m \t New mixture's weights 1: tensor([0.1706, 0.7124, 0.1169])\n",
      "\u001b[2m\u001b[36m(launch_and_fit pid=9375)\u001b[0m \t New mixture's weights 16: tensor([0.5280, 0.1462, 0.3258])\n",
      "\u001b[2m\u001b[36m(launch_and_fit pid=9376)\u001b[0m \t New mixture's weights 0: tensor([0.4347, 0.0298, 0.5355])\n",
      "\u001b[2m\u001b[36m(launch_and_fit pid=9375)\u001b[0m \t New mixture's weights 7: tensor([0.2015, 0.1562, 0.6423])\n",
      "\u001b[2m\u001b[36m(launch_and_fit pid=9376)\u001b[0m \t New mixture's weights 10: tensor([0.2782, 0.4710, 0.2508])\n"
     ]
    },
    {
     "name": "stderr",
     "output_type": "stream",
     "text": [
      "DEBUG flwr 2023-06-10 13:40:35,280 | server.py:232 | fit_round 7 received 20 results and 0 failures\n",
      "DEBUG:flwr:fit_round 7 received 20 results and 0 failures\n",
      "DEBUG flwr 2023-06-10 13:40:35,309 | server.py:168 | evaluate_round 7: strategy sampled 20 clients (out of 20)\n",
      "DEBUG:flwr:evaluate_round 7: strategy sampled 20 clients (out of 20)\n",
      "DEBUG flwr 2023-06-10 13:41:15,366 | server.py:182 | evaluate_round 7 received 20 results and 0 failures\n",
      "DEBUG:flwr:evaluate_round 7 received 20 results and 0 failures\n",
      "DEBUG flwr 2023-06-10 13:41:15,375 | server.py:218 | fit_round 8: strategy sampled 20 clients (out of 20)\n",
      "DEBUG:flwr:fit_round 8: strategy sampled 20 clients (out of 20)\n"
     ]
    },
    {
     "name": "stdout",
     "output_type": "stream",
     "text": [
      "\u001b[2m\u001b[36m(launch_and_fit pid=9376)\u001b[0m \t New mixture's weights 14: tensor([0.2867, 0.0417, 0.6716])\n",
      "\u001b[2m\u001b[36m(launch_and_fit pid=9375)\u001b[0m \t New mixture's weights 17: tensor([0.3827, 0.3629, 0.2544])\n",
      "\u001b[2m\u001b[36m(launch_and_fit pid=9376)\u001b[0m \t New mixture's weights 2: tensor([0.0348, 0.0259, 0.9394])\n",
      "\u001b[2m\u001b[36m(launch_and_fit pid=9375)\u001b[0m \t New mixture's weights 0: tensor([0.3942, 0.0226, 0.5832])\n",
      "\u001b[2m\u001b[36m(launch_and_fit pid=9375)\u001b[0m \t New mixture's weights 16: tensor([0.5511, 0.1326, 0.3163])\u001b[32m [repeated 2x across cluster]\u001b[0m\n",
      "\u001b[2m\u001b[36m(launch_and_fit pid=9376)\u001b[0m \t New mixture's weights 13: tensor([0.0761, 0.3861, 0.5378])\n",
      "\u001b[2m\u001b[36m(launch_and_fit pid=9375)\u001b[0m \t New mixture's weights 1: tensor([0.1622, 0.7298, 0.1081])\n",
      "\u001b[2m\u001b[36m(launch_and_fit pid=9376)\u001b[0m \t New mixture's weights 12: tensor([0.0061, 0.8102, 0.1837])\n",
      "\u001b[2m\u001b[36m(launch_and_fit pid=9375)\u001b[0m \t New mixture's weights 15: tensor([0.2643, 0.4732, 0.2626])\n",
      "\u001b[2m\u001b[36m(launch_and_fit pid=9375)\u001b[0m \t New mixture's weights 11: tensor([0.2062, 0.5056, 0.2882])\u001b[32m [repeated 2x across cluster]\u001b[0m\n",
      "\u001b[2m\u001b[36m(launch_and_fit pid=9376)\u001b[0m \t New mixture's weights 10: tensor([0.2618, 0.5139, 0.2243])\n",
      "\u001b[2m\u001b[36m(launch_and_fit pid=9375)\u001b[0m \t New mixture's weights 8: tensor([0.0908, 0.6397, 0.2695])\n",
      "\u001b[2m\u001b[36m(launch_and_fit pid=9375)\u001b[0m \t New mixture's weights 18: tensor([0.2674, 0.6097, 0.1229])\u001b[32m [repeated 2x across cluster]\u001b[0m\n",
      "\u001b[2m\u001b[36m(launch_and_fit pid=9375)\u001b[0m \t New mixture's weights 6: tensor([0.3098, 0.5776, 0.1126])\u001b[32m [repeated 2x across cluster]\u001b[0m\n"
     ]
    },
    {
     "name": "stderr",
     "output_type": "stream",
     "text": [
      "DEBUG flwr 2023-06-10 13:42:55,184 | server.py:232 | fit_round 8 received 20 results and 0 failures\n",
      "DEBUG:flwr:fit_round 8 received 20 results and 0 failures\n",
      "DEBUG flwr 2023-06-10 13:42:55,221 | server.py:168 | evaluate_round 8: strategy sampled 20 clients (out of 20)\n",
      "DEBUG:flwr:evaluate_round 8: strategy sampled 20 clients (out of 20)\n",
      "DEBUG flwr 2023-06-10 13:43:38,728 | server.py:182 | evaluate_round 8 received 20 results and 0 failures\n",
      "DEBUG:flwr:evaluate_round 8 received 20 results and 0 failures\n",
      "DEBUG flwr 2023-06-10 13:43:38,732 | server.py:218 | fit_round 9: strategy sampled 20 clients (out of 20)\n",
      "DEBUG:flwr:fit_round 9: strategy sampled 20 clients (out of 20)\n"
     ]
    },
    {
     "name": "stdout",
     "output_type": "stream",
     "text": [
      "\u001b[2m\u001b[36m(launch_and_fit pid=9375)\u001b[0m \t New mixture's weights 19: tensor([0.2216, 0.3780, 0.4004])\u001b[32m [repeated 3x across cluster]\u001b[0m\n",
      "\u001b[2m\u001b[36m(launch_and_fit pid=9376)\u001b[0m \t New mixture's weights 16: tensor([0.5777, 0.1185, 0.3037])\u001b[32m [repeated 2x across cluster]\u001b[0m\n",
      "\u001b[2m\u001b[36m(launch_and_fit pid=9376)\u001b[0m \t New mixture's weights 18: tensor([0.2490, 0.6437, 0.1072])\u001b[32m [repeated 2x across cluster]\u001b[0m\n",
      "\u001b[2m\u001b[36m(launch_and_fit pid=9376)\u001b[0m \t New mixture's weights 17: tensor([0.3715, 0.3938, 0.2346])\u001b[32m [repeated 2x across cluster]\u001b[0m\n",
      "\u001b[2m\u001b[36m(launch_and_fit pid=9376)\u001b[0m \t New mixture's weights 13: tensor([0.0722, 0.3847, 0.5431])\u001b[32m [repeated 2x across cluster]\u001b[0m\n",
      "\u001b[2m\u001b[36m(launch_and_fit pid=9376)\u001b[0m \t New mixture's weights 5: tensor([0.2677, 0.0236, 0.7087])\u001b[32m [repeated 2x across cluster]\u001b[0m\n",
      "\u001b[2m\u001b[36m(launch_and_fit pid=9376)\u001b[0m \t New mixture's weights 0: tensor([0.3596, 0.0164, 0.6240])\u001b[32m [repeated 2x across cluster]\u001b[0m\n",
      "\u001b[2m\u001b[36m(launch_and_fit pid=9376)\u001b[0m \t New mixture's weights 6: tensor([0.2982, 0.5982, 0.1036])\u001b[32m [repeated 2x across cluster]\u001b[0m\n",
      "\u001b[2m\u001b[36m(launch_and_fit pid=9376)\u001b[0m \t New mixture's weights 8: tensor([0.0788, 0.6808, 0.2404])\u001b[32m [repeated 4x across cluster]\u001b[0m\n"
     ]
    },
    {
     "name": "stderr",
     "output_type": "stream",
     "text": [
      "DEBUG flwr 2023-06-10 13:45:08,966 | server.py:232 | fit_round 9 received 20 results and 0 failures\n",
      "DEBUG:flwr:fit_round 9 received 20 results and 0 failures\n",
      "DEBUG flwr 2023-06-10 13:45:08,994 | server.py:168 | evaluate_round 9: strategy sampled 20 clients (out of 20)\n",
      "DEBUG:flwr:evaluate_round 9: strategy sampled 20 clients (out of 20)\n",
      "DEBUG flwr 2023-06-10 13:45:47,157 | server.py:182 | evaluate_round 9 received 20 results and 0 failures\n",
      "DEBUG:flwr:evaluate_round 9 received 20 results and 0 failures\n",
      "DEBUG flwr 2023-06-10 13:45:47,164 | server.py:218 | fit_round 10: strategy sampled 20 clients (out of 20)\n",
      "DEBUG:flwr:fit_round 10: strategy sampled 20 clients (out of 20)\n"
     ]
    },
    {
     "name": "stdout",
     "output_type": "stream",
     "text": [
      "\u001b[2m\u001b[36m(launch_and_fit pid=9375)\u001b[0m \t New mixture's weights 16: tensor([0.6037, 0.1091, 0.2872])\u001b[32m [repeated 2x across cluster]\u001b[0m\n",
      "\u001b[2m\u001b[36m(launch_and_fit pid=9375)\u001b[0m \t New mixture's weights 18: tensor([0.2270, 0.6816, 0.0914])\u001b[32m [repeated 2x across cluster]\u001b[0m\n",
      "\u001b[2m\u001b[36m(launch_and_fit pid=9376)\u001b[0m \t New mixture's weights 5: tensor([0.2482, 0.0185, 0.7333])\u001b[32m [repeated 2x across cluster]\u001b[0m\n",
      "\u001b[2m\u001b[36m(launch_and_fit pid=9376)\u001b[0m \t New mixture's weights 11: tensor([0.2001, 0.5569, 0.2430])\u001b[32m [repeated 2x across cluster]\u001b[0m\n",
      "\u001b[2m\u001b[36m(launch_and_fit pid=9376)\u001b[0m \t New mixture's weights 9: tensor([0.0406, 0.0396, 0.9198])\u001b[32m [repeated 2x across cluster]\u001b[0m\n",
      "\u001b[2m\u001b[36m(launch_and_fit pid=9376)\u001b[0m \t New mixture's weights 10: tensor([0.2324, 0.5829, 0.1847])\u001b[32m [repeated 2x across cluster]\u001b[0m\n",
      "\u001b[2m\u001b[36m(launch_and_fit pid=9376)\u001b[0m \t New mixture's weights 1: tensor([0.1524, 0.7497, 0.0980])\u001b[32m [repeated 2x across cluster]\u001b[0m\n",
      "\u001b[2m\u001b[36m(launch_and_fit pid=9376)\u001b[0m \t New mixture's weights 2: tensor([0.0255, 0.0138, 0.9607])\u001b[32m [repeated 2x across cluster]\u001b[0m\n",
      "\u001b[2m\u001b[36m(launch_and_fit pid=9376)\u001b[0m \t New mixture's weights 12: tensor([0.0041, 0.8638, 0.1321])\u001b[32m [repeated 2x across cluster]\u001b[0m\n",
      "\u001b[2m\u001b[36m(launch_and_fit pid=9375)\u001b[0m \t New mixture's weights 17: tensor([0.3755, 0.3923, 0.2322])\u001b[32m [repeated 3x across cluster]\u001b[0m\n"
     ]
    },
    {
     "name": "stderr",
     "output_type": "stream",
     "text": [
      "DEBUG flwr 2023-06-10 13:47:22,236 | server.py:232 | fit_round 10 received 20 results and 0 failures\n",
      "DEBUG:flwr:fit_round 10 received 20 results and 0 failures\n",
      "DEBUG flwr 2023-06-10 13:47:22,279 | server.py:168 | evaluate_round 10: strategy sampled 20 clients (out of 20)\n",
      "DEBUG:flwr:evaluate_round 10: strategy sampled 20 clients (out of 20)\n",
      "DEBUG flwr 2023-06-10 13:48:01,246 | server.py:182 | evaluate_round 10 received 20 results and 0 failures\n",
      "DEBUG:flwr:evaluate_round 10 received 20 results and 0 failures\n",
      "DEBUG flwr 2023-06-10 13:48:01,253 | server.py:218 | fit_round 11: strategy sampled 20 clients (out of 20)\n",
      "DEBUG:flwr:fit_round 11: strategy sampled 20 clients (out of 20)\n"
     ]
    },
    {
     "name": "stdout",
     "output_type": "stream",
     "text": [
      "\u001b[2m\u001b[36m(launch_and_fit pid=9376)\u001b[0m \t New mixture's weights 2: tensor([0.0218, 0.0092, 0.9690])\n",
      "\u001b[2m\u001b[36m(launch_and_fit pid=9375)\u001b[0m \t New mixture's weights 16: tensor([0.6330, 0.0974, 0.2696])\n",
      "\u001b[2m\u001b[36m(launch_and_fit pid=9376)\u001b[0m \t New mixture's weights 4: tensor([0.2868, 0.2093, 0.5039])\n",
      "\u001b[2m\u001b[36m(launch_and_fit pid=9375)\u001b[0m \t New mixture's weights 13: tensor([0.0636, 0.3831, 0.5534])\n",
      "\u001b[2m\u001b[36m(launch_and_fit pid=9376)\u001b[0m \t New mixture's weights 6: tensor([0.2759, 0.6338, 0.0903])\n",
      "\u001b[2m\u001b[36m(launch_and_fit pid=9375)\u001b[0m \t New mixture's weights 12: tensor([0.0033, 0.8853, 0.1114])\n",
      "\u001b[2m\u001b[36m(launch_and_fit pid=9376)\u001b[0m \t New mixture's weights 10: tensor([0.2125, 0.6262, 0.1613])\n",
      "\u001b[2m\u001b[36m(launch_and_fit pid=9375)\u001b[0m \t New mixture's weights 1: tensor([0.1440, 0.7658, 0.0902])\n",
      "\u001b[2m\u001b[36m(launch_and_fit pid=9376)\u001b[0m \t New mixture's weights 7: tensor([0.1666, 0.0891, 0.7443])\n",
      "\u001b[2m\u001b[36m(launch_and_fit pid=9375)\u001b[0m \t New mixture's weights 17: tensor([0.3652, 0.4195, 0.2153])\n",
      "\u001b[2m\u001b[36m(launch_and_fit pid=9376)\u001b[0m \t New mixture's weights 11: tensor([0.1950, 0.5847, 0.2202])\n",
      "\u001b[2m\u001b[36m(launch_and_fit pid=9375)\u001b[0m \t New mixture's weights 5: tensor([0.2299, 0.0136, 0.7564])\n",
      "\u001b[2m\u001b[36m(launch_and_fit pid=9376)\u001b[0m \t New mixture's weights 14: tensor([0.2756, 0.0343, 0.6901])\n",
      "\u001b[2m\u001b[36m(launch_and_fit pid=9375)\u001b[0m \t New mixture's weights 3: tensor([1.0933e-02, 5.0467e-04, 9.8856e-01])\n",
      "\u001b[2m\u001b[36m(launch_and_fit pid=9375)\u001b[0m \t New mixture's weights 8: tensor([0.0574, 0.7526, 0.1900])\u001b[32m [repeated 2x across cluster]\u001b[0m\n",
      "\u001b[2m\u001b[36m(launch_and_fit pid=9376)\u001b[0m \t New mixture's weights 19: tensor([0.2147, 0.3896, 0.3957])\n",
      "\u001b[2m\u001b[36m(launch_and_fit pid=9375)\u001b[0m \t New mixture's weights 15: tensor([0.2461, 0.4923, 0.2617])\n"
     ]
    },
    {
     "name": "stderr",
     "output_type": "stream",
     "text": [
      "DEBUG flwr 2023-06-10 13:49:31,516 | server.py:232 | fit_round 11 received 20 results and 0 failures\n",
      "DEBUG:flwr:fit_round 11 received 20 results and 0 failures\n",
      "DEBUG flwr 2023-06-10 13:49:31,546 | server.py:168 | evaluate_round 11: strategy sampled 20 clients (out of 20)\n",
      "DEBUG:flwr:evaluate_round 11: strategy sampled 20 clients (out of 20)\n",
      "DEBUG flwr 2023-06-10 13:50:13,593 | server.py:182 | evaluate_round 11 received 20 results and 0 failures\n",
      "DEBUG:flwr:evaluate_round 11 received 20 results and 0 failures\n",
      "DEBUG flwr 2023-06-10 13:50:13,599 | server.py:218 | fit_round 12: strategy sampled 20 clients (out of 20)\n",
      "DEBUG:flwr:fit_round 12: strategy sampled 20 clients (out of 20)\n"
     ]
    },
    {
     "name": "stdout",
     "output_type": "stream",
     "text": [
      "\u001b[2m\u001b[36m(launch_and_fit pid=9375)\u001b[0m \t New mixture's weights 13: tensor([0.0592, 0.3864, 0.5544])\u001b[32m [repeated 3x across cluster]\u001b[0m\n",
      "\u001b[2m\u001b[36m(launch_and_fit pid=9375)\u001b[0m \t New mixture's weights 3: tensor([9.3847e-03, 3.5668e-04, 9.9026e-01])\u001b[32m [repeated 2x across cluster]\u001b[0m\n",
      "\u001b[2m\u001b[36m(launch_and_fit pid=9375)\u001b[0m \t New mixture's weights 16: tensor([0.6655, 0.0851, 0.2493])\u001b[32m [repeated 2x across cluster]\u001b[0m\n",
      "\u001b[2m\u001b[36m(launch_and_fit pid=9375)\u001b[0m \t New mixture's weights 7: tensor([0.1576, 0.0768, 0.7656])\u001b[32m [repeated 2x across cluster]\u001b[0m\n",
      "\u001b[2m\u001b[36m(launch_and_fit pid=9375)\u001b[0m \t New mixture's weights 5: tensor([0.2127, 0.0100, 0.7773])\u001b[32m [repeated 2x across cluster]\u001b[0m\n",
      "\u001b[2m\u001b[36m(launch_and_fit pid=9375)\u001b[0m \t New mixture's weights 14: tensor([0.2720, 0.0326, 0.6954])\u001b[32m [repeated 2x across cluster]\u001b[0m\n",
      "\u001b[2m\u001b[36m(launch_and_fit pid=9375)\u001b[0m \t New mixture's weights 12: tensor([0.0026, 0.9022, 0.0952])\u001b[32m [repeated 2x across cluster]\u001b[0m\n",
      "\u001b[2m\u001b[36m(launch_and_fit pid=9375)\u001b[0m \t New mixture's weights 0: tensor([0.2687, 0.0050, 0.7264])\u001b[32m [repeated 2x across cluster]\u001b[0m\n",
      "\u001b[2m\u001b[36m(launch_and_fit pid=9375)\u001b[0m \t New mixture's weights 18: tensor([0.1836, 0.7521, 0.0643])\u001b[32m [repeated 4x across cluster]\u001b[0m\n"
     ]
    },
    {
     "name": "stderr",
     "output_type": "stream",
     "text": [
      "DEBUG flwr 2023-06-10 13:51:45,344 | server.py:232 | fit_round 12 received 20 results and 0 failures\n",
      "DEBUG:flwr:fit_round 12 received 20 results and 0 failures\n",
      "DEBUG flwr 2023-06-10 13:51:45,373 | server.py:168 | evaluate_round 12: strategy sampled 20 clients (out of 20)\n",
      "DEBUG:flwr:evaluate_round 12: strategy sampled 20 clients (out of 20)\n",
      "DEBUG flwr 2023-06-10 13:52:27,916 | server.py:182 | evaluate_round 12 received 20 results and 0 failures\n",
      "DEBUG:flwr:evaluate_round 12 received 20 results and 0 failures\n",
      "DEBUG flwr 2023-06-10 13:52:27,924 | server.py:218 | fit_round 13: strategy sampled 20 clients (out of 20)\n",
      "DEBUG:flwr:fit_round 13: strategy sampled 20 clients (out of 20)\n"
     ]
    },
    {
     "name": "stdout",
     "output_type": "stream",
     "text": [
      "\u001b[2m\u001b[36m(launch_and_fit pid=9375)\u001b[0m \t New mixture's weights 9: tensor([0.0296, 0.0233, 0.9471])\u001b[32m [repeated 2x across cluster]\u001b[0m\n",
      "\u001b[2m\u001b[36m(launch_and_fit pid=9375)\u001b[0m \t New mixture's weights 0: tensor([0.2412, 0.0031, 0.7558])\u001b[32m [repeated 2x across cluster]\u001b[0m\n",
      "\u001b[2m\u001b[36m(launch_and_fit pid=9376)\u001b[0m \t New mixture's weights 6: tensor([0.2489, 0.6757, 0.0755])\n",
      "\u001b[2m\u001b[36m(launch_and_fit pid=9375)\u001b[0m \t New mixture's weights 8: tensor([0.0390, 0.8167, 0.1443])\n",
      "\u001b[2m\u001b[36m(launch_and_fit pid=9375)\u001b[0m \t New mixture's weights 10: tensor([0.1784, 0.6980, 0.1236])\u001b[32m [repeated 2x across cluster]\u001b[0m\n",
      "\u001b[2m\u001b[36m(launch_and_fit pid=9376)\u001b[0m \t New mixture's weights 12: tensor([0.0021, 0.9151, 0.0828])\n",
      "\u001b[2m\u001b[36m(launch_and_fit pid=9375)\u001b[0m \t New mixture's weights 1: tensor([0.1331, 0.7879, 0.0790])\n",
      "\u001b[2m\u001b[36m(launch_and_fit pid=9375)\u001b[0m \t New mixture's weights 7: tensor([0.1485, 0.0664, 0.7851])\u001b[32m [repeated 2x across cluster]\u001b[0m\n",
      "\u001b[2m\u001b[36m(launch_and_fit pid=9376)\u001b[0m \t New mixture's weights 4: tensor([0.2951, 0.1909, 0.5140])\n",
      "\u001b[2m\u001b[36m(launch_and_fit pid=9375)\u001b[0m \t New mixture's weights 14: tensor([0.2691, 0.0316, 0.6994])\n",
      "\u001b[2m\u001b[36m(launch_and_fit pid=9375)\u001b[0m \t New mixture's weights 3: tensor([8.0354e-03, 2.5002e-04, 9.9171e-01])\u001b[32m [repeated 2x across cluster]\u001b[0m\n",
      "\u001b[2m\u001b[36m(launch_and_fit pid=9376)\u001b[0m \t New mixture's weights 5: tensor([0.1965, 0.0072, 0.7963])\n",
      "\u001b[2m\u001b[36m(launch_and_fit pid=9375)\u001b[0m \t New mixture's weights 2: tensor([0.0159, 0.0040, 0.9801])\n",
      "\u001b[2m\u001b[36m(launch_and_fit pid=9376)\u001b[0m \t New mixture's weights 19: tensor([0.2081, 0.4071, 0.3848])\u001b[32m [repeated 3x across cluster]\u001b[0m\n"
     ]
    },
    {
     "name": "stderr",
     "output_type": "stream",
     "text": [
      "DEBUG flwr 2023-06-10 13:54:01,464 | server.py:232 | fit_round 13 received 20 results and 0 failures\n",
      "DEBUG:flwr:fit_round 13 received 20 results and 0 failures\n",
      "DEBUG flwr 2023-06-10 13:54:01,504 | server.py:168 | evaluate_round 13: strategy sampled 20 clients (out of 20)\n",
      "DEBUG:flwr:evaluate_round 13: strategy sampled 20 clients (out of 20)\n",
      "DEBUG flwr 2023-06-10 13:54:41,163 | server.py:182 | evaluate_round 13 received 20 results and 0 failures\n",
      "DEBUG:flwr:evaluate_round 13 received 20 results and 0 failures\n",
      "DEBUG flwr 2023-06-10 13:54:41,171 | server.py:218 | fit_round 14: strategy sampled 20 clients (out of 20)\n",
      "DEBUG:flwr:fit_round 14: strategy sampled 20 clients (out of 20)\n"
     ]
    },
    {
     "name": "stdout",
     "output_type": "stream",
     "text": [
      "\u001b[2m\u001b[36m(launch_and_fit pid=9376)\u001b[0m \t New mixture's weights 3: tensor([6.8804e-03, 1.6932e-04, 9.9295e-01])\n",
      "\u001b[2m\u001b[36m(launch_and_fit pid=9375)\u001b[0m \t New mixture's weights 13: tensor([0.0510, 0.3966, 0.5525])\n",
      "\u001b[2m\u001b[36m(launch_and_fit pid=9376)\u001b[0m \t New mixture's weights 16: tensor([0.7307, 0.0650, 0.2043])\n",
      "\u001b[2m\u001b[36m(launch_and_fit pid=9375)\u001b[0m \t New mixture's weights 18: tensor([0.1418, 0.8158, 0.0424])\n",
      "\u001b[2m\u001b[36m(launch_and_fit pid=9376)\u001b[0m \t New mixture's weights 8: tensor([0.0323, 0.8413, 0.1264])\n",
      "\u001b[2m\u001b[36m(launch_and_fit pid=9375)\u001b[0m \t New mixture's weights 0: tensor([0.2150, 0.0018, 0.7832])\n",
      "\u001b[2m\u001b[36m(launch_and_fit pid=9376)\u001b[0m \t New mixture's weights 14: tensor([0.2677, 0.0308, 0.7014])\n",
      "\u001b[2m\u001b[36m(launch_and_fit pid=9375)\u001b[0m \t New mixture's weights 9: tensor([0.0269, 0.0198, 0.9533])\n",
      "\u001b[2m\u001b[36m(launch_and_fit pid=9376)\u001b[0m \t New mixture's weights 2: tensor([0.0136, 0.0025, 0.9839])\n",
      "\u001b[2m\u001b[36m(launch_and_fit pid=9375)\u001b[0m \t New mixture's weights 19: tensor([0.2062, 0.4142, 0.3796])\n",
      "\u001b[2m\u001b[36m(launch_and_fit pid=9376)\u001b[0m \t New mixture's weights 15: tensor([0.2418, 0.5012, 0.2571])\n",
      "\u001b[2m\u001b[36m(launch_and_fit pid=9375)\u001b[0m \t New mixture's weights 11: tensor([0.1852, 0.6524, 0.1624])\n",
      "\u001b[2m\u001b[36m(launch_and_fit pid=9376)\u001b[0m \t New mixture's weights 17: tensor([0.3532, 0.4697, 0.1771])\n",
      "\u001b[2m\u001b[36m(launch_and_fit pid=9375)\u001b[0m \t New mixture's weights 1: tensor([0.1289, 0.7968, 0.0743])\n",
      "\u001b[2m\u001b[36m(launch_and_fit pid=9376)\u001b[0m \t New mixture's weights 6: tensor([0.2354, 0.6959, 0.0687])\n",
      "\u001b[2m\u001b[36m(launch_and_fit pid=9375)\u001b[0m \t New mixture's weights 10: tensor([0.1635, 0.7288, 0.1077])\n",
      "\u001b[2m\u001b[36m(launch_and_fit pid=9376)\u001b[0m \t New mixture's weights 12: tensor([0.0017, 0.9250, 0.0734])\n",
      "\u001b[2m\u001b[36m(launch_and_fit pid=9375)\u001b[0m \t New mixture's weights 5: tensor([0.1808, 0.0050, 0.8142])\n",
      "\u001b[2m\u001b[36m(launch_and_fit pid=9375)\u001b[0m \t New mixture's weights 7: tensor([0.1405, 0.0557, 0.8037])\u001b[32m [repeated 2x across cluster]\u001b[0m\n"
     ]
    },
    {
     "name": "stderr",
     "output_type": "stream",
     "text": [
      "DEBUG flwr 2023-06-10 13:56:11,524 | server.py:232 | fit_round 14 received 20 results and 0 failures\n",
      "DEBUG:flwr:fit_round 14 received 20 results and 0 failures\n",
      "DEBUG flwr 2023-06-10 13:56:11,552 | server.py:168 | evaluate_round 14: strategy sampled 20 clients (out of 20)\n",
      "DEBUG:flwr:evaluate_round 14: strategy sampled 20 clients (out of 20)\n",
      "DEBUG flwr 2023-06-10 13:56:51,489 | server.py:182 | evaluate_round 14 received 20 results and 0 failures\n",
      "DEBUG:flwr:evaluate_round 14 received 20 results and 0 failures\n",
      "DEBUG flwr 2023-06-10 13:56:51,498 | server.py:218 | fit_round 15: strategy sampled 20 clients (out of 20)\n",
      "DEBUG:flwr:fit_round 15: strategy sampled 20 clients (out of 20)\n"
     ]
    },
    {
     "name": "stdout",
     "output_type": "stream",
     "text": [
      "\u001b[2m\u001b[36m(launch_and_fit pid=9376)\u001b[0m \t New mixture's weights 17: tensor([0.3439, 0.4968, 0.1594])\n",
      "\u001b[2m\u001b[36m(launch_and_fit pid=9375)\u001b[0m \t New mixture's weights 13: tensor([0.0477, 0.4034, 0.5489])\n",
      "\u001b[2m\u001b[36m(launch_and_fit pid=9376)\u001b[0m \t New mixture's weights 12: tensor([0.0013, 0.9311, 0.0675])\n",
      "\u001b[2m\u001b[36m(launch_and_fit pid=9375)\u001b[0m \t New mixture's weights 0: tensor([0.1908, 0.0010, 0.8081])\n",
      "\u001b[2m\u001b[36m(launch_and_fit pid=9375)\u001b[0m \t New mixture's weights 8: tensor([0.0269, 0.8625, 0.1105])\u001b[32m [repeated 2x across cluster]\u001b[0m\n",
      "\u001b[2m\u001b[36m(launch_and_fit pid=9375)\u001b[0m \t New mixture's weights 4: tensor([0.3126, 0.1658, 0.5216])\u001b[32m [repeated 2x across cluster]\u001b[0m\n",
      "\u001b[2m\u001b[36m(launch_and_fit pid=9375)\u001b[0m \t New mixture's weights 10: tensor([0.1468, 0.7633, 0.0899])\u001b[32m [repeated 2x across cluster]\u001b[0m\n",
      "\u001b[2m\u001b[36m(launch_and_fit pid=9375)\u001b[0m \t New mixture's weights 3: tensor([5.9259e-03, 1.1292e-04, 9.9396e-01])\u001b[32m [repeated 2x across cluster]\u001b[0m\n",
      "\u001b[2m\u001b[36m(launch_and_fit pid=9375)\u001b[0m \t New mixture's weights 14: tensor([0.2682, 0.0304, 0.7014])\u001b[32m [repeated 2x across cluster]\u001b[0m\n",
      "\u001b[2m\u001b[36m(launch_and_fit pid=9375)\u001b[0m \t New mixture's weights 19: tensor([0.2046, 0.4272, 0.3682])\u001b[32m [repeated 2x across cluster]\u001b[0m\n",
      "\u001b[2m\u001b[36m(launch_and_fit pid=9375)\u001b[0m \t New mixture's weights 2: tensor([0.0115, 0.0015, 0.9870])\u001b[32m [repeated 2x across cluster]\u001b[0m\n",
      "\u001b[2m\u001b[36m(launch_and_fit pid=9375)\u001b[0m \t New mixture's weights 1: tensor([0.1242, 0.8079, 0.0679])\u001b[32m [repeated 2x across cluster]\u001b[0m\n"
     ]
    },
    {
     "name": "stderr",
     "output_type": "stream",
     "text": [
      "DEBUG flwr 2023-06-10 13:58:25,838 | server.py:232 | fit_round 15 received 20 results and 0 failures\n",
      "DEBUG:flwr:fit_round 15 received 20 results and 0 failures\n",
      "DEBUG flwr 2023-06-10 13:58:25,866 | server.py:168 | evaluate_round 15: strategy sampled 20 clients (out of 20)\n",
      "DEBUG:flwr:evaluate_round 15: strategy sampled 20 clients (out of 20)\n",
      "DEBUG flwr 2023-06-10 13:59:07,230 | server.py:182 | evaluate_round 15 received 20 results and 0 failures\n",
      "DEBUG:flwr:evaluate_round 15 received 20 results and 0 failures\n",
      "DEBUG flwr 2023-06-10 13:59:07,237 | server.py:218 | fit_round 16: strategy sampled 20 clients (out of 20)\n",
      "DEBUG:flwr:fit_round 16: strategy sampled 20 clients (out of 20)\n"
     ]
    },
    {
     "name": "stdout",
     "output_type": "stream",
     "text": [
      "\u001b[2m\u001b[36m(launch_and_fit pid=9375)\u001b[0m \t New mixture's weights 16: tensor([0.7932, 0.0471, 0.1597])\n",
      "\u001b[2m\u001b[36m(launch_and_fit pid=9376)\u001b[0m \t New mixture's weights 1: tensor([0.1218, 0.8125, 0.0657])\n",
      "\u001b[2m\u001b[36m(launch_and_fit pid=9376)\u001b[0m \t New mixture's weights 3: tensor([5.1467e-03, 7.7080e-05, 9.9478e-01])\n",
      "\u001b[2m\u001b[36m(launch_and_fit pid=9375)\u001b[0m \t New mixture's weights 0: tensor([1.6862e-01, 5.7873e-04, 8.3080e-01])\n",
      "\u001b[2m\u001b[36m(launch_and_fit pid=9376)\u001b[0m \t New mixture's weights 7: tensor([0.1295, 0.0399, 0.8306])\n",
      "\u001b[2m\u001b[36m(launch_and_fit pid=9375)\u001b[0m \t New mixture's weights 12: tensor([0.0011, 0.9349, 0.0640])\n",
      "\u001b[2m\u001b[36m(launch_and_fit pid=9376)\u001b[0m \t New mixture's weights 8: tensor([0.0225, 0.8794, 0.0981])\n",
      "\u001b[2m\u001b[36m(launch_and_fit pid=9375)\u001b[0m \t New mixture's weights 14: tensor([0.2712, 0.0310, 0.6978])\n",
      "\u001b[2m\u001b[36m(launch_and_fit pid=9376)\u001b[0m \t New mixture's weights 6: tensor([0.2083, 0.7361, 0.0556])\n",
      "\u001b[2m\u001b[36m(launch_and_fit pid=9375)\u001b[0m \t New mixture's weights 17: tensor([0.3443, 0.5035, 0.1522])\n",
      "\u001b[2m\u001b[36m(launch_and_fit pid=9376)\u001b[0m \t New mixture's weights 13: tensor([0.0443, 0.4144, 0.5413])\n",
      "\u001b[2m\u001b[36m(launch_and_fit pid=9375)\u001b[0m \t New mixture's weights 10: tensor([0.1371, 0.7824, 0.0806])\n",
      "\u001b[2m\u001b[36m(launch_and_fit pid=9376)\u001b[0m \t New mixture's weights 11: tensor([0.1824, 0.6830, 0.1345])\n",
      "\u001b[2m\u001b[36m(launch_and_fit pid=9375)\u001b[0m \t New mixture's weights 15: tensor([0.2483, 0.5017, 0.2500])\n",
      "\u001b[2m\u001b[36m(launch_and_fit pid=9376)\u001b[0m \t New mixture's weights 5: tensor([0.1526, 0.0023, 0.8451])\n",
      "\u001b[2m\u001b[36m(launch_and_fit pid=9375)\u001b[0m \t New mixture's weights 9: tensor([0.0230, 0.0152, 0.9618])\n",
      "\u001b[2m\u001b[36m(launch_and_fit pid=9376)\u001b[0m \t New mixture's weights 4: tensor([0.3256, 0.1507, 0.5237])\n",
      "\u001b[2m\u001b[36m(launch_and_fit pid=9375)\u001b[0m \t New mixture's weights 2: tensor([9.7536e-03, 9.1080e-04, 9.8934e-01])\n",
      "\u001b[2m\u001b[36m(launch_and_fit pid=9375)\u001b[0m \t New mixture's weights 19: tensor([0.2044, 0.4293, 0.3663])\n",
      "\u001b[2m\u001b[36m(launch_and_fit pid=9376)\u001b[0m \t New mixture's weights 18: tensor([0.1091, 0.8636, 0.0274])\n"
     ]
    },
    {
     "name": "stderr",
     "output_type": "stream",
     "text": [
      "DEBUG flwr 2023-06-10 14:00:44,142 | server.py:232 | fit_round 16 received 20 results and 0 failures\n",
      "DEBUG:flwr:fit_round 16 received 20 results and 0 failures\n",
      "DEBUG flwr 2023-06-10 14:00:44,170 | server.py:168 | evaluate_round 16: strategy sampled 20 clients (out of 20)\n",
      "DEBUG:flwr:evaluate_round 16: strategy sampled 20 clients (out of 20)\n",
      "DEBUG flwr 2023-06-10 14:01:20,703 | server.py:182 | evaluate_round 16 received 20 results and 0 failures\n",
      "DEBUG:flwr:evaluate_round 16 received 20 results and 0 failures\n",
      "DEBUG flwr 2023-06-10 14:01:20,706 | server.py:218 | fit_round 17: strategy sampled 20 clients (out of 20)\n",
      "DEBUG:flwr:fit_round 17: strategy sampled 20 clients (out of 20)\n"
     ]
    },
    {
     "name": "stdout",
     "output_type": "stream",
     "text": [
      "\u001b[2m\u001b[36m(launch_and_fit pid=9376)\u001b[0m \t New mixture's weights 7: tensor([0.1245, 0.0330, 0.8425])\n",
      "\u001b[2m\u001b[36m(launch_and_fit pid=9375)\u001b[0m \t New mixture's weights 8: tensor([0.0191, 0.8928, 0.0880])\n",
      "\u001b[2m\u001b[36m(launch_and_fit pid=9375)\u001b[0m \t New mixture's weights 0: tensor([1.4790e-01, 3.1119e-04, 8.5179e-01])\u001b[32m [repeated 2x across cluster]\u001b[0m\n",
      "\u001b[2m\u001b[36m(launch_and_fit pid=9376)\u001b[0m \t New mixture's weights 4: tensor([0.3378, 0.1392, 0.5230])\n",
      "\u001b[2m\u001b[36m(launch_and_fit pid=9375)\u001b[0m \t New mixture's weights 17: tensor([0.3341, 0.5298, 0.1361])\n",
      "\u001b[2m\u001b[36m(launch_and_fit pid=9375)\u001b[0m \t New mixture's weights 18: tensor([0.0972, 0.8806, 0.0222])\u001b[32m [repeated 2x across cluster]\u001b[0m\n",
      "\u001b[2m\u001b[36m(launch_and_fit pid=9376)\u001b[0m \t New mixture's weights 2: tensor([8.0580e-03, 5.2204e-04, 9.9142e-01])\n",
      "\u001b[2m\u001b[36m(launch_and_fit pid=9375)\u001b[0m \t New mixture's weights 12: tensor([8.7717e-04, 9.3639e-01, 6.2728e-02])\n",
      "\u001b[2m\u001b[36m(launch_and_fit pid=9375)\u001b[0m \t New mixture's weights 11: tensor([0.1855, 0.6901, 0.1244])\u001b[32m [repeated 2x across cluster]\u001b[0m\n",
      "\u001b[2m\u001b[36m(launch_and_fit pid=9375)\u001b[0m \t New mixture's weights 9: tensor([0.0218, 0.0133, 0.9649])\u001b[32m [repeated 2x across cluster]\u001b[0m\n",
      "\u001b[2m\u001b[36m(launch_and_fit pid=9375)\u001b[0m \t New mixture's weights 15: tensor([0.2564, 0.4957, 0.2479])\u001b[32m [repeated 2x across cluster]\u001b[0m\n",
      "\u001b[2m\u001b[36m(launch_and_fit pid=9376)\u001b[0m \t New mixture's weights 16: tensor([0.8219, 0.0386, 0.1395])\u001b[32m [repeated 3x across cluster]\u001b[0m\n"
     ]
    },
    {
     "name": "stderr",
     "output_type": "stream",
     "text": [
      "DEBUG flwr 2023-06-10 14:02:59,747 | server.py:232 | fit_round 17 received 20 results and 0 failures\n",
      "DEBUG:flwr:fit_round 17 received 20 results and 0 failures\n",
      "DEBUG flwr 2023-06-10 14:02:59,790 | server.py:168 | evaluate_round 17: strategy sampled 20 clients (out of 20)\n",
      "DEBUG:flwr:evaluate_round 17: strategy sampled 20 clients (out of 20)\n",
      "DEBUG flwr 2023-06-10 14:03:37,286 | server.py:182 | evaluate_round 17 received 20 results and 0 failures\n",
      "DEBUG:flwr:evaluate_round 17 received 20 results and 0 failures\n",
      "DEBUG flwr 2023-06-10 14:03:37,291 | server.py:218 | fit_round 18: strategy sampled 20 clients (out of 20)\n",
      "DEBUG:flwr:fit_round 18: strategy sampled 20 clients (out of 20)\n"
     ]
    },
    {
     "name": "stdout",
     "output_type": "stream",
     "text": [
      "\u001b[2m\u001b[36m(launch_and_fit pid=9375)\u001b[0m \t New mixture's weights 8: tensor([0.0163, 0.9026, 0.0811])\u001b[32m [repeated 2x across cluster]\u001b[0m\n",
      "\u001b[2m\u001b[36m(launch_and_fit pid=9376)\u001b[0m \t New mixture's weights 17: tensor([0.3317, 0.5422, 0.1261])\n",
      "\u001b[2m\u001b[36m(launch_and_fit pid=9375)\u001b[0m \t New mixture's weights 12: tensor([7.0488e-04, 9.3646e-01, 6.2835e-02])\n",
      "\u001b[2m\u001b[36m(launch_and_fit pid=9375)\u001b[0m \t New mixture's weights 15: tensor([0.2628, 0.4948, 0.2424])\u001b[32m [repeated 2x across cluster]\u001b[0m\n",
      "\u001b[2m\u001b[36m(launch_and_fit pid=9376)\u001b[0m \t New mixture's weights 19: tensor([0.2042, 0.4457, 0.3501])\n",
      "\u001b[2m\u001b[36m(launch_and_fit pid=9375)\u001b[0m \t New mixture's weights 18: tensor([0.0847, 0.8976, 0.0177])\n",
      "\u001b[2m\u001b[36m(launch_and_fit pid=9375)\u001b[0m \t New mixture's weights 6: tensor([0.1847, 0.7712, 0.0441])\u001b[32m [repeated 2x across cluster]\u001b[0m\n",
      "\u001b[2m\u001b[36m(launch_and_fit pid=9375)\u001b[0m \t New mixture's weights 2: tensor([6.6048e-03, 3.0380e-04, 9.9309e-01])\u001b[32m [repeated 2x across cluster]\u001b[0m\n",
      "\u001b[2m\u001b[36m(launch_and_fit pid=9375)\u001b[0m \t New mixture's weights 5: tensor([0.1256, 0.0010, 0.8735])\u001b[32m [repeated 2x across cluster]\u001b[0m\n",
      "\u001b[2m\u001b[36m(launch_and_fit pid=9375)\u001b[0m \t New mixture's weights 16: tensor([0.8463, 0.0326, 0.1212])\u001b[32m [repeated 2x across cluster]\u001b[0m\n",
      "\u001b[2m\u001b[36m(launch_and_fit pid=9375)\u001b[0m \t New mixture's weights 0: tensor([1.2878e-01, 1.6987e-04, 8.7105e-01])\u001b[32m [repeated 2x across cluster]\u001b[0m\n",
      "\u001b[2m\u001b[36m(launch_and_fit pid=9375)\u001b[0m \t New mixture's weights 11: tensor([0.1830, 0.7024, 0.1146])\u001b[32m [repeated 2x across cluster]\u001b[0m\n"
     ]
    },
    {
     "name": "stderr",
     "output_type": "stream",
     "text": [
      "DEBUG flwr 2023-06-10 14:05:11,735 | server.py:232 | fit_round 18 received 20 results and 0 failures\n",
      "DEBUG:flwr:fit_round 18 received 20 results and 0 failures\n",
      "DEBUG flwr 2023-06-10 14:05:11,762 | server.py:168 | evaluate_round 18: strategy sampled 20 clients (out of 20)\n",
      "DEBUG:flwr:evaluate_round 18: strategy sampled 20 clients (out of 20)\n",
      "DEBUG flwr 2023-06-10 14:05:55,222 | server.py:182 | evaluate_round 18 received 20 results and 0 failures\n",
      "DEBUG:flwr:evaluate_round 18 received 20 results and 0 failures\n",
      "DEBUG flwr 2023-06-10 14:05:55,233 | server.py:218 | fit_round 19: strategy sampled 20 clients (out of 20)\n",
      "DEBUG:flwr:fit_round 19: strategy sampled 20 clients (out of 20)\n"
     ]
    },
    {
     "name": "stdout",
     "output_type": "stream",
     "text": [
      "\u001b[2m\u001b[36m(launch_and_fit pid=9376)\u001b[0m \t New mixture's weights 13: tensor([0.0369, 0.4453, 0.5178])\u001b[32m [repeated 2x across cluster]\u001b[0m\n",
      "\u001b[2m\u001b[36m(launch_and_fit pid=9376)\u001b[0m \t New mixture's weights 0: tensor([1.1119e-01, 9.1780e-05, 8.8872e-01])\u001b[32m [repeated 2x across cluster]\u001b[0m\n",
      "\u001b[2m\u001b[36m(launch_and_fit pid=9376)\u001b[0m \t New mixture's weights 14: tensor([0.2947, 0.0335, 0.6717])\u001b[32m [repeated 2x across cluster]\u001b[0m\n",
      "\u001b[2m\u001b[36m(launch_and_fit pid=9375)\u001b[0m \t New mixture's weights 11: tensor([0.1816, 0.7115, 0.1069])\u001b[32m [repeated 2x across cluster]\u001b[0m\n",
      "\u001b[2m\u001b[36m(launch_and_fit pid=9376)\u001b[0m \t New mixture's weights 2: tensor([5.3347e-03, 1.7737e-04, 9.9449e-01])\u001b[32m [repeated 2x across cluster]\u001b[0m\n",
      "\u001b[2m\u001b[36m(launch_and_fit pid=9375)\u001b[0m \t New mixture's weights 15: tensor([0.2696, 0.4940, 0.2364])\u001b[32m [repeated 2x across cluster]\u001b[0m\n",
      "\u001b[2m\u001b[36m(launch_and_fit pid=9375)\u001b[0m \t New mixture's weights 5: tensor([1.1281e-01, 6.5438e-04, 8.8654e-01])\u001b[32m [repeated 2x across cluster]\u001b[0m\n",
      "\u001b[2m\u001b[36m(launch_and_fit pid=9375)\u001b[0m \t New mixture's weights 6: tensor([0.1761, 0.7840, 0.0399])\u001b[32m [repeated 2x across cluster]\u001b[0m\n",
      "\u001b[2m\u001b[36m(launch_and_fit pid=9375)\u001b[0m \t New mixture's weights 7: tensor([0.1162, 0.0240, 0.8598])\u001b[32m [repeated 2x across cluster]\u001b[0m\n",
      "\u001b[2m\u001b[36m(launch_and_fit pid=9375)\u001b[0m \t New mixture's weights 17: tensor([0.3339, 0.5487, 0.1174])\u001b[32m [repeated 2x across cluster]\u001b[0m\n"
     ]
    },
    {
     "name": "stderr",
     "output_type": "stream",
     "text": [
      "DEBUG flwr 2023-06-10 14:07:26,413 | server.py:232 | fit_round 19 received 20 results and 0 failures\n",
      "DEBUG:flwr:fit_round 19 received 20 results and 0 failures\n",
      "DEBUG flwr 2023-06-10 14:07:26,445 | server.py:168 | evaluate_round 19: strategy sampled 20 clients (out of 20)\n",
      "DEBUG:flwr:evaluate_round 19: strategy sampled 20 clients (out of 20)\n",
      "DEBUG flwr 2023-06-10 14:08:09,548 | server.py:182 | evaluate_round 19 received 20 results and 0 failures\n",
      "DEBUG:flwr:evaluate_round 19 received 20 results and 0 failures\n",
      "DEBUG flwr 2023-06-10 14:08:09,554 | server.py:218 | fit_round 20: strategy sampled 20 clients (out of 20)\n",
      "DEBUG:flwr:fit_round 20: strategy sampled 20 clients (out of 20)\n"
     ]
    },
    {
     "name": "stdout",
     "output_type": "stream",
     "text": [
      "\u001b[2m\u001b[36m(launch_and_fit pid=9375)\u001b[0m \t New mixture's weights 0: tensor([9.5232e-02, 4.7770e-05, 9.0472e-01])\u001b[32m [repeated 2x across cluster]\u001b[0m\n",
      "\u001b[2m\u001b[36m(launch_and_fit pid=9376)\u001b[0m \t New mixture's weights 8: tensor([0.0120, 0.9167, 0.0712])\u001b[32m [repeated 2x across cluster]\u001b[0m\n",
      "\u001b[2m\u001b[36m(launch_and_fit pid=9375)\u001b[0m \t New mixture's weights 6: tensor([0.1670, 0.7981, 0.0350])\u001b[32m [repeated 2x across cluster]\u001b[0m\n",
      "\u001b[2m\u001b[36m(launch_and_fit pid=9375)\u001b[0m \t New mixture's weights 19: tensor([0.2071, 0.4583, 0.3346])\u001b[32m [repeated 2x across cluster]\u001b[0m\n",
      "\u001b[2m\u001b[36m(launch_and_fit pid=9376)\u001b[0m \t New mixture's weights 4: tensor([0.3857, 0.0990, 0.5153])\u001b[32m [repeated 2x across cluster]\u001b[0m\n",
      "\u001b[2m\u001b[36m(launch_and_fit pid=9376)\u001b[0m \t New mixture's weights 15: tensor([0.2820, 0.4843, 0.2337])\u001b[32m [repeated 2x across cluster]\u001b[0m\n",
      "\u001b[2m\u001b[36m(launch_and_fit pid=9376)\u001b[0m \t New mixture's weights 1: tensor([0.1143, 0.8347, 0.0510])\u001b[32m [repeated 2x across cluster]\u001b[0m\n",
      "\u001b[2m\u001b[36m(launch_and_fit pid=9376)\u001b[0m \t New mixture's weights 3: tensor([2.9858e-03, 1.5140e-05, 9.9700e-01])\u001b[32m [repeated 2x across cluster]\u001b[0m\n",
      "\u001b[2m\u001b[36m(launch_and_fit pid=9376)\u001b[0m \t New mixture's weights 18: tensor([0.0663, 0.9221, 0.0116])\u001b[32m [repeated 4x across cluster]\u001b[0m\n"
     ]
    },
    {
     "name": "stderr",
     "output_type": "stream",
     "text": [
      "DEBUG flwr 2023-06-10 14:09:42,550 | server.py:232 | fit_round 20 received 20 results and 0 failures\n",
      "DEBUG:flwr:fit_round 20 received 20 results and 0 failures\n",
      "DEBUG flwr 2023-06-10 14:09:42,578 | server.py:168 | evaluate_round 20: strategy sampled 20 clients (out of 20)\n",
      "DEBUG:flwr:evaluate_round 20: strategy sampled 20 clients (out of 20)\n",
      "DEBUG flwr 2023-06-10 14:10:21,373 | server.py:182 | evaluate_round 20 received 20 results and 0 failures\n",
      "DEBUG:flwr:evaluate_round 20 received 20 results and 0 failures\n",
      "INFO flwr 2023-06-10 14:10:21,377 | server.py:147 | FL finished in 2675.855693193\n",
      "INFO:flwr:FL finished in 2675.855693193\n",
      "INFO flwr 2023-06-10 14:10:21,386 | app.py:218 | app_fit: losses_distributed [(1, 1.7618371605873109), (2, 1.6953931212425233), (3, 1.6679325342178344), (4, 1.6529076874256134), (5, 1.6340206444263459), (6, 1.6278779208660126), (7, 1.6127753853797913), (8, 1.6023407638072968), (9, 1.6061894774436951), (10, 1.586661159992218), (11, 1.5815532982349396), (12, 1.57948779463768), (13, 1.5704070210456849), (14, 1.5628082692623138), (15, 1.5668953478336334), (16, 1.556664878129959), (17, 1.5591897130012513), (18, 1.5594407796859742), (19, 1.5496045231819153), (20, 1.5543353259563446)]\n",
      "INFO:flwr:app_fit: losses_distributed [(1, 1.7618371605873109), (2, 1.6953931212425233), (3, 1.6679325342178344), (4, 1.6529076874256134), (5, 1.6340206444263459), (6, 1.6278779208660126), (7, 1.6127753853797913), (8, 1.6023407638072968), (9, 1.6061894774436951), (10, 1.586661159992218), (11, 1.5815532982349396), (12, 1.57948779463768), (13, 1.5704070210456849), (14, 1.5628082692623138), (15, 1.5668953478336334), (16, 1.556664878129959), (17, 1.5591897130012513), (18, 1.5594407796859742), (19, 1.5496045231819153), (20, 1.5543353259563446)]\n",
      "INFO flwr 2023-06-10 14:10:21,401 | app.py:219 | app_fit: metrics_distributed_fit {'train_loss': [(1, tensor(0.831)), (2, tensor(0.718)), (3, tensor(0.700)), (4, tensor(0.695)), (5, tensor(0.694)), (6, tensor(0.694)), (7, tensor(0.694)), (8, tensor(0.694)), (9, tensor(0.689)), (10, tensor(0.690)), (11, tensor(0.687)), (12, tensor(0.683)), (13, tensor(0.681)), (14, tensor(0.679)), (15, tensor(0.674)), (16, tensor(0.671)), (17, tensor(0.666)), (18, tensor(0.661)), (19, tensor(0.657)), (20, tensor(0.651))], 'models': [(1, [Net(\n",
      "  (fc): Linear(in_features=3072, out_features=10, bias=True)\n",
      "), Net(\n",
      "  (fc): Linear(in_features=3072, out_features=10, bias=True)\n",
      "), Net(\n",
      "  (fc): Linear(in_features=3072, out_features=10, bias=True)\n",
      ")]), (2, [Net(\n",
      "  (fc): Linear(in_features=3072, out_features=10, bias=True)\n",
      "), Net(\n",
      "  (fc): Linear(in_features=3072, out_features=10, bias=True)\n",
      "), Net(\n",
      "  (fc): Linear(in_features=3072, out_features=10, bias=True)\n",
      ")]), (3, [Net(\n",
      "  (fc): Linear(in_features=3072, out_features=10, bias=True)\n",
      "), Net(\n",
      "  (fc): Linear(in_features=3072, out_features=10, bias=True)\n",
      "), Net(\n",
      "  (fc): Linear(in_features=3072, out_features=10, bias=True)\n",
      ")]), (4, [Net(\n",
      "  (fc): Linear(in_features=3072, out_features=10, bias=True)\n",
      "), Net(\n",
      "  (fc): Linear(in_features=3072, out_features=10, bias=True)\n",
      "), Net(\n",
      "  (fc): Linear(in_features=3072, out_features=10, bias=True)\n",
      ")]), (5, [Net(\n",
      "  (fc): Linear(in_features=3072, out_features=10, bias=True)\n",
      "), Net(\n",
      "  (fc): Linear(in_features=3072, out_features=10, bias=True)\n",
      "), Net(\n",
      "  (fc): Linear(in_features=3072, out_features=10, bias=True)\n",
      ")]), (6, [Net(\n",
      "  (fc): Linear(in_features=3072, out_features=10, bias=True)\n",
      "), Net(\n",
      "  (fc): Linear(in_features=3072, out_features=10, bias=True)\n",
      "), Net(\n",
      "  (fc): Linear(in_features=3072, out_features=10, bias=True)\n",
      ")]), (7, [Net(\n",
      "  (fc): Linear(in_features=3072, out_features=10, bias=True)\n",
      "), Net(\n",
      "  (fc): Linear(in_features=3072, out_features=10, bias=True)\n",
      "), Net(\n",
      "  (fc): Linear(in_features=3072, out_features=10, bias=True)\n",
      ")]), (8, [Net(\n",
      "  (fc): Linear(in_features=3072, out_features=10, bias=True)\n",
      "), Net(\n",
      "  (fc): Linear(in_features=3072, out_features=10, bias=True)\n",
      "), Net(\n",
      "  (fc): Linear(in_features=3072, out_features=10, bias=True)\n",
      ")]), (9, [Net(\n",
      "  (fc): Linear(in_features=3072, out_features=10, bias=True)\n",
      "), Net(\n",
      "  (fc): Linear(in_features=3072, out_features=10, bias=True)\n",
      "), Net(\n",
      "  (fc): Linear(in_features=3072, out_features=10, bias=True)\n",
      ")]), (10, [Net(\n",
      "  (fc): Linear(in_features=3072, out_features=10, bias=True)\n",
      "), Net(\n",
      "  (fc): Linear(in_features=3072, out_features=10, bias=True)\n",
      "), Net(\n",
      "  (fc): Linear(in_features=3072, out_features=10, bias=True)\n",
      ")]), (11, [Net(\n",
      "  (fc): Linear(in_features=3072, out_features=10, bias=True)\n",
      "), Net(\n",
      "  (fc): Linear(in_features=3072, out_features=10, bias=True)\n",
      "), Net(\n",
      "  (fc): Linear(in_features=3072, out_features=10, bias=True)\n",
      ")]), (12, [Net(\n",
      "  (fc): Linear(in_features=3072, out_features=10, bias=True)\n",
      "), Net(\n",
      "  (fc): Linear(in_features=3072, out_features=10, bias=True)\n",
      "), Net(\n",
      "  (fc): Linear(in_features=3072, out_features=10, bias=True)\n",
      ")]), (13, [Net(\n",
      "  (fc): Linear(in_features=3072, out_features=10, bias=True)\n",
      "), Net(\n",
      "  (fc): Linear(in_features=3072, out_features=10, bias=True)\n",
      "), Net(\n",
      "  (fc): Linear(in_features=3072, out_features=10, bias=True)\n",
      ")]), (14, [Net(\n",
      "  (fc): Linear(in_features=3072, out_features=10, bias=True)\n",
      "), Net(\n",
      "  (fc): Linear(in_features=3072, out_features=10, bias=True)\n",
      "), Net(\n",
      "  (fc): Linear(in_features=3072, out_features=10, bias=True)\n",
      ")]), (15, [Net(\n",
      "  (fc): Linear(in_features=3072, out_features=10, bias=True)\n",
      "), Net(\n",
      "  (fc): Linear(in_features=3072, out_features=10, bias=True)\n",
      "), Net(\n",
      "  (fc): Linear(in_features=3072, out_features=10, bias=True)\n",
      ")]), (16, [Net(\n",
      "  (fc): Linear(in_features=3072, out_features=10, bias=True)\n",
      "), Net(\n",
      "  (fc): Linear(in_features=3072, out_features=10, bias=True)\n",
      "), Net(\n",
      "  (fc): Linear(in_features=3072, out_features=10, bias=True)\n",
      ")]), (17, [Net(\n",
      "  (fc): Linear(in_features=3072, out_features=10, bias=True)\n",
      "), Net(\n",
      "  (fc): Linear(in_features=3072, out_features=10, bias=True)\n",
      "), Net(\n",
      "  (fc): Linear(in_features=3072, out_features=10, bias=True)\n",
      ")]), (18, [Net(\n",
      "  (fc): Linear(in_features=3072, out_features=10, bias=True)\n",
      "), Net(\n",
      "  (fc): Linear(in_features=3072, out_features=10, bias=True)\n",
      "), Net(\n",
      "  (fc): Linear(in_features=3072, out_features=10, bias=True)\n",
      ")]), (19, [Net(\n",
      "  (fc): Linear(in_features=3072, out_features=10, bias=True)\n",
      "), Net(\n",
      "  (fc): Linear(in_features=3072, out_features=10, bias=True)\n",
      "), Net(\n",
      "  (fc): Linear(in_features=3072, out_features=10, bias=True)\n",
      ")]), (20, [Net(\n",
      "  (fc): Linear(in_features=3072, out_features=10, bias=True)\n",
      "), Net(\n",
      "  (fc): Linear(in_features=3072, out_features=10, bias=True)\n",
      "), Net(\n",
      "  (fc): Linear(in_features=3072, out_features=10, bias=True)\n",
      ")])]}\n",
      "INFO:flwr:app_fit: metrics_distributed_fit {'train_loss': [(1, tensor(0.831)), (2, tensor(0.718)), (3, tensor(0.700)), (4, tensor(0.695)), (5, tensor(0.694)), (6, tensor(0.694)), (7, tensor(0.694)), (8, tensor(0.694)), (9, tensor(0.689)), (10, tensor(0.690)), (11, tensor(0.687)), (12, tensor(0.683)), (13, tensor(0.681)), (14, tensor(0.679)), (15, tensor(0.674)), (16, tensor(0.671)), (17, tensor(0.666)), (18, tensor(0.661)), (19, tensor(0.657)), (20, tensor(0.651))], 'models': [(1, [Net(\n",
      "  (fc): Linear(in_features=3072, out_features=10, bias=True)\n",
      "), Net(\n",
      "  (fc): Linear(in_features=3072, out_features=10, bias=True)\n",
      "), Net(\n",
      "  (fc): Linear(in_features=3072, out_features=10, bias=True)\n",
      ")]), (2, [Net(\n",
      "  (fc): Linear(in_features=3072, out_features=10, bias=True)\n",
      "), Net(\n",
      "  (fc): Linear(in_features=3072, out_features=10, bias=True)\n",
      "), Net(\n",
      "  (fc): Linear(in_features=3072, out_features=10, bias=True)\n",
      ")]), (3, [Net(\n",
      "  (fc): Linear(in_features=3072, out_features=10, bias=True)\n",
      "), Net(\n",
      "  (fc): Linear(in_features=3072, out_features=10, bias=True)\n",
      "), Net(\n",
      "  (fc): Linear(in_features=3072, out_features=10, bias=True)\n",
      ")]), (4, [Net(\n",
      "  (fc): Linear(in_features=3072, out_features=10, bias=True)\n",
      "), Net(\n",
      "  (fc): Linear(in_features=3072, out_features=10, bias=True)\n",
      "), Net(\n",
      "  (fc): Linear(in_features=3072, out_features=10, bias=True)\n",
      ")]), (5, [Net(\n",
      "  (fc): Linear(in_features=3072, out_features=10, bias=True)\n",
      "), Net(\n",
      "  (fc): Linear(in_features=3072, out_features=10, bias=True)\n",
      "), Net(\n",
      "  (fc): Linear(in_features=3072, out_features=10, bias=True)\n",
      ")]), (6, [Net(\n",
      "  (fc): Linear(in_features=3072, out_features=10, bias=True)\n",
      "), Net(\n",
      "  (fc): Linear(in_features=3072, out_features=10, bias=True)\n",
      "), Net(\n",
      "  (fc): Linear(in_features=3072, out_features=10, bias=True)\n",
      ")]), (7, [Net(\n",
      "  (fc): Linear(in_features=3072, out_features=10, bias=True)\n",
      "), Net(\n",
      "  (fc): Linear(in_features=3072, out_features=10, bias=True)\n",
      "), Net(\n",
      "  (fc): Linear(in_features=3072, out_features=10, bias=True)\n",
      ")]), (8, [Net(\n",
      "  (fc): Linear(in_features=3072, out_features=10, bias=True)\n",
      "), Net(\n",
      "  (fc): Linear(in_features=3072, out_features=10, bias=True)\n",
      "), Net(\n",
      "  (fc): Linear(in_features=3072, out_features=10, bias=True)\n",
      ")]), (9, [Net(\n",
      "  (fc): Linear(in_features=3072, out_features=10, bias=True)\n",
      "), Net(\n",
      "  (fc): Linear(in_features=3072, out_features=10, bias=True)\n",
      "), Net(\n",
      "  (fc): Linear(in_features=3072, out_features=10, bias=True)\n",
      ")]), (10, [Net(\n",
      "  (fc): Linear(in_features=3072, out_features=10, bias=True)\n",
      "), Net(\n",
      "  (fc): Linear(in_features=3072, out_features=10, bias=True)\n",
      "), Net(\n",
      "  (fc): Linear(in_features=3072, out_features=10, bias=True)\n",
      ")]), (11, [Net(\n",
      "  (fc): Linear(in_features=3072, out_features=10, bias=True)\n",
      "), Net(\n",
      "  (fc): Linear(in_features=3072, out_features=10, bias=True)\n",
      "), Net(\n",
      "  (fc): Linear(in_features=3072, out_features=10, bias=True)\n",
      ")]), (12, [Net(\n",
      "  (fc): Linear(in_features=3072, out_features=10, bias=True)\n",
      "), Net(\n",
      "  (fc): Linear(in_features=3072, out_features=10, bias=True)\n",
      "), Net(\n",
      "  (fc): Linear(in_features=3072, out_features=10, bias=True)\n",
      ")]), (13, [Net(\n",
      "  (fc): Linear(in_features=3072, out_features=10, bias=True)\n",
      "), Net(\n",
      "  (fc): Linear(in_features=3072, out_features=10, bias=True)\n",
      "), Net(\n",
      "  (fc): Linear(in_features=3072, out_features=10, bias=True)\n",
      ")]), (14, [Net(\n",
      "  (fc): Linear(in_features=3072, out_features=10, bias=True)\n",
      "), Net(\n",
      "  (fc): Linear(in_features=3072, out_features=10, bias=True)\n",
      "), Net(\n",
      "  (fc): Linear(in_features=3072, out_features=10, bias=True)\n",
      ")]), (15, [Net(\n",
      "  (fc): Linear(in_features=3072, out_features=10, bias=True)\n",
      "), Net(\n",
      "  (fc): Linear(in_features=3072, out_features=10, bias=True)\n",
      "), Net(\n",
      "  (fc): Linear(in_features=3072, out_features=10, bias=True)\n",
      ")]), (16, [Net(\n",
      "  (fc): Linear(in_features=3072, out_features=10, bias=True)\n",
      "), Net(\n",
      "  (fc): Linear(in_features=3072, out_features=10, bias=True)\n",
      "), Net(\n",
      "  (fc): Linear(in_features=3072, out_features=10, bias=True)\n",
      ")]), (17, [Net(\n",
      "  (fc): Linear(in_features=3072, out_features=10, bias=True)\n",
      "), Net(\n",
      "  (fc): Linear(in_features=3072, out_features=10, bias=True)\n",
      "), Net(\n",
      "  (fc): Linear(in_features=3072, out_features=10, bias=True)\n",
      ")]), (18, [Net(\n",
      "  (fc): Linear(in_features=3072, out_features=10, bias=True)\n",
      "), Net(\n",
      "  (fc): Linear(in_features=3072, out_features=10, bias=True)\n",
      "), Net(\n",
      "  (fc): Linear(in_features=3072, out_features=10, bias=True)\n",
      ")]), (19, [Net(\n",
      "  (fc): Linear(in_features=3072, out_features=10, bias=True)\n",
      "), Net(\n",
      "  (fc): Linear(in_features=3072, out_features=10, bias=True)\n",
      "), Net(\n",
      "  (fc): Linear(in_features=3072, out_features=10, bias=True)\n",
      ")]), (20, [Net(\n",
      "  (fc): Linear(in_features=3072, out_features=10, bias=True)\n",
      "), Net(\n",
      "  (fc): Linear(in_features=3072, out_features=10, bias=True)\n",
      "), Net(\n",
      "  (fc): Linear(in_features=3072, out_features=10, bias=True)\n",
      ")])]}\n",
      "INFO flwr 2023-06-10 14:10:21,404 | app.py:220 | app_fit: metrics_distributed {'test_accuracy': [(1, 0.4062248995983936), (2, 0.42751004016064265), (3, 0.43915662650602405), (4, 0.4413654618473896), (5, 0.4491967871485943), (6, 0.4477911646586345), (7, 0.45903614457831327), (8, 0.46345381526104423), (9, 0.45783132530120485), (10, 0.4660642570281125), (11, 0.4710843373493976), (12, 0.47008032128514043), (13, 0.47510040160642564), (14, 0.48232931726907635), (15, 0.47550200803212855), (16, 0.48232931726907624), (17, 0.47971887550200804), (18, 0.4783132530120482), (19, 0.4863453815261044), (20, 0.480722891566265)]}\n",
      "INFO:flwr:app_fit: metrics_distributed {'test_accuracy': [(1, 0.4062248995983936), (2, 0.42751004016064265), (3, 0.43915662650602405), (4, 0.4413654618473896), (5, 0.4491967871485943), (6, 0.4477911646586345), (7, 0.45903614457831327), (8, 0.46345381526104423), (9, 0.45783132530120485), (10, 0.4660642570281125), (11, 0.4710843373493976), (12, 0.47008032128514043), (13, 0.47510040160642564), (14, 0.48232931726907635), (15, 0.47550200803212855), (16, 0.48232931726907624), (17, 0.47971887550200804), (18, 0.4783132530120482), (19, 0.4863453815261044), (20, 0.480722891566265)]}\n",
      "INFO flwr 2023-06-10 14:10:21,406 | app.py:221 | app_fit: losses_centralized []\n",
      "INFO:flwr:app_fit: losses_centralized []\n",
      "INFO flwr 2023-06-10 14:10:21,409 | app.py:222 | app_fit: metrics_centralized {}\n",
      "INFO:flwr:app_fit: metrics_centralized {}\n"
     ]
    }
   ],
   "source": [
    "# Create FedAvg strategy\n",
    "strategy = FedEM(\n",
    "    total_nb_clients=NUM_CLIENTS,\n",
    "    num_components = NUM_COMPONENTS,\n",
    "    network_constructor = Net,\n",
    "    fraction_fit=1.0,  # Sample 100% of available clients for training\n",
    "    fraction_evaluate=1,  # Sample 50% of available clients for evaluation\n",
    "    min_evaluate_clients=5,  # Never sample less than 5 clients for evaluation\n",
    "    min_available_clients=5,  # Wait until 5 clients are available\n",
    "    fit_metrics_aggregation_fn=weighted_average_train_loss,\n",
    "    evaluate_metrics_aggregation_fn=weighted_average_test_acc,  # <-- pass the metric aggregation function\n",
    "    initial_parameters=ndarrays_to_parameters(get_parameters_network(Net()))\n",
    ")\n",
    "\n",
    "# Specify client resources if you need GPU (defaults to 1 CPU and 0 GPU)\n",
    "client_resources = None\n",
    "if DEVICE.type == \"cuda\":\n",
    "    client_resources = {\"num_gpus\": 1}\n",
    "\n",
    "# Start simulation\n",
    "result_fedEM = fl.simulation.start_simulation(\n",
    "    client_fn=client_fn_FedEM,\n",
    "    num_clients=NUM_CLIENTS,\n",
    "    config=fl.server.ServerConfig(num_rounds=NUM_EPOCHS),\n",
    "    strategy=strategy,\n",
    "    client_resources=client_resources,\n",
    ")"
   ]
  },
  {
   "cell_type": "markdown",
   "metadata": {
    "id": "7ZpsPLvQ-a-A"
   },
   "source": [
    "### Comparing to FedAvg"
   ]
  },
  {
   "cell_type": "code",
   "execution_count": null,
   "metadata": {
    "colab": {
     "base_uri": "https://localhost:8080/",
     "height": 487
    },
    "id": "KJskNLjk-gIr",
    "outputId": "5e1584cf-5437-4c1f-99f4-b53a43d90a77"
   },
   "outputs": [
    {
     "data": {
      "image/png": "[encoded data removed]",
      "text/plain": [
       "<Figure size 1000x500 with 2 Axes>"
      ]
     },
     "metadata": {},
     "output_type": "display_data"
    }
   ],
   "source": [
    "test_losses_fedEM = [key[1] for key in result_fedEM.losses_distributed]\n",
    "accuracies_fedEM = [key[1] for key in result_fedEM.metrics_distributed['test_accuracy']]\n",
    "\n",
    "plot_metrics([test_losses_fedavg, test_losses_fedEM],\n",
    "             [accuracies_fedavg, accuracies_fedEM], [\"Fedavg\", \"FedEM\"])"
   ]
  },
  {
   "cell_type": "code",
   "execution_count": null,
   "metadata": {
    "colab": {
     "base_uri": "https://localhost:8080/",
     "height": 834
    },
    "id": "OORAQzDkO7dH",
    "outputId": "c6a9e371-058e-4197-ea7b-15fd12cc45a5"
   },
   "outputs": [
    {
     "name": "stdout",
     "output_type": "stream",
     "text": [
      "=== Mixture's weights at the end of the training ===\n",
      "\t0: tensor([    0.095,     0.000,     0.905])\n",
      "\t1: tensor([0.114, 0.835, 0.051])\n",
      "\t2: tensor([    0.004,     0.000,     0.996])\n",
      "\t3: tensor([    0.003,     0.000,     0.997])\n",
      "\t4: tensor([0.386, 0.099, 0.515])\n",
      "\t5: tensor([    0.101,     0.000,     0.899])\n",
      "\t6: tensor([0.167, 0.798, 0.035])\n",
      "\t7: tensor([0.112, 0.020, 0.868])\n",
      "\t8: tensor([0.012, 0.917, 0.071])\n",
      "\t9: tensor([0.020, 0.010, 0.970])\n",
      "\t10: tensor([0.100, 0.857, 0.044])\n",
      "\t11: tensor([0.184, 0.715, 0.101])\n",
      "\t12: tensor([    0.000,     0.933,     0.067])\n",
      "\t13: tensor([0.035, 0.453, 0.511])\n",
      "\t14: tensor([0.305, 0.035, 0.660])\n",
      "\t15: tensor([0.282, 0.484, 0.234])\n",
      "\t16: tensor([0.889, 0.022, 0.089])\n",
      "\t17: tensor([0.328, 0.571, 0.101])\n",
      "\t18: tensor([0.066, 0.922, 0.012])\n",
      "\t19: tensor([0.207, 0.458, 0.335])\n"
     ]
    },
    {
     "data": {
      "text/plain": [
       "Text(0.5, 1.0, \"Plotting the mixture's weights of each client after a PCA decomposition\")"
      ]
     },
     "execution_count": 38,
     "metadata": {},
     "output_type": "execute_result"
    },
    {
     "data": {
      "image/png": "[encoded data removed]",
      "text/plain": [
       "<Figure size 640x480 with 1 Axes>"
      ]
     },
     "metadata": {},
     "output_type": "display_data"
    }
   ],
   "source": [
    "from sklearn.decomposition import PCA\n",
    "\n",
    "mixture_weights = torch.stack([torch.load('mixture_weights_{0}.pkl'.format(i)) for i in range(NUM_CLIENTS)])\n",
    "\n",
    "torch.set_printoptions(precision=3, sci_mode=False)\n",
    "\n",
    "print(\"=== Mixture's weights at the end of the training ===\")\n",
    "for i in range(NUM_CLIENTS):\n",
    "    print(\"\\t{0}: {1}\".format(i, mixture_weights[i]))\n",
    "\n",
    "pca = PCA(n_components=2)\n",
    "components = pca.fit_transform(mixture_weights)\n",
    "\n",
    "fig = plt.figure()\n",
    "ax = fig.add_subplot(111)\n",
    "ax.scatter(components[:,0], components[:,1], s=100)\n",
    "ax.set_title(\"Plotting the mixture's weights of each client after a PCA decomposition\")"
   ]
  },
  {
   "cell_type": "markdown",
   "metadata": {
    "id": "r6iq2c_KWjuA"
   },
   "source": [
    "## Final remarks\n",
    "\n",
    "Congratulations, you just trained a convolutional neural network, federated over 20 heterogeneous clients! With that, you understand the basics of federated learning with Flower. The same approach you've seen can be used with other machine learning frameworks (not just PyTorch) and tasks (not just CIFAR-10 images classification).\n"
   ]
  },
  {
   "cell_type": "markdown",
   "metadata": {
    "id": "nUVeXjPn0SDx"
   },
   "source": [
    "## Citing FedEM\n",
    "\n",
    "\n",
    "```\n",
    "@article{marfoq2021federated,\n",
    "  title={Federated multi-task learning under a mixture of distributions},\n",
    "  author={Marfoq, Othmane and Neglia, Giovanni and Bellet, Aur{\\'e}lien and Kameni, Laetitia and Vidal, Richard},\n",
    "  journal={Advances in Neural Information Processing Systems},\n",
    "  volume={34},\n",
    "  pages={15434--15447},\n",
    "  year={2021}\n",
    "}\n",
    "\n",
    "```\n",
    "\n"
   ]
  },
  {
   "cell_type": "markdown",
   "metadata": {
    "id": "nUVeXjPn0SDx"
   },
   "source": [
    "## Citing Flowers\n",
    "\n",
    "\n",
    "```\n",
    "@article{beutel2020flower,\n",
    "  title={Flower: A Friendly Federated Learning Research Framework},\n",
    "  author={Beutel, Daniel J and Topal, Taner and Mathur, Akhil and Qiu, Xinchi and Fernandez-Marques, Javier and Gao, Yan and Sani, Lorenzo and Kwing, Hei Li and Parcollet, Titouan and Gusmão, Pedro PB de and Lane, Nicholas D}, \n",
    "  journal={arXiv preprint arXiv:2007.14390},\n",
    "  year={2020}\n",
    "}\n",
    "```\n",
    "\n"
   ]
  }
 ],
 "metadata": {
  "colab": {
   "provenance": [],
   "toc_visible": true
  },
  "kernelspec": {
   "display_name": "Python 3 (ipykernel)",
   "language": "python",
   "name": "python3"
  },
  "language_info": {
   "codemirror_mode": {
    "name": "ipython",
    "version": 3
   },
   "file_extension": ".py",
   "mimetype": "text/x-python",
   "name": "python",
   "nbconvert_exporter": "python",
   "pygments_lexer": "ipython3",
   "version": "3.8.10"
  }
 },
 "nbformat": 4,
 "nbformat_minor": 1
}
