{
  "cells": [
    {
      "cell_type": "markdown",
      "metadata": {
        "id": "R1HAUoCKWjtk"
      },
      "source": [
        "# An Introduction to Federated Learning with Flower\n",
        "\n",
        "Welcome to this Flower federated learning tutorial!\n",
        "\n",
        "In this notebook, we'll build a federated learning system using Flower and PyTorch. In part 1, we use PyTorch for the model training pipeline and data loading. In part 2, we continue to federate the PyTorch-based pipeline using Flower.\n",
        "\n",
        "Let's start!"
      ]
    },
    {
      "cell_type": "markdown",
      "metadata": {
        "id": "y8YzEUdpw96O"
      },
      "source": [
        "## Step 0: What is Flower ?\n",
        "\n",
        "You can have a look on the Flower's [documentation](https://flower.dev/docs/), on the github [repository](https://github.com/adap/flower) (2.4k stars, 500 forks) or on the [paper](https://arxiv.org/pdf/2007.14390.pdf) released on arXiv. "
      ]
    },
    {
      "cell_type": "markdown",
      "metadata": {
        "id": "nBVj_kTPzUJV"
      },
      "source": [
        "*Flower* is a FL framework that supports large-cohort training and evaluation, both on real edge devices and on single-node or multi-node compute clusters. This unlocks scalable algorithmic research of real-world system conditions such as limited computational resources which are common for typical FL workloads.\n",
        "\n",
        "The team building it is dynamic and proposes a large variety of notebooks to get started with their framework!"
      ]
    },
    {
      "cell_type": "markdown",
      "metadata": {
        "id": "EliuP_AAzut3"
      },
      "source": [
        "### Design goals \n",
        "\n",
        "\n",
        "1.   Scalable: Given that real-world FL would encounter a large number of clients, Flower should scale to a large number of\n",
        "concurrent clients to foster research on a realistic scale.\n",
        "2.   Client-agnostic: Given the heterogeneous environment on\n",
        "mobile clients, Flower should be interoperable with different\n",
        "programming languages, operating systems, and hardware.\n",
        "3.   Communication-agnostic: Given the heterogeneous connectivity settings, Flower should allow different serialization\n",
        "and communication approaches.\n",
        "4.   Privacy-agnostic: Different FL settings (cross-device, cross-\n",
        "silo) have different privacy requirements (secure aggregation, differential privacy). Flower should support common\n",
        "approaches whilst not be prescriptive about their usage.\n",
        "5.   Flexible: Given the rate of change in FL and the velocity\n",
        "of the general ML ecosystem, Flower should be flexible to\n",
        "enable both experimental research and adoption of recently\n",
        "proposed approaches with low engineering overhead."
      ]
    },
    {
      "cell_type": "markdown",
      "metadata": {
        "id": "QGg9RSebWjtn"
      },
      "source": [
        "## Step 1: Preparation\n",
        "\n",
        "Before we begin with any actual code, let's make sure that we have everything we need."
      ]
    },
    {
      "cell_type": "markdown",
      "metadata": {
        "id": "fpeHBNzfWjto"
      },
      "source": [
        "### Installing dependencies\n",
        "\n",
        "Next, we install the necessary packages for PyTorch (`torch` and `torchvision`) and Flower (`flwr`):"
      ]
    },
    {
      "cell_type": "code",
      "execution_count": 1,
      "metadata": {
        "id": "M2_qI3GUWjtq"
      },
      "outputs": [],
      "source": [
        "%pip install -q flwr[simulation] torch torchvision matplotlib "
      ]
    },
    {
      "cell_type": "markdown",
      "metadata": {
        "id": "-qJaZrKNWjts"
      },
      "source": [
        "Now that we have all dependencies installed, we can import everything we need for this tutorial:"
      ]
    },
    {
      "cell_type": "code",
      "execution_count": 2,
      "metadata": {
        "colab": {
          "base_uri": "https://localhost:8080/"
        },
        "id": "Hp1e7pwwWjts",
        "outputId": "ae10b072-0e30-47b0-ad73-9895f8003167"
      },
      "outputs": [
        {
          "output_type": "stream",
          "name": "stdout",
          "text": [
            "Training on cpu using PyTorch 2.0.1+cu118 and Flower 1.4.0\n"
          ]
        }
      ],
      "source": [
        "from collections import OrderedDict\n",
        "from typing import List, Tuple\n",
        "\n",
        "import copy\n",
        "\n",
        "import matplotlib.pyplot as plt\n",
        "import numpy as np\n",
        "import torch\n",
        "import torch.nn as nn\n",
        "import torch.nn.functional as F\n",
        "import torchvision\n",
        "import torchvision.transforms as transforms\n",
        "from torch.utils.data import DataLoader, random_split\n",
        "from torchvision.datasets import CIFAR10, MNIST, EMNIST\n",
        "\n",
        "import flwr as fl\n",
        "from flwr.common import Metrics\n",
        "\n",
        "DEVICE = torch.device('cuda' if torch.cuda.is_available() else 'cpu')\n",
        "print(\n",
        "    f\"Training on {DEVICE} using PyTorch {torch.__version__} and Flower {fl.__version__}\"\n",
        ")\n",
        "\n",
        "#torch.cuda.set_device(0) "
      ]
    },
    {
      "cell_type": "markdown",
      "metadata": {
        "id": "n9Qa2uXiWjtt"
      },
      "source": [
        "It is possible to switch to a runtime that has GPU acceleration enabled (on Google Colab: `Runtime > Change runtime type > Hardware acclerator: GPU > Save`). Note, however, that Google Colab is not always able to offer GPU acceleration. If you see an error related to GPU availability in one of the following sections, consider switching back to CPU-based execution by setting `DEVICE = torch.device(\"cpu\")`. If the runtime has GPU acceleration enabled, you should see the output `Training on cuda`, otherwise it'll say `Training on cpu`."
      ]
    },
    {
      "cell_type": "markdown",
      "metadata": {
        "id": "7jiF4RAcWjtu"
      },
      "source": [
        "\n",
        "### Loading the data\n",
        "\n",
        "Federated learning can be applied to many different types of tasks across different domains. In this tutorial, we introduce federated learning by training a simple convolutional neural network (CNN) on the popular CIFAR-10 dataset. CIFAR-10 can be used to train image classifiers that distinguish between images from ten different classes:"
      ]
    },
    {
      "cell_type": "code",
      "execution_count": 3,
      "metadata": {
        "id": "ADFyJfHNWjtv"
      },
      "outputs": [],
      "source": [
        "dataset = \"CIFAR10\"\n",
        "\n",
        "if dataset == \"MNIST\":\n",
        "    CLASSES = (\"0\",\"1\",\"2\",\"3\",\"4\",\"5\",\"6\",\"7\",\"8\",\"9\")\n",
        "elif dataset == \"CIFAR10\":\n",
        "    CLASSES = (\"plane\",\"car\",\"bird\",\"cat\",\"deer\",\"dog\",\"frog\",\"horse\",\"ship\",\"truck\")\n",
        "elif dataset == \"EMNIST\":\n",
        "    CLASSES = (\"0\", \"1\", \"2\", \"3\", \"4\", \"5\", \"6\", \"7\", \"8\", \"9\", \"A\", \"B\", \"C\", \"D\", \"E\", \"F\", \"G\", \"H\", \"I\", \"J\", \"K\", \"L\", \"M\", \"N\", \"O\", \"P\", \"Q\", \"R\", \"S\", \"T\", \"U\", \"V\", \"W\", \"X\", \"Y\", \"Z\", \"a\", \"b\", \"d\", \"e\", \"f\", \"g\", \"h\", \"n\", \"q\", \"r\", \"t\")\n"
      ]
    },
    {
      "cell_type": "markdown",
      "metadata": {
        "id": "aNTapzptWjty"
      },
      "source": [
        "We simulate having multiple datasets from multiple organizations (also called the \"cross-silo\" setting in federated learning) by splitting the original CIFAR-10 dataset into multiple partitions. Each partition will represent the data from a single organization. We're doing this purely for experimentation purposes, in the real world there's no need for data splitting because each organization already has their own data (so the data is naturally partitioned).\n",
        "\n",
        "Each organization will act as a client in the federated learning system. So having ten organizations participate in a federation means having ten clients connected to the federated learning server:\n"
      ]
    },
    {
      "cell_type": "code",
      "execution_count": 4,
      "metadata": {
        "id": "evLEpUgQWjtz"
      },
      "outputs": [],
      "source": [
        "NUM_CLIENTS = 20\n",
        "NUM_EPOCHS = 15\n",
        "DIRICHLET_COEF = 0.35 # Degree of heterogeneity, the greater it is, the more homogeneous will be the clients.\n",
        "BATCH_SIZE = 128\n",
        "LR = 0.1\n",
        "NUM_LOCAL_EPOCHS = 1\n",
        "NUM_COMPONENTS = 3 # Following Marfocq and al. 2021"
      ]
    },
    {
      "cell_type": "markdown",
      "metadata": {
        "id": "Ez1McMAbvXZp"
      },
      "source": [
        "### Heterogeneous split of the data\n",
        "\n",
        "We need to create heterogeneous clients, to do so we rely on a Dirichlet distribution to splits the dataset.\n",
        "\n",
        "Specifically, we sample $p_k \\sim Dir_N (\\beta)$ and allocate a $p_{k,j}$ proportion of the instances of class $k$ to party $j$. Here $Dir(\\cdot)$ denotes\n",
        "the Dirichlet distribution and $\\beta$ is a concentration parameter ($\\beta > 0$). An advantage of this approach is that we can flexibly change the imbalance level by varying the concentration parameter $\\beta$. If $\\beta$ is set to a smaller value, then the partition is more unbalanced\n",
        "\n",
        "See [Federated Learning on Non-IID Data Silos: An Experimental Study](https://arxiv.org/pdf/2102.02079.pdf) by Li et al, 2021."
      ]
    },
    {
      "cell_type": "code",
      "execution_count": 5,
      "metadata": {
        "id": "gppHnYTWIOOH"
      },
      "outputs": [],
      "source": [
        "from numpy.random import dirichlet\n",
        "import random\n",
        "\n",
        "def non_iid_split(train_data, nb_devices, dirichlet_coef=1):\n",
        "    \"\"\"Splits the training data by target values (leads to a highly non-iid data distribution) using a Dirichlet \n",
        "        distribution.\"\"\"\n",
        "    unique_values = {}\n",
        "    targets = train_data.targets\n",
        "    n = len(targets)\n",
        "\n",
        "    # Splitting the dataset by target value.\n",
        "    if not torch.is_tensor(targets):\n",
        "        targets = torch.Tensor(targets)\n",
        "    for i in range(n):\n",
        "        if targets[i].item() in unique_values:\n",
        "            unique_values[targets[i].item()] = np.append(unique_values[targets[i].item()], [i])\n",
        "        else:\n",
        "            unique_values[targets[i].item()] = np.array([i])\n",
        "    nb_labels = len(unique_values)\n",
        "\n",
        "    nb_points_by_clients = n // nb_devices\n",
        "    matrix = (dirichlet([dirichlet_coef] * nb_labels, size=nb_devices)  * (nb_points_by_clients+2)).astype(int)# 1 line = 1 worker\n",
        "    ordered_indices = sorted(unique_values.values(), key=len)\n",
        "    split = []\n",
        "    for i in range(nb_devices):\n",
        "        indices_for_client_i = []\n",
        "        for j in range(nb_labels):\n",
        "            indices_by_label = ordered_indices[j]\n",
        "            indices_for_client_i += random.sample(list(indices_by_label), matrix[i][j]) # Join lists\n",
        "        split.append(np.array(indices_for_client_i))\n",
        "\n",
        "    return split"
      ]
    },
    {
      "cell_type": "markdown",
      "metadata": {
        "id": "YB1jX1w6Wjtz"
      },
      "source": [
        "\n",
        "Let's now load the CIFAR-10 training and test set, partition them into ten smaller datasets (each split into training and validation set), and wrap the resulting partitions by creating a PyTorch `DataLoader` for each of them:"
      ]
    },
    {
      "cell_type": "code",
      "execution_count": 6,
      "metadata": {
        "id": "_18vHNkDWjtz"
      },
      "outputs": [],
      "source": [
        "import math\n",
        "from torch.utils.data import DataLoader, Subset, RandomSampler\n",
        "\n",
        "def load_datasets(nb_clients):\n",
        "    # Download and transform CIFAR10/MNIST (train and test)\n",
        "\n",
        "    if dataset == \"MNIST\":\n",
        "        transform = transforms.Compose([\n",
        "          torchvision.transforms.ToTensor(), torchvision.transforms.Normalize((0.1307,), (0.3081,))]\n",
        "          )\n",
        "        trainset = MNIST(\"./dataset\", train=True, download=True, transform=transform)\n",
        "        testset = MNIST(\"./dataset\", train=False, download=True, transform=transform)\n",
        "    elif dataset == \"CIFAR10\":\n",
        "        transform = transforms.Compose(\n",
        "            [transforms.ToTensor(), transforms.Normalize((0.5, 0.5, 0.5), (0.5, 0.5, 0.5))]\n",
        "        )\n",
        "        trainset = CIFAR10(\"./dataset\", train=True, download=True, transform=transform)\n",
        "        testset = CIFAR10(\"./dataset\", train=False, download=True, transform=transform)\n",
        "    elif dataset == \"EMNIST\":\n",
        "        transform = transforms.Compose([\n",
        "          torchvision.transforms.ToTensor(), torchvision.transforms.Normalize((0.5,), (0.5,))]\n",
        "          )\n",
        "        trainset = EMNIST(\"./dataset\", train=True, download=True, transform=transform, split=\"balanced\")\n",
        "        testset = EMNIST(\"./dataset\", train=False, download=True, transform=transform, split=\"balanced\")\n",
        "\n",
        "    \n",
        "    \n",
        "    split = non_iid_split(trainset, nb_clients, DIRICHLET_COEF)\n",
        "    \n",
        "\n",
        "    # Split each partition into train/val and create DataLoader\n",
        "    trainloaders = []\n",
        "    valloaders = []\n",
        "    for indices in split:\n",
        "        \n",
        "        random.shuffle(indices)\n",
        "        \n",
        "        indices_train = indices[:math.floor(len(indices)*0.9)]\n",
        "        indices_val = indices[math.floor(len(indices)*0.9)+1:]\n",
        "        \n",
        "        # shuffle = False is necesseray to later mulply the loss of a given item with the corresponding posterior proba.\n",
        "        trainloaders.append(DataLoader(Subset(trainset, indices_train), batch_size=BATCH_SIZE, \n",
        "                                       shuffle=False, \n",
        "                                       pin_memory=True if torch.cuda.is_available() else False,\n",
        "                                       num_workers=2 if torch.cuda.is_available() else 0))\n",
        "        valloaders.append(DataLoader(Subset(trainset, indices_val), batch_size=BATCH_SIZE,  \n",
        "                                     shuffle=False, \n",
        "                                     pin_memory=True if torch.cuda.is_available() else False,\n",
        "                                     num_workers=2 if torch.cuda.is_available() else 0))\n",
        "    testloader = DataLoader(testset, batch_size=BATCH_SIZE, \n",
        "                            pin_memory=True if torch.cuda.is_available() else False,\n",
        "                            num_workers=2 if torch.cuda.is_available() else 0)\n",
        "    return trainloaders, valloaders, testloader\n"
      ]
    },
    {
      "cell_type": "code",
      "source": [
        "trainloaders, valloaders, testloader = load_datasets(NUM_CLIENTS)"
      ],
      "metadata": {
        "colab": {
          "base_uri": "https://localhost:8080/"
        },
        "id": "p6YpTii8MiZf",
        "outputId": "4a247128-9102-4366-b106-a760dca07f27"
      },
      "execution_count": 7,
      "outputs": [
        {
          "output_type": "stream",
          "name": "stdout",
          "text": [
            "Files already downloaded and verified\n",
            "Files already downloaded and verified\n"
          ]
        }
      ]
    },
    {
      "cell_type": "markdown",
      "metadata": {
        "id": "xY309JqDWjt0"
      },
      "source": [
        "We now have a list of ten training sets and ten validation sets (`trainloaders` and `valloaders`) representing the data of ten different organizations. Each `trainloader`/`valloader` pair contains 4500 training examples and 500 validation examples. There's also a single `testloader` (we did not split the test set). Again, this is only necessary for building research or educational systems, actual federated learning systems have their data naturally distributed across multiple partitions.\n",
        "\n"
      ]
    },
    {
      "cell_type": "markdown",
      "metadata": {
        "id": "TwI2eB2cwZM-"
      },
      "source": [
        "### Visualisation of client's heterogeneity"
      ]
    },
    {
      "cell_type": "markdown",
      "metadata": {
        "id": "s3cRTA31wmVQ"
      },
      "source": [
        "Below, we represent the labels' distribution for the firsts three clients. We can see that they are higly heterogeneous."
      ]
    },
    {
      "cell_type": "code",
      "execution_count": 8,
      "metadata": {
        "colab": {
          "base_uri": "https://localhost:8080/",
          "height": 1000
        },
        "id": "NI_c7cf1IOOL",
        "outputId": "20901fc3-c35c-4449-d693-4dea4fcdc7da"
      },
      "outputs": [
        {
          "output_type": "display_data",
          "data": {
            "text/plain": [
              "<Figure size 640x480 with 1 Axes>"
            ],
            "image/png": "[encoded data removed]"
          },
          "metadata": {}
        },
        {
          "output_type": "display_data",
          "data": {
            "text/plain": [
              "<Figure size 640x480 with 1 Axes>"
            ],
            "image/png": "[encoded data removed]"
          },
          "metadata": {}
        },
        {
          "output_type": "display_data",
          "data": {
            "text/plain": [
              "<Figure size 640x480 with 1 Axes>"
            ],
            "image/png": "[encoded data removed]"
          },
          "metadata": {}
        }
      ],
      "source": [
        "def plot_label_distribution(list_loader, client_id, classes):\n",
        "    loader = list_loader[client_id]\n",
        "    labels = np.zeros(len(classes))  \n",
        "    for images, targets in loader:\n",
        "        for target in targets:\n",
        "            labels[target] += 1\n",
        "    plt.bar(np.arange(len(classes)), labels)\n",
        "    plt.xticks(np.arange(len(classes)), classes)\n",
        "    plt.ylabel('Count')\n",
        "    plt.title('Label Distribution for client {0}'.format(client_id))\n",
        "    plt.show()\n",
        "    \n",
        "plot_label_distribution(trainloaders, 0, CLASSES)\n",
        "plot_label_distribution(trainloaders, 1, CLASSES)\n",
        "plot_label_distribution(trainloaders, 2, CLASSES)"
      ]
    },
    {
      "cell_type": "markdown",
      "metadata": {
        "id": "MsL2eIBSwkFu"
      },
      "source": [
        "Let's take a look at the first batch of images and labels in the first training set (i.e., `trainloaders[0]`) before we move on:"
      ]
    },
    {
      "cell_type": "code",
      "execution_count": 9,
      "metadata": {
        "colab": {
          "base_uri": "https://localhost:8080/",
          "height": 607
        },
        "id": "cIOW9UV4Wjt2",
        "outputId": "e61ae321-bc63-4942-e7e4-e86173797933"
      },
      "outputs": [
        {
          "output_type": "display_data",
          "data": {
            "text/plain": [
              "<Figure size 1200x600 with 32 Axes>"
            ],
            "image/png": "[encoded data removed]"
          },
          "metadata": {}
        }
      ],
      "source": [
        "images, labels = next(iter(trainloaders[0]))\n",
        "\n",
        "# Reshape and convert images to a NumPy array\n",
        "# matplotlib requires images with the shape (height, width, 3)\n",
        "images = images.permute(0, 2, 3, 1).numpy()\n",
        "# Denormalize\n",
        "images = images / 2 + 0.5\n",
        "\n",
        "# Create a figure and a grid of subplots\n",
        "fig, axs = plt.subplots(4, 8, figsize=(12, 6))\n",
        "\n",
        "# Loop over the images and plot them\n",
        "for i, ax in enumerate(axs.flat):\n",
        "    ax.imshow(images[i])\n",
        "    ax.set_title(CLASSES[labels[i]])\n",
        "    ax.axis(\"off\")\n",
        "\n",
        "# Show the plot\n",
        "fig.tight_layout()\n",
        "plt.show()"
      ]
    },
    {
      "cell_type": "markdown",
      "metadata": {
        "id": "dkunk-owWjt2"
      },
      "source": [
        "The output above shows a random batch of images from the first `trainloader` in our list of ten `trainloaders`. It also prints the labels associated with each image (i.e., one of the ten possible labels we've seen above). If you run the cell again, you should see another batch of images."
      ]
    },
    {
      "cell_type": "markdown",
      "metadata": {
        "id": "HdhQngMsWjt2"
      },
      "source": [
        "## Step 2: Centralized Training with PyTorch\n",
        "\n"
      ]
    },
    {
      "cell_type": "markdown",
      "metadata": {
        "id": "nrfKofMjWjt3"
      },
      "source": [
        "Next, we're going to use PyTorch to define a simple convolutional neural network. This introduction assumes basic familiarity with PyTorch, so it doesn't cover the PyTorch-related aspects in full detail. If you want to dive deeper into PyTorch, we recommend [*DEEP LEARNING WITH PYTORCH: A 60 MINUTE BLITZ*](https://pytorch.org/tutorials/beginner/deep_learning_60min_blitz.html).\n"
      ]
    },
    {
      "cell_type": "markdown",
      "metadata": {
        "id": "0iXi15YHWjt3"
      },
      "source": [
        "### Defining the model\n",
        "\n",
        "We use a simple one-layer neural network, the advantage being simplicity and speed. Also, the convex function that we want to minimize is convex."
      ]
    },
    {
      "cell_type": "code",
      "source": [
        "import torchvision.models as models\n",
        "\n",
        "\n",
        "def Net():\n",
        "    n_classes = 10\n",
        "    model = models.mobilenet_v2(pretrained=True)\n",
        "    model.classifier[1] = nn.Linear(model.classifier[1].in_features, n_classes)\n",
        "    return model"
      ],
      "metadata": {
        "id": "VAboHOOSM8V4"
      },
      "execution_count": 10,
      "outputs": []
    },
    {
      "cell_type": "code",
      "execution_count": 11,
      "metadata": {
        "id": "VWPC8Cptn10a"
      },
      "outputs": [],
      "source": [
        "class Net(nn.Module):\n",
        "    def __init__(self):\n",
        "        super(Net, self).__init__()\n",
        "        if dataset == \"MNIST\":\n",
        "            self.fc = nn.Linear(28 * 28, 10)\n",
        "        elif dataset == \"CIFAR10\":\n",
        "            self.fc = nn.Linear(32 * 32 * 3, 10) # 32x32x3 input features, 10 output classes\n",
        "        elif dataset == \"EMNIST\":\n",
        "            self.fc = nn.Linear(28 * 28, 47)\n",
        "        \n",
        "    \n",
        "    def forward(self, x):\n",
        "        if dataset in [\"MNIST\", \"EMNIST\"]:\n",
        "            x = x.view(-1, 28 * 28) # Flatten the input\n",
        "        else:\n",
        "            x = x.view(-1, 32 * 32 * 3) # Flatten the input\n",
        "        \n",
        "        x = self.fc(x)\n",
        "        return x"
      ]
    },
    {
      "cell_type": "markdown",
      "metadata": {
        "id": "43opB2HoWjt4"
      },
      "source": [
        "Let's continue with the usual training and test functions:"
      ]
    },
    {
      "cell_type": "code",
      "execution_count": 12,
      "metadata": {
        "id": "gMQ3jbuFWjt5"
      },
      "outputs": [],
      "source": [
        "def train(net, trainloader, epochs: int, verbose=False):\n",
        "    \"\"\"Train the network on the training set.\"\"\"\n",
        "    criterion = torch.nn.CrossEntropyLoss()\n",
        "    optimizer = torch.optim.SGD(net.parameters(), lr=LR)\n",
        "    net.train()\n",
        "    for epoch in range(epochs):\n",
        "        correct, total, epoch_loss = 0, 0, 0.0\n",
        "        for images, labels in trainloader:\n",
        "            images, labels = images.to(DEVICE), labels.to(DEVICE)\n",
        "            optimizer.zero_grad()\n",
        "            outputs = net(images)\n",
        "            loss = criterion(outputs, labels)\n",
        "            loss.backward()\n",
        "            optimizer.step()\n",
        "            # Metrics\n",
        "            epoch_loss += loss\n",
        "            total += labels.size(0)\n",
        "            correct += (torch.max(outputs.data, 1)[1] == labels).sum().item()\n",
        "        epoch_loss /= len(trainloader)\n",
        "        epoch_acc = correct / total\n",
        "        if verbose:\n",
        "            print(f\"Epoch {epoch+1}: train loss {epoch_loss}, accuracy {epoch_acc}\")\n",
        "    return epoch_loss\n"
      ]
    },
    {
      "cell_type": "code",
      "execution_count": 13,
      "metadata": {
        "id": "esDH1ffD1zUE"
      },
      "outputs": [],
      "source": [
        "def test(net, testloader):\n",
        "    \"\"\"Evaluate the network on the entire test set.\"\"\"\n",
        "    criterion = torch.nn.CrossEntropyLoss()\n",
        "    correct, total, loss = 0, 0, 0.0\n",
        "    net.eval()\n",
        "    with torch.no_grad():\n",
        "        for images, labels in testloader:\n",
        "            images, labels = images.to(DEVICE), labels.to(DEVICE)\n",
        "            outputs = net(images)\n",
        "            loss += criterion(outputs, labels).item()\n",
        "            _, predicted = torch.max(outputs.data, 1)\n",
        "            total += labels.size(0)\n",
        "            correct += (predicted == labels).sum().item()\n",
        "    loss /= len(testloader)\n",
        "    accuracy = correct / total\n",
        "    return loss, accuracy"
      ]
    },
    {
      "cell_type": "markdown",
      "metadata": {
        "id": "wJH4J1M-Wjt5"
      },
      "source": [
        "### Training the model\n",
        "\n",
        "We now have all the basic building blocks we need: a dataset, a model, a training function, and a test function. Let's put them together to train the model on the dataset of one of our organizations (`trainloaders[0]`). This simulates the reality of most machine learning projects today: each organization has their own data and trains models only on this internal data: "
      ]
    },
    {
      "cell_type": "code",
      "execution_count": 14,
      "metadata": {
        "id": "27_1WZoXpK_x"
      },
      "outputs": [],
      "source": [
        "trainloader = trainloaders[0]\n",
        "valloader = valloaders[0]\n",
        "net = Net().to(DEVICE)"
      ]
    },
    {
      "cell_type": "code",
      "execution_count": 15,
      "metadata": {
        "colab": {
          "base_uri": "https://localhost:8080/"
        },
        "id": "ljchGOaqWjt5",
        "outputId": "1833128c-f6db-4435-ff16-8842abc1846f"
      },
      "outputs": [
        {
          "output_type": "stream",
          "name": "stdout",
          "text": [
            "Epoch 1: validation loss 2.2645989656448364, accuracy 0.5100401606425703\n",
            "Epoch 2: validation loss 2.082916557788849, accuracy 0.5381526104417671\n",
            "Epoch 3: validation loss 2.384424924850464, accuracy 0.5180722891566265\n",
            "Epoch 4: validation loss 1.5900553464889526, accuracy 0.5421686746987951\n",
            "Epoch 5: validation loss 2.4110782146453857, accuracy 0.5301204819277109\n",
            "Epoch 6: validation loss 2.1720573902130127, accuracy 0.5341365461847389\n",
            "Epoch 7: validation loss 2.2635498046875, accuracy 0.5301204819277109\n",
            "Epoch 8: validation loss 1.648785412311554, accuracy 0.5662650602409639\n",
            "Epoch 9: validation loss 1.5204484462738037, accuracy 0.5381526104417671\n",
            "Epoch 10: validation loss 2.371797800064087, accuracy 0.5220883534136547\n",
            "Epoch 11: validation loss 2.1803704500198364, accuracy 0.5301204819277109\n",
            "Epoch 12: validation loss 2.671631932258606, accuracy 0.5180722891566265\n",
            "Epoch 13: validation loss 1.4953691363334656, accuracy 0.5582329317269076\n",
            "Epoch 14: validation loss 2.4977896213531494, accuracy 0.5140562248995983\n",
            "Epoch 15: validation loss 2.075176477432251, accuracy 0.5461847389558233\n",
            "Final test set performance:\n",
            "\tloss 3.5117278461214863\n",
            "\taccuracy 0.2229\n"
          ]
        }
      ],
      "source": [
        "for epoch in range(NUM_EPOCHS):\n",
        "    epoch_loss = train(net, trainloader, 1)\n",
        "    loss, accuracy = test(net, valloader)\n",
        "    print(f\"Epoch {epoch+1}: validation loss {loss}, accuracy {accuracy}\")\n",
        "\n",
        "loss, accuracy = test(net, testloader)\n",
        "print(f\"Final test set performance:\\n\\tloss {loss}\\n\\taccuracy {accuracy}\")"
      ]
    },
    {
      "cell_type": "markdown",
      "metadata": {
        "id": "-zW_2S7cWjt6"
      },
      "source": [
        "Training the simple CNN on our CIFAR-10 split for 5 epochs should result in a test set accuracy of about 41%, which is not good, but at the same time, it doesn't really matter for the purposes of this tutorial. The intent was just to show a simplistic centralized training pipeline that sets the stage for what comes next - federated learning!"
      ]
    },
    {
      "cell_type": "markdown",
      "metadata": {
        "id": "KccAio_JWjt6"
      },
      "source": [
        "## Step 3: Federated Learning with Flower\n",
        "\n",
        "Step 1 demonstrated a simple centralized training pipeline. All data was in one place (i.e., a single `trainloader` and a single `valloader`). Next, we'll simulate a situation where we have multiple datasets in multiple organizations and where we train a model over these organizations using federated learning."
      ]
    },
    {
      "cell_type": "markdown",
      "metadata": {
        "id": "_9p9bEQZWjt7"
      },
      "source": [
        "### Updating model parameters\n",
        "\n",
        "In federated learning, the server sends the global model parameters to the client, and the client updates the local model with the parameters received from the server. It then trains the model on the local data (which changes the model parameters locally) and sends the updated/changed model parameters back to the server (or, alternatively, it sends just the gradients back to the server, not the full model parameters).\n",
        "\n",
        "We need two helper functions to update the local model with parameters received from the server and to get the updated model parameters from the local model: `set_parameters` and `get_parameters`. The following two functions do just that for the PyTorch model above.\n",
        "\n",
        "The details of how this works are not really important here (feel free to consult the PyTorch documentation if you want to learn more). In essence, we use `state_dict` to access PyTorch model parameter tensors. The parameter tensors are then converted to/from a list of NumPy ndarray's (which Flower knows how to serialize/deserialize):"
      ]
    },
    {
      "cell_type": "code",
      "execution_count": 16,
      "metadata": {
        "id": "p4Gh2JWqWjt7"
      },
      "outputs": [],
      "source": [
        "def get_parameters_network(net) -> List[np.ndarray]:\n",
        "    return [val.cpu().numpy() for _, val in net.state_dict().items()]\n",
        "\n",
        "def set_parameters_network(net, parameters: List[np.ndarray]) -> None:\n",
        "    params_dict = zip(net.state_dict().keys(), parameters)\n",
        "    state_dict = OrderedDict({k: torch.Tensor(v) for k, v in params_dict})\n",
        "    net.load_state_dict(state_dict, strict=True)\n",
        "\n"
      ]
    },
    {
      "cell_type": "markdown",
      "source": [
        "We will also need to aggregate a list of networks."
      ],
      "metadata": {
        "id": "K9s4ndKEWbbj"
      }
    },
    {
      "cell_type": "code",
      "source": [
        "def aggregate_networks(models: List[nn.Module], weights: np.array) -> nn.Module:\n",
        "\n",
        "    all_parameters = [get_parameters_network(net) for net in models]\n",
        "    aggregated_parameters = [np.sum([weights[n] * all_parameters[n][p] for n in range(len(models))], axis=0) \n",
        "              for p in range(len(all_parameters[0]))]\n",
        "\n",
        "    net = copy.deepcopy(models[0])\n",
        "    set_parameters_network(net, aggregated_parameters)\n",
        "    return net"
      ],
      "metadata": {
        "id": "JtuTENTUWaWJ"
      },
      "execution_count": 17,
      "outputs": []
    },
    {
      "cell_type": "markdown",
      "metadata": {
        "id": "0HEu1GLOWjt8"
      },
      "source": [
        "### Implementing a Flower client\n",
        "\n",
        "With that out of the way, let's move on to the interesting part. Federated learning systems consist of a server and multiple clients. In Flower, we create clients by implementing subclasses of `flwr.client.Client` or `flwr.client.NumPyClient`. We use `NumPyClient` in this tutorial because it is easier to implement and requires us to write less boilerplate.\n",
        "\n",
        "To implement the Flower client, we create a subclass of `flwr.client.NumPyClient` and implement the three methods `get_parameters`, `fit`, and `evaluate`:\n",
        "\n",
        "* `get_parameters`: Return the current local model parameters\n",
        "* `fit`: Receive model parameters from the server, train the model parameters on the local data, and return the (updated) model parameters to the server\n",
        "* `evaluate`: Receive model parameters from the server, evaluate the model parameters on the local data, and return the evaluation result to the server\n",
        "\n",
        "We mentioned that our clients will use the previously defined PyTorch components for model training and evaluation. Let's see a simple Flower client implementation that brings everything together:"
      ]
    },
    {
      "cell_type": "code",
      "execution_count": 18,
      "metadata": {
        "id": "X6vS7MjFWjt8"
      },
      "outputs": [],
      "source": [
        "class FlowerClient(fl.client.NumPyClient):\n",
        "    def __init__(self, net, trainloader, valloader):\n",
        "        self.net = net\n",
        "        self.trainloader = trainloader\n",
        "        self.valloader = valloader\n",
        "\n",
        "    def get_parameters(self, config):\n",
        "        return get_parameters_network(self.net)\n",
        "\n",
        "    def fit(self, parameters, config):\n",
        "        set_parameters_network(self.net, parameters)\n",
        "        epoch_loss = train(self.net, self.trainloader, epochs=NUM_LOCAL_EPOCHS)\n",
        "        return get_parameters_network(self.net), len(self.trainloader), {\"train_loss\": float(epoch_loss)}\n",
        "\n",
        "    def evaluate(self, parameters, config):\n",
        "        set_parameters_network(self.net, parameters)\n",
        "        loss, accuracy = test(self.net, self.valloader)\n",
        "        return float(loss), len(self.valloader), {\"test_accuracy\": float(accuracy)}"
      ]
    },
    {
      "cell_type": "markdown",
      "metadata": {
        "id": "vriOO6UhWjt8"
      },
      "source": [
        "Our class `FlowerClient` defines how local training/evaluation will be performed and allows Flower to call the local training/evaluation through `fit` and `evaluate`. Each instance of `FlowerClient` represents a *single client* in our federated learning system. Federated learning systems have multiple clients (otherwise, there's not much to federate), so each client will be represented by its own instance of `FlowerClient`. If we have, for example, three clients in our workload, then we'd have three instances of `FlowerClient`. Flower calls `FlowerClient.fit` on the respective instance when the server selects a particular client for training (and `FlowerClient.evaluate` for evaluation).\n",
        "\n",
        "### Using the Virtual Client Engine\n",
        "\n",
        "In this notebook, we want to simulate a federated learning system with 10 clients on a single machine. This means that the server and all 10 clients will live on a single machine and share resources such as CPU, GPU, and memory. Having 10 clients would mean having 10 instances of `FlowerClient` in memory. Doing this on a single machine can quickly exhaust the available memory resources, even if only a subset of these clients participates in a single round of federated learning.\n",
        "\n",
        "In addition to the regular capabilities where server and clients run on multiple machines, Flower, therefore, provides special simulation capabilities that create `FlowerClient` instances only when they are actually necessary for training or evaluation. To enable the Flower framework to create clients when necessary, we need to implement a function called `client_fn` that creates a `FlowerClient` instance on demand. Flower calls `client_fn` whenever it needs an instance of one particular client to call `fit` or `evaluate` (those instances are usually discarded after use, so they should not keep any local state). Clients are identified by a client ID, or short `cid`. The `cid` can be used, for example, to load different local data partitions for different clients, as can be seen below:"
      ]
    },
    {
      "cell_type": "code",
      "execution_count": 19,
      "metadata": {
        "id": "Rb2huDGeWjt9"
      },
      "outputs": [],
      "source": [
        "def client_fn_FedAvg(cid: str) -> FlowerClient:\n",
        "    \"\"\"Create a Flower client representing a single organization.\"\"\"\n",
        "\n",
        "    # Load model\n",
        "    net = Net().to(DEVICE)\n",
        "\n",
        "    # Load data (CIFAR-10)\n",
        "    # Note: each client gets a different trainloader/valloader, so each client\n",
        "    # will train and evaluate on their own unique data\n",
        "    trainloader = trainloaders[int(cid)]\n",
        "    valloader = valloaders[int(cid)]\n",
        "\n",
        "    # Create a  single Flower client representing a single organization\n",
        "    return FlowerClient(net, trainloader, valloader)"
      ]
    },
    {
      "cell_type": "markdown",
      "metadata": {
        "id": "s2Vjq_RKWjt_"
      },
      "source": [
        "### How to get accuracy?\n",
        "\n",
        "Flower can automatically aggregate losses returned by individual clients, but it cannot do the same for metrics in the generic metrics dictionary (the one with the `accuracy` key). Metrics dictionaries can contain very different kinds of metrics and even key/value pairs that are not metrics at all, so the framework does not (and can not) know how to handle these automatically.\n",
        "\n",
        "As users, we need to tell the framework how to handle/aggregate these custom metrics, and we do so by passing metric aggregation functions to the strategy. The strategy will then call these functions whenever it receives fit or evaluate metrics from clients. The two possible functions are `fit_metrics_aggregation_fn` and `evaluate_metrics_aggregation_fn`.\n",
        "\n",
        "Let's create a simple weighted averaging function to aggregate the `accuracy` metric we return from `evaluate`:"
      ]
    },
    {
      "cell_type": "code",
      "execution_count": 20,
      "metadata": {
        "id": "2UFhua0RWjt_"
      },
      "outputs": [],
      "source": [
        "def weighted_average_test_acc(metrics: List[Tuple[int, Metrics]]) -> Metrics:\n",
        "    # Multiply accuracy of each client by number of examples used\n",
        "    accuracies = [num_examples * m[\"test_accuracy\"] for num_examples, m in metrics]\n",
        "    examples = [num_examples for num_examples, _ in metrics]\n",
        "\n",
        "    # Aggregate and return custom metric (weighted average)\n",
        "    return {\"test_accuracy\": sum(accuracies) / sum(examples)}\n",
        "\n",
        "\n",
        "def weighted_average_train_loss(metrics: List[Tuple[int, Metrics]]) -> Metrics:\n",
        "    # Multiply accuracy of each client by number of examples used\n",
        "    losses = [num_examples * m[\"train_loss\"] for num_examples, m in metrics]\n",
        "    examples = [num_examples for num_examples, _ in metrics]\n",
        "\n",
        "    # Aggregate and return custom metric (weighted average)\n",
        "    return {\"train_loss\": sum(losses) / sum(examples)}"
      ]
    },
    {
      "cell_type": "markdown",
      "metadata": {
        "id": "KYjqoskgWjt9"
      },
      "source": [
        "### Starting the training\n",
        "\n",
        "We now have the class `FlowerClient` which defines client-side training/evaluation and `client_fn` which allows Flower to create `FlowerClient` instances whenever it needs to call `fit` or `evaluate` on one particular client. The last step is to start the actual simulation using `flwr.simulation.start_simulation`. \n",
        "\n",
        "The function `start_simulation` accepts a number of arguments, amongst them the `client_fn` used to create `FlowerClient` instances, the number of clients to simulate (`num_clients`), the number of federated learning rounds (`num_rounds`), and the strategy. The strategy encapsulates the federated learning approach/algorithm, for example, *Federated Averaging* (FedAvg).\n",
        "\n",
        "Flower has a number of built-in strategies, but we can also use our own strategy implementations to customize nearly all aspects of the federated learning approach. For this example, we use the built-in `FedAvg` implementation and customize it using a few basic parameters. The last step is the actual call to `start_simulation` which - you guessed it - starts the simulation:"
      ]
    },
    {
      "cell_type": "code",
      "source": [
        "client_resources = None\n",
        "if DEVICE.type == \"cuda\":\n",
        "    client_resources = {\"num_gpus\": 1}\n",
        "\n",
        "print(client_resources)"
      ],
      "metadata": {
        "colab": {
          "base_uri": "https://localhost:8080/"
        },
        "id": "Ib7LPdBO2w2g",
        "outputId": "936fc775-a4e1-435b-d0d2-ef2216ba7cb2"
      },
      "execution_count": 21,
      "outputs": [
        {
          "output_type": "stream",
          "name": "stdout",
          "text": [
            "None\n"
          ]
        }
      ]
    },
    {
      "cell_type": "code",
      "execution_count": 22,
      "metadata": {
        "colab": {
          "base_uri": "https://localhost:8080/"
        },
        "id": "DEyyChrzWjt-",
        "outputId": "a238449c-bd6a-4185-b695-149bcdba5f8d"
      },
      "outputs": [
        {
          "output_type": "stream",
          "name": "stderr",
          "text": [
            "INFO flwr 2023-06-07 22:30:23,669 | app.py:146 | Starting Flower simulation, config: ServerConfig(num_rounds=15, round_timeout=None)\n",
            "INFO:flwr:Starting Flower simulation, config: ServerConfig(num_rounds=15, round_timeout=None)\n",
            "2023-06-07 22:30:26,678\tINFO worker.py:1625 -- Started a local Ray instance.\n",
            "INFO flwr 2023-06-07 22:30:28,711 | app.py:180 | Flower VCE: Ray initialized with resources: {'object_store_memory': 3953493196.0, 'CPU': 2.0, 'memory': 7906986395.0, 'node:172.28.0.12': 1.0}\n",
            "INFO:flwr:Flower VCE: Ray initialized with resources: {'object_store_memory': 3953493196.0, 'CPU': 2.0, 'memory': 7906986395.0, 'node:172.28.0.12': 1.0}\n",
            "INFO flwr 2023-06-07 22:30:28,715 | server.py:86 | Initializing global parameters\n",
            "INFO:flwr:Initializing global parameters\n",
            "INFO flwr 2023-06-07 22:30:28,719 | server.py:273 | Requesting initial parameters from one random client\n",
            "INFO:flwr:Requesting initial parameters from one random client\n",
            "\u001b[2m\u001b[36m(pid=25923)\u001b[0m 2023-06-07 22:30:32.371959: W tensorflow/compiler/tf2tensorrt/utils/py_utils.cc:38] TF-TRT Warning: Could not find TensorRT\n",
            "INFO flwr 2023-06-07 22:30:38,478 | server.py:277 | Received initial parameters from one random client\n",
            "INFO:flwr:Received initial parameters from one random client\n",
            "INFO flwr 2023-06-07 22:30:38,484 | server.py:88 | Evaluating initial parameters\n",
            "INFO:flwr:Evaluating initial parameters\n",
            "INFO flwr 2023-06-07 22:30:38,492 | server.py:101 | FL starting\n",
            "INFO:flwr:FL starting\n",
            "DEBUG flwr 2023-06-07 22:30:38,497 | server.py:218 | fit_round 1: strategy sampled 20 clients (out of 20)\n",
            "DEBUG:flwr:fit_round 1: strategy sampled 20 clients (out of 20)\n",
            "\u001b[2m\u001b[36m(pid=25922)\u001b[0m 2023-06-07 22:30:55.249829: W tensorflow/compiler/tf2tensorrt/utils/py_utils.cc:38] TF-TRT Warning: Could not find TensorRT\n",
            "DEBUG flwr 2023-06-07 22:31:41,305 | server.py:232 | fit_round 1 received 20 results and 0 failures\n",
            "DEBUG:flwr:fit_round 1 received 20 results and 0 failures\n",
            "DEBUG flwr 2023-06-07 22:31:41,329 | server.py:168 | evaluate_round 1: strategy sampled 20 clients (out of 20)\n",
            "DEBUG:flwr:evaluate_round 1: strategy sampled 20 clients (out of 20)\n",
            "DEBUG flwr 2023-06-07 22:32:21,935 | server.py:182 | evaluate_round 1 received 20 results and 0 failures\n",
            "DEBUG:flwr:evaluate_round 1 received 20 results and 0 failures\n",
            "DEBUG flwr 2023-06-07 22:32:21,939 | server.py:218 | fit_round 2: strategy sampled 20 clients (out of 20)\n",
            "DEBUG:flwr:fit_round 2: strategy sampled 20 clients (out of 20)\n",
            "DEBUG flwr 2023-06-07 22:33:17,630 | server.py:232 | fit_round 2 received 20 results and 0 failures\n",
            "DEBUG:flwr:fit_round 2 received 20 results and 0 failures\n",
            "DEBUG flwr 2023-06-07 22:33:17,651 | server.py:168 | evaluate_round 2: strategy sampled 20 clients (out of 20)\n",
            "DEBUG:flwr:evaluate_round 2: strategy sampled 20 clients (out of 20)\n",
            "DEBUG flwr 2023-06-07 22:33:55,125 | server.py:182 | evaluate_round 2 received 20 results and 0 failures\n",
            "DEBUG:flwr:evaluate_round 2 received 20 results and 0 failures\n",
            "DEBUG flwr 2023-06-07 22:33:55,130 | server.py:218 | fit_round 3: strategy sampled 20 clients (out of 20)\n",
            "DEBUG:flwr:fit_round 3: strategy sampled 20 clients (out of 20)\n",
            "DEBUG flwr 2023-06-07 22:34:51,451 | server.py:232 | fit_round 3 received 20 results and 0 failures\n",
            "DEBUG:flwr:fit_round 3 received 20 results and 0 failures\n",
            "DEBUG flwr 2023-06-07 22:34:51,475 | server.py:168 | evaluate_round 3: strategy sampled 20 clients (out of 20)\n",
            "DEBUG:flwr:evaluate_round 3: strategy sampled 20 clients (out of 20)\n",
            "DEBUG flwr 2023-06-07 22:35:32,720 | server.py:182 | evaluate_round 3 received 20 results and 0 failures\n",
            "DEBUG:flwr:evaluate_round 3 received 20 results and 0 failures\n",
            "DEBUG flwr 2023-06-07 22:35:32,723 | server.py:218 | fit_round 4: strategy sampled 20 clients (out of 20)\n",
            "DEBUG:flwr:fit_round 4: strategy sampled 20 clients (out of 20)\n",
            "DEBUG flwr 2023-06-07 22:36:25,463 | server.py:232 | fit_round 4 received 20 results and 0 failures\n",
            "DEBUG:flwr:fit_round 4 received 20 results and 0 failures\n",
            "DEBUG flwr 2023-06-07 22:36:25,481 | server.py:168 | evaluate_round 4: strategy sampled 20 clients (out of 20)\n",
            "DEBUG:flwr:evaluate_round 4: strategy sampled 20 clients (out of 20)\n",
            "DEBUG flwr 2023-06-07 22:37:04,126 | server.py:182 | evaluate_round 4 received 20 results and 0 failures\n",
            "DEBUG:flwr:evaluate_round 4 received 20 results and 0 failures\n",
            "DEBUG flwr 2023-06-07 22:37:04,135 | server.py:218 | fit_round 5: strategy sampled 20 clients (out of 20)\n",
            "DEBUG:flwr:fit_round 5: strategy sampled 20 clients (out of 20)\n",
            "DEBUG flwr 2023-06-07 22:37:56,342 | server.py:232 | fit_round 5 received 20 results and 0 failures\n",
            "DEBUG:flwr:fit_round 5 received 20 results and 0 failures\n",
            "DEBUG flwr 2023-06-07 22:37:56,360 | server.py:168 | evaluate_round 5: strategy sampled 20 clients (out of 20)\n",
            "DEBUG:flwr:evaluate_round 5: strategy sampled 20 clients (out of 20)\n",
            "DEBUG flwr 2023-06-07 22:38:36,813 | server.py:182 | evaluate_round 5 received 20 results and 0 failures\n",
            "DEBUG:flwr:evaluate_round 5 received 20 results and 0 failures\n",
            "DEBUG flwr 2023-06-07 22:38:36,818 | server.py:218 | fit_round 6: strategy sampled 20 clients (out of 20)\n",
            "DEBUG:flwr:fit_round 6: strategy sampled 20 clients (out of 20)\n",
            "DEBUG flwr 2023-06-07 22:39:29,797 | server.py:232 | fit_round 6 received 20 results and 0 failures\n",
            "DEBUG:flwr:fit_round 6 received 20 results and 0 failures\n",
            "DEBUG flwr 2023-06-07 22:39:29,823 | server.py:168 | evaluate_round 6: strategy sampled 20 clients (out of 20)\n",
            "DEBUG:flwr:evaluate_round 6: strategy sampled 20 clients (out of 20)\n",
            "DEBUG flwr 2023-06-07 22:40:09,055 | server.py:182 | evaluate_round 6 received 20 results and 0 failures\n",
            "DEBUG:flwr:evaluate_round 6 received 20 results and 0 failures\n",
            "DEBUG flwr 2023-06-07 22:40:09,063 | server.py:218 | fit_round 7: strategy sampled 20 clients (out of 20)\n",
            "DEBUG:flwr:fit_round 7: strategy sampled 20 clients (out of 20)\n",
            "DEBUG flwr 2023-06-07 22:41:02,024 | server.py:232 | fit_round 7 received 20 results and 0 failures\n",
            "DEBUG:flwr:fit_round 7 received 20 results and 0 failures\n",
            "DEBUG flwr 2023-06-07 22:41:02,045 | server.py:168 | evaluate_round 7: strategy sampled 20 clients (out of 20)\n",
            "DEBUG:flwr:evaluate_round 7: strategy sampled 20 clients (out of 20)\n",
            "DEBUG flwr 2023-06-07 22:41:40,579 | server.py:182 | evaluate_round 7 received 20 results and 0 failures\n",
            "DEBUG:flwr:evaluate_round 7 received 20 results and 0 failures\n",
            "DEBUG flwr 2023-06-07 22:41:40,587 | server.py:218 | fit_round 8: strategy sampled 20 clients (out of 20)\n",
            "DEBUG:flwr:fit_round 8: strategy sampled 20 clients (out of 20)\n",
            "DEBUG flwr 2023-06-07 22:42:32,921 | server.py:232 | fit_round 8 received 20 results and 0 failures\n",
            "DEBUG:flwr:fit_round 8 received 20 results and 0 failures\n",
            "DEBUG flwr 2023-06-07 22:42:32,941 | server.py:168 | evaluate_round 8: strategy sampled 20 clients (out of 20)\n",
            "DEBUG:flwr:evaluate_round 8: strategy sampled 20 clients (out of 20)\n",
            "DEBUG flwr 2023-06-07 22:43:19,786 | server.py:182 | evaluate_round 8 received 20 results and 0 failures\n",
            "DEBUG:flwr:evaluate_round 8 received 20 results and 0 failures\n",
            "DEBUG flwr 2023-06-07 22:43:19,790 | server.py:218 | fit_round 9: strategy sampled 20 clients (out of 20)\n",
            "DEBUG:flwr:fit_round 9: strategy sampled 20 clients (out of 20)\n",
            "DEBUG flwr 2023-06-07 22:44:14,093 | server.py:232 | fit_round 9 received 20 results and 0 failures\n",
            "DEBUG:flwr:fit_round 9 received 20 results and 0 failures\n",
            "DEBUG flwr 2023-06-07 22:44:14,111 | server.py:168 | evaluate_round 9: strategy sampled 20 clients (out of 20)\n",
            "DEBUG:flwr:evaluate_round 9: strategy sampled 20 clients (out of 20)\n",
            "DEBUG flwr 2023-06-07 22:44:52,558 | server.py:182 | evaluate_round 9 received 20 results and 0 failures\n",
            "DEBUG:flwr:evaluate_round 9 received 20 results and 0 failures\n",
            "DEBUG flwr 2023-06-07 22:44:52,561 | server.py:218 | fit_round 10: strategy sampled 20 clients (out of 20)\n",
            "DEBUG:flwr:fit_round 10: strategy sampled 20 clients (out of 20)\n",
            "DEBUG flwr 2023-06-07 22:45:44,748 | server.py:232 | fit_round 10 received 20 results and 0 failures\n",
            "DEBUG:flwr:fit_round 10 received 20 results and 0 failures\n",
            "DEBUG flwr 2023-06-07 22:45:44,768 | server.py:168 | evaluate_round 10: strategy sampled 20 clients (out of 20)\n",
            "DEBUG:flwr:evaluate_round 10: strategy sampled 20 clients (out of 20)\n",
            "DEBUG flwr 2023-06-07 22:46:25,522 | server.py:182 | evaluate_round 10 received 20 results and 0 failures\n",
            "DEBUG:flwr:evaluate_round 10 received 20 results and 0 failures\n",
            "DEBUG flwr 2023-06-07 22:46:25,526 | server.py:218 | fit_round 11: strategy sampled 20 clients (out of 20)\n",
            "DEBUG:flwr:fit_round 11: strategy sampled 20 clients (out of 20)\n",
            "DEBUG flwr 2023-06-07 22:47:18,176 | server.py:232 | fit_round 11 received 20 results and 0 failures\n",
            "DEBUG:flwr:fit_round 11 received 20 results and 0 failures\n",
            "DEBUG flwr 2023-06-07 22:47:18,204 | server.py:168 | evaluate_round 11: strategy sampled 20 clients (out of 20)\n",
            "DEBUG:flwr:evaluate_round 11: strategy sampled 20 clients (out of 20)\n",
            "DEBUG flwr 2023-06-07 22:47:58,793 | server.py:182 | evaluate_round 11 received 20 results and 0 failures\n",
            "DEBUG:flwr:evaluate_round 11 received 20 results and 0 failures\n",
            "DEBUG flwr 2023-06-07 22:47:58,798 | server.py:218 | fit_round 12: strategy sampled 20 clients (out of 20)\n",
            "DEBUG:flwr:fit_round 12: strategy sampled 20 clients (out of 20)\n",
            "DEBUG flwr 2023-06-07 22:48:51,618 | server.py:232 | fit_round 12 received 20 results and 0 failures\n",
            "DEBUG:flwr:fit_round 12 received 20 results and 0 failures\n",
            "DEBUG flwr 2023-06-07 22:48:51,635 | server.py:168 | evaluate_round 12: strategy sampled 20 clients (out of 20)\n",
            "DEBUG:flwr:evaluate_round 12: strategy sampled 20 clients (out of 20)\n",
            "DEBUG flwr 2023-06-07 22:49:30,274 | server.py:182 | evaluate_round 12 received 20 results and 0 failures\n",
            "DEBUG:flwr:evaluate_round 12 received 20 results and 0 failures\n",
            "DEBUG flwr 2023-06-07 22:49:30,282 | server.py:218 | fit_round 13: strategy sampled 20 clients (out of 20)\n",
            "DEBUG:flwr:fit_round 13: strategy sampled 20 clients (out of 20)\n",
            "DEBUG flwr 2023-06-07 22:50:22,583 | server.py:232 | fit_round 13 received 20 results and 0 failures\n",
            "DEBUG:flwr:fit_round 13 received 20 results and 0 failures\n",
            "DEBUG flwr 2023-06-07 22:50:22,614 | server.py:168 | evaluate_round 13: strategy sampled 20 clients (out of 20)\n",
            "DEBUG:flwr:evaluate_round 13: strategy sampled 20 clients (out of 20)\n",
            "DEBUG flwr 2023-06-07 22:51:01,174 | server.py:182 | evaluate_round 13 received 20 results and 0 failures\n",
            "DEBUG:flwr:evaluate_round 13 received 20 results and 0 failures\n",
            "DEBUG flwr 2023-06-07 22:51:01,180 | server.py:218 | fit_round 14: strategy sampled 20 clients (out of 20)\n",
            "DEBUG:flwr:fit_round 14: strategy sampled 20 clients (out of 20)\n",
            "DEBUG flwr 2023-06-07 22:51:53,474 | server.py:232 | fit_round 14 received 20 results and 0 failures\n",
            "DEBUG:flwr:fit_round 14 received 20 results and 0 failures\n",
            "DEBUG flwr 2023-06-07 22:51:53,495 | server.py:168 | evaluate_round 14: strategy sampled 20 clients (out of 20)\n",
            "DEBUG:flwr:evaluate_round 14: strategy sampled 20 clients (out of 20)\n",
            "DEBUG flwr 2023-06-07 22:52:35,086 | server.py:182 | evaluate_round 14 received 20 results and 0 failures\n",
            "DEBUG:flwr:evaluate_round 14 received 20 results and 0 failures\n",
            "DEBUG flwr 2023-06-07 22:52:35,092 | server.py:218 | fit_round 15: strategy sampled 20 clients (out of 20)\n",
            "DEBUG:flwr:fit_round 15: strategy sampled 20 clients (out of 20)\n",
            "DEBUG flwr 2023-06-07 22:53:31,200 | server.py:232 | fit_round 15 received 20 results and 0 failures\n",
            "DEBUG:flwr:fit_round 15 received 20 results and 0 failures\n",
            "DEBUG flwr 2023-06-07 22:53:31,220 | server.py:168 | evaluate_round 15: strategy sampled 20 clients (out of 20)\n",
            "DEBUG:flwr:evaluate_round 15: strategy sampled 20 clients (out of 20)\n",
            "DEBUG flwr 2023-06-07 22:54:09,708 | server.py:182 | evaluate_round 15 received 20 results and 0 failures\n",
            "DEBUG:flwr:evaluate_round 15 received 20 results and 0 failures\n",
            "INFO flwr 2023-06-07 22:54:09,714 | server.py:147 | FL finished in 1411.2172310239994\n",
            "INFO:flwr:FL finished in 1411.2172310239994\n",
            "INFO flwr 2023-06-07 22:54:09,719 | app.py:218 | app_fit: losses_distributed [(1, 1.8482042878866196), (2, 1.803266641497612), (3, 1.7876733094453812), (4, 1.7659043043851852), (5, 1.746880042552948), (6, 1.7367181837558747), (7, 1.7241038650274276), (8, 1.7011664867401124), (9, 1.7025305211544037), (10, 1.6947420179843902), (11, 1.6958919316530228), (12, 1.6911351472139358), (13, 1.6851029217243194), (14, 1.682364284992218), (15, 1.6795176982879638)]\n",
            "INFO:flwr:app_fit: losses_distributed [(1, 1.8482042878866196), (2, 1.803266641497612), (3, 1.7876733094453812), (4, 1.7659043043851852), (5, 1.746880042552948), (6, 1.7367181837558747), (7, 1.7241038650274276), (8, 1.7011664867401124), (9, 1.7025305211544037), (10, 1.6947420179843902), (11, 1.6958919316530228), (12, 1.6911351472139358), (13, 1.6851029217243194), (14, 1.682364284992218), (15, 1.6795176982879638)]\n",
            "INFO flwr 2023-06-07 22:54:09,725 | app.py:219 | app_fit: metrics_distributed_fit {'train_loss': [(1, 2.326476901769638), (2, 2.214013248682022), (3, 2.1664539098739626), (4, 2.1544062793254852), (5, 2.1279674112796783), (6, 2.092744743824005), (7, 2.0667691051959993), (8, 2.043348878622055), (9, 2.030623143911362), (10, 2.029985475540161), (11, 1.9995331168174744), (12, 1.984698224067688), (13, 1.9984506785869598), (14, 1.984781175851822), (15, 1.9833582580089568)]}\n",
            "INFO:flwr:app_fit: metrics_distributed_fit {'train_loss': [(1, 2.326476901769638), (2, 2.214013248682022), (3, 2.1664539098739626), (4, 2.1544062793254852), (5, 2.1279674112796783), (6, 2.092744743824005), (7, 2.0667691051959993), (8, 2.043348878622055), (9, 2.030623143911362), (10, 2.029985475540161), (11, 1.9995331168174744), (12, 1.984698224067688), (13, 1.9984506785869598), (14, 1.984781175851822), (15, 1.9833582580089568)]}\n",
            "INFO flwr 2023-06-07 22:54:09,727 | app.py:220 | app_fit: metrics_distributed {'test_accuracy': [(1, 0.35923694779116466), (2, 0.3755020080321285), (3, 0.3895582329317269), (4, 0.3955823293172691), (5, 0.4006024096385542), (6, 0.4070281124497992), (7, 0.41024096385542175), (8, 0.41566265060240964), (9, 0.41787148594377505), (10, 0.4168674698795181), (11, 0.4182730923694778), (12, 0.4234939759036144), (13, 0.4238955823293173), (14, 0.4279116465863454), (15, 0.4265060240963856)]}\n",
            "INFO:flwr:app_fit: metrics_distributed {'test_accuracy': [(1, 0.35923694779116466), (2, 0.3755020080321285), (3, 0.3895582329317269), (4, 0.3955823293172691), (5, 0.4006024096385542), (6, 0.4070281124497992), (7, 0.41024096385542175), (8, 0.41566265060240964), (9, 0.41787148594377505), (10, 0.4168674698795181), (11, 0.4182730923694778), (12, 0.4234939759036144), (13, 0.4238955823293173), (14, 0.4279116465863454), (15, 0.4265060240963856)]}\n",
            "INFO flwr 2023-06-07 22:54:09,729 | app.py:221 | app_fit: losses_centralized []\n",
            "INFO:flwr:app_fit: losses_centralized []\n",
            "INFO flwr 2023-06-07 22:54:09,731 | app.py:222 | app_fit: metrics_centralized {}\n",
            "INFO:flwr:app_fit: metrics_centralized {}\n"
          ]
        }
      ],
      "source": [
        "# Create FedAvg strategy\n",
        "strategy = fl.server.strategy.FedAvg(\n",
        "    fraction_fit=1,  # Sample 100% of available clients for training\n",
        "    fraction_evaluate=1,  # Sample 50% of available clients for evaluation\n",
        "    min_fit_clients=5,  # Never sample less than 10 clients for training\n",
        "    min_evaluate_clients=5,  # Never sample less than 5 clients for evaluation\n",
        "    min_available_clients=5,  # Wait until all 10 clients are available\n",
        "    evaluate_metrics_aggregation_fn=weighted_average_test_acc,  # <-- pass the metric aggregation function\n",
        "    fit_metrics_aggregation_fn=weighted_average_train_loss,\n",
        ")\n",
        "\n",
        "# Specify client resources if you need GPU (defaults to 1 CPU and 0 GPU)\n",
        "client_resources = None\n",
        "if DEVICE.type == \"cuda\":\n",
        "    client_resources = {\"num_gpus\": 1}\n",
        "\n",
        "# Start simulation\n",
        "result_fedavg = fl.simulation.start_simulation(\n",
        "    client_fn=client_fn_FedAvg,\n",
        "    num_clients=NUM_CLIENTS,\n",
        "    config=fl.server.ServerConfig(num_rounds=NUM_EPOCHS),\n",
        "    strategy=strategy,\n",
        "    client_resources=client_resources,\n",
        ")"
      ]
    },
    {
      "cell_type": "markdown",
      "metadata": {
        "id": "fmGj0shtWjt_"
      },
      "source": [
        "### Behind the scenes\n",
        "\n",
        "So how does this work? How does Flower execute this simulation?\n",
        "\n",
        "When we call `start_simulation`, we tell Flower that there are 10 clients (`num_clients=10`). Flower then goes ahead an asks the `FedAvg` strategy to select clients. `FedAvg` knows that it should select 100% of the available clients (`fraction_fit=1.0`), so it goes ahead and selects 10 random clients (i.e., 100% of 10).\n",
        "\n",
        "Flower then asks the selected 10 clients to train the model. When the server receives the model parameter updates from the clients, it hands those updates over to the strategy (*FedAvg*) for aggregation. The strategy aggregates those updates and returns the new global model, which then gets used in the next round of federated learning."
      ]
    },
    {
      "cell_type": "markdown",
      "metadata": {
        "id": "v7meFn2qWjuA"
      },
      "source": [
        "We now have a full system that performs federated training and federated evaluation. It uses the `weighted_average` function to aggregate custom evaluation metrics and calculates a single `accuracy` metric across all clients on the server side.\n",
        "\n",
        "The other two categories of metrics (`losses_centralized` and `metrics_centralized`) are still empty because they only apply when centralized evaluation is being used. Part two of the Flower tutorial will cover centralized evaluation."
      ]
    },
    {
      "cell_type": "markdown",
      "metadata": {
        "id": "fJIHGIKMeTT6"
      },
      "source": [
        "### Plotting error and accuracy\n",
        "\n",
        "Now, it remains to plot the logarithm excess loss and the training accuracy."
      ]
    },
    {
      "cell_type": "code",
      "execution_count": 23,
      "metadata": {
        "id": "j3BYp7dgPLCw"
      },
      "outputs": [],
      "source": [
        "def plot_metrics(list_train_losses, list_test_losses, liss_accuracies, list_names):\n",
        "    fig, ax = plt.subplots(nrows=1, ncols=3, figsize=(15, 5))\n",
        "    for (train_loss, test_loss, acc, name) in zip(list_train_losses, list_test_losses, liss_accuracies, list_names):\n",
        "        ax[0].plot(train_loss, label=name)\n",
        "        ax[0].set_title('log10(Training Loss)')\n",
        "        ax[0].set_xlabel('Epoch')\n",
        "        ax[0].set_ylabel('log10(Train loss)')\n",
        "        ax[0].set_yscale('log')\n",
        "        ax[0].legend()\n",
        "        ax[1].plot(test_loss, label=name)\n",
        "        ax[1].set_title('log10(Test Loss)')\n",
        "        ax[1].set_xlabel('Epoch')\n",
        "        ax[1].set_ylabel('log10(Train loss)')\n",
        "        ax[1].set_yscale('log')\n",
        "        ax[1].legend()\n",
        "        ax[2].plot(acc, label=name)\n",
        "        ax[2].set_title('Test Accuracy')\n",
        "        ax[2].set_xlabel('Epoch')\n",
        "        ax[2].set_ylabel('Accuracy')\n",
        "        ax[2].legend()\n",
        "    plt.show()"
      ]
    },
    {
      "cell_type": "code",
      "source": [
        "result_fedavg"
      ],
      "metadata": {
        "colab": {
          "base_uri": "https://localhost:8080/"
        },
        "id": "7i59eFMgv-CK",
        "outputId": "cdca0af3-f267-4f92-a644-12d7a5931ee2"
      },
      "execution_count": 24,
      "outputs": [
        {
          "output_type": "execute_result",
          "data": {
            "text/plain": [
              "History (loss, distributed):\n",
              "\tround 1: 1.8482042878866196\n",
              "\tround 2: 1.803266641497612\n",
              "\tround 3: 1.7876733094453812\n",
              "\tround 4: 1.7659043043851852\n",
              "\tround 5: 1.746880042552948\n",
              "\tround 6: 1.7367181837558747\n",
              "\tround 7: 1.7241038650274276\n",
              "\tround 8: 1.7011664867401124\n",
              "\tround 9: 1.7025305211544037\n",
              "\tround 10: 1.6947420179843902\n",
              "\tround 11: 1.6958919316530228\n",
              "\tround 12: 1.6911351472139358\n",
              "\tround 13: 1.6851029217243194\n",
              "\tround 14: 1.682364284992218\n",
              "\tround 15: 1.6795176982879638\n",
              "History (metrics, distributed, fit):\n",
              "{'train_loss': [(1, 2.326476901769638), (2, 2.214013248682022), (3, 2.1664539098739626), (4, 2.1544062793254852), (5, 2.1279674112796783), (6, 2.092744743824005), (7, 2.0667691051959993), (8, 2.043348878622055), (9, 2.030623143911362), (10, 2.029985475540161), (11, 1.9995331168174744), (12, 1.984698224067688), (13, 1.9984506785869598), (14, 1.984781175851822), (15, 1.9833582580089568)]}History (metrics, distributed, evaluate):\n",
              "{'test_accuracy': [(1, 0.35923694779116466), (2, 0.3755020080321285), (3, 0.3895582329317269), (4, 0.3955823293172691), (5, 0.4006024096385542), (6, 0.4070281124497992), (7, 0.41024096385542175), (8, 0.41566265060240964), (9, 0.41787148594377505), (10, 0.4168674698795181), (11, 0.4182730923694778), (12, 0.4234939759036144), (13, 0.4238955823293173), (14, 0.4279116465863454), (15, 0.4265060240963856)]}"
            ]
          },
          "metadata": {},
          "execution_count": 24
        }
      ]
    },
    {
      "cell_type": "code",
      "execution_count": 25,
      "metadata": {
        "colab": {
          "base_uri": "https://localhost:8080/",
          "height": 487
        },
        "id": "AYxly6JbbVuO",
        "outputId": "80f07d2f-32ed-4129-a3ab-b75b1c4148c6"
      },
      "outputs": [
        {
          "output_type": "display_data",
          "data": {
            "text/plain": [
              "<Figure size 1500x500 with 3 Axes>"
            ],
            "image/png": "[encoded data removed]"
          },
          "metadata": {}
        }
      ],
      "source": [
        "losses_fedavg = [key[1] for key in result_fedavg.losses_distributed]\n",
        "train_losses_fedavg = [key[1] for key in result_fedavg.metrics_distributed_fit['train_loss']]\n",
        "accuracies_fedavg = [key[1] for key in result_fedavg.metrics_distributed['test_accuracy']]\n",
        "\n",
        "\n",
        "plot_metrics([train_losses_fedavg], [losses_fedavg], [accuracies_fedavg], [\"FedAvg\"])"
      ]
    },
    {
      "cell_type": "markdown",
      "metadata": {
        "id": "XTdq5D9znaWR"
      },
      "source": [
        "## Step 4: FedEM, an algorithm to train personalized model\n",
        "\n"
      ]
    },
    {
      "cell_type": "markdown",
      "metadata": {
        "id": "Q-G5ari50j6w"
      },
      "source": []
    },
    {
      "cell_type": "markdown",
      "metadata": {
        "id": "417Tofpznpmg"
      },
      "source": [
        "### Implementing Flower clients adapted to FedEM"
      ]
    },
    {
      "cell_type": "code",
      "execution_count": 26,
      "metadata": {
        "id": "NBRSh1ht7Oan"
      },
      "outputs": [],
      "source": [
        "def zero_like(net) -> List[np.ndarray]:\n",
        "    return [np.zeros_like(val.cpu().numpy()) for _, val in net.state_dict().items()]\n"
      ]
    },
    {
      "cell_type": "code",
      "execution_count": 27,
      "metadata": {
        "id": "ljpL2-_KVF-R"
      },
      "outputs": [],
      "source": [
        "class FlowerClientFedEM(fl.client.NumPyClient):\n",
        "    def __init__(self, cid, trainloader, valloader):\n",
        "        self.cid = cid\n",
        "        self.trainloader = trainloader\n",
        "        self.valloader = valloader\n",
        "\n",
        "        self.local_epochs = NUM_LOCAL_EPOCHS\n",
        "        self.num_components = NUM_COMPONENTS\n",
        "        self.lr = LR\n",
        "\n",
        "    def train(self, models, mixture_weights, verbose=False):\n",
        "        \"\"\"Train the network on the training set.\"\"\"\n",
        "        \n",
        "        criterion = torch.nn.CrossEntropyLoss(reduce=False)\n",
        "        trained_models = [] # To store the m updated models.\n",
        "\n",
        "        \n",
        "        # Computing the mixture'weights\n",
        "        probas = [[] for m in range(self.num_components)]\n",
        "        for images, labels in self.trainloader:\n",
        "            images, labels = images.to(DEVICE), labels.to(DEVICE)\n",
        "            for m in range(self.num_components):\n",
        "                net = models[m]\n",
        "                net.eval()\n",
        "                with torch.no_grad():\n",
        "                    outputs = net(images)\n",
        "                    loss = criterion(outputs, labels)\n",
        "                probas[m].append(mixture_weights[m] * torch.exp(-loss))\n",
        "        probas = torch.stack([torch.cat(p) for p in probas])\n",
        "        normalized_proba = probas.detach().clone()\n",
        "        normalization = torch.sum(torch.Tensor(probas), axis=0)\n",
        "        for i in range(len(probas)):\n",
        "          normalized_proba[i] /= normalization\n",
        "        print(\"probas after normalization {0}: {1}\".format(self.cid, normalized_proba))\n",
        "\n",
        "        mixture_weights = torch.sum(normalized_proba, axis=1) / len(self.trainloader.dataset)\n",
        "        print(\"mixture_weights {0}: {1}\".format(self.cid, mixture_weights))\n",
        "\n",
        "\n",
        "        # Update the m model.\n",
        "        for m in range(self.num_components):\n",
        "\n",
        "            net = models[m]\n",
        "\n",
        "            optimizer = torch.optim.SGD(net.parameters(), lr=LR, momentum=0.9, weight_decay=5e-4)\n",
        "            net.train()\n",
        "            trainloader_iter = iter(self.trainloader)\n",
        "            for epoch in range(self.local_epochs):\n",
        "                correct, total, epoch_loss = 0, 0, 0.0\n",
        "                cpt = 0\n",
        "                for images, labels in self.trainloader:\n",
        "                    images, labels = images.to(DEVICE), labels.to(DEVICE)\n",
        "\n",
        "                    optimizer.zero_grad()\n",
        "                    outputs = net(images)\n",
        "                    loss_vec = criterion(outputs, labels)\n",
        "                    # It works because we are in full batch!\n",
        "                    loss = (loss_vec.T @ normalized_proba[m][cpt:cpt+len(images)]) / loss_vec.size(0)\n",
        "                    loss.backward()\n",
        "\n",
        "                    # Scaffold step\n",
        "                    optimizer.step()\n",
        "                    cpt += 1\n",
        "\n",
        "                    # Metrics\n",
        "                    epoch_loss += loss.detach()\n",
        "                    total += labels.size(0)\n",
        "                    correct += (torch.max(outputs.data, 1)[1] == labels).sum().item()\n",
        "                epoch_loss /= len(self.trainloader.dataset)\n",
        "                epoch_acc = correct / total\n",
        "                if verbose:\n",
        "                    print(f\"Epoch {epoch + 1} on client {self.cid}: train loss {epoch_loss}, accuracy {epoch_acc}\")\n",
        "                trained_models.append(net)  \n",
        "          \n",
        "        return trained_models, mixture_weights, epoch_loss\n",
        "\n",
        "    def get_parameters(self, config):\n",
        "        return get_parameters(self.net)\n",
        "\n",
        "    def fit(self, parameters, config):\n",
        "\n",
        "        # Getting the new m models\n",
        "        models = config[\"models\"]\n",
        "\n",
        "        try:\n",
        "            mixture_weights = torch.load('mixture_weights_{0}.pkl'.format(self.cid))\n",
        "        except FileNotFoundError:\n",
        "            raise FileNotFoundError(\"The mixture's weights should already exist.\")\n",
        "\n",
        "        \n",
        "        trained_models, new_mixture_weights, epoch_loss = self.train(models, mixture_weights)\n",
        "        torch.save(new_mixture_weights, 'mixture_weights_{0}.pkl'.format(self.cid))\n",
        "\n",
        "        # Personalized model after local updates and before communication with the central server\n",
        "        #self.personalized_model = aggregate_networks(trained_models, new_mixture_weights)\n",
        "        #set_parameters_network(self.personalized_model, parameters)\n",
        "\n",
        "        # Flower requires to return 1) the local upated model, 2) the local dataset size, 3) a dictionary with the additional variables.\n",
        "        return get_parameters_network(aggregate_networks(trained_models, new_mixture_weights)), len(self.trainloader), {\"trained_models\": trained_models, \n",
        "                                                                                                                        \"train_loss\": epoch_loss}\n",
        "\n",
        "\n",
        "    def test(self, networks, weights):\n",
        "        \"\"\"Evaluate the network on the entire test set.\"\"\"\n",
        "        criterion = torch.nn.CrossEntropyLoss()\n",
        "        correct, total, loss = 0, 0, 0.0\n",
        "        for net in networks:\n",
        "            net.eval()\n",
        "        with torch.no_grad():\n",
        "            for images, labels in self.valloader:\n",
        "                images, labels = images.to(DEVICE), labels.to(DEVICE)\n",
        "                outputs = torch.sum(torch.stack([networks[i](images) * weights[i] for i in range(len(networks))]), axis=0)\n",
        "                loss += criterion(outputs, labels)\n",
        "                _, predicted = torch.max(outputs.data, 1)\n",
        "                total += labels.size(0)\n",
        "                correct += (predicted == labels).sum().item()\n",
        "        loss /= len(self.valloader)\n",
        "        accuracy = correct / total\n",
        "        return loss, accuracy\n",
        "\n",
        "\n",
        "    def evaluate(self, parameters, config):\n",
        "        \n",
        "        # Getting the new m models\n",
        "        models = config[\"models\"]\n",
        "\n",
        "        try:\n",
        "            mixture_weights = torch.load('mixture_weights_{0}.pkl'.format(self.cid))\n",
        "        except FileNotFoundError:\n",
        "            raise FileNotFoundError(\"The mixture's weights should already exist.\")\n",
        "        \n",
        "        # Personalized model after communication with the central server\n",
        "        #self.personalized_model = aggregate_networks(models, mixture_weights)\n",
        "        loss, accuracy = self.test(models, mixture_weights)\n",
        "        return float(loss), len(self.valloader), {\"test_accuracy\": float(accuracy)}"
      ]
    },
    {
      "cell_type": "code",
      "execution_count": 28,
      "metadata": {
        "id": "vkEiBlcZvoXm"
      },
      "outputs": [],
      "source": [
        "def client_fn_FedEM(cid: str) -> FlowerClientFedEM:\n",
        "    \"\"\"Create a Flower client representing a single organization.\"\"\"\n",
        "\n",
        "    # Load model\n",
        "    #net = Net().to(DEVICE)\n",
        "\n",
        "    # Load data (CIFAR-10)\n",
        "    # Note: each client gets a different trainloader/valloader, so each client\n",
        "    # will train and evaluate on their own unique data\n",
        "    trainloader = trainloaders[int(cid)]\n",
        "    valloader = valloaders[int(cid)]\n",
        "\n",
        "    # Create a  single Flower client representing a single organization\n",
        "    return FlowerClientFedEM(cid, trainloader, valloader)"
      ]
    },
    {
      "cell_type": "markdown",
      "metadata": {
        "id": "U9y7JGi09vZM"
      },
      "source": [
        "### Implementing the FedEM strategy for the central server"
      ]
    },
    {
      "cell_type": "code",
      "execution_count": 29,
      "metadata": {
        "id": "QoT5PsMV9s6S"
      },
      "outputs": [],
      "source": [
        "from logging import WARNING\n",
        "from typing import Dict, List, Optional, Tuple\n",
        "from typing import Callable, Union\n",
        "\n",
        "from flwr.common import (EvaluateRes, EvaluateIns, FitIns, MetricsAggregationFn, Parameters, FitRes, Scalar, \n",
        "                        ndarrays_to_parameters, parameters_to_ndarrays)\n",
        "from flwr.server.client_manager import ClientManager\n",
        "from flwr.server.client_proxy import ClientProxy\n",
        "from flwr.server.strategy.aggregate import aggregate, weighted_loss_avg\n",
        "from flwr.common.logger import log\n",
        "\n",
        "class FedEM(fl.server.strategy.FedAvg):\n",
        "    def __init__(\n",
        "        self,\n",
        "        initial_parameters,\n",
        "        initial_model,\n",
        "        total_nb_clients: int,\n",
        "        num_components: int,\n",
        "        fraction_fit: float = 1.0,\n",
        "        fraction_evaluate: float = 1.0,\n",
        "        min_fit_clients: int = 2,\n",
        "        min_evaluate_clients: int = 2,\n",
        "        min_available_clients: int = 2,\n",
        "        evaluate_metrics_aggregation_fn: Optional[MetricsAggregationFn] = None,\n",
        "        fit_metrics_aggregation_fn: Optional[MetricsAggregationFn] = None\n",
        "    ) -> None:\n",
        "        super().__init__(initial_parameters=initial_parameters)\n",
        "        self.fraction_fit = fraction_fit\n",
        "        self.fraction_evaluate = fraction_evaluate\n",
        "        self.min_fit_clients = min_fit_clients\n",
        "        self.min_evaluate_clients = min_evaluate_clients\n",
        "        self.min_available_clients = min_available_clients\n",
        "        self.evaluate_metrics_aggregation_fn = evaluate_metrics_aggregation_fn\n",
        "        self.fit_metrics_aggregation_fn = fit_metrics_aggregation_fn\n",
        "        self.models = [initial_model for m in range(num_components)]\n",
        "        self.total_nb_clients = total_nb_clients\n",
        "        self.num_components = num_components\n",
        "        self.initialize_mixture_weights()\n",
        "\n",
        "    def initialize_mixture_weights(self) -> None:\n",
        "        # Initialization of the mixtures weights if it not exists.\n",
        "        for i in range(self.total_nb_clients):\n",
        "            mixture_weights = torch.ones(self.num_components) / self.num_components\n",
        "            torch.save(mixture_weights, 'mixture_weights_{0}.pkl'.format(i))\n",
        "        \n",
        "    def __repr__(self) -> str:\n",
        "        return \"FedEM\"\n",
        "\n",
        "    def aggregate_fit(\n",
        "        self,\n",
        "        server_round: int,\n",
        "        results: List[Tuple[ClientProxy, FitRes]],\n",
        "        failures: List[Union[Tuple[ClientProxy, FitRes], BaseException]],\n",
        "    ) -> Tuple[Optional[Parameters], Dict[str, Scalar]]:\n",
        "        \"\"\"Aggregate fit results using weighted average.\"\"\"\n",
        "\n",
        "        if not results:\n",
        "            return None, {}\n",
        "\n",
        "        # Do not aggregate if there are failures and failures are not accepted\n",
        "        if not self.accept_failures and failures:\n",
        "            return None, {}\n",
        "\n",
        "        # Aggregate personalized models\n",
        "        weights_results = [\n",
        "            (parameters_to_ndarrays(fit_res.parameters), fit_res.num_examples)\n",
        "            for _, fit_res in results\n",
        "        ]\n",
        "        aggregated_model = ndarrays_to_parameters(aggregate(weights_results))\n",
        "\n",
        "        # Convert results\n",
        "        trained_models = [fit_res.metrics[\"trained_models\"] for _, fit_res in results]\n",
        "\n",
        "        dataset_size = [fit_res.num_examples for _, fit_res in results]\n",
        "        weights_of_the_dataset = dataset_size / np.sum(dataset_size)\n",
        "\n",
        "        self.models = [aggregate_networks([models[m] for models in trained_models], weights_of_the_dataset) for m in range(self.num_components)]\n",
        "\n",
        "        # Aggregate custom metrics if aggregation fn was provided\n",
        "        metrics_aggregated = {}\n",
        "        if self.fit_metrics_aggregation_fn:\n",
        "            fit_metrics = [(res.num_examples, res.metrics) for _, res in results]\n",
        "            metrics_aggregated = self.fit_metrics_aggregation_fn(fit_metrics)\n",
        "        elif server_round == 1:  # Only log this warning once\n",
        "            log(WARNING, \"No fit_metrics_aggregation_fn provided\")\n",
        "\n",
        "        metrics_aggregated[\"models\"] = self.models\n",
        "\n",
        "        print(\"aggregate_fit\")\n",
        "\n",
        "        return aggregated_model, metrics_aggregated\n",
        "\n",
        "    def configure_fit(\n",
        "        self, server_round: int, parameters: Parameters, client_manager: ClientManager\n",
        "    ) -> List[Tuple[ClientProxy, FitIns]]:\n",
        "        \"\"\"Configure the next round of training.\"\"\"\n",
        "\n",
        "        print(\"configure_fit\")\n",
        "        config = {}\n",
        "        if self.on_fit_config_fn is not None:\n",
        "            # Custom fit config function provided\n",
        "            config = self.on_fit_config_fn(server_round)\n",
        "\n",
        "        # Adding the models to the message that is sent to the clients\n",
        "        config[\"models\"] = self.models\n",
        "        # The parameters will not be used to evaluate the model but the personalized model hold on the client.\n",
        "        fit_ins = FitIns(parameters, config)\n",
        "\n",
        "        # Sample clients\n",
        "        sample_size, min_num_clients = self.num_fit_clients(\n",
        "            client_manager.num_available()\n",
        "        )\n",
        "        clients = client_manager.sample(\n",
        "            num_clients=sample_size, min_num_clients=min_num_clients\n",
        "        )\n",
        "\n",
        "        print(\"end configure_fit\")\n",
        "        # Return client/config pairs\n",
        "        return [(client, fit_ins) for client in clients]\n",
        "\n",
        "    \n",
        "    def configure_evaluate(\n",
        "        self, server_round: int, parameters: Parameters, client_manager: ClientManager\n",
        "    ) -> List[Tuple[ClientProxy, EvaluateIns]]:\n",
        "        \"\"\"Configure the next round of evaluation.\"\"\"\n",
        "\n",
        "        print(\"configure_evaluate\")\n",
        "        # Do not configure federated evaluation if fraction eval is 0.\n",
        "        if self.fraction_evaluate == 0.0:\n",
        "            return []\n",
        "\n",
        "        # Parameters and config\n",
        "        config = {}\n",
        "        if self.on_evaluate_config_fn is not None:\n",
        "            # Custom evaluation config function provided\n",
        "            config = self.on_evaluate_config_fn(server_round)\n",
        "        \n",
        "        # Adding the models to the message that is sent to the clients\n",
        "        config[\"models\"] = self.models\n",
        "        evaluate_ins = EvaluateIns(parameters, config)\n",
        "\n",
        "\n",
        "        # Sample clients\n",
        "        sample_size, min_num_clients = self.num_evaluation_clients(\n",
        "            client_manager.num_available()\n",
        "        )\n",
        "        clients = client_manager.sample(\n",
        "            num_clients=sample_size, min_num_clients=min_num_clients\n",
        "        )\n",
        "        \n",
        "        print(\"end configure_evaluate\")\n",
        "\n",
        "        # Return client/config pairs\n",
        "        return [(client, evaluate_ins) for client in clients]\n",
        "\n",
        "    def aggregate_evaluate(\n",
        "            self,\n",
        "            server_round: int,\n",
        "            results: List[Tuple[ClientProxy, EvaluateRes]],\n",
        "            failures: List[Union[Tuple[ClientProxy, EvaluateRes], BaseException]],\n",
        "    ) -> Tuple[Optional[float], Dict[str, Scalar]]:\n",
        "        \"\"\"Aggregate evaluation losses using weighted average.\"\"\"\n",
        "        if not results:\n",
        "            return None, {}\n",
        "        # Do not aggregate if there are failures and failures are not accepted\n",
        "        if not self.accept_failures and failures:\n",
        "            return None, {}\n",
        "\n",
        "        # Aggregate loss\n",
        "        loss_aggregated = weighted_loss_avg(\n",
        "            [\n",
        "                (evaluate_res.num_examples, evaluate_res.loss)\n",
        "                for _, evaluate_res in results\n",
        "            ]\n",
        "        )\n",
        "\n",
        "        # Aggregate custom metrics if aggregation fn was provided\n",
        "        metrics_aggregated = {}\n",
        "        if self.evaluate_metrics_aggregation_fn:\n",
        "            eval_metrics = [(res.num_examples, res.metrics) for _, res in results]\n",
        "            metrics_aggregated = self.evaluate_metrics_aggregation_fn(eval_metrics)\n",
        "        elif server_round == 1:  # Only log this warning once\n",
        "            log(WARNING, \"No evaluate_metrics_aggregation_fn provided\")\n",
        "\n",
        "        return loss_aggregated, metrics_aggregated\n",
        "        \n",
        "\n",
        "    "
      ]
    },
    {
      "cell_type": "markdown",
      "metadata": {
        "id": "5I8aVacP-VrI"
      },
      "source": [
        "### Starting the training"
      ]
    },
    {
      "cell_type": "code",
      "execution_count": 30,
      "metadata": {
        "colab": {
          "base_uri": "https://localhost:8080/"
        },
        "id": "Z3g1FqHA-U4i",
        "outputId": "67f1fb4e-e9d7-4778-b822-94afcafebe3d"
      },
      "outputs": [
        {
          "output_type": "stream",
          "name": "stderr",
          "text": [
            "INFO flwr 2023-06-07 22:54:11,120 | app.py:146 | Starting Flower simulation, config: ServerConfig(num_rounds=15, round_timeout=None)\n",
            "INFO:flwr:Starting Flower simulation, config: ServerConfig(num_rounds=15, round_timeout=None)\n",
            "2023-06-07 22:54:17,336\tWARNING services.py:1816 -- WARNING: The object store is using /tmp instead of /dev/shm because /dev/shm has only 2434166784 bytes available. This will harm performance! You may be able to free up space by deleting files in /dev/shm. If you are inside a Docker container, you can increase /dev/shm size by passing '--shm-size=4.05gb' to 'docker run' (or add it to the run_options list in a Ray cluster config). Make sure to set this to more than 30% of available RAM.\n",
            "2023-06-07 22:54:18,623\tINFO worker.py:1625 -- Started a local Ray instance.\n",
            "INFO flwr 2023-06-07 22:54:20,580 | app.py:180 | Flower VCE: Ray initialized with resources: {'node:172.28.0.12': 1.0, 'object_store_memory': 3953171251.0, 'memory': 7906342503.0, 'CPU': 2.0}\n",
            "INFO:flwr:Flower VCE: Ray initialized with resources: {'node:172.28.0.12': 1.0, 'object_store_memory': 3953171251.0, 'memory': 7906342503.0, 'CPU': 2.0}\n",
            "INFO flwr 2023-06-07 22:54:20,589 | server.py:86 | Initializing global parameters\n",
            "INFO:flwr:Initializing global parameters\n",
            "INFO flwr 2023-06-07 22:54:20,592 | server.py:269 | Using initial parameters provided by strategy\n",
            "INFO:flwr:Using initial parameters provided by strategy\n",
            "INFO flwr 2023-06-07 22:54:20,601 | server.py:88 | Evaluating initial parameters\n",
            "INFO:flwr:Evaluating initial parameters\n",
            "INFO flwr 2023-06-07 22:54:20,611 | server.py:101 | FL starting\n",
            "INFO:flwr:FL starting\n",
            "DEBUG flwr 2023-06-07 22:54:20,618 | server.py:218 | fit_round 1: strategy sampled 20 clients (out of 20)\n",
            "DEBUG:flwr:fit_round 1: strategy sampled 20 clients (out of 20)\n"
          ]
        },
        {
          "output_type": "stream",
          "name": "stdout",
          "text": [
            "configure_fit\n",
            "end configure_fit\n"
          ]
        },
        {
          "output_type": "stream",
          "name": "stderr",
          "text": [
            "\u001b[2m\u001b[36m(pid=32455)\u001b[0m 2023-06-07 22:54:37.182287: W tensorflow/compiler/tf2tensorrt/utils/py_utils.cc:38] TF-TRT Warning: Could not find TensorRT\n",
            "\u001b[2m\u001b[36m(launch_and_fit pid=32455)\u001b[0m /usr/local/lib/python3.10/dist-packages/torch/nn/_reduction.py:42: UserWarning: size_average and reduce args will be deprecated, please use reduction='none' instead.\n",
            "\u001b[2m\u001b[36m(launch_and_fit pid=32455)\u001b[0m   warnings.warn(warning.format(ret))\n",
            "\u001b[2m\u001b[36m(pid=32456)\u001b[0m   warnings.warn(warning.format(ret))\n"
          ]
        },
        {
          "output_type": "stream",
          "name": "stdout",
          "text": [
            "\u001b[2m\u001b[36m(launch_and_fit pid=32455)\u001b[0m probas after normalization 14: tensor([[0.3333, 0.3333, 0.3333,  ..., 0.3333, 0.3333, 0.3333],\n",
            "\u001b[2m\u001b[36m(launch_and_fit pid=32455)\u001b[0m         [0.3333, 0.3333, 0.3333,  ..., 0.3333, 0.3333, 0.3333],\n",
            "\u001b[2m\u001b[36m(launch_and_fit pid=32455)\u001b[0m         [0.3333, 0.3333, 0.3333,  ..., 0.3333, 0.3333, 0.3333]])\n",
            "\u001b[2m\u001b[36m(launch_and_fit pid=32455)\u001b[0m mixture_weights 14: tensor([0.3333, 0.3333, 0.3333])\n"
          ]
        },
        {
          "output_type": "stream",
          "name": "stderr",
          "text": [
            "\u001b[2m\u001b[36m(launch_and_fit pid=32455)\u001b[0m <ipython-input-27-affdbf02b483>:58: UserWarning: The use of `x.T` on tensors of dimension other than 2 to reverse their shape is deprecated and it will throw an error in a future release. Consider `x.mT` to transpose batches of matrices or `x.permute(*torch.arange(x.ndim - 1, -1, -1))` to reverse the dimensions of a tensor. (Triggered internally at ../aten/src/ATen/native/TensorShape.cpp:3571.)\n",
            "\u001b[2m\u001b[36m(launch_and_fit pid=32455)\u001b[0m /usr/local/lib/python3.10/dist-packages/numpy/core/fromnumeric.py:86: FutureWarning: The input object of type 'Tensor' is an array-like implementing one of the corresponding protocols (`__array__`, `__array_interface__` or `__array_struct__`); but not a sequence (or 0-D). In the future, this object will be coerced as if it was first converted using `np.array(obj)`. To retain the old behaviour, you have to either modify the type 'Tensor', or assign to an empty array created with `np.empty(correct_shape, dtype=object)`.\n",
            "\u001b[2m\u001b[36m(launch_and_fit pid=32455)\u001b[0m   return ufunc.reduce(obj, axis, dtype, out, **passkwargs)\n",
            "\u001b[2m\u001b[36m(launch_and_fit pid=32455)\u001b[0m /usr/local/lib/python3.10/dist-packages/numpy/core/fromnumeric.py:86: VisibleDeprecationWarning: Creating an ndarray from ragged nested sequences (which is a list-or-tuple of lists-or-tuples-or ndarrays with different lengths or shapes) is deprecated. If you meant to do this, you must specify 'dtype=object' when creating the ndarray.\n",
            "\u001b[2m\u001b[36m(launch_and_fit pid=32455)\u001b[0m   return ufunc.reduce(obj, axis, dtype, out, **passkwargs)\n",
            "\u001b[2m\u001b[36m(launch_and_fit pid=32456)\u001b[0m   return ufunc.reduce(obj, axis, dtype, out, **passkwargs)\n",
            "\u001b[2m\u001b[36m(launch_and_fit pid=32456)\u001b[0m   return ufunc.reduce(obj, axis, dtype, out, **passkwargs)\n",
            "\u001b[2m\u001b[36m(launch_and_fit pid=32456)\u001b[0m   return ufunc.reduce(obj, axis, dtype, out, **passkwargs)\n"
          ]
        },
        {
          "output_type": "stream",
          "name": "stdout",
          "text": [
            "\u001b[2m\u001b[36m(launch_and_fit pid=32455)\u001b[0m probas after normalization 16: tensor([[0.3333, 0.3333, 0.3333,  ..., 0.3333, 0.3333, 0.3333],\u001b[32m [repeated 2x across cluster] (Ray deduplicates logs by default. Set RAY_DEDUP_LOGS=0 to disable log deduplication, or see https://docs.ray.io/en/master/ray-observability/ray-logging.html#log-deduplication for more options.)\u001b[0m\n",
            "\u001b[2m\u001b[36m(launch_and_fit pid=32455)\u001b[0m         [0.3333, 0.3333, 0.3333,  ..., 0.3333, 0.3333, 0.3333]])\u001b[32m [repeated 4x across cluster]\u001b[0m\n",
            "\u001b[2m\u001b[36m(launch_and_fit pid=32455)\u001b[0m mixture_weights 16: tensor([0.3333, 0.3333, 0.3333])\u001b[32m [repeated 2x across cluster]\u001b[0m\n",
            "\u001b[2m\u001b[36m(launch_and_fit pid=32455)\u001b[0m probas after normalization 6: tensor([[0.3333, 0.3333, 0.3333,  ..., 0.3333, 0.3333, 0.3333],\u001b[32m [repeated 2x across cluster]\u001b[0m\n",
            "\u001b[2m\u001b[36m(launch_and_fit pid=32455)\u001b[0m         [0.3333, 0.3333, 0.3333,  ..., 0.3333, 0.3333, 0.3333]])\u001b[32m [repeated 4x across cluster]\u001b[0m\n",
            "\u001b[2m\u001b[36m(launch_and_fit pid=32455)\u001b[0m mixture_weights 6: tensor([0.3333, 0.3333, 0.3333])\u001b[32m [repeated 2x across cluster]\u001b[0m\n",
            "\u001b[2m\u001b[36m(launch_and_fit pid=32455)\u001b[0m probas after normalization 2: tensor([[0.3333, 0.3333, 0.3333,  ..., 0.3333, 0.3333, 0.3333],\u001b[32m [repeated 2x across cluster]\u001b[0m\n",
            "\u001b[2m\u001b[36m(launch_and_fit pid=32455)\u001b[0m         [0.3333, 0.3333, 0.3333,  ..., 0.3333, 0.3333, 0.3333]])\u001b[32m [repeated 4x across cluster]\u001b[0m\n",
            "\u001b[2m\u001b[36m(launch_and_fit pid=32455)\u001b[0m mixture_weights 2: tensor([0.3333, 0.3333, 0.3333])\u001b[32m [repeated 2x across cluster]\u001b[0m\n",
            "\u001b[2m\u001b[36m(launch_and_fit pid=32455)\u001b[0m probas after normalization 11: tensor([[0.3333, 0.3333, 0.3333,  ..., 0.3333, 0.3333, 0.3333],\u001b[32m [repeated 2x across cluster]\u001b[0m\n",
            "\u001b[2m\u001b[36m(launch_and_fit pid=32455)\u001b[0m         [0.3333, 0.3333, 0.3333,  ..., 0.3333, 0.3333, 0.3333]])\u001b[32m [repeated 4x across cluster]\u001b[0m\n",
            "\u001b[2m\u001b[36m(launch_and_fit pid=32456)\u001b[0m         [0.3333, 0.3333, 0.3333,  ..., 0.3333, 0.3333, 0.3333]])\n",
            "\u001b[2m\u001b[36m(launch_and_fit pid=32455)\u001b[0m mixture_weights 11: tensor([0.3333, 0.3333, 0.3333])\n",
            "\u001b[2m\u001b[36m(launch_and_fit pid=32455)\u001b[0m probas after normalization 7: tensor([[0.3333, 0.3333, 0.3333,  ..., 0.3333, 0.3333, 0.3333],\u001b[32m [repeated 2x across cluster]\u001b[0m\n",
            "\u001b[2m\u001b[36m(launch_and_fit pid=32455)\u001b[0m         [0.3333, 0.3333, 0.3333,  ..., 0.3333, 0.3333, 0.3333]])\u001b[32m [repeated 4x across cluster]\u001b[0m\n",
            "\u001b[2m\u001b[36m(launch_and_fit pid=32455)\u001b[0m mixture_weights 7: tensor([0.3333, 0.3333, 0.3333])\u001b[32m [repeated 2x across cluster]\u001b[0m\n",
            "\u001b[2m\u001b[36m(launch_and_fit pid=32455)\u001b[0m probas after normalization 9: tensor([[0.3333, 0.3333, 0.3333,  ..., 0.3333, 0.3333, 0.3333],\u001b[32m [repeated 2x across cluster]\u001b[0m\n",
            "\u001b[2m\u001b[36m(launch_and_fit pid=32455)\u001b[0m         [0.3333, 0.3333, 0.3333,  ..., 0.3333, 0.3333, 0.3333]])\u001b[32m [repeated 4x across cluster]\u001b[0m\n",
            "\u001b[2m\u001b[36m(launch_and_fit pid=32455)\u001b[0m mixture_weights 9: tensor([0.3333, 0.3333, 0.3333])\u001b[32m [repeated 2x across cluster]\u001b[0m\n",
            "\u001b[2m\u001b[36m(launch_and_fit pid=32455)\u001b[0m probas after normalization 17: tensor([[0.3333, 0.3333, 0.3333,  ..., 0.3333, 0.3333, 0.3333],\u001b[32m [repeated 2x across cluster]\u001b[0m\n",
            "\u001b[2m\u001b[36m(launch_and_fit pid=32455)\u001b[0m         [0.3333, 0.3333, 0.3333,  ..., 0.3333, 0.3333, 0.3333]])\u001b[32m [repeated 4x across cluster]\u001b[0m\n",
            "\u001b[2m\u001b[36m(launch_and_fit pid=32455)\u001b[0m mixture_weights 17: tensor([0.3333, 0.3333, 0.3333])\u001b[32m [repeated 2x across cluster]\u001b[0m\n",
            "\u001b[2m\u001b[36m(launch_and_fit pid=32455)\u001b[0m probas after normalization 12: tensor([[0.3333, 0.3333, 0.3333,  ..., 0.3333, 0.3333, 0.3333],\u001b[32m [repeated 2x across cluster]\u001b[0m\n",
            "\u001b[2m\u001b[36m(launch_and_fit pid=32455)\u001b[0m         [0.3333, 0.3333, 0.3333,  ..., 0.3333, 0.3333, 0.3333]])\u001b[32m [repeated 4x across cluster]\u001b[0m\n",
            "\u001b[2m\u001b[36m(launch_and_fit pid=32455)\u001b[0m mixture_weights 12: tensor([0.3333, 0.3333, 0.3333])\u001b[32m [repeated 2x across cluster]\u001b[0m\n",
            "\u001b[2m\u001b[36m(launch_and_fit pid=32455)\u001b[0m probas after normalization 18: tensor([[0.3333, 0.3333, 0.3333,  ..., 0.3333, 0.3333, 0.3333],\u001b[32m [repeated 2x across cluster]\u001b[0m\n",
            "\u001b[2m\u001b[36m(launch_and_fit pid=32455)\u001b[0m         [0.3333, 0.3333, 0.3333,  ..., 0.3333, 0.3333, 0.3333]])\u001b[32m [repeated 4x across cluster]\u001b[0m\n",
            "\u001b[2m\u001b[36m(launch_and_fit pid=32455)\u001b[0m mixture_weights 18: tensor([0.3333, 0.3333, 0.3333])\u001b[32m [repeated 2x across cluster]\u001b[0m\n"
          ]
        },
        {
          "output_type": "stream",
          "name": "stderr",
          "text": [
            "DEBUG flwr 2023-06-07 22:56:14,540 | server.py:232 | fit_round 1 received 20 results and 0 failures\n",
            "DEBUG:flwr:fit_round 1 received 20 results and 0 failures\n",
            "DEBUG flwr 2023-06-07 22:56:14,590 | server.py:168 | evaluate_round 1: strategy sampled 20 clients (out of 20)\n",
            "DEBUG:flwr:evaluate_round 1: strategy sampled 20 clients (out of 20)\n"
          ]
        },
        {
          "output_type": "stream",
          "name": "stdout",
          "text": [
            "aggregate_fit\n",
            "configure_evaluate\n",
            "end configure_evaluate\n"
          ]
        },
        {
          "output_type": "stream",
          "name": "stderr",
          "text": [
            "DEBUG flwr 2023-06-07 22:57:02,984 | server.py:182 | evaluate_round 1 received 20 results and 0 failures\n",
            "DEBUG:flwr:evaluate_round 1 received 20 results and 0 failures\n",
            "DEBUG flwr 2023-06-07 22:57:02,989 | server.py:218 | fit_round 2: strategy sampled 20 clients (out of 20)\n",
            "DEBUG:flwr:fit_round 2: strategy sampled 20 clients (out of 20)\n"
          ]
        },
        {
          "output_type": "stream",
          "name": "stdout",
          "text": [
            "configure_fit\n",
            "end configure_fit\n",
            "\u001b[2m\u001b[36m(launch_and_fit pid=32455)\u001b[0m probas after normalization 8: tensor([[0.3333, 0.3333, 0.3333,  ..., 0.3333, 0.3333, 0.3333],\u001b[32m [repeated 2x across cluster]\u001b[0m\n",
            "\u001b[2m\u001b[36m(launch_and_fit pid=32455)\u001b[0m         [0.3333, 0.3333, 0.3333,  ..., 0.3333, 0.3333, 0.3333]])\u001b[32m [repeated 4x across cluster]\u001b[0m\n",
            "\u001b[2m\u001b[36m(launch_and_fit pid=32455)\u001b[0m mixture_weights 8: tensor([0.3333, 0.3333, 0.3333])\u001b[32m [repeated 2x across cluster]\u001b[0m\n",
            "\u001b[2m\u001b[36m(launch_and_fit pid=32456)\u001b[0m probas after normalization 9: tensor([[0.3333, 0.3333, 0.3333,  ..., 0.3333, 0.3333, 0.3333],\u001b[32m [repeated 2x across cluster]\u001b[0m\n",
            "\u001b[2m\u001b[36m(launch_and_fit pid=32456)\u001b[0m         [0.3333, 0.3333, 0.3333,  ..., 0.3333, 0.3333, 0.3333]])\u001b[32m [repeated 4x across cluster]\u001b[0m\n",
            "\u001b[2m\u001b[36m(launch_and_fit pid=32456)\u001b[0m mixture_weights 9: tensor([0.3333, 0.3333, 0.3333])\u001b[32m [repeated 2x across cluster]\u001b[0m\n",
            "\u001b[2m\u001b[36m(launch_and_fit pid=32455)\u001b[0m probas after normalization 4: tensor([[0.3333, 0.3333, 0.3333,  ..., 0.3333, 0.3333, 0.3333],\u001b[32m [repeated 2x across cluster]\u001b[0m\n",
            "\u001b[2m\u001b[36m(launch_and_fit pid=32455)\u001b[0m         [0.3333, 0.3333, 0.3333,  ..., 0.3333, 0.3333, 0.3333]])\u001b[32m [repeated 4x across cluster]\u001b[0m\n",
            "\u001b[2m\u001b[36m(launch_and_fit pid=32455)\u001b[0m mixture_weights 4: tensor([0.3333, 0.3333, 0.3333])\u001b[32m [repeated 2x across cluster]\u001b[0m\n",
            "\u001b[2m\u001b[36m(launch_and_fit pid=32455)\u001b[0m probas after normalization 11: tensor([[0.3333, 0.3333, 0.3333,  ..., 0.3333, 0.3333, 0.3333],\u001b[32m [repeated 2x across cluster]\u001b[0m\n",
            "\u001b[2m\u001b[36m(launch_and_fit pid=32455)\u001b[0m         [0.3333, 0.3333, 0.3333,  ..., 0.3333, 0.3333, 0.3333]])\u001b[32m [repeated 4x across cluster]\u001b[0m\n",
            "\u001b[2m\u001b[36m(launch_and_fit pid=32455)\u001b[0m mixture_weights 11: tensor([0.3333, 0.3333, 0.3333])\u001b[32m [repeated 2x across cluster]\u001b[0m\n",
            "\u001b[2m\u001b[36m(launch_and_fit pid=32455)\u001b[0m probas after normalization 17: tensor([[0.3333, 0.3333, 0.3333,  ..., 0.3333, 0.3333, 0.3333],\u001b[32m [repeated 2x across cluster]\u001b[0m\n",
            "\u001b[2m\u001b[36m(launch_and_fit pid=32455)\u001b[0m         [0.3333, 0.3333, 0.3333,  ..., 0.3333, 0.3333, 0.3333]])\u001b[32m [repeated 4x across cluster]\u001b[0m\n",
            "\u001b[2m\u001b[36m(launch_and_fit pid=32455)\u001b[0m mixture_weights 17: tensor([0.3333, 0.3333, 0.3333])\u001b[32m [repeated 2x across cluster]\u001b[0m\n",
            "\u001b[2m\u001b[36m(launch_and_fit pid=32455)\u001b[0m probas after normalization 19: tensor([[0.3333, 0.3333, 0.3333,  ..., 0.3333, 0.3333, 0.3333],\u001b[32m [repeated 2x across cluster]\u001b[0m\n",
            "\u001b[2m\u001b[36m(launch_and_fit pid=32455)\u001b[0m         [0.3333, 0.3333, 0.3333,  ..., 0.3333, 0.3333, 0.3333]])\u001b[32m [repeated 4x across cluster]\u001b[0m\n",
            "\u001b[2m\u001b[36m(launch_and_fit pid=32455)\u001b[0m mixture_weights 19: tensor([0.3333, 0.3333, 0.3333])\u001b[32m [repeated 2x across cluster]\u001b[0m\n",
            "\u001b[2m\u001b[36m(launch_and_fit pid=32455)\u001b[0m probas after normalization 13: tensor([[0.3333, 0.3333, 0.3333,  ..., 0.3333, 0.3333, 0.3333],\u001b[32m [repeated 2x across cluster]\u001b[0m\n",
            "\u001b[2m\u001b[36m(launch_and_fit pid=32455)\u001b[0m         [0.3333, 0.3333, 0.3333,  ..., 0.3333, 0.3333, 0.3333]])\u001b[32m [repeated 4x across cluster]\u001b[0m\n",
            "\u001b[2m\u001b[36m(launch_and_fit pid=32455)\u001b[0m mixture_weights 13: tensor([0.3333, 0.3333, 0.3333])\u001b[32m [repeated 2x across cluster]\u001b[0m\n",
            "\u001b[2m\u001b[36m(launch_and_fit pid=32455)\u001b[0m probas after normalization 16: tensor([[0.3333, 0.3333, 0.3333,  ..., 0.3333, 0.3333, 0.3333],\u001b[32m [repeated 2x across cluster]\u001b[0m\n",
            "\u001b[2m\u001b[36m(launch_and_fit pid=32455)\u001b[0m         [0.3333, 0.3333, 0.3333,  ..., 0.3333, 0.3333, 0.3333]])\u001b[32m [repeated 4x across cluster]\u001b[0m\n",
            "\u001b[2m\u001b[36m(launch_and_fit pid=32455)\u001b[0m mixture_weights 16: tensor([0.3333, 0.3333, 0.3333])\u001b[32m [repeated 2x across cluster]\u001b[0m\n",
            "\u001b[2m\u001b[36m(launch_and_fit pid=32455)\u001b[0m probas after normalization 3: tensor([[0.3333, 0.3333, 0.3333,  ..., 0.3333, 0.3333, 0.3333],\u001b[32m [repeated 2x across cluster]\u001b[0m\n",
            "\u001b[2m\u001b[36m(launch_and_fit pid=32455)\u001b[0m         [0.3333, 0.3333, 0.3333,  ..., 0.3333, 0.3333, 0.3333]])\u001b[32m [repeated 4x across cluster]\u001b[0m\n",
            "\u001b[2m\u001b[36m(launch_and_fit pid=32455)\u001b[0m mixture_weights 3: tensor([0.3333, 0.3333, 0.3333])\u001b[32m [repeated 2x across cluster]\u001b[0m\n",
            "\u001b[2m\u001b[36m(launch_and_fit pid=32455)\u001b[0m probas after normalization 15: tensor([[0.3333, 0.3333, 0.3333,  ..., 0.3333, 0.3333, 0.3333],\u001b[32m [repeated 2x across cluster]\u001b[0m\n",
            "\u001b[2m\u001b[36m(launch_and_fit pid=32455)\u001b[0m         [0.3333, 0.3333, 0.3333,  ..., 0.3333, 0.3333, 0.3333]])\u001b[32m [repeated 4x across cluster]\u001b[0m\n",
            "\u001b[2m\u001b[36m(launch_and_fit pid=32455)\u001b[0m mixture_weights 15: tensor([0.3333, 0.3333, 0.3333])\u001b[32m [repeated 2x across cluster]\u001b[0m\n"
          ]
        },
        {
          "output_type": "stream",
          "name": "stderr",
          "text": [
            "DEBUG flwr 2023-06-07 22:58:47,789 | server.py:232 | fit_round 2 received 20 results and 0 failures\n",
            "DEBUG:flwr:fit_round 2 received 20 results and 0 failures\n",
            "DEBUG flwr 2023-06-07 22:58:47,834 | server.py:168 | evaluate_round 2: strategy sampled 20 clients (out of 20)\n",
            "DEBUG:flwr:evaluate_round 2: strategy sampled 20 clients (out of 20)\n"
          ]
        },
        {
          "output_type": "stream",
          "name": "stdout",
          "text": [
            "aggregate_fit\n",
            "configure_evaluate\n",
            "end configure_evaluate\n"
          ]
        },
        {
          "output_type": "stream",
          "name": "stderr",
          "text": [
            "DEBUG flwr 2023-06-07 22:59:58,412 | server.py:182 | evaluate_round 2 received 20 results and 0 failures\n",
            "DEBUG:flwr:evaluate_round 2 received 20 results and 0 failures\n",
            "DEBUG flwr 2023-06-07 22:59:58,420 | server.py:218 | fit_round 3: strategy sampled 20 clients (out of 20)\n",
            "DEBUG:flwr:fit_round 3: strategy sampled 20 clients (out of 20)\n"
          ]
        },
        {
          "output_type": "stream",
          "name": "stdout",
          "text": [
            "configure_fit\n",
            "end configure_fit\n",
            "\u001b[2m\u001b[36m(launch_and_fit pid=32455)\u001b[0m probas after normalization 15: tensor([[0.3333, 0.3333, 0.3333,  ..., 0.3333, 0.3333, 0.3333],\u001b[32m [repeated 2x across cluster]\u001b[0m\n",
            "\u001b[2m\u001b[36m(launch_and_fit pid=32455)\u001b[0m         [0.3333, 0.3333, 0.3333,  ..., 0.3333, 0.3333, 0.3333]])\u001b[32m [repeated 4x across cluster]\u001b[0m\n",
            "\u001b[2m\u001b[36m(launch_and_fit pid=32456)\u001b[0m         [0.3333, 0.3333, 0.3333,  ..., 0.3333, 0.3333, 0.3333]])\n",
            "\u001b[2m\u001b[36m(launch_and_fit pid=32456)\u001b[0m mixture_weights 6: tensor([0.3333, 0.3333, 0.3333])\n",
            "\u001b[2m\u001b[36m(launch_and_fit pid=32455)\u001b[0m \n",
            "\u001b[2m\u001b[36m(launch_and_fit pid=32456)\u001b[0m probas after normalization 5: tensor([[0.3333, 0.3333, 0.3333,  ..., 0.3333, 0.3333, 0.3333],\u001b[32m [repeated 2x across cluster]\u001b[0m\n",
            "\u001b[2m\u001b[36m(launch_and_fit pid=32456)\u001b[0m         [0.3333, 0.3333, 0.3333,  ..., 0.3333, 0.3333, 0.3333]])\u001b[32m [repeated 4x across cluster]\u001b[0m\n",
            "\u001b[2m\u001b[36m(launch_and_fit pid=32456)\u001b[0m mixture_weights 5: tensor([0.3333, 0.3333, 0.3333])\u001b[32m [repeated 2x across cluster]\u001b[0m\n",
            "\u001b[2m\u001b[36m(launch_and_fit pid=32455)\u001b[0m probas after normalization 14: tensor([[0.3333, 0.3333, 0.3333,  ..., 0.3333, 0.3333, 0.3333],\u001b[32m [repeated 2x across cluster]\u001b[0m\n",
            "\u001b[2m\u001b[36m(launch_and_fit pid=32455)\u001b[0m         [0.3333, 0.3333, 0.3333,  ..., 0.3333, 0.3333, 0.3333]])\u001b[32m [repeated 4x across cluster]\u001b[0m\n",
            "\u001b[2m\u001b[36m(launch_and_fit pid=32455)\u001b[0m mixture_weights 14: tensor([0.3333, 0.3333, 0.3333])\u001b[32m [repeated 2x across cluster]\u001b[0m\n",
            "\u001b[2m\u001b[36m(launch_and_fit pid=32456)\u001b[0m probas after normalization 1: tensor([[0.3333, 0.3333, 0.3333,  ..., 0.3333, 0.3333, 0.3333],\u001b[32m [repeated 2x across cluster]\u001b[0m\n",
            "\u001b[2m\u001b[36m(launch_and_fit pid=32456)\u001b[0m         [0.3333, 0.3333, 0.3333,  ..., 0.3333, 0.3333, 0.3333]])\u001b[32m [repeated 4x across cluster]\u001b[0m\n",
            "\u001b[2m\u001b[36m(launch_and_fit pid=32456)\u001b[0m mixture_weights 1: tensor([0.3333, 0.3333, 0.3333])\u001b[32m [repeated 2x across cluster]\u001b[0m\n",
            "\u001b[2m\u001b[36m(launch_and_fit pid=32456)\u001b[0m probas after normalization 3: tensor([[0.3333, 0.3333, 0.3333,  ..., 0.3333, 0.3333, 0.3333],\u001b[32m [repeated 2x across cluster]\u001b[0m\n",
            "\u001b[2m\u001b[36m(launch_and_fit pid=32456)\u001b[0m         [0.3333, 0.3333, 0.3333,  ..., 0.3333, 0.3333, 0.3333]])\u001b[32m [repeated 4x across cluster]\u001b[0m\n",
            "\u001b[2m\u001b[36m(launch_and_fit pid=32456)\u001b[0m mixture_weights 3: tensor([0.3333, 0.3333, 0.3333])\u001b[32m [repeated 2x across cluster]\u001b[0m\n",
            "\u001b[2m\u001b[36m(launch_and_fit pid=32456)\u001b[0m probas after normalization 9: tensor([[0.3333, 0.3333, 0.3333,  ..., 0.3333, 0.3333, 0.3333],\u001b[32m [repeated 2x across cluster]\u001b[0m\n",
            "\u001b[2m\u001b[36m(launch_and_fit pid=32456)\u001b[0m         [0.3333, 0.3333, 0.3333,  ..., 0.3333, 0.3333, 0.3333]])\u001b[32m [repeated 4x across cluster]\u001b[0m\n",
            "\u001b[2m\u001b[36m(launch_and_fit pid=32456)\u001b[0m mixture_weights 9: tensor([0.3333, 0.3333, 0.3333])\u001b[32m [repeated 2x across cluster]\u001b[0m\n",
            "\u001b[2m\u001b[36m(launch_and_fit pid=32456)\u001b[0m probas after normalization 12: tensor([[0.3333, 0.3333, 0.3333,  ..., 0.3333, 0.3333, 0.3333],\u001b[32m [repeated 2x across cluster]\u001b[0m\n",
            "\u001b[2m\u001b[36m(launch_and_fit pid=32456)\u001b[0m         [0.3333, 0.3333, 0.3333,  ..., 0.3333, 0.3333, 0.3333]])\u001b[32m [repeated 4x across cluster]\u001b[0m\n",
            "\u001b[2m\u001b[36m(launch_and_fit pid=32456)\u001b[0m mixture_weights 12: tensor([0.3333, 0.3333, 0.3333])\u001b[32m [repeated 2x across cluster]\u001b[0m\n",
            "\u001b[2m\u001b[36m(launch_and_fit pid=32455)\u001b[0m probas after normalization 19: tensor([[0.3333, 0.3333, 0.3333,  ..., 0.3333, 0.3333, 0.3333],\u001b[32m [repeated 2x across cluster]\u001b[0m\n",
            "\u001b[2m\u001b[36m(launch_and_fit pid=32455)\u001b[0m         [0.3333, 0.3333, 0.3333,  ..., 0.3333, 0.3333, 0.3333]])\u001b[32m [repeated 4x across cluster]\u001b[0m\n",
            "\u001b[2m\u001b[36m(launch_and_fit pid=32455)\u001b[0m mixture_weights 19: tensor([0.3333, 0.3333, 0.3333])\u001b[32m [repeated 2x across cluster]\u001b[0m\n",
            "\u001b[2m\u001b[36m(launch_and_fit pid=32455)\u001b[0m probas after normalization 4: tensor([[0.3333, 0.3333, 0.3333,  ..., 0.3333, 0.3333, 0.3333],\u001b[32m [repeated 2x across cluster]\u001b[0m\n",
            "\u001b[2m\u001b[36m(launch_and_fit pid=32455)\u001b[0m         [0.3333, 0.3333, 0.3333,  ..., 0.3333, 0.3333, 0.3333]])\u001b[32m [repeated 4x across cluster]\u001b[0m\n",
            "\u001b[2m\u001b[36m(launch_and_fit pid=32455)\u001b[0m mixture_weights 4: tensor([0.3333, 0.3333, 0.3333])\u001b[32m [repeated 2x across cluster]\u001b[0m\n",
            "\u001b[2m\u001b[36m(launch_and_fit pid=32455)\u001b[0m probas after normalization 18: tensor([[0.3333, 0.3333, 0.3333,  ..., 0.3333, 0.3333, 0.3333],\u001b[32m [repeated 2x across cluster]\u001b[0m\n",
            "\u001b[2m\u001b[36m(launch_and_fit pid=32455)\u001b[0m         [0.3333, 0.3333, 0.3333,  ..., 0.3333, 0.3333, 0.3333]])\u001b[32m [repeated 4x across cluster]\u001b[0m\n",
            "\u001b[2m\u001b[36m(launch_and_fit pid=32455)\u001b[0m mixture_weights 18: tensor([0.3333, 0.3333, 0.3333])\u001b[32m [repeated 2x across cluster]\u001b[0m\n"
          ]
        },
        {
          "output_type": "stream",
          "name": "stderr",
          "text": [
            "DEBUG flwr 2023-06-07 23:01:48,773 | server.py:232 | fit_round 3 received 20 results and 0 failures\n",
            "DEBUG:flwr:fit_round 3 received 20 results and 0 failures\n",
            "DEBUG flwr 2023-06-07 23:01:48,804 | server.py:168 | evaluate_round 3: strategy sampled 20 clients (out of 20)\n",
            "DEBUG:flwr:evaluate_round 3: strategy sampled 20 clients (out of 20)\n"
          ]
        },
        {
          "output_type": "stream",
          "name": "stdout",
          "text": [
            "aggregate_fit\n",
            "configure_evaluate\n",
            "end configure_evaluate\n"
          ]
        },
        {
          "output_type": "stream",
          "name": "stderr",
          "text": [
            "DEBUG flwr 2023-06-07 23:03:21,879 | server.py:182 | evaluate_round 3 received 20 results and 0 failures\n",
            "DEBUG:flwr:evaluate_round 3 received 20 results and 0 failures\n",
            "DEBUG flwr 2023-06-07 23:03:21,887 | server.py:218 | fit_round 4: strategy sampled 20 clients (out of 20)\n",
            "DEBUG:flwr:fit_round 4: strategy sampled 20 clients (out of 20)\n"
          ]
        },
        {
          "output_type": "stream",
          "name": "stdout",
          "text": [
            "configure_fit\n",
            "end configure_fit\n",
            "\u001b[2m\u001b[36m(launch_and_fit pid=32455)\u001b[0m probas after normalization 8: tensor([[0.3333, 0.3333, 0.3333,  ..., 0.3333, 0.3333, 0.3333],\u001b[32m [repeated 2x across cluster]\u001b[0m\n",
            "\u001b[2m\u001b[36m(launch_and_fit pid=32455)\u001b[0m         [0.3333, 0.3333, 0.3333,  ..., 0.3333, 0.3333, 0.3333]])\u001b[32m [repeated 4x across cluster]\u001b[0m\n",
            "\u001b[2m\u001b[36m(launch_and_fit pid=32455)\u001b[0m mixture_weights 8: tensor([0.3333, 0.3333, 0.3333])\u001b[32m [repeated 2x across cluster]\u001b[0m\n",
            "\u001b[2m\u001b[36m(launch_and_fit pid=32455)\u001b[0m probas after normalization 0: tensor([[0.3333, 0.3333, 0.3333,  ..., 0.3333, 0.3333, 0.3333],\u001b[32m [repeated 2x across cluster]\u001b[0m\n",
            "\u001b[2m\u001b[36m(launch_and_fit pid=32455)\u001b[0m         [0.3333, 0.3333, 0.3333,  ..., 0.3333, 0.3333, 0.3333]])\u001b[32m [repeated 4x across cluster]\u001b[0m\n",
            "\u001b[2m\u001b[36m(launch_and_fit pid=32455)\u001b[0m mixture_weights 0: tensor([0.3333, 0.3333, 0.3333])\u001b[32m [repeated 2x across cluster]\u001b[0m\n",
            "\u001b[2m\u001b[36m(launch_and_fit pid=32455)\u001b[0m probas after normalization 10: tensor([[0.3333, 0.3333, 0.3333,  ..., 0.3333, 0.3333, 0.3333],\u001b[32m [repeated 2x across cluster]\u001b[0m\n",
            "\u001b[2m\u001b[36m(launch_and_fit pid=32455)\u001b[0m         [0.3333, 0.3333, 0.3333,  ..., 0.3333, 0.3333, 0.3333]])\u001b[32m [repeated 4x across cluster]\u001b[0m\n",
            "\u001b[2m\u001b[36m(launch_and_fit pid=32455)\u001b[0m mixture_weights 10: tensor([0.3333, 0.3333, 0.3333])\u001b[32m [repeated 2x across cluster]\u001b[0m\n",
            "\u001b[2m\u001b[36m(launch_and_fit pid=32456)\u001b[0m probas after normalization 15: tensor([[0.3333, 0.3333, 0.3333,  ..., 0.3333, 0.3333, 0.3333],\u001b[32m [repeated 2x across cluster]\u001b[0m\n",
            "\u001b[2m\u001b[36m(launch_and_fit pid=32456)\u001b[0m         [0.3333, 0.3333, 0.3333,  ..., 0.3333, 0.3333, 0.3333]])\u001b[32m [repeated 4x across cluster]\u001b[0m\n",
            "\u001b[2m\u001b[36m(launch_and_fit pid=32456)\u001b[0m mixture_weights 15: tensor([0.3333, 0.3333, 0.3333])\u001b[32m [repeated 2x across cluster]\u001b[0m\n",
            "\u001b[2m\u001b[36m(launch_and_fit pid=32456)\u001b[0m probas after normalization 4: tensor([[0.3333, 0.3333, 0.3333,  ..., 0.3333, 0.3333, 0.3333],\u001b[32m [repeated 2x across cluster]\u001b[0m\n",
            "\u001b[2m\u001b[36m(launch_and_fit pid=32456)\u001b[0m         [0.3333, 0.3333, 0.3333,  ..., 0.3333, 0.3333, 0.3333]])\u001b[32m [repeated 4x across cluster]\u001b[0m\n",
            "\u001b[2m\u001b[36m(launch_and_fit pid=32456)\u001b[0m mixture_weights 4: tensor([0.3333, 0.3333, 0.3333])\u001b[32m [repeated 2x across cluster]\u001b[0m\n",
            "\u001b[2m\u001b[36m(launch_and_fit pid=32456)\u001b[0m probas after normalization 16: tensor([[0.3333, 0.3333, 0.3333,  ..., 0.3333, 0.3333, 0.3333],\u001b[32m [repeated 2x across cluster]\u001b[0m\n",
            "\u001b[2m\u001b[36m(launch_and_fit pid=32456)\u001b[0m         [0.3333, 0.3333, 0.3333,  ..., 0.3333, 0.3333, 0.3333]])\u001b[32m [repeated 4x across cluster]\u001b[0m\n",
            "\u001b[2m\u001b[36m(launch_and_fit pid=32456)\u001b[0m mixture_weights 16: tensor([0.3333, 0.3333, 0.3333])\u001b[32m [repeated 2x across cluster]\u001b[0m\n",
            "\u001b[2m\u001b[36m(launch_and_fit pid=32456)\u001b[0m probas after normalization 3: tensor([[0.3333, 0.3333, 0.3333,  ..., 0.3333, 0.3333, 0.3333],\u001b[32m [repeated 2x across cluster]\u001b[0m\n",
            "\u001b[2m\u001b[36m(launch_and_fit pid=32456)\u001b[0m         [0.3333, 0.3333, 0.3333,  ..., 0.3333, 0.3333, 0.3333]])\u001b[32m [repeated 4x across cluster]\u001b[0m\n",
            "\u001b[2m\u001b[36m(launch_and_fit pid=32456)\u001b[0m mixture_weights 3: tensor([0.3333, 0.3333, 0.3333])\u001b[32m [repeated 2x across cluster]\u001b[0m\n",
            "\u001b[2m\u001b[36m(launch_and_fit pid=32456)\u001b[0m probas after normalization 5: tensor([[0.3333, 0.3333, 0.3333,  ..., 0.3333, 0.3333, 0.3333],\u001b[32m [repeated 2x across cluster]\u001b[0m\n",
            "\u001b[2m\u001b[36m(launch_and_fit pid=32456)\u001b[0m         [0.3333, 0.3333, 0.3333,  ..., 0.3333, 0.3333, 0.3333]])\u001b[32m [repeated 4x across cluster]\u001b[0m\n",
            "\u001b[2m\u001b[36m(launch_and_fit pid=32456)\u001b[0m mixture_weights 5: tensor([0.3333, 0.3333, 0.3333])\u001b[32m [repeated 2x across cluster]\u001b[0m\n",
            "\u001b[2m\u001b[36m(launch_and_fit pid=32455)\u001b[0m probas after normalization 6: tensor([[0.3333, 0.3333, 0.3333,  ..., 0.3333, 0.3333, 0.3333],\u001b[32m [repeated 2x across cluster]\u001b[0m\n",
            "\u001b[2m\u001b[36m(launch_and_fit pid=32455)\u001b[0m         [0.3333, 0.3333, 0.3333,  ..., 0.3333, 0.3333, 0.3333]])\u001b[32m [repeated 4x across cluster]\u001b[0m\n",
            "\u001b[2m\u001b[36m(launch_and_fit pid=32455)\u001b[0m mixture_weights 6: tensor([0.3333, 0.3333, 0.3333])\u001b[32m [repeated 2x across cluster]\u001b[0m\n",
            "\u001b[2m\u001b[36m(launch_and_fit pid=32456)\u001b[0m probas after normalization 17: tensor([[0.3333, 0.3333, 0.3333,  ..., 0.3333, 0.3333, 0.3333],\u001b[32m [repeated 2x across cluster]\u001b[0m\n",
            "\u001b[2m\u001b[36m(launch_and_fit pid=32456)\u001b[0m         [0.3333, 0.3333, 0.3333,  ..., 0.3333, 0.3333, 0.3333]])\u001b[32m [repeated 4x across cluster]\u001b[0m\n",
            "\u001b[2m\u001b[36m(launch_and_fit pid=32456)\u001b[0m mixture_weights 17: tensor([0.3333, 0.3333, 0.3333])\u001b[32m [repeated 2x across cluster]\u001b[0m\n"
          ]
        },
        {
          "output_type": "stream",
          "name": "stderr",
          "text": [
            "DEBUG flwr 2023-06-07 23:05:14,163 | server.py:232 | fit_round 4 received 20 results and 0 failures\n",
            "DEBUG:flwr:fit_round 4 received 20 results and 0 failures\n",
            "DEBUG flwr 2023-06-07 23:05:14,196 | server.py:168 | evaluate_round 4: strategy sampled 20 clients (out of 20)\n",
            "DEBUG:flwr:evaluate_round 4: strategy sampled 20 clients (out of 20)\n"
          ]
        },
        {
          "output_type": "stream",
          "name": "stdout",
          "text": [
            "aggregate_fit\n",
            "configure_evaluate\n",
            "end configure_evaluate\n"
          ]
        },
        {
          "output_type": "stream",
          "name": "stderr",
          "text": [
            "DEBUG flwr 2023-06-07 23:06:13,964 | server.py:182 | evaluate_round 4 received 20 results and 0 failures\n",
            "DEBUG:flwr:evaluate_round 4 received 20 results and 0 failures\n",
            "DEBUG flwr 2023-06-07 23:06:13,968 | server.py:218 | fit_round 5: strategy sampled 20 clients (out of 20)\n",
            "DEBUG:flwr:fit_round 5: strategy sampled 20 clients (out of 20)\n"
          ]
        },
        {
          "output_type": "stream",
          "name": "stdout",
          "text": [
            "configure_fit\n",
            "end configure_fit\n",
            "\u001b[2m\u001b[36m(launch_and_fit pid=32456)\u001b[0m probas after normalization 15: tensor([[0.3333, 0.3333, 0.3333,  ..., 0.3333, 0.3333, 0.3333],\u001b[32m [repeated 2x across cluster]\u001b[0m\n",
            "\u001b[2m\u001b[36m(launch_and_fit pid=32456)\u001b[0m         [0.3333, 0.3333, 0.3333,  ..., 0.3333, 0.3333, 0.3333]])\u001b[32m [repeated 4x across cluster]\u001b[0m\n",
            "\u001b[2m\u001b[36m(launch_and_fit pid=32455)\u001b[0m         [0.3333, 0.3333, 0.3333,  ..., 0.3333, 0.3333, 0.3333]])\n",
            "\u001b[2m\u001b[36m(launch_and_fit pid=32455)\u001b[0m \n",
            "\u001b[2m\u001b[36m(launch_and_fit pid=32455)\u001b[0m mixture_weights 5: tensor([0.3333, 0.3333, 0.3333])\n",
            "\u001b[2m\u001b[36m(launch_and_fit pid=32455)\u001b[0m probas after normalization 10: tensor([[0.3333, 0.3333, 0.3333,  ..., 0.3333, 0.3333, 0.3333],\u001b[32m [repeated 2x across cluster]\u001b[0m\n",
            "\u001b[2m\u001b[36m(launch_and_fit pid=32455)\u001b[0m         [0.3333, 0.3333, 0.3333,  ..., 0.3333, 0.3333, 0.3333]])\u001b[32m [repeated 4x across cluster]\u001b[0m\n",
            "\u001b[2m\u001b[36m(launch_and_fit pid=32456)\u001b[0m mixture_weights 10: tensor([0.3333, 0.3333, 0.3333])\n",
            "\u001b[2m\u001b[36m(launch_and_fit pid=32455)\u001b[0m mixture_weights 10: tensor([0.3333, 0.3333, 0.3333])\u001b[32m [repeated 2x across cluster]\u001b[0m\n",
            "\u001b[2m\u001b[36m(launch_and_fit pid=32455)\u001b[0m probas after normalization 0: tensor([[0.3333, 0.3333, 0.3333,  ..., 0.3333, 0.3333, 0.3333],\u001b[32m [repeated 2x across cluster]\u001b[0m\n",
            "\u001b[2m\u001b[36m(launch_and_fit pid=32455)\u001b[0m         [0.3333, 0.3333, 0.3333,  ..., 0.3333, 0.3333, 0.3333]])\u001b[32m [repeated 4x across cluster]\u001b[0m\n",
            "\u001b[2m\u001b[36m(launch_and_fit pid=32455)\u001b[0m mixture_weights 0: tensor([0.3333, 0.3333, 0.3333])\u001b[32m [repeated 2x across cluster]\u001b[0m\n",
            "\u001b[2m\u001b[36m(launch_and_fit pid=32455)\u001b[0m probas after normalization 4: tensor([[0.3333, 0.3333, 0.3333,  ..., 0.3333, 0.3333, 0.3333],\u001b[32m [repeated 2x across cluster]\u001b[0m\n",
            "\u001b[2m\u001b[36m(launch_and_fit pid=32455)\u001b[0m         [0.3333, 0.3333, 0.3333,  ..., 0.3333, 0.3333, 0.3333]])\u001b[32m [repeated 4x across cluster]\u001b[0m\n",
            "\u001b[2m\u001b[36m(launch_and_fit pid=32455)\u001b[0m mixture_weights 4: tensor([0.3333, 0.3333, 0.3333])\u001b[32m [repeated 2x across cluster]\u001b[0m\n",
            "\u001b[2m\u001b[36m(launch_and_fit pid=32455)\u001b[0m probas after normalization 6: tensor([[0.3333, 0.3333, 0.3333,  ..., 0.3333, 0.3333, 0.3333],\u001b[32m [repeated 2x across cluster]\u001b[0m\n",
            "\u001b[2m\u001b[36m(launch_and_fit pid=32455)\u001b[0m         [0.3333, 0.3333, 0.3333,  ..., 0.3333, 0.3333, 0.3333]])\u001b[32m [repeated 4x across cluster]\u001b[0m\n",
            "\u001b[2m\u001b[36m(launch_and_fit pid=32455)\u001b[0m mixture_weights 6: tensor([0.3333, 0.3333, 0.3333])\u001b[32m [repeated 2x across cluster]\u001b[0m\n",
            "\u001b[2m\u001b[36m(launch_and_fit pid=32455)\u001b[0m probas after normalization 18: tensor([[0.3333, 0.3333, 0.3333,  ..., 0.3333, 0.3333, 0.3333],\u001b[32m [repeated 2x across cluster]\u001b[0m\n",
            "\u001b[2m\u001b[36m(launch_and_fit pid=32455)\u001b[0m         [0.3333, 0.3333, 0.3333,  ..., 0.3333, 0.3333, 0.3333]])\u001b[32m [repeated 4x across cluster]\u001b[0m\n",
            "\u001b[2m\u001b[36m(launch_and_fit pid=32455)\u001b[0m mixture_weights 18: tensor([0.3333, 0.3333, 0.3333])\u001b[32m [repeated 2x across cluster]\u001b[0m\n",
            "\u001b[2m\u001b[36m(launch_and_fit pid=32455)\u001b[0m probas after normalization 13: tensor([[0.3333, 0.3333, 0.3333,  ..., 0.3333, 0.3333, 0.3333],\u001b[32m [repeated 2x across cluster]\u001b[0m\n",
            "\u001b[2m\u001b[36m(launch_and_fit pid=32455)\u001b[0m         [0.3333, 0.3333, 0.3333,  ..., 0.3333, 0.3333, 0.3333]])\u001b[32m [repeated 4x across cluster]\u001b[0m\n",
            "\u001b[2m\u001b[36m(launch_and_fit pid=32455)\u001b[0m mixture_weights 13: tensor([0.3333, 0.3333, 0.3333])\u001b[32m [repeated 2x across cluster]\u001b[0m\n",
            "\u001b[2m\u001b[36m(launch_and_fit pid=32455)\u001b[0m probas after normalization 19: tensor([[0.3333, 0.3333, 0.3333,  ..., 0.3333, 0.3333, 0.3333],\u001b[32m [repeated 2x across cluster]\u001b[0m\n",
            "\u001b[2m\u001b[36m(launch_and_fit pid=32455)\u001b[0m         [0.3333, 0.3333, 0.3333,  ..., 0.3333, 0.3333, 0.3333]])\u001b[32m [repeated 4x across cluster]\u001b[0m\n",
            "\u001b[2m\u001b[36m(launch_and_fit pid=32455)\u001b[0m mixture_weights 19: tensor([0.3333, 0.3333, 0.3333])\u001b[32m [repeated 2x across cluster]\u001b[0m\n",
            "\u001b[2m\u001b[36m(launch_and_fit pid=32455)\u001b[0m probas after normalization 14: tensor([[0.3333, 0.3333, 0.3333,  ..., 0.3333, 0.3333, 0.3333],\u001b[32m [repeated 2x across cluster]\u001b[0m\n",
            "\u001b[2m\u001b[36m(launch_and_fit pid=32455)\u001b[0m         [0.3333, 0.3333, 0.3333,  ..., 0.3333, 0.3333, 0.3333]])\u001b[32m [repeated 4x across cluster]\u001b[0m\n",
            "\u001b[2m\u001b[36m(launch_and_fit pid=32455)\u001b[0m mixture_weights 14: tensor([0.3333, 0.3333, 0.3333])\u001b[32m [repeated 2x across cluster]\u001b[0m\n",
            "\u001b[2m\u001b[36m(launch_and_fit pid=32455)\u001b[0m probas after normalization 2: tensor([[0.3333, 0.3333, 0.3333,  ..., 0.3333, 0.3333, 0.3333],\u001b[32m [repeated 2x across cluster]\u001b[0m\n",
            "\u001b[2m\u001b[36m(launch_and_fit pid=32455)\u001b[0m         [0.3333, 0.3333, 0.3333,  ..., 0.3333, 0.3333, 0.3333]])\u001b[32m [repeated 4x across cluster]\u001b[0m\n",
            "\u001b[2m\u001b[36m(launch_and_fit pid=32455)\u001b[0m mixture_weights 2: tensor([0.3333, 0.3333, 0.3333])\u001b[32m [repeated 2x across cluster]\u001b[0m\n"
          ]
        },
        {
          "output_type": "stream",
          "name": "stderr",
          "text": [
            "DEBUG flwr 2023-06-07 23:08:01,337 | server.py:232 | fit_round 5 received 20 results and 0 failures\n",
            "DEBUG:flwr:fit_round 5 received 20 results and 0 failures\n",
            "DEBUG flwr 2023-06-07 23:08:01,371 | server.py:168 | evaluate_round 5: strategy sampled 20 clients (out of 20)\n",
            "DEBUG:flwr:evaluate_round 5: strategy sampled 20 clients (out of 20)\n"
          ]
        },
        {
          "output_type": "stream",
          "name": "stdout",
          "text": [
            "aggregate_fit\n",
            "configure_evaluate\n",
            "end configure_evaluate\n"
          ]
        },
        {
          "output_type": "stream",
          "name": "stderr",
          "text": [
            "DEBUG flwr 2023-06-07 23:09:06,688 | server.py:182 | evaluate_round 5 received 20 results and 0 failures\n",
            "DEBUG:flwr:evaluate_round 5 received 20 results and 0 failures\n",
            "DEBUG flwr 2023-06-07 23:09:06,695 | server.py:218 | fit_round 6: strategy sampled 20 clients (out of 20)\n",
            "DEBUG:flwr:fit_round 6: strategy sampled 20 clients (out of 20)\n"
          ]
        },
        {
          "output_type": "stream",
          "name": "stdout",
          "text": [
            "configure_fit\n",
            "end configure_fit\n",
            "\u001b[2m\u001b[36m(launch_and_fit pid=32455)\u001b[0m probas after normalization 10: tensor([[0.3333, 0.3333, 0.3333,  ..., 0.3333, 0.3333, 0.3333],\u001b[32m [repeated 2x across cluster]\u001b[0m\n",
            "\u001b[2m\u001b[36m(launch_and_fit pid=32455)\u001b[0m         [0.3333, 0.3333, 0.3333,  ..., 0.3333, 0.3333, 0.3333]])\u001b[32m [repeated 4x across cluster]\u001b[0m\n",
            "\u001b[2m\u001b[36m(launch_and_fit pid=32456)\u001b[0m         [0.3333, 0.3333, 0.3333,  ..., 0.3333, 0.3333, 0.3333]])\n",
            "\u001b[2m\u001b[36m(launch_and_fit pid=32456)\u001b[0m mixture_weights 17: tensor([0.3333, 0.3333, 0.3333])\n",
            "\u001b[2m\u001b[36m(launch_and_fit pid=32455)\u001b[0m probas after normalization 5: tensor([[0.3333, 0.3333, 0.3333,  ..., 0.3333, 0.3333, 0.3333],\u001b[32m [repeated 2x across cluster]\u001b[0m\n",
            "\u001b[2m\u001b[36m(launch_and_fit pid=32455)\u001b[0m         [0.3333, 0.3333, 0.3333,  ..., 0.3333, 0.3333, 0.3333]])\u001b[32m [repeated 4x across cluster]\u001b[0m\n",
            "\u001b[2m\u001b[36m(launch_and_fit pid=32455)\u001b[0m mixture_weights 5: tensor([0.3333, 0.3333, 0.3333])\u001b[32m [repeated 2x across cluster]\u001b[0m\n",
            "\u001b[2m\u001b[36m(launch_and_fit pid=32455)\u001b[0m probas after normalization 11: tensor([[0.3333, 0.3333, 0.3333,  ..., 0.3333, 0.3333, 0.3333],\u001b[32m [repeated 2x across cluster]\u001b[0m\n",
            "\u001b[2m\u001b[36m(launch_and_fit pid=32455)\u001b[0m         [0.3333, 0.3333, 0.3333,  ..., 0.3333, 0.3333, 0.3333]])\u001b[32m [repeated 4x across cluster]\u001b[0m\n",
            "\u001b[2m\u001b[36m(launch_and_fit pid=32455)\u001b[0m mixture_weights 11: tensor([0.3333, 0.3333, 0.3333])\u001b[32m [repeated 2x across cluster]\u001b[0m\n",
            "\u001b[2m\u001b[36m(launch_and_fit pid=32455)\u001b[0m probas after normalization 15: tensor([[0.3333, 0.3333, 0.3333,  ..., 0.3333, 0.3333, 0.3333],\u001b[32m [repeated 2x across cluster]\u001b[0m\n",
            "\u001b[2m\u001b[36m(launch_and_fit pid=32455)\u001b[0m         [0.3333, 0.3333, 0.3333,  ..., 0.3333, 0.3333, 0.3333]])\u001b[32m [repeated 4x across cluster]\u001b[0m\n",
            "\u001b[2m\u001b[36m(launch_and_fit pid=32455)\u001b[0m mixture_weights 15: tensor([0.3333, 0.3333, 0.3333])\u001b[32m [repeated 2x across cluster]\u001b[0m\n",
            "\u001b[2m\u001b[36m(launch_and_fit pid=32455)\u001b[0m probas after normalization 0: tensor([[0.3333, 0.3333, 0.3333,  ..., 0.3333, 0.3333, 0.3333],\u001b[32m [repeated 2x across cluster]\u001b[0m\n",
            "\u001b[2m\u001b[36m(launch_and_fit pid=32455)\u001b[0m         [0.3333, 0.3333, 0.3333,  ..., 0.3333, 0.3333, 0.3333]])\u001b[32m [repeated 4x across cluster]\u001b[0m\n",
            "\u001b[2m\u001b[36m(launch_and_fit pid=32455)\u001b[0m mixture_weights 0: tensor([0.3333, 0.3333, 0.3333])\u001b[32m [repeated 2x across cluster]\u001b[0m\n",
            "\u001b[2m\u001b[36m(launch_and_fit pid=32455)\u001b[0m probas after normalization 6: tensor([[0.3333, 0.3333, 0.3333,  ..., 0.3333, 0.3333, 0.3333],\u001b[32m [repeated 2x across cluster]\u001b[0m\n",
            "\u001b[2m\u001b[36m(launch_and_fit pid=32455)\u001b[0m         [0.3333, 0.3333, 0.3333,  ..., 0.3333, 0.3333, 0.3333]])\u001b[32m [repeated 4x across cluster]\u001b[0m\n",
            "\u001b[2m\u001b[36m(launch_and_fit pid=32455)\u001b[0m mixture_weights 6: tensor([0.3333, 0.3333, 0.3333])\u001b[32m [repeated 2x across cluster]\u001b[0m\n",
            "\u001b[2m\u001b[36m(launch_and_fit pid=32455)\u001b[0m probas after normalization 2: tensor([[0.3333, 0.3333, 0.3333,  ..., 0.3333, 0.3333, 0.3333],\u001b[32m [repeated 2x across cluster]\u001b[0m\n",
            "\u001b[2m\u001b[36m(launch_and_fit pid=32455)\u001b[0m         [0.3333, 0.3333, 0.3333,  ..., 0.3333, 0.3333, 0.3333]])\u001b[32m [repeated 4x across cluster]\u001b[0m\n",
            "\u001b[2m\u001b[36m(launch_and_fit pid=32455)\u001b[0m mixture_weights 2: tensor([0.3333, 0.3333, 0.3333])\u001b[32m [repeated 2x across cluster]\u001b[0m\n",
            "\u001b[2m\u001b[36m(launch_and_fit pid=32456)\u001b[0m probas after normalization 4: tensor([[0.3333, 0.3333, 0.3333,  ..., 0.3333, 0.3333, 0.3333],\u001b[32m [repeated 2x across cluster]\u001b[0m\n",
            "\u001b[2m\u001b[36m(launch_and_fit pid=32456)\u001b[0m         [0.3333, 0.3333, 0.3333,  ..., 0.3333, 0.3333, 0.3333]])\u001b[32m [repeated 4x across cluster]\u001b[0m\n",
            "\u001b[2m\u001b[36m(launch_and_fit pid=32456)\u001b[0m mixture_weights 4: tensor([0.3333, 0.3333, 0.3333])\u001b[32m [repeated 2x across cluster]\u001b[0m\n",
            "\u001b[2m\u001b[36m(launch_and_fit pid=32456)\u001b[0m probas after normalization 14: tensor([[0.3333, 0.3333, 0.3333,  ..., 0.3333, 0.3333, 0.3333],\u001b[32m [repeated 2x across cluster]\u001b[0m\n",
            "\u001b[2m\u001b[36m(launch_and_fit pid=32456)\u001b[0m         [0.3333, 0.3333, 0.3333,  ..., 0.3333, 0.3333, 0.3333]])\u001b[32m [repeated 4x across cluster]\u001b[0m\n",
            "\u001b[2m\u001b[36m(launch_and_fit pid=32456)\u001b[0m mixture_weights 14: tensor([0.3333, 0.3333, 0.3333])\u001b[32m [repeated 2x across cluster]\u001b[0m\n",
            "\u001b[2m\u001b[36m(launch_and_fit pid=32456)\u001b[0m probas after normalization 12: tensor([[0.3333, 0.3333, 0.3333,  ..., 0.3333, 0.3333, 0.3333],\u001b[32m [repeated 2x across cluster]\u001b[0m\n",
            "\u001b[2m\u001b[36m(launch_and_fit pid=32456)\u001b[0m         [0.3333, 0.3333, 0.3333,  ..., 0.3333, 0.3333, 0.3333]])\u001b[32m [repeated 4x across cluster]\u001b[0m\n",
            "\u001b[2m\u001b[36m(launch_and_fit pid=32456)\u001b[0m mixture_weights 12: tensor([0.3333, 0.3333, 0.3333])\u001b[32m [repeated 2x across cluster]\u001b[0m\n"
          ]
        },
        {
          "output_type": "stream",
          "name": "stderr",
          "text": [
            "DEBUG flwr 2023-06-07 23:11:07,409 | server.py:232 | fit_round 6 received 20 results and 0 failures\n",
            "DEBUG:flwr:fit_round 6 received 20 results and 0 failures\n",
            "DEBUG flwr 2023-06-07 23:11:07,440 | server.py:168 | evaluate_round 6: strategy sampled 20 clients (out of 20)\n",
            "DEBUG:flwr:evaluate_round 6: strategy sampled 20 clients (out of 20)\n"
          ]
        },
        {
          "output_type": "stream",
          "name": "stdout",
          "text": [
            "aggregate_fit\n",
            "configure_evaluate\n",
            "end configure_evaluate\n"
          ]
        },
        {
          "output_type": "stream",
          "name": "stderr",
          "text": [
            "DEBUG flwr 2023-06-07 23:12:50,508 | server.py:182 | evaluate_round 6 received 20 results and 0 failures\n",
            "DEBUG:flwr:evaluate_round 6 received 20 results and 0 failures\n",
            "DEBUG flwr 2023-06-07 23:12:50,513 | server.py:218 | fit_round 7: strategy sampled 20 clients (out of 20)\n",
            "DEBUG:flwr:fit_round 7: strategy sampled 20 clients (out of 20)\n"
          ]
        },
        {
          "output_type": "stream",
          "name": "stdout",
          "text": [
            "configure_fit\n",
            "end configure_fit\n",
            "\u001b[2m\u001b[36m(launch_and_fit pid=32455)\u001b[0m probas after normalization 0: tensor([[0.3333, 0.3333, 0.3333,  ..., 0.3333, 0.3333, 0.3333],\u001b[32m [repeated 2x across cluster]\u001b[0m\n",
            "\u001b[2m\u001b[36m(launch_and_fit pid=32455)\u001b[0m         [0.3333, 0.3333, 0.3333,  ..., 0.3333, 0.3333, 0.3333]])\u001b[32m [repeated 4x across cluster]\u001b[0m\n",
            "\u001b[2m\u001b[36m(launch_and_fit pid=32455)\u001b[0m mixture_weights 0: tensor([0.3333, 0.3333, 0.3333])\u001b[32m [repeated 2x across cluster]\u001b[0m\n",
            "\u001b[2m\u001b[36m(launch_and_fit pid=32455)\u001b[0m probas after normalization 17: tensor([[0.3333, 0.3333, 0.3333,  ..., 0.3333, 0.3333, 0.3333],\u001b[32m [repeated 2x across cluster]\u001b[0m\n",
            "\u001b[2m\u001b[36m(launch_and_fit pid=32455)\u001b[0m         [0.3333, 0.3333, 0.3333,  ..., 0.3333, 0.3333, 0.3333]])\u001b[32m [repeated 4x across cluster]\u001b[0m\n",
            "\u001b[2m\u001b[36m(launch_and_fit pid=32455)\u001b[0m mixture_weights 17: tensor([0.3333, 0.3333, 0.3333])\u001b[32m [repeated 2x across cluster]\u001b[0m\n",
            "\u001b[2m\u001b[36m(launch_and_fit pid=32456)\u001b[0m mixture_weights 13: tensor([0.3333, 0.3333, 0.3333])\n",
            "\u001b[2m\u001b[36m(launch_and_fit pid=32456)\u001b[0m         [0.3333, 0.3333, 0.3333,  ..., 0.3333, 0.3333, 0.3333]])\u001b[32m [repeated 2x across cluster]\u001b[0m\n",
            "\u001b[2m\u001b[36m(launch_and_fit pid=32456)\u001b[0m mixture_weights 13: tensor([0.3333, 0.3333, 0.3333])\n",
            "\u001b[2m\u001b[36m(launch_and_fit pid=32455)\u001b[0m probas after normalization 15: tensor([[0.3333, 0.3333, 0.3333,  ..., 0.3333, 0.3333, 0.3333],\n",
            "\u001b[2m\u001b[36m(launch_and_fit pid=32455)\u001b[0m mixture_weights 15: tensor([0.3333, 0.3333, 0.3333])\n",
            "\u001b[2m\u001b[36m(launch_and_fit pid=32456)\u001b[0m         [0.3333, 0.3333, 0.3333,  ..., 0.3333, 0.3333, 0.3333]])\u001b[32m [repeated 4x across cluster]\u001b[0m\n",
            "\u001b[2m\u001b[36m(launch_and_fit pid=32456)\u001b[0m mixture_weights 1: tensor([0.3333, 0.3333, 0.3333])\n",
            "\u001b[2m\u001b[36m(launch_and_fit pid=32456)\u001b[0m mixture_weights 1: tensor([0.3333, 0.3333, 0.3333])\n",
            "\u001b[2m\u001b[36m(launch_and_fit pid=32455)\u001b[0m probas after normalization 6: tensor([[0.3333, 0.3333, 0.3333,  ..., 0.3333, 0.3333, 0.3333],\n",
            "\u001b[2m\u001b[36m(launch_and_fit pid=32455)\u001b[0m mixture_weights 6: tensor([0.3333, 0.3333, 0.3333])\n",
            "\u001b[2m\u001b[36m(launch_and_fit pid=32456)\u001b[0m         [0.3333, 0.3333, 0.3333,  ..., 0.3333, 0.3333, 0.3333]])\u001b[32m [repeated 4x across cluster]\u001b[0m\n",
            "\u001b[2m\u001b[36m(launch_and_fit pid=32456)\u001b[0m mixture_weights 11: tensor([0.3333, 0.3333, 0.3333])\n",
            "\u001b[2m\u001b[36m(launch_and_fit pid=32456)\u001b[0m mixture_weights 11: tensor([0.3333, 0.3333, 0.3333])\n",
            "\u001b[2m\u001b[36m(launch_and_fit pid=32455)\u001b[0m probas after normalization 3: tensor([[0.3333, 0.3333, 0.3333,  ..., 0.3333, 0.3333, 0.3333],\n",
            "\u001b[2m\u001b[36m(launch_and_fit pid=32455)\u001b[0m mixture_weights 3: tensor([0.3333, 0.3333, 0.3333])\n",
            "\u001b[2m\u001b[36m(launch_and_fit pid=32456)\u001b[0m         [0.3333, 0.3333, 0.3333,  ..., 0.3333, 0.3333, 0.3333]])\u001b[32m [repeated 4x across cluster]\u001b[0m\n",
            "\u001b[2m\u001b[36m(launch_and_fit pid=32456)\u001b[0m mixture_weights 16: tensor([0.3333, 0.3333, 0.3333])\n",
            "\u001b[2m\u001b[36m(launch_and_fit pid=32456)\u001b[0m mixture_weights 16: tensor([0.3333, 0.3333, 0.3333])\n",
            "\u001b[2m\u001b[36m(launch_and_fit pid=32455)\u001b[0m probas after normalization 14: tensor([[0.3333, 0.3333, 0.3333,  ..., 0.3333, 0.3333, 0.3333],\n",
            "\u001b[2m\u001b[36m(launch_and_fit pid=32455)\u001b[0m mixture_weights 14: tensor([0.3333, 0.3333, 0.3333])\n",
            "\u001b[2m\u001b[36m(launch_and_fit pid=32456)\u001b[0m         [0.3333, 0.3333, 0.3333,  ..., 0.3333, 0.3333, 0.3333]])\u001b[32m [repeated 4x across cluster]\u001b[0m\n",
            "\u001b[2m\u001b[36m(launch_and_fit pid=32456)\u001b[0m         [0.3333, 0.3333, 0.3333,  ..., 0.3333, 0.3333, 0.3333]])\n",
            "\u001b[2m\u001b[36m(launch_and_fit pid=32456)\u001b[0m mixture_weights 9: tensor([0.3333, 0.3333, 0.3333])\n",
            "\u001b[2m\u001b[36m(launch_and_fit pid=32455)\u001b[0m probas after normalization 12: tensor([[0.3333, 0.3333, 0.3333,  ..., 0.3333, 0.3333, 0.3333],\n",
            "\u001b[2m\u001b[36m(launch_and_fit pid=32456)\u001b[0m         [0.3333, 0.3333, 0.3333,  ..., 0.3333, 0.3333, 0.3333]])\u001b[32m [repeated 4x across cluster]\u001b[0m\n",
            "\u001b[2m\u001b[36m(launch_and_fit pid=32456)\u001b[0m mixture_weights 7: tensor([0.3333, 0.3333, 0.3333])\u001b[32m [repeated 2x across cluster]\u001b[0m\n",
            "\u001b[2m\u001b[36m(launch_and_fit pid=32456)\u001b[0m mixture_weights 7: tensor([0.3333, 0.3333, 0.3333])\n",
            "\u001b[2m\u001b[36m(launch_and_fit pid=32455)\u001b[0m probas after normalization 2: tensor([[0.3333, 0.3333, 0.3333,  ..., 0.3333, 0.3333, 0.3333],\n",
            "\u001b[2m\u001b[36m(launch_and_fit pid=32455)\u001b[0m         [0.3333, 0.3333, 0.3333,  ..., 0.3333, 0.3333, 0.3333]])\u001b[32m [repeated 2x across cluster]\u001b[0m\n",
            "\u001b[2m\u001b[36m(launch_and_fit pid=32455)\u001b[0m mixture_weights 2: tensor([0.3333, 0.3333, 0.3333])\n",
            "\u001b[2m\u001b[36m(launch_and_fit pid=32456)\u001b[0m mixture_weights 10: tensor([0.3333, 0.3333, 0.3333])\n",
            "\u001b[2m\u001b[36m(launch_and_fit pid=32456)\u001b[0m mixture_weights 10: tensor([0.3333, 0.3333, 0.3333])\n",
            "\u001b[2m\u001b[36m(launch_and_fit pid=32456)\u001b[0m         [0.3333, 0.3333, 0.3333,  ..., 0.3333, 0.3333, 0.3333]])\u001b[32m [repeated 2x across cluster]\u001b[0m\n",
            "\u001b[2m\u001b[36m(launch_and_fit pid=32455)\u001b[0m probas after normalization 4: tensor([[0.3333, 0.3333, 0.3333,  ..., 0.3333, 0.3333, 0.3333],\n",
            "\u001b[2m\u001b[36m(launch_and_fit pid=32456)\u001b[0m mixture_weights 8: tensor([0.3333, 0.3333, 0.3333])\u001b[32m [repeated 2x across cluster]\u001b[0m\n",
            "\u001b[2m\u001b[36m(launch_and_fit pid=32456)\u001b[0m         [0.3333, 0.3333, 0.3333,  ..., 0.3333, 0.3333, 0.3333]])\u001b[32m [repeated 4x across cluster]\u001b[0m\n",
            "\u001b[2m\u001b[36m(launch_and_fit pid=32455)\u001b[0m probas after normalization 19: tensor([[0.3333, 0.3333, 0.3333,  ..., 0.3333, 0.3333, 0.3333],\u001b[32m [repeated 2x across cluster]\u001b[0m\n",
            "\u001b[2m\u001b[36m(launch_and_fit pid=32456)\u001b[0m mixture_weights 5: tensor([0.3333, 0.3333, 0.3333])\u001b[32m [repeated 2x across cluster]\u001b[0m\n",
            "\u001b[2m\u001b[36m(launch_and_fit pid=32456)\u001b[0m         [0.3333, 0.3333, 0.3333,  ..., 0.3333, 0.3333, 0.3333]])\u001b[32m [repeated 4x across cluster]\u001b[0m\n",
            "\u001b[2m\u001b[36m(launch_and_fit pid=32456)\u001b[0m mixture_weights 5: tensor([0.3333, 0.3333, 0.3333])\n"
          ]
        },
        {
          "output_type": "stream",
          "name": "stderr",
          "text": [
            "DEBUG flwr 2023-06-07 23:14:51,179 | server.py:232 | fit_round 7 received 20 results and 0 failures\n",
            "DEBUG:flwr:fit_round 7 received 20 results and 0 failures\n",
            "DEBUG flwr 2023-06-07 23:14:51,214 | server.py:168 | evaluate_round 7: strategy sampled 20 clients (out of 20)\n",
            "DEBUG:flwr:evaluate_round 7: strategy sampled 20 clients (out of 20)\n"
          ]
        },
        {
          "output_type": "stream",
          "name": "stdout",
          "text": [
            "aggregate_fit\n",
            "configure_evaluate\n",
            "end configure_evaluate\n"
          ]
        },
        {
          "output_type": "stream",
          "name": "stderr",
          "text": [
            "DEBUG flwr 2023-06-07 23:16:11,020 | server.py:182 | evaluate_round 7 received 20 results and 0 failures\n",
            "DEBUG:flwr:evaluate_round 7 received 20 results and 0 failures\n",
            "DEBUG flwr 2023-06-07 23:16:11,025 | server.py:218 | fit_round 8: strategy sampled 20 clients (out of 20)\n",
            "DEBUG:flwr:fit_round 8: strategy sampled 20 clients (out of 20)\n"
          ]
        },
        {
          "output_type": "stream",
          "name": "stdout",
          "text": [
            "configure_fit\n",
            "end configure_fit\n",
            "\u001b[2m\u001b[36m(launch_and_fit pid=32455)\u001b[0m probas after normalization 19: tensor([[0.3333, 0.3333, 0.3333,  ..., 0.3333, 0.3333, 0.3333],\n",
            "\u001b[2m\u001b[36m(launch_and_fit pid=32455)\u001b[0m mixture_weights 19: tensor([0.3333, 0.3333, 0.3333])\n",
            "\u001b[2m\u001b[36m(launch_and_fit pid=32455)\u001b[0m         [0.3333, 0.3333, 0.3333,  ..., 0.3333, 0.3333, 0.3333]])\u001b[32m [repeated 2x across cluster]\u001b[0m\n",
            "\u001b[2m\u001b[36m(launch_and_fit pid=32456)\u001b[0m mixture_weights 9: tensor([0.3333, 0.3333, 0.3333])\n",
            "\u001b[2m\u001b[36m(launch_and_fit pid=32455)\u001b[0m probas after normalization 1: tensor([[0.3333, 0.3333, 0.3333,  ..., 0.3333, 0.3333, 0.3333],\u001b[32m [repeated 2x across cluster]\u001b[0m\n",
            "\u001b[2m\u001b[36m(launch_and_fit pid=32455)\u001b[0m         [0.3333, 0.3333, 0.3333,  ..., 0.3333, 0.3333, 0.3333]])\u001b[32m [repeated 4x across cluster]\u001b[0m\n",
            "\u001b[2m\u001b[36m(launch_and_fit pid=32455)\u001b[0m mixture_weights 1: tensor([0.3333, 0.3333, 0.3333])\n",
            "\u001b[2m\u001b[36m(launch_and_fit pid=32456)\u001b[0m mixture_weights 15: tensor([0.3333, 0.3333, 0.3333])\n",
            "\u001b[2m\u001b[36m(launch_and_fit pid=32455)\u001b[0m probas after normalization 17: tensor([[0.3333, 0.3333, 0.3333,  ..., 0.3333, 0.3333, 0.3333],\u001b[32m [repeated 2x across cluster]\u001b[0m\n",
            "\u001b[2m\u001b[36m(launch_and_fit pid=32455)\u001b[0m         [0.3333, 0.3333, 0.3333,  ..., 0.3333, 0.3333, 0.3333]])\u001b[32m [repeated 4x across cluster]\u001b[0m\n",
            "\u001b[2m\u001b[36m(launch_and_fit pid=32455)\u001b[0m mixture_weights 17: tensor([0.3333, 0.3333, 0.3333])\n",
            "\u001b[2m\u001b[36m(launch_and_fit pid=32456)\u001b[0m mixture_weights 0: tensor([0.3333, 0.3333, 0.3333])\n",
            "\u001b[2m\u001b[36m(launch_and_fit pid=32455)\u001b[0m probas after normalization 8: tensor([[0.3333, 0.3333, 0.3333,  ..., 0.3333, 0.3333, 0.3333],\u001b[32m [repeated 2x across cluster]\u001b[0m\n",
            "\u001b[2m\u001b[36m(launch_and_fit pid=32455)\u001b[0m         [0.3333, 0.3333, 0.3333,  ..., 0.3333, 0.3333, 0.3333]])\u001b[32m [repeated 4x across cluster]\u001b[0m\n",
            "\u001b[2m\u001b[36m(launch_and_fit pid=32455)\u001b[0m mixture_weights 8: tensor([0.3333, 0.3333, 0.3333])\n",
            "\u001b[2m\u001b[36m(launch_and_fit pid=32456)\u001b[0m mixture_weights 10: tensor([0.3333, 0.3333, 0.3333])\n",
            "\u001b[2m\u001b[36m(launch_and_fit pid=32455)\u001b[0m probas after normalization 3: tensor([[0.3333, 0.3333, 0.3333,  ..., 0.3333, 0.3333, 0.3333],\u001b[32m [repeated 2x across cluster]\u001b[0m\n",
            "\u001b[2m\u001b[36m(launch_and_fit pid=32455)\u001b[0m         [0.3333, 0.3333, 0.3333,  ..., 0.3333, 0.3333, 0.3333]])\u001b[32m [repeated 4x across cluster]\u001b[0m\n",
            "\u001b[2m\u001b[36m(launch_and_fit pid=32455)\u001b[0m mixture_weights 3: tensor([0.3333, 0.3333, 0.3333])\n",
            "\u001b[2m\u001b[36m(launch_and_fit pid=32456)\u001b[0m mixture_weights 18: tensor([0.3333, 0.3333, 0.3333])\n",
            "\u001b[2m\u001b[36m(launch_and_fit pid=32455)\u001b[0m probas after normalization 14: tensor([[0.3333, 0.3333, 0.3333,  ..., 0.3333, 0.3333, 0.3333],\u001b[32m [repeated 2x across cluster]\u001b[0m\n",
            "\u001b[2m\u001b[36m(launch_and_fit pid=32455)\u001b[0m         [0.3333, 0.3333, 0.3333,  ..., 0.3333, 0.3333, 0.3333]])\u001b[32m [repeated 4x across cluster]\u001b[0m\n",
            "\u001b[2m\u001b[36m(launch_and_fit pid=32455)\u001b[0m mixture_weights 14: tensor([0.3333, 0.3333, 0.3333])\n",
            "\u001b[2m\u001b[36m(launch_and_fit pid=32456)\u001b[0m mixture_weights 12: tensor([0.3333, 0.3333, 0.3333])\n",
            "\u001b[2m\u001b[36m(launch_and_fit pid=32455)\u001b[0m probas after normalization 6: tensor([[0.3333, 0.3333, 0.3333,  ..., 0.3333, 0.3333, 0.3333],\u001b[32m [repeated 2x across cluster]\u001b[0m\n",
            "\u001b[2m\u001b[36m(launch_and_fit pid=32455)\u001b[0m         [0.3333, 0.3333, 0.3333,  ..., 0.3333, 0.3333, 0.3333]])\u001b[32m [repeated 4x across cluster]\u001b[0m\n",
            "\u001b[2m\u001b[36m(launch_and_fit pid=32455)\u001b[0m mixture_weights 6: tensor([0.3333, 0.3333, 0.3333])\n",
            "\u001b[2m\u001b[36m(launch_and_fit pid=32456)\u001b[0m mixture_weights 13: tensor([0.3333, 0.3333, 0.3333])\n",
            "\u001b[2m\u001b[36m(launch_and_fit pid=32455)\u001b[0m probas after normalization 5: tensor([[0.3333, 0.3333, 0.3333,  ..., 0.3333, 0.3333, 0.3333],\u001b[32m [repeated 2x across cluster]\u001b[0m\n",
            "\u001b[2m\u001b[36m(launch_and_fit pid=32455)\u001b[0m         [0.3333, 0.3333, 0.3333,  ..., 0.3333, 0.3333, 0.3333]])\u001b[32m [repeated 4x across cluster]\u001b[0m\n",
            "\u001b[2m\u001b[36m(launch_and_fit pid=32455)\u001b[0m mixture_weights 5: tensor([0.3333, 0.3333, 0.3333])\n",
            "\u001b[2m\u001b[36m(launch_and_fit pid=32456)\u001b[0m mixture_weights 11: tensor([0.3333, 0.3333, 0.3333])\n",
            "\u001b[2m\u001b[36m(launch_and_fit pid=32455)\u001b[0m probas after normalization 7: tensor([[0.3333, 0.3333, 0.3333,  ..., 0.3333, 0.3333, 0.3333],\u001b[32m [repeated 2x across cluster]\u001b[0m\n",
            "\u001b[2m\u001b[36m(launch_and_fit pid=32455)\u001b[0m         [0.3333, 0.3333, 0.3333,  ..., 0.3333, 0.3333, 0.3333]])\u001b[32m [repeated 4x across cluster]\u001b[0m\n",
            "\u001b[2m\u001b[36m(launch_and_fit pid=32455)\u001b[0m mixture_weights 7: tensor([0.3333, 0.3333, 0.3333])\n",
            "\u001b[2m\u001b[36m(launch_and_fit pid=32456)\u001b[0m mixture_weights 2: tensor([0.3333, 0.3333, 0.3333])\n",
            "\u001b[2m\u001b[36m(launch_and_fit pid=32455)\u001b[0m probas after normalization 16: tensor([[0.3333, 0.3333, 0.3333,  ..., 0.3333, 0.3333, 0.3333],\u001b[32m [repeated 2x across cluster]\u001b[0m\n",
            "\u001b[2m\u001b[36m(launch_and_fit pid=32455)\u001b[0m         [0.3333, 0.3333, 0.3333,  ..., 0.3333, 0.3333, 0.3333]])\u001b[32m [repeated 4x across cluster]\u001b[0m\n",
            "\u001b[2m\u001b[36m(launch_and_fit pid=32455)\u001b[0m mixture_weights 16: tensor([0.3333, 0.3333, 0.3333])\n",
            "\u001b[2m\u001b[36m(launch_and_fit pid=32456)\u001b[0m mixture_weights 4: tensor([0.3333, 0.3333, 0.3333])\n"
          ]
        },
        {
          "output_type": "stream",
          "name": "stderr",
          "text": [
            "DEBUG flwr 2023-06-07 23:17:57,596 | server.py:232 | fit_round 8 received 20 results and 0 failures\n",
            "DEBUG:flwr:fit_round 8 received 20 results and 0 failures\n",
            "DEBUG flwr 2023-06-07 23:17:57,628 | server.py:168 | evaluate_round 8: strategy sampled 20 clients (out of 20)\n",
            "DEBUG:flwr:evaluate_round 8: strategy sampled 20 clients (out of 20)\n"
          ]
        },
        {
          "output_type": "stream",
          "name": "stdout",
          "text": [
            "aggregate_fit\n",
            "configure_evaluate\n",
            "end configure_evaluate\n"
          ]
        },
        {
          "output_type": "stream",
          "name": "stderr",
          "text": [
            "DEBUG flwr 2023-06-07 23:20:26,804 | server.py:182 | evaluate_round 8 received 20 results and 0 failures\n",
            "DEBUG:flwr:evaluate_round 8 received 20 results and 0 failures\n",
            "DEBUG flwr 2023-06-07 23:20:26,810 | server.py:218 | fit_round 9: strategy sampled 20 clients (out of 20)\n",
            "DEBUG:flwr:fit_round 9: strategy sampled 20 clients (out of 20)\n"
          ]
        },
        {
          "output_type": "stream",
          "name": "stdout",
          "text": [
            "configure_fit\n",
            "end configure_fit\n",
            "\u001b[2m\u001b[36m(launch_and_fit pid=32455)\u001b[0m probas after normalization 9: tensor([[0.3333, 0.3333, 0.3333,  ..., 0.3333, 0.3333, 0.3333],\u001b[32m [repeated 2x across cluster]\u001b[0m\n",
            "\u001b[2m\u001b[36m(launch_and_fit pid=32455)\u001b[0m         [0.3333, 0.3333, 0.3333,  ..., 0.3333, 0.3333, 0.3333]])\u001b[32m [repeated 4x across cluster]\u001b[0m\n",
            "\u001b[2m\u001b[36m(launch_and_fit pid=32455)\u001b[0m mixture_weights 9: tensor([0.3333, 0.3333, 0.3333])\n",
            "\u001b[2m\u001b[36m(launch_and_fit pid=32456)\u001b[0m mixture_weights 5: tensor([0.3333, 0.3333, 0.3333])\n",
            "\u001b[2m\u001b[36m(launch_and_fit pid=32455)\u001b[0m probas after normalization 2: tensor([[0.3333, 0.3333, 0.3333,  ..., 0.3333, 0.3333, 0.3333],\u001b[32m [repeated 2x across cluster]\u001b[0m\n",
            "\u001b[2m\u001b[36m(launch_and_fit pid=32455)\u001b[0m         [0.3333, 0.3333, 0.3333,  ..., 0.3333, 0.3333, 0.3333]])\u001b[32m [repeated 4x across cluster]\u001b[0m\n",
            "\u001b[2m\u001b[36m(launch_and_fit pid=32455)\u001b[0m mixture_weights 2: tensor([0.3333, 0.3333, 0.3333])\n",
            "\u001b[2m\u001b[36m(launch_and_fit pid=32456)\u001b[0m mixture_weights 15: tensor([0.3333, 0.3333, 0.3333])\n",
            "\u001b[2m\u001b[36m(launch_and_fit pid=32455)\u001b[0m probas after normalization 12: tensor([[0.3333, 0.3333, 0.3333,  ..., 0.3333, 0.3333, 0.3333],\u001b[32m [repeated 2x across cluster]\u001b[0m\n",
            "\u001b[2m\u001b[36m(launch_and_fit pid=32455)\u001b[0m         [0.3333, 0.3333, 0.3333,  ..., 0.3333, 0.3333, 0.3333]])\u001b[32m [repeated 4x across cluster]\u001b[0m\n",
            "\u001b[2m\u001b[36m(launch_and_fit pid=32455)\u001b[0m mixture_weights 12: tensor([0.3333, 0.3333, 0.3333])\n",
            "\u001b[2m\u001b[36m(launch_and_fit pid=32456)\u001b[0m mixture_weights 19: tensor([0.3333, 0.3333, 0.3333])\n",
            "\u001b[2m\u001b[36m(launch_and_fit pid=32455)\u001b[0m probas after normalization 3: tensor([[0.3333, 0.3333, 0.3333,  ..., 0.3333, 0.3333, 0.3333],\u001b[32m [repeated 2x across cluster]\u001b[0m\n",
            "\u001b[2m\u001b[36m(launch_and_fit pid=32455)\u001b[0m         [0.3333, 0.3333, 0.3333,  ..., 0.3333, 0.3333, 0.3333]])\u001b[32m [repeated 4x across cluster]\u001b[0m\n",
            "\u001b[2m\u001b[36m(launch_and_fit pid=32455)\u001b[0m mixture_weights 3: tensor([0.3333, 0.3333, 0.3333])\n",
            "\u001b[2m\u001b[36m(launch_and_fit pid=32456)\u001b[0m mixture_weights 13: tensor([0.3333, 0.3333, 0.3333])\n",
            "\u001b[2m\u001b[36m(launch_and_fit pid=32455)\u001b[0m probas after normalization 14: tensor([[0.3333, 0.3333, 0.3333,  ..., 0.3333, 0.3333, 0.3333],\u001b[32m [repeated 2x across cluster]\u001b[0m\n",
            "\u001b[2m\u001b[36m(launch_and_fit pid=32455)\u001b[0m         [0.3333, 0.3333, 0.3333,  ..., 0.3333, 0.3333, 0.3333]])\u001b[32m [repeated 4x across cluster]\u001b[0m\n",
            "\u001b[2m\u001b[36m(launch_and_fit pid=32455)\u001b[0m mixture_weights 14: tensor([0.3333, 0.3333, 0.3333])\n",
            "\u001b[2m\u001b[36m(launch_and_fit pid=32456)\u001b[0m mixture_weights 7: tensor([0.3333, 0.3333, 0.3333])\n",
            "\u001b[2m\u001b[36m(launch_and_fit pid=32455)\u001b[0m probas after normalization 11: tensor([[0.3333, 0.3333, 0.3333,  ..., 0.3333, 0.3333, 0.3333],\u001b[32m [repeated 2x across cluster]\u001b[0m\n",
            "\u001b[2m\u001b[36m(launch_and_fit pid=32455)\u001b[0m         [0.3333, 0.3333, 0.3333,  ..., 0.3333, 0.3333, 0.3333]])\u001b[32m [repeated 4x across cluster]\u001b[0m\n",
            "\u001b[2m\u001b[36m(launch_and_fit pid=32455)\u001b[0m mixture_weights 11: tensor([0.3333, 0.3333, 0.3333])\n",
            "\u001b[2m\u001b[36m(launch_and_fit pid=32456)\u001b[0m mixture_weights 4: tensor([0.3333, 0.3333, 0.3333])\n",
            "\u001b[2m\u001b[36m(launch_and_fit pid=32455)\u001b[0m probas after normalization 1: tensor([[0.3333, 0.3333, 0.3333,  ..., 0.3333, 0.3333, 0.3333],\u001b[32m [repeated 2x across cluster]\u001b[0m\n",
            "\u001b[2m\u001b[36m(launch_and_fit pid=32455)\u001b[0m         [0.3333, 0.3333, 0.3333,  ..., 0.3333, 0.3333, 0.3333]])\u001b[32m [repeated 4x across cluster]\u001b[0m\n",
            "\u001b[2m\u001b[36m(launch_and_fit pid=32455)\u001b[0m mixture_weights 1: tensor([0.3333, 0.3333, 0.3333])\n",
            "\u001b[2m\u001b[36m(launch_and_fit pid=32456)\u001b[0m mixture_weights 10: tensor([0.3333, 0.3333, 0.3333])\n",
            "\u001b[2m\u001b[36m(launch_and_fit pid=32455)\u001b[0m probas after normalization 16: tensor([[0.3333, 0.3333, 0.3333,  ..., 0.3333, 0.3333, 0.3333],\u001b[32m [repeated 2x across cluster]\u001b[0m\n",
            "\u001b[2m\u001b[36m(launch_and_fit pid=32455)\u001b[0m         [0.3333, 0.3333, 0.3333,  ..., 0.3333, 0.3333, 0.3333]])\u001b[32m [repeated 4x across cluster]\u001b[0m\n",
            "\u001b[2m\u001b[36m(launch_and_fit pid=32455)\u001b[0m mixture_weights 16: tensor([0.3333, 0.3333, 0.3333])\n",
            "\u001b[2m\u001b[36m(launch_and_fit pid=32456)\u001b[0m mixture_weights 0: tensor([0.3333, 0.3333, 0.3333])\n",
            "\u001b[2m\u001b[36m(launch_and_fit pid=32455)\u001b[0m probas after normalization 17: tensor([[0.3333, 0.3333, 0.3333,  ..., 0.3333, 0.3333, 0.3333],\u001b[32m [repeated 2x across cluster]\u001b[0m\n",
            "\u001b[2m\u001b[36m(launch_and_fit pid=32455)\u001b[0m         [0.3333, 0.3333, 0.3333,  ..., 0.3333, 0.3333, 0.3333]])\u001b[32m [repeated 4x across cluster]\u001b[0m\n",
            "\u001b[2m\u001b[36m(launch_and_fit pid=32455)\u001b[0m mixture_weights 17: tensor([0.3333, 0.3333, 0.3333])\n",
            "\u001b[2m\u001b[36m(launch_and_fit pid=32456)\u001b[0m mixture_weights 18: tensor([0.3333, 0.3333, 0.3333])\n",
            "\u001b[2m\u001b[36m(launch_and_fit pid=32455)\u001b[0m probas after normalization 8: tensor([[0.3333, 0.3333, 0.3333,  ..., 0.3333, 0.3333, 0.3333],\u001b[32m [repeated 2x across cluster]\u001b[0m\n",
            "\u001b[2m\u001b[36m(launch_and_fit pid=32455)\u001b[0m         [0.3333, 0.3333, 0.3333,  ..., 0.3333, 0.3333, 0.3333]])\u001b[32m [repeated 4x across cluster]\u001b[0m\n",
            "\u001b[2m\u001b[36m(launch_and_fit pid=32456)\u001b[0m mixture_weights 6: tensor([0.3333, 0.3333, 0.3333])\u001b[32m [repeated 2x across cluster]\u001b[0m\n"
          ]
        },
        {
          "output_type": "stream",
          "name": "stderr",
          "text": [
            "DEBUG flwr 2023-06-07 23:22:16,235 | server.py:232 | fit_round 9 received 20 results and 0 failures\n",
            "DEBUG:flwr:fit_round 9 received 20 results and 0 failures\n",
            "DEBUG flwr 2023-06-07 23:22:16,268 | server.py:168 | evaluate_round 9: strategy sampled 20 clients (out of 20)\n",
            "DEBUG:flwr:evaluate_round 9: strategy sampled 20 clients (out of 20)\n"
          ]
        },
        {
          "output_type": "stream",
          "name": "stdout",
          "text": [
            "aggregate_fit\n",
            "configure_evaluate\n",
            "end configure_evaluate\n"
          ]
        },
        {
          "output_type": "stream",
          "name": "stderr",
          "text": [
            "DEBUG flwr 2023-06-07 23:24:15,538 | server.py:182 | evaluate_round 9 received 20 results and 0 failures\n",
            "DEBUG:flwr:evaluate_round 9 received 20 results and 0 failures\n",
            "DEBUG flwr 2023-06-07 23:24:15,543 | server.py:218 | fit_round 10: strategy sampled 20 clients (out of 20)\n",
            "DEBUG:flwr:fit_round 10: strategy sampled 20 clients (out of 20)\n"
          ]
        },
        {
          "output_type": "stream",
          "name": "stdout",
          "text": [
            "configure_fit\n",
            "end configure_fit\n",
            "\u001b[2m\u001b[36m(launch_and_fit pid=32456)\u001b[0m probas after normalization 19: tensor([[0.3333, 0.3333, 0.3333,  ..., 0.3333, 0.3333, 0.3333],\u001b[32m [repeated 2x across cluster]\u001b[0m\n",
            "\u001b[2m\u001b[36m(launch_and_fit pid=32456)\u001b[0m         [0.3333, 0.3333, 0.3333,  ..., 0.3333, 0.3333, 0.3333]])\u001b[32m [repeated 4x across cluster]\u001b[0m\n",
            "\u001b[2m\u001b[36m(launch_and_fit pid=32456)\u001b[0m mixture_weights 19: tensor([0.3333, 0.3333, 0.3333])\n",
            "\u001b[2m\u001b[36m(launch_and_fit pid=32455)\u001b[0m mixture_weights 1: tensor([0.3333, 0.3333, 0.3333])\n",
            "\u001b[2m\u001b[36m(launch_and_fit pid=32455)\u001b[0m         [0.3333, 0.3333, 0.3333,  ..., 0.3333, 0.3333, 0.3333]])\u001b[32m [repeated 2x across cluster]\u001b[0m\n",
            "\u001b[2m\u001b[36m(launch_and_fit pid=32455)\u001b[0m mixture_weights 1: tensor([0.3333, 0.3333, 0.3333])\n",
            "\u001b[2m\u001b[36m(launch_and_fit pid=32456)\u001b[0m probas after normalization 9: tensor([[0.3333, 0.3333, 0.3333,  ..., 0.3333, 0.3333, 0.3333],\n",
            "\u001b[2m\u001b[36m(launch_and_fit pid=32456)\u001b[0m mixture_weights 9: tensor([0.3333, 0.3333, 0.3333])\n",
            "\u001b[2m\u001b[36m(launch_and_fit pid=32456)\u001b[0m probas after normalization 5: tensor([[0.3333, 0.3333, 0.3333,  ..., 0.3333, 0.3333, 0.3333],\n",
            "\u001b[2m\u001b[36m(launch_and_fit pid=32456)\u001b[0m mixture_weights 5: tensor([0.3333, 0.3333, 0.3333])\n",
            "\u001b[2m\u001b[36m(launch_and_fit pid=32456)\u001b[0m         [0.3333, 0.3333, 0.3333,  ..., 0.3333, 0.3333, 0.3333]])\u001b[32m [repeated 4x across cluster]\u001b[0m\n",
            "\u001b[2m\u001b[36m(launch_and_fit pid=32455)\u001b[0m probas after normalization 8: tensor([[0.3333, 0.3333, 0.3333,  ..., 0.3333, 0.3333, 0.3333],\n",
            "\u001b[2m\u001b[36m(launch_and_fit pid=32455)\u001b[0m mixture_weights 8: tensor([0.3333, 0.3333, 0.3333])\n",
            "\u001b[2m\u001b[36m(launch_and_fit pid=32456)\u001b[0m         [0.3333, 0.3333, 0.3333,  ..., 0.3333, 0.3333, 0.3333]])\u001b[32m [repeated 4x across cluster]\u001b[0m\n",
            "\u001b[2m\u001b[36m(launch_and_fit pid=32456)\u001b[0m mixture_weights 0: tensor([0.3333, 0.3333, 0.3333])\n",
            "\u001b[2m\u001b[36m(launch_and_fit pid=32456)\u001b[0m mixture_weights 0: tensor([0.3333, 0.3333, 0.3333])\n",
            "\u001b[2m\u001b[36m(launch_and_fit pid=32455)\u001b[0m probas after normalization 16: tensor([[0.3333, 0.3333, 0.3333,  ..., 0.3333, 0.3333, 0.3333],\n",
            "\u001b[2m\u001b[36m(launch_and_fit pid=32455)\u001b[0m mixture_weights 16: tensor([0.3333, 0.3333, 0.3333])\n",
            "\u001b[2m\u001b[36m(launch_and_fit pid=32456)\u001b[0m         [0.3333, 0.3333, 0.3333,  ..., 0.3333, 0.3333, 0.3333]])\u001b[32m [repeated 4x across cluster]\u001b[0m\n",
            "\u001b[2m\u001b[36m(launch_and_fit pid=32456)\u001b[0m mixture_weights 7: tensor([0.3333, 0.3333, 0.3333])\n",
            "\u001b[2m\u001b[36m(launch_and_fit pid=32456)\u001b[0m mixture_weights 7: tensor([0.3333, 0.3333, 0.3333])\n",
            "\u001b[2m\u001b[36m(launch_and_fit pid=32455)\u001b[0m probas after normalization 15: tensor([[0.3333, 0.3333, 0.3333,  ..., 0.3333, 0.3333, 0.3333],\n",
            "\u001b[2m\u001b[36m(launch_and_fit pid=32455)\u001b[0m mixture_weights 15: tensor([0.3333, 0.3333, 0.3333])\n",
            "\u001b[2m\u001b[36m(launch_and_fit pid=32456)\u001b[0m         [0.3333, 0.3333, 0.3333,  ..., 0.3333, 0.3333, 0.3333]])\u001b[32m [repeated 4x across cluster]\u001b[0m\n",
            "\u001b[2m\u001b[36m(launch_and_fit pid=32456)\u001b[0m mixture_weights 4: tensor([0.3333, 0.3333, 0.3333])\n",
            "\u001b[2m\u001b[36m(launch_and_fit pid=32456)\u001b[0m mixture_weights 4: tensor([0.3333, 0.3333, 0.3333])\n",
            "\u001b[2m\u001b[36m(launch_and_fit pid=32455)\u001b[0m probas after normalization 12: tensor([[0.3333, 0.3333, 0.3333,  ..., 0.3333, 0.3333, 0.3333],\n",
            "\u001b[2m\u001b[36m(launch_and_fit pid=32455)\u001b[0m mixture_weights 12: tensor([0.3333, 0.3333, 0.3333])\n",
            "\u001b[2m\u001b[36m(launch_and_fit pid=32456)\u001b[0m         [0.3333, 0.3333, 0.3333,  ..., 0.3333, 0.3333, 0.3333]])\u001b[32m [repeated 4x across cluster]\u001b[0m\n",
            "\u001b[2m\u001b[36m(launch_and_fit pid=32456)\u001b[0m mixture_weights 10: tensor([0.3333, 0.3333, 0.3333])\n",
            "\u001b[2m\u001b[36m(launch_and_fit pid=32456)\u001b[0m mixture_weights 10: tensor([0.3333, 0.3333, 0.3333])\n",
            "\u001b[2m\u001b[36m(launch_and_fit pid=32455)\u001b[0m probas after normalization 6: tensor([[0.3333, 0.3333, 0.3333,  ..., 0.3333, 0.3333, 0.3333],\n",
            "\u001b[2m\u001b[36m(launch_and_fit pid=32455)\u001b[0m mixture_weights 6: tensor([0.3333, 0.3333, 0.3333])\n",
            "\u001b[2m\u001b[36m(launch_and_fit pid=32456)\u001b[0m         [0.3333, 0.3333, 0.3333,  ..., 0.3333, 0.3333, 0.3333]])\u001b[32m [repeated 4x across cluster]\u001b[0m\n",
            "\u001b[2m\u001b[36m(launch_and_fit pid=32456)\u001b[0m mixture_weights 13: tensor([0.3333, 0.3333, 0.3333])\n",
            "\u001b[2m\u001b[36m(launch_and_fit pid=32456)\u001b[0m mixture_weights 13: tensor([0.3333, 0.3333, 0.3333])\n",
            "\u001b[2m\u001b[36m(launch_and_fit pid=32455)\u001b[0m probas after normalization 14: tensor([[0.3333, 0.3333, 0.3333,  ..., 0.3333, 0.3333, 0.3333],\n",
            "\u001b[2m\u001b[36m(launch_and_fit pid=32455)\u001b[0m mixture_weights 14: tensor([0.3333, 0.3333, 0.3333])\n",
            "\u001b[2m\u001b[36m(launch_and_fit pid=32456)\u001b[0m         [0.3333, 0.3333, 0.3333,  ..., 0.3333, 0.3333, 0.3333]])\u001b[32m [repeated 4x across cluster]\u001b[0m\n",
            "\u001b[2m\u001b[36m(launch_and_fit pid=32456)\u001b[0m mixture_weights 18: tensor([0.3333, 0.3333, 0.3333])\n",
            "\u001b[2m\u001b[36m(launch_and_fit pid=32456)\u001b[0m mixture_weights 18: tensor([0.3333, 0.3333, 0.3333])\n",
            "\u001b[2m\u001b[36m(launch_and_fit pid=32455)\u001b[0m probas after normalization 3: tensor([[0.3333, 0.3333, 0.3333,  ..., 0.3333, 0.3333, 0.3333],\n",
            "\u001b[2m\u001b[36m(launch_and_fit pid=32455)\u001b[0m mixture_weights 3: tensor([0.3333, 0.3333, 0.3333])\n",
            "\u001b[2m\u001b[36m(launch_and_fit pid=32455)\u001b[0m probas after normalization 2: tensor([[0.3333, 0.3333, 0.3333,  ..., 0.3333, 0.3333, 0.3333],\n",
            "\u001b[2m\u001b[36m(launch_and_fit pid=32455)\u001b[0m mixture_weights 2: tensor([0.3333, 0.3333, 0.3333])\n",
            "\u001b[2m\u001b[36m(launch_and_fit pid=32455)\u001b[0m         [0.3333, 0.3333, 0.3333,  ..., 0.3333, 0.3333, 0.3333]])\u001b[32m [repeated 4x across cluster]\u001b[0m\n",
            "\u001b[2m\u001b[36m(launch_and_fit pid=32456)\u001b[0m probas after normalization 11: tensor([[0.3333, 0.3333, 0.3333,  ..., 0.3333, 0.3333, 0.3333],\n",
            "\u001b[2m\u001b[36m(launch_and_fit pid=32456)\u001b[0m mixture_weights 11: tensor([0.3333, 0.3333, 0.3333])\n",
            "\u001b[2m\u001b[36m(launch_and_fit pid=32456)\u001b[0m probas after normalization 17: tensor([[0.3333, 0.3333, 0.3333,  ..., 0.3333, 0.3333, 0.3333],\n",
            "\u001b[2m\u001b[36m(launch_and_fit pid=32456)\u001b[0m mixture_weights 17: tensor([0.3333, 0.3333, 0.3333])\n",
            "\u001b[2m\u001b[36m(launch_and_fit pid=32456)\u001b[0m         [0.3333, 0.3333, 0.3333,  ..., 0.3333, 0.3333, 0.3333]])\u001b[32m [repeated 4x across cluster]\u001b[0m\n"
          ]
        },
        {
          "output_type": "stream",
          "name": "stderr",
          "text": [
            "DEBUG flwr 2023-06-07 23:26:10,328 | server.py:232 | fit_round 10 received 20 results and 0 failures\n",
            "DEBUG:flwr:fit_round 10 received 20 results and 0 failures\n",
            "DEBUG flwr 2023-06-07 23:26:10,381 | server.py:168 | evaluate_round 10: strategy sampled 20 clients (out of 20)\n",
            "DEBUG:flwr:evaluate_round 10: strategy sampled 20 clients (out of 20)\n"
          ]
        },
        {
          "output_type": "stream",
          "name": "stdout",
          "text": [
            "aggregate_fit\n",
            "configure_evaluate\n",
            "end configure_evaluate\n"
          ]
        },
        {
          "output_type": "stream",
          "name": "stderr",
          "text": [
            "DEBUG flwr 2023-06-07 23:28:32,053 | server.py:182 | evaluate_round 10 received 20 results and 0 failures\n",
            "DEBUG:flwr:evaluate_round 10 received 20 results and 0 failures\n",
            "DEBUG flwr 2023-06-07 23:28:32,058 | server.py:218 | fit_round 11: strategy sampled 20 clients (out of 20)\n",
            "DEBUG:flwr:fit_round 11: strategy sampled 20 clients (out of 20)\n"
          ]
        },
        {
          "output_type": "stream",
          "name": "stdout",
          "text": [
            "configure_fit\n",
            "end configure_fit\n",
            "\u001b[2m\u001b[36m(launch_and_fit pid=32456)\u001b[0m probas after normalization 6: tensor([[0.3333, 0.3333, 0.3333,  ..., 0.3333, 0.3333, 0.3333],\n",
            "\u001b[2m\u001b[36m(launch_and_fit pid=32456)\u001b[0m mixture_weights 6: tensor([0.3333, 0.3333, 0.3333])\n",
            "\u001b[2m\u001b[36m(launch_and_fit pid=32456)\u001b[0m         [0.3333, 0.3333, 0.3333,  ..., 0.3333, 0.3333, 0.3333]])\u001b[32m [repeated 2x across cluster]\u001b[0m\n",
            "\u001b[2m\u001b[36m(launch_and_fit pid=32456)\u001b[0m probas after normalization 12: tensor([[0.3333, 0.3333, 0.3333,  ..., 0.3333, 0.3333, 0.3333],\u001b[32m [repeated 2x across cluster]\u001b[0m\n",
            "\u001b[2m\u001b[36m(launch_and_fit pid=32456)\u001b[0m mixture_weights 12: tensor([0.3333, 0.3333, 0.3333])\u001b[32m [repeated 2x across cluster]\u001b[0m\n",
            "\u001b[2m\u001b[36m(launch_and_fit pid=32456)\u001b[0m         [0.3333, 0.3333, 0.3333,  ..., 0.3333, 0.3333, 0.3333]])\u001b[32m [repeated 4x across cluster]\u001b[0m\n",
            "\u001b[2m\u001b[36m(launch_and_fit pid=32455)\u001b[0m mixture_weights 3: tensor([0.3333, 0.3333, 0.3333])\n",
            "\u001b[2m\u001b[36m(launch_and_fit pid=32455)\u001b[0m mixture_weights 3: tensor([0.3333, 0.3333, 0.3333])\n",
            "\u001b[2m\u001b[36m(launch_and_fit pid=32455)\u001b[0m         [0.3333, 0.3333, 0.3333,  ..., 0.3333, 0.3333, 0.3333]])\u001b[32m [repeated 2x across cluster]\u001b[0m\n",
            "\u001b[2m\u001b[36m(launch_and_fit pid=32456)\u001b[0m probas after normalization 17: tensor([[0.3333, 0.3333, 0.3333,  ..., 0.3333, 0.3333, 0.3333],\n",
            "\u001b[2m\u001b[36m(launch_and_fit pid=32456)\u001b[0m mixture_weights 17: tensor([0.3333, 0.3333, 0.3333])\n",
            "\u001b[2m\u001b[36m(launch_and_fit pid=32456)\u001b[0m         [0.3333, 0.3333, 0.3333,  ..., 0.3333, 0.3333, 0.3333]])\u001b[32m [repeated 2x across cluster]\u001b[0m\n",
            "\u001b[2m\u001b[36m(launch_and_fit pid=32456)\u001b[0m probas after normalization 11: tensor([[0.3333, 0.3333, 0.3333,  ..., 0.3333, 0.3333, 0.3333],\u001b[32m [repeated 2x across cluster]\u001b[0m\n",
            "\u001b[2m\u001b[36m(launch_and_fit pid=32456)\u001b[0m mixture_weights 11: tensor([0.3333, 0.3333, 0.3333])\u001b[32m [repeated 2x across cluster]\u001b[0m\n",
            "\u001b[2m\u001b[36m(launch_and_fit pid=32456)\u001b[0m         [0.3333, 0.3333, 0.3333,  ..., 0.3333, 0.3333, 0.3333]])\u001b[32m [repeated 4x across cluster]\u001b[0m\n",
            "\u001b[2m\u001b[36m(launch_and_fit pid=32455)\u001b[0m mixture_weights 7: tensor([0.3333, 0.3333, 0.3333])\n",
            "\u001b[2m\u001b[36m(launch_and_fit pid=32455)\u001b[0m mixture_weights 7: tensor([0.3333, 0.3333, 0.3333])\n",
            "\u001b[2m\u001b[36m(launch_and_fit pid=32455)\u001b[0m         [0.3333, 0.3333, 0.3333,  ..., 0.3333, 0.3333, 0.3333]])\u001b[32m [repeated 2x across cluster]\u001b[0m\n",
            "\u001b[2m\u001b[36m(launch_and_fit pid=32456)\u001b[0m probas after normalization 8: tensor([[0.3333, 0.3333, 0.3333,  ..., 0.3333, 0.3333, 0.3333],\n",
            "\u001b[2m\u001b[36m(launch_and_fit pid=32456)\u001b[0m mixture_weights 8: tensor([0.3333, 0.3333, 0.3333])\n",
            "\u001b[2m\u001b[36m(launch_and_fit pid=32455)\u001b[0m         [0.3333, 0.3333, 0.3333,  ..., 0.3333, 0.3333, 0.3333]])\u001b[32m [repeated 4x across cluster]\u001b[0m\n",
            "\u001b[2m\u001b[36m(launch_and_fit pid=32456)\u001b[0m probas after normalization 18: tensor([[0.3333, 0.3333, 0.3333,  ..., 0.3333, 0.3333, 0.3333],\u001b[32m [repeated 2x across cluster]\u001b[0m\n",
            "\u001b[2m\u001b[36m(launch_and_fit pid=32456)\u001b[0m mixture_weights 18: tensor([0.3333, 0.3333, 0.3333])\u001b[32m [repeated 2x across cluster]\u001b[0m\n",
            "\u001b[2m\u001b[36m(launch_and_fit pid=32456)\u001b[0m         [0.3333, 0.3333, 0.3333,  ..., 0.3333, 0.3333, 0.3333]])\u001b[32m [repeated 2x across cluster]\u001b[0m\n",
            "\u001b[2m\u001b[36m(launch_and_fit pid=32456)\u001b[0m probas after normalization 5: tensor([[0.3333, 0.3333, 0.3333,  ..., 0.3333, 0.3333, 0.3333],\u001b[32m [repeated 2x across cluster]\u001b[0m\n",
            "\u001b[2m\u001b[36m(launch_and_fit pid=32456)\u001b[0m mixture_weights 5: tensor([0.3333, 0.3333, 0.3333])\u001b[32m [repeated 2x across cluster]\u001b[0m\n",
            "\u001b[2m\u001b[36m(launch_and_fit pid=32456)\u001b[0m         [0.3333, 0.3333, 0.3333,  ..., 0.3333, 0.3333, 0.3333]])\u001b[32m [repeated 4x across cluster]\u001b[0m\n",
            "\u001b[2m\u001b[36m(launch_and_fit pid=32455)\u001b[0m mixture_weights 4: tensor([0.3333, 0.3333, 0.3333])\n",
            "\u001b[2m\u001b[36m(launch_and_fit pid=32455)\u001b[0m mixture_weights 4: tensor([0.3333, 0.3333, 0.3333])\n",
            "\u001b[2m\u001b[36m(launch_and_fit pid=32455)\u001b[0m         [0.3333, 0.3333, 0.3333,  ..., 0.3333, 0.3333, 0.3333]])\u001b[32m [repeated 2x across cluster]\u001b[0m\n",
            "\u001b[2m\u001b[36m(launch_and_fit pid=32456)\u001b[0m probas after normalization 19: tensor([[0.3333, 0.3333, 0.3333,  ..., 0.3333, 0.3333, 0.3333],\n",
            "\u001b[2m\u001b[36m(launch_and_fit pid=32456)\u001b[0m mixture_weights 19: tensor([0.3333, 0.3333, 0.3333])\n",
            "\u001b[2m\u001b[36m(launch_and_fit pid=32456)\u001b[0m         [0.3333, 0.3333, 0.3333,  ..., 0.3333, 0.3333, 0.3333]])\u001b[32m [repeated 2x across cluster]\u001b[0m\n",
            "\u001b[2m\u001b[36m(launch_and_fit pid=32456)\u001b[0m probas after normalization 0: tensor([[0.3333, 0.3333, 0.3333,  ..., 0.3333, 0.3333, 0.3333],\u001b[32m [repeated 2x across cluster]\u001b[0m\n",
            "\u001b[2m\u001b[36m(launch_and_fit pid=32456)\u001b[0m mixture_weights 0: tensor([0.3333, 0.3333, 0.3333])\u001b[32m [repeated 2x across cluster]\u001b[0m\n",
            "\u001b[2m\u001b[36m(launch_and_fit pid=32456)\u001b[0m         [0.3333, 0.3333, 0.3333,  ..., 0.3333, 0.3333, 0.3333]])\u001b[32m [repeated 4x across cluster]\u001b[0m\n",
            "\u001b[2m\u001b[36m(launch_and_fit pid=32456)\u001b[0m probas after normalization 14: tensor([[0.3333, 0.3333, 0.3333,  ..., 0.3333, 0.3333, 0.3333],\u001b[32m [repeated 2x across cluster]\u001b[0m\n",
            "\u001b[2m\u001b[36m(launch_and_fit pid=32456)\u001b[0m mixture_weights 14: tensor([0.3333, 0.3333, 0.3333])\u001b[32m [repeated 2x across cluster]\u001b[0m\n",
            "\u001b[2m\u001b[36m(launch_and_fit pid=32456)\u001b[0m         [0.3333, 0.3333, 0.3333,  ..., 0.3333, 0.3333, 0.3333]])\u001b[32m [repeated 4x across cluster]\u001b[0m\n"
          ]
        },
        {
          "output_type": "stream",
          "name": "stderr",
          "text": [
            "DEBUG flwr 2023-06-07 23:30:17,925 | server.py:232 | fit_round 11 received 20 results and 0 failures\n",
            "DEBUG:flwr:fit_round 11 received 20 results and 0 failures\n",
            "DEBUG flwr 2023-06-07 23:30:17,958 | server.py:168 | evaluate_round 11: strategy sampled 20 clients (out of 20)\n",
            "DEBUG:flwr:evaluate_round 11: strategy sampled 20 clients (out of 20)\n"
          ]
        },
        {
          "output_type": "stream",
          "name": "stdout",
          "text": [
            "aggregate_fit\n",
            "configure_evaluate\n",
            "end configure_evaluate\n"
          ]
        },
        {
          "output_type": "stream",
          "name": "stderr",
          "text": [
            "DEBUG flwr 2023-06-07 23:32:05,400 | server.py:182 | evaluate_round 11 received 20 results and 0 failures\n",
            "DEBUG:flwr:evaluate_round 11 received 20 results and 0 failures\n",
            "DEBUG flwr 2023-06-07 23:32:05,411 | server.py:218 | fit_round 12: strategy sampled 20 clients (out of 20)\n",
            "DEBUG:flwr:fit_round 12: strategy sampled 20 clients (out of 20)\n"
          ]
        },
        {
          "output_type": "stream",
          "name": "stdout",
          "text": [
            "configure_fit\n",
            "end configure_fit\n",
            "\u001b[2m\u001b[36m(launch_and_fit pid=32455)\u001b[0m probas after normalization 17: tensor([[0.3333, 0.3333, 0.3333,  ..., 0.3333, 0.3333, 0.3333],\u001b[32m [repeated 2x across cluster]\u001b[0m\n",
            "\u001b[2m\u001b[36m(launch_and_fit pid=32455)\u001b[0m mixture_weights 17: tensor([0.3333, 0.3333, 0.3333])\u001b[32m [repeated 2x across cluster]\u001b[0m\n",
            "\u001b[2m\u001b[36m(launch_and_fit pid=32455)\u001b[0m         [0.3333, 0.3333, 0.3333,  ..., 0.3333, 0.3333, 0.3333]])\u001b[32m [repeated 4x across cluster]\u001b[0m\n",
            "\u001b[2m\u001b[36m(launch_and_fit pid=32455)\u001b[0m probas after normalization 15: tensor([[0.3333, 0.3333, 0.3333,  ..., 0.3333, 0.3333, 0.3333],\u001b[32m [repeated 2x across cluster]\u001b[0m\n",
            "\u001b[2m\u001b[36m(launch_and_fit pid=32455)\u001b[0m mixture_weights 15: tensor([0.3333, 0.3333, 0.3333])\u001b[32m [repeated 2x across cluster]\u001b[0m\n",
            "\u001b[2m\u001b[36m(launch_and_fit pid=32455)\u001b[0m         [0.3333, 0.3333, 0.3333,  ..., 0.3333, 0.3333, 0.3333]])\u001b[32m [repeated 4x across cluster]\u001b[0m\n",
            "\u001b[2m\u001b[36m(launch_and_fit pid=32455)\u001b[0m probas after normalization 7: tensor([[0.3333, 0.3333, 0.3333,  ..., 0.3333, 0.3333, 0.3333],\u001b[32m [repeated 2x across cluster]\u001b[0m\n",
            "\u001b[2m\u001b[36m(launch_and_fit pid=32455)\u001b[0m mixture_weights 7: tensor([0.3333, 0.3333, 0.3333])\u001b[32m [repeated 2x across cluster]\u001b[0m\n",
            "\u001b[2m\u001b[36m(launch_and_fit pid=32455)\u001b[0m         [0.3333, 0.3333, 0.3333,  ..., 0.3333, 0.3333, 0.3333]])\u001b[32m [repeated 4x across cluster]\u001b[0m\n",
            "\u001b[2m\u001b[36m(launch_and_fit pid=32455)\u001b[0m probas after normalization 0: tensor([[0.3333, 0.3333, 0.3333,  ..., 0.3333, 0.3333, 0.3333],\u001b[32m [repeated 2x across cluster]\u001b[0m\n",
            "\u001b[2m\u001b[36m(launch_and_fit pid=32455)\u001b[0m mixture_weights 0: tensor([0.3333, 0.3333, 0.3333])\u001b[32m [repeated 2x across cluster]\u001b[0m\n",
            "\u001b[2m\u001b[36m(launch_and_fit pid=32455)\u001b[0m         [0.3333, 0.3333, 0.3333,  ..., 0.3333, 0.3333, 0.3333]])\u001b[32m [repeated 4x across cluster]\u001b[0m\n",
            "\u001b[2m\u001b[36m(launch_and_fit pid=32455)\u001b[0m probas after normalization 12: tensor([[0.3333, 0.3333, 0.3333,  ..., 0.3333, 0.3333, 0.3333],\u001b[32m [repeated 2x across cluster]\u001b[0m\n",
            "\u001b[2m\u001b[36m(launch_and_fit pid=32455)\u001b[0m mixture_weights 12: tensor([0.3333, 0.3333, 0.3333])\u001b[32m [repeated 2x across cluster]\u001b[0m\n",
            "\u001b[2m\u001b[36m(launch_and_fit pid=32455)\u001b[0m         [0.3333, 0.3333, 0.3333,  ..., 0.3333, 0.3333, 0.3333]])\u001b[32m [repeated 4x across cluster]\u001b[0m\n",
            "\u001b[2m\u001b[36m(launch_and_fit pid=32455)\u001b[0m probas after normalization 6: tensor([[0.3333, 0.3333, 0.3333,  ..., 0.3333, 0.3333, 0.3333],\u001b[32m [repeated 2x across cluster]\u001b[0m\n",
            "\u001b[2m\u001b[36m(launch_and_fit pid=32455)\u001b[0m mixture_weights 6: tensor([0.3333, 0.3333, 0.3333])\u001b[32m [repeated 2x across cluster]\u001b[0m\n",
            "\u001b[2m\u001b[36m(launch_and_fit pid=32455)\u001b[0m         [0.3333, 0.3333, 0.3333,  ..., 0.3333, 0.3333, 0.3333]])\u001b[32m [repeated 4x across cluster]\u001b[0m\n",
            "\u001b[2m\u001b[36m(launch_and_fit pid=32455)\u001b[0m probas after normalization 18: tensor([[0.3333, 0.3333, 0.3333,  ..., 0.3333, 0.3333, 0.3333],\u001b[32m [repeated 2x across cluster]\u001b[0m\n",
            "\u001b[2m\u001b[36m(launch_and_fit pid=32455)\u001b[0m mixture_weights 18: tensor([0.3333, 0.3333, 0.3333])\u001b[32m [repeated 2x across cluster]\u001b[0m\n",
            "\u001b[2m\u001b[36m(launch_and_fit pid=32455)\u001b[0m         [0.3333, 0.3333, 0.3333,  ..., 0.3333, 0.3333, 0.3333]])\u001b[32m [repeated 4x across cluster]\u001b[0m\n",
            "\u001b[2m\u001b[36m(launch_and_fit pid=32455)\u001b[0m probas after normalization 8: tensor([[0.3333, 0.3333, 0.3333,  ..., 0.3333, 0.3333, 0.3333],\u001b[32m [repeated 2x across cluster]\u001b[0m\n",
            "\u001b[2m\u001b[36m(launch_and_fit pid=32455)\u001b[0m mixture_weights 8: tensor([0.3333, 0.3333, 0.3333])\u001b[32m [repeated 2x across cluster]\u001b[0m\n",
            "\u001b[2m\u001b[36m(launch_and_fit pid=32455)\u001b[0m         [0.3333, 0.3333, 0.3333,  ..., 0.3333, 0.3333, 0.3333]])\u001b[32m [repeated 4x across cluster]\u001b[0m\n",
            "\u001b[2m\u001b[36m(launch_and_fit pid=32455)\u001b[0m probas after normalization 2: tensor([[0.3333, 0.3333, 0.3333,  ..., 0.3333, 0.3333, 0.3333],\u001b[32m [repeated 2x across cluster]\u001b[0m\n",
            "\u001b[2m\u001b[36m(launch_and_fit pid=32455)\u001b[0m mixture_weights 2: tensor([0.3333, 0.3333, 0.3333])\u001b[32m [repeated 2x across cluster]\u001b[0m\n",
            "\u001b[2m\u001b[36m(launch_and_fit pid=32455)\u001b[0m         [0.3333, 0.3333, 0.3333,  ..., 0.3333, 0.3333, 0.3333]])\u001b[32m [repeated 4x across cluster]\u001b[0m\n",
            "\u001b[2m\u001b[36m(launch_and_fit pid=32455)\u001b[0m probas after normalization 14: tensor([[0.3333, 0.3333, 0.3333,  ..., 0.3333, 0.3333, 0.3333],\u001b[32m [repeated 2x across cluster]\u001b[0m\n",
            "\u001b[2m\u001b[36m(launch_and_fit pid=32455)\u001b[0m mixture_weights 14: tensor([0.3333, 0.3333, 0.3333])\u001b[32m [repeated 2x across cluster]\u001b[0m\n",
            "\u001b[2m\u001b[36m(launch_and_fit pid=32455)\u001b[0m         [0.3333, 0.3333, 0.3333,  ..., 0.3333, 0.3333, 0.3333]])\u001b[32m [repeated 4x across cluster]\u001b[0m\n"
          ]
        },
        {
          "output_type": "stream",
          "name": "stderr",
          "text": [
            "DEBUG flwr 2023-06-07 23:34:11,189 | server.py:232 | fit_round 12 received 20 results and 0 failures\n",
            "DEBUG:flwr:fit_round 12 received 20 results and 0 failures\n",
            "DEBUG flwr 2023-06-07 23:34:11,221 | server.py:168 | evaluate_round 12: strategy sampled 20 clients (out of 20)\n",
            "DEBUG:flwr:evaluate_round 12: strategy sampled 20 clients (out of 20)\n"
          ]
        },
        {
          "output_type": "stream",
          "name": "stdout",
          "text": [
            "aggregate_fit\n",
            "configure_evaluate\n",
            "end configure_evaluate\n"
          ]
        },
        {
          "output_type": "stream",
          "name": "stderr",
          "text": [
            "DEBUG flwr 2023-06-07 23:35:10,487 | server.py:182 | evaluate_round 12 received 20 results and 0 failures\n",
            "DEBUG:flwr:evaluate_round 12 received 20 results and 0 failures\n",
            "DEBUG flwr 2023-06-07 23:35:10,492 | server.py:218 | fit_round 13: strategy sampled 20 clients (out of 20)\n",
            "DEBUG:flwr:fit_round 13: strategy sampled 20 clients (out of 20)\n"
          ]
        },
        {
          "output_type": "stream",
          "name": "stdout",
          "text": [
            "configure_fit\n",
            "end configure_fit\n",
            "\u001b[2m\u001b[36m(launch_and_fit pid=32456)\u001b[0m probas after normalization 2: tensor([[0.3333, 0.3333, 0.3333,  ..., 0.3333, 0.3333, 0.3333],\u001b[32m [repeated 2x across cluster]\u001b[0m\n",
            "\u001b[2m\u001b[36m(launch_and_fit pid=32456)\u001b[0m mixture_weights 2: tensor([0.3333, 0.3333, 0.3333])\u001b[32m [repeated 2x across cluster]\u001b[0m\n",
            "\u001b[2m\u001b[36m(launch_and_fit pid=32456)\u001b[0m         [0.3333, 0.3333, 0.3333,  ..., 0.3333, 0.3333, 0.3333]])\u001b[32m [repeated 4x across cluster]\u001b[0m\n",
            "\u001b[2m\u001b[36m(launch_and_fit pid=32456)\u001b[0m probas after normalization 10: tensor([[0.3333, 0.3333, 0.3333,  ..., 0.3333, 0.3333, 0.3333],\u001b[32m [repeated 2x across cluster]\u001b[0m\n",
            "\u001b[2m\u001b[36m(launch_and_fit pid=32456)\u001b[0m mixture_weights 10: tensor([0.3333, 0.3333, 0.3333])\u001b[32m [repeated 2x across cluster]\u001b[0m\n",
            "\u001b[2m\u001b[36m(launch_and_fit pid=32456)\u001b[0m         [0.3333, 0.3333, 0.3333,  ..., 0.3333, 0.3333, 0.3333]])\u001b[32m [repeated 4x across cluster]\u001b[0m\n",
            "\u001b[2m\u001b[36m(launch_and_fit pid=32456)\u001b[0m probas after normalization 11: tensor([[0.3333, 0.3333, 0.3333,  ..., 0.3333, 0.3333, 0.3333],\u001b[32m [repeated 2x across cluster]\u001b[0m\n",
            "\u001b[2m\u001b[36m(launch_and_fit pid=32456)\u001b[0m mixture_weights 11: tensor([0.3333, 0.3333, 0.3333])\u001b[32m [repeated 2x across cluster]\u001b[0m\n",
            "\u001b[2m\u001b[36m(launch_and_fit pid=32456)\u001b[0m         [0.3333, 0.3333, 0.3333,  ..., 0.3333, 0.3333, 0.3333]])\u001b[32m [repeated 4x across cluster]\u001b[0m\n",
            "\u001b[2m\u001b[36m(launch_and_fit pid=32456)\u001b[0m probas after normalization 18: tensor([[0.3333, 0.3333, 0.3333,  ..., 0.3333, 0.3333, 0.3333],\u001b[32m [repeated 2x across cluster]\u001b[0m\n",
            "\u001b[2m\u001b[36m(launch_and_fit pid=32456)\u001b[0m mixture_weights 18: tensor([0.3333, 0.3333, 0.3333])\u001b[32m [repeated 2x across cluster]\u001b[0m\n",
            "\u001b[2m\u001b[36m(launch_and_fit pid=32456)\u001b[0m         [0.3333, 0.3333, 0.3333,  ..., 0.3333, 0.3333, 0.3333]])\u001b[32m [repeated 4x across cluster]\u001b[0m\n",
            "\u001b[2m\u001b[36m(launch_and_fit pid=32455)\u001b[0m probas after normalization 7: tensor([[0.3333, 0.3333, 0.3333,  ..., 0.3333, 0.3333, 0.3333],\u001b[32m [repeated 2x across cluster]\u001b[0m\n",
            "\u001b[2m\u001b[36m(launch_and_fit pid=32455)\u001b[0m mixture_weights 7: tensor([0.3333, 0.3333, 0.3333])\u001b[32m [repeated 2x across cluster]\u001b[0m\n",
            "\u001b[2m\u001b[36m(launch_and_fit pid=32455)\u001b[0m         [0.3333, 0.3333, 0.3333,  ..., 0.3333, 0.3333, 0.3333]])\u001b[32m [repeated 4x across cluster]\u001b[0m\n",
            "\u001b[2m\u001b[36m(launch_and_fit pid=32455)\u001b[0m probas after normalization 13: tensor([[0.3333, 0.3333, 0.3333,  ..., 0.3333, 0.3333, 0.3333],\u001b[32m [repeated 2x across cluster]\u001b[0m\n",
            "\u001b[2m\u001b[36m(launch_and_fit pid=32455)\u001b[0m mixture_weights 13: tensor([0.3333, 0.3333, 0.3333])\u001b[32m [repeated 2x across cluster]\u001b[0m\n",
            "\u001b[2m\u001b[36m(launch_and_fit pid=32455)\u001b[0m         [0.3333, 0.3333, 0.3333,  ..., 0.3333, 0.3333, 0.3333]])\u001b[32m [repeated 4x across cluster]\u001b[0m\n",
            "\u001b[2m\u001b[36m(launch_and_fit pid=32455)\u001b[0m probas after normalization 5: tensor([[0.3333, 0.3333, 0.3333,  ..., 0.3333, 0.3333, 0.3333],\u001b[32m [repeated 2x across cluster]\u001b[0m\n",
            "\u001b[2m\u001b[36m(launch_and_fit pid=32455)\u001b[0m mixture_weights 5: tensor([0.3333, 0.3333, 0.3333])\u001b[32m [repeated 2x across cluster]\u001b[0m\n",
            "\u001b[2m\u001b[36m(launch_and_fit pid=32455)\u001b[0m         [0.3333, 0.3333, 0.3333,  ..., 0.3333, 0.3333, 0.3333]])\u001b[32m [repeated 4x across cluster]\u001b[0m\n",
            "\u001b[2m\u001b[36m(launch_and_fit pid=32455)\u001b[0m probas after normalization 6: tensor([[0.3333, 0.3333, 0.3333,  ..., 0.3333, 0.3333, 0.3333],\u001b[32m [repeated 2x across cluster]\u001b[0m\n",
            "\u001b[2m\u001b[36m(launch_and_fit pid=32455)\u001b[0m mixture_weights 6: tensor([0.3333, 0.3333, 0.3333])\u001b[32m [repeated 2x across cluster]\u001b[0m\n",
            "\u001b[2m\u001b[36m(launch_and_fit pid=32455)\u001b[0m         [0.3333, 0.3333, 0.3333,  ..., 0.3333, 0.3333, 0.3333]])\u001b[32m [repeated 4x across cluster]\u001b[0m\n",
            "\u001b[2m\u001b[36m(launch_and_fit pid=32456)\u001b[0m probas after normalization 14: tensor([[0.3333, 0.3333, 0.3333,  ..., 0.3333, 0.3333, 0.3333],\u001b[32m [repeated 3x across cluster]\u001b[0m\n",
            "\u001b[2m\u001b[36m(launch_and_fit pid=32456)\u001b[0m mixture_weights 14: tensor([0.3333, 0.3333, 0.3333])\u001b[32m [repeated 3x across cluster]\u001b[0m\n",
            "\u001b[2m\u001b[36m(launch_and_fit pid=32456)\u001b[0m         [0.3333, 0.3333, 0.3333,  ..., 0.3333, 0.3333, 0.3333]])\u001b[32m [repeated 6x across cluster]\u001b[0m\n",
            "\u001b[2m\u001b[36m(launch_and_fit pid=32455)\u001b[0m mixture_weights 0: tensor([0.3333, 0.3333, 0.3333])\n",
            "\u001b[2m\u001b[36m(launch_and_fit pid=32455)\u001b[0m mixture_weights 0: tensor([0.3333, 0.3333, 0.3333])\n",
            "\u001b[2m\u001b[36m(launch_and_fit pid=32455)\u001b[0m         [0.3333, 0.3333, 0.3333,  ..., 0.3333, 0.3333, 0.3333]])\u001b[32m [repeated 2x across cluster]\u001b[0m\n",
            "\u001b[2m\u001b[36m(launch_and_fit pid=32456)\u001b[0m probas after normalization 4: tensor([[0.3333, 0.3333, 0.3333,  ..., 0.3333, 0.3333, 0.3333],\n",
            "\u001b[2m\u001b[36m(launch_and_fit pid=32456)\u001b[0m mixture_weights 4: tensor([0.3333, 0.3333, 0.3333])\n"
          ]
        },
        {
          "output_type": "stream",
          "name": "stderr",
          "text": [
            "DEBUG flwr 2023-06-07 23:37:10,368 | server.py:232 | fit_round 13 received 20 results and 0 failures\n",
            "DEBUG:flwr:fit_round 13 received 20 results and 0 failures\n",
            "DEBUG flwr 2023-06-07 23:37:10,400 | server.py:168 | evaluate_round 13: strategy sampled 20 clients (out of 20)\n",
            "DEBUG:flwr:evaluate_round 13: strategy sampled 20 clients (out of 20)\n"
          ]
        },
        {
          "output_type": "stream",
          "name": "stdout",
          "text": [
            "aggregate_fit\n",
            "configure_evaluate\n",
            "end configure_evaluate\n"
          ]
        },
        {
          "output_type": "stream",
          "name": "stderr",
          "text": [
            "DEBUG flwr 2023-06-07 23:38:34,373 | server.py:182 | evaluate_round 13 received 20 results and 0 failures\n",
            "DEBUG:flwr:evaluate_round 13 received 20 results and 0 failures\n",
            "DEBUG flwr 2023-06-07 23:38:34,379 | server.py:218 | fit_round 14: strategy sampled 20 clients (out of 20)\n",
            "DEBUG:flwr:fit_round 14: strategy sampled 20 clients (out of 20)\n"
          ]
        },
        {
          "output_type": "stream",
          "name": "stdout",
          "text": [
            "configure_fit\n",
            "end configure_fit\n",
            "\u001b[2m\u001b[36m(launch_and_fit pid=32455)\u001b[0m         [0.3333, 0.3333, 0.3333,  ..., 0.3333, 0.3333, 0.3333]])\u001b[32m [repeated 4x across cluster]\u001b[0m\n",
            "\u001b[2m\u001b[36m(launch_and_fit pid=32455)\u001b[0m         [0.3333, 0.3333, 0.3333,  ..., 0.3333, 0.3333, 0.3333]])\n",
            "\u001b[2m\u001b[36m(launch_and_fit pid=32456)\u001b[0m probas after normalization 17: tensor([[0.3333, 0.3333, 0.3333,  ..., 0.3333, 0.3333, 0.3333],\n",
            "\u001b[2m\u001b[36m(launch_and_fit pid=32456)\u001b[0m \n",
            "\u001b[2m\u001b[36m(launch_and_fit pid=32456)\u001b[0m mixture_weights 17: tensor([0.3333, 0.3333, 0.3333])\n",
            "\u001b[2m\u001b[36m(launch_and_fit pid=32455)\u001b[0m         [0.3333, 0.3333, 0.3333,  ..., 0.3333, 0.3333, 0.3333]])\u001b[32m [repeated 4x across cluster]\u001b[0m\n",
            "\u001b[2m\u001b[36m(launch_and_fit pid=32455)\u001b[0m mixture_weights 1: tensor([0.3333, 0.3333, 0.3333])\n",
            "\u001b[2m\u001b[36m(launch_and_fit pid=32455)\u001b[0m mixture_weights 1: tensor([0.3333, 0.3333, 0.3333])\n",
            "\u001b[2m\u001b[36m(launch_and_fit pid=32455)\u001b[0m mixture_weights 1: tensor([0.3333, 0.3333, 0.3333])\u001b[32m [repeated 2x across cluster]\u001b[0m\n",
            "\u001b[2m\u001b[36m(launch_and_fit pid=32456)\u001b[0m probas after normalization 0: tensor([[0.3333, 0.3333, 0.3333,  ..., 0.3333, 0.3333, 0.3333],\n",
            "\u001b[2m\u001b[36m(launch_and_fit pid=32455)\u001b[0m         [0.3333, 0.3333, 0.3333,  ..., 0.3333, 0.3333, 0.3333]])\u001b[32m [repeated 4x across cluster]\u001b[0m\n",
            "\u001b[2m\u001b[36m(launch_and_fit pid=32455)\u001b[0m mixture_weights 14: tensor([0.3333, 0.3333, 0.3333])\u001b[32m [repeated 2x across cluster]\u001b[0m\n",
            "\u001b[2m\u001b[36m(launch_and_fit pid=32455)\u001b[0m mixture_weights 14: tensor([0.3333, 0.3333, 0.3333])\n",
            "\u001b[2m\u001b[36m(launch_and_fit pid=32456)\u001b[0m probas after normalization 9: tensor([[0.3333, 0.3333, 0.3333,  ..., 0.3333, 0.3333, 0.3333],\n",
            "\u001b[2m\u001b[36m(launch_and_fit pid=32455)\u001b[0m         [0.3333, 0.3333, 0.3333,  ..., 0.3333, 0.3333, 0.3333]])\u001b[32m [repeated 4x across cluster]\u001b[0m\n",
            "\u001b[2m\u001b[36m(launch_and_fit pid=32455)\u001b[0m mixture_weights 10: tensor([0.3333, 0.3333, 0.3333])\u001b[32m [repeated 2x across cluster]\u001b[0m\n",
            "\u001b[2m\u001b[36m(launch_and_fit pid=32455)\u001b[0m mixture_weights 10: tensor([0.3333, 0.3333, 0.3333])\n",
            "\u001b[2m\u001b[36m(launch_and_fit pid=32456)\u001b[0m probas after normalization 13: tensor([[0.3333, 0.3333, 0.3333,  ..., 0.3333, 0.3333, 0.3333],\n",
            "\u001b[2m\u001b[36m(launch_and_fit pid=32455)\u001b[0m         [0.3333, 0.3333, 0.3333,  ..., 0.3333, 0.3333, 0.3333]])\u001b[32m [repeated 4x across cluster]\u001b[0m\n",
            "\u001b[2m\u001b[36m(launch_and_fit pid=32455)\u001b[0m mixture_weights 11: tensor([0.3333, 0.3333, 0.3333])\u001b[32m [repeated 2x across cluster]\u001b[0m\n",
            "\u001b[2m\u001b[36m(launch_and_fit pid=32455)\u001b[0m mixture_weights 11: tensor([0.3333, 0.3333, 0.3333])\n",
            "\u001b[2m\u001b[36m(launch_and_fit pid=32456)\u001b[0m probas after normalization 7: tensor([[0.3333, 0.3333, 0.3333,  ..., 0.3333, 0.3333, 0.3333],\n",
            "\u001b[2m\u001b[36m(launch_and_fit pid=32455)\u001b[0m         [0.3333, 0.3333, 0.3333,  ..., 0.3333, 0.3333, 0.3333]])\u001b[32m [repeated 4x across cluster]\u001b[0m\n",
            "\u001b[2m\u001b[36m(launch_and_fit pid=32455)\u001b[0m mixture_weights 6: tensor([0.3333, 0.3333, 0.3333])\u001b[32m [repeated 2x across cluster]\u001b[0m\n",
            "\u001b[2m\u001b[36m(launch_and_fit pid=32455)\u001b[0m mixture_weights 6: tensor([0.3333, 0.3333, 0.3333])\n",
            "\u001b[2m\u001b[36m(launch_and_fit pid=32456)\u001b[0m probas after normalization 19: tensor([[0.3333, 0.3333, 0.3333,  ..., 0.3333, 0.3333, 0.3333],\n",
            "\u001b[2m\u001b[36m(launch_and_fit pid=32455)\u001b[0m         [0.3333, 0.3333, 0.3333,  ..., 0.3333, 0.3333, 0.3333]])\u001b[32m [repeated 4x across cluster]\u001b[0m\n",
            "\u001b[2m\u001b[36m(launch_and_fit pid=32455)\u001b[0m mixture_weights 8: tensor([0.3333, 0.3333, 0.3333])\u001b[32m [repeated 2x across cluster]\u001b[0m\n",
            "\u001b[2m\u001b[36m(launch_and_fit pid=32455)\u001b[0m mixture_weights 8: tensor([0.3333, 0.3333, 0.3333])\n",
            "\u001b[2m\u001b[36m(launch_and_fit pid=32456)\u001b[0m probas after normalization 5: tensor([[0.3333, 0.3333, 0.3333,  ..., 0.3333, 0.3333, 0.3333],\n",
            "\u001b[2m\u001b[36m(launch_and_fit pid=32456)\u001b[0m probas after normalization 16: tensor([[0.3333, 0.3333, 0.3333,  ..., 0.3333, 0.3333, 0.3333],\n",
            "\u001b[2m\u001b[36m(launch_and_fit pid=32456)\u001b[0m         [0.3333, 0.3333, 0.3333,  ..., 0.3333, 0.3333, 0.3333]])\u001b[32m [repeated 4x across cluster]\u001b[0m\n",
            "\u001b[2m\u001b[36m(launch_and_fit pid=32456)\u001b[0m mixture_weights 16: tensor([0.3333, 0.3333, 0.3333])\u001b[32m [repeated 2x across cluster]\u001b[0m\n",
            "\u001b[2m\u001b[36m(launch_and_fit pid=32455)\u001b[0m probas after normalization 18: tensor([[0.3333, 0.3333, 0.3333,  ..., 0.3333, 0.3333, 0.3333],\n",
            "\u001b[2m\u001b[36m(launch_and_fit pid=32456)\u001b[0m         [0.3333, 0.3333, 0.3333,  ..., 0.3333, 0.3333, 0.3333]])\u001b[32m [repeated 4x across cluster]\u001b[0m\n",
            "\u001b[2m\u001b[36m(launch_and_fit pid=32456)\u001b[0m mixture_weights 2: tensor([0.3333, 0.3333, 0.3333])\u001b[32m [repeated 2x across cluster]\u001b[0m\n",
            "\u001b[2m\u001b[36m(launch_and_fit pid=32456)\u001b[0m mixture_weights 2: tensor([0.3333, 0.3333, 0.3333])\n",
            "\u001b[2m\u001b[36m(launch_and_fit pid=32455)\u001b[0m probas after normalization 15: tensor([[0.3333, 0.3333, 0.3333,  ..., 0.3333, 0.3333, 0.3333],\n",
            "\u001b[2m\u001b[36m(launch_and_fit pid=32456)\u001b[0m         [0.3333, 0.3333, 0.3333,  ..., 0.3333, 0.3333, 0.3333]])\u001b[32m [repeated 4x across cluster]\u001b[0m\n",
            "\u001b[2m\u001b[36m(launch_and_fit pid=32456)\u001b[0m mixture_weights 4: tensor([0.3333, 0.3333, 0.3333])\u001b[32m [repeated 2x across cluster]\u001b[0m\n",
            "\u001b[2m\u001b[36m(launch_and_fit pid=32456)\u001b[0m mixture_weights 4: tensor([0.3333, 0.3333, 0.3333])\n",
            "\u001b[2m\u001b[36m(launch_and_fit pid=32455)\u001b[0m probas after normalization 3: tensor([[0.3333, 0.3333, 0.3333,  ..., 0.3333, 0.3333, 0.3333],\n"
          ]
        },
        {
          "output_type": "stream",
          "name": "stderr",
          "text": [
            "DEBUG flwr 2023-06-07 23:40:44,695 | server.py:232 | fit_round 14 received 20 results and 0 failures\n",
            "DEBUG:flwr:fit_round 14 received 20 results and 0 failures\n",
            "DEBUG flwr 2023-06-07 23:40:44,735 | server.py:168 | evaluate_round 14: strategy sampled 20 clients (out of 20)\n",
            "DEBUG:flwr:evaluate_round 14: strategy sampled 20 clients (out of 20)\n"
          ]
        },
        {
          "output_type": "stream",
          "name": "stdout",
          "text": [
            "aggregate_fit\n",
            "configure_evaluate\n",
            "end configure_evaluate\n"
          ]
        },
        {
          "output_type": "stream",
          "name": "stderr",
          "text": [
            "DEBUG flwr 2023-06-07 23:42:24,635 | server.py:182 | evaluate_round 14 received 20 results and 0 failures\n",
            "DEBUG:flwr:evaluate_round 14 received 20 results and 0 failures\n",
            "DEBUG flwr 2023-06-07 23:42:24,642 | server.py:218 | fit_round 15: strategy sampled 20 clients (out of 20)\n",
            "DEBUG:flwr:fit_round 15: strategy sampled 20 clients (out of 20)\n"
          ]
        },
        {
          "output_type": "stream",
          "name": "stdout",
          "text": [
            "configure_fit\n",
            "end configure_fit\n",
            "\u001b[2m\u001b[36m(launch_and_fit pid=32456)\u001b[0m         [0.3333, 0.3333, 0.3333,  ..., 0.3333, 0.3333, 0.3333]])\u001b[32m [repeated 4x across cluster]\u001b[0m\n",
            "\u001b[2m\u001b[36m(launch_and_fit pid=32456)\u001b[0m mixture_weights 1: tensor([0.3333, 0.3333, 0.3333])\u001b[32m [repeated 2x across cluster]\u001b[0m\n",
            "\u001b[2m\u001b[36m(launch_and_fit pid=32456)\u001b[0m mixture_weights 1: tensor([0.3333, 0.3333, 0.3333])\n",
            "\u001b[2m\u001b[36m(launch_and_fit pid=32455)\u001b[0m probas after normalization 16: tensor([[0.3333, 0.3333, 0.3333,  ..., 0.3333, 0.3333, 0.3333],\n",
            "\u001b[2m\u001b[36m(launch_and_fit pid=32456)\u001b[0m         [0.3333, 0.3333, 0.3333,  ..., 0.3333, 0.3333, 0.3333]])\u001b[32m [repeated 4x across cluster]\u001b[0m\n",
            "\u001b[2m\u001b[36m(launch_and_fit pid=32456)\u001b[0m mixture_weights 13: tensor([0.3333, 0.3333, 0.3333])\u001b[32m [repeated 2x across cluster]\u001b[0m\n",
            "\u001b[2m\u001b[36m(launch_and_fit pid=32456)\u001b[0m mixture_weights 13: tensor([0.3333, 0.3333, 0.3333])\n",
            "\u001b[2m\u001b[36m(launch_and_fit pid=32455)\u001b[0m probas after normalization 0: tensor([[0.3333, 0.3333, 0.3333,  ..., 0.3333, 0.3333, 0.3333],\n",
            "\u001b[2m\u001b[36m(launch_and_fit pid=32455)\u001b[0m probas after normalization 8: tensor([[0.3333, 0.3333, 0.3333,  ..., 0.3333, 0.3333, 0.3333],\n",
            "\u001b[2m\u001b[36m(launch_and_fit pid=32455)\u001b[0m         [0.3333, 0.3333, 0.3333,  ..., 0.3333, 0.3333, 0.3333]])\u001b[32m [repeated 4x across cluster]\u001b[0m\n",
            "\u001b[2m\u001b[36m(launch_and_fit pid=32455)\u001b[0m mixture_weights 8: tensor([0.3333, 0.3333, 0.3333])\u001b[32m [repeated 2x across cluster]\u001b[0m\n",
            "\u001b[2m\u001b[36m(launch_and_fit pid=32456)\u001b[0m probas after normalization 7: tensor([[0.3333, 0.3333, 0.3333,  ..., 0.3333, 0.3333, 0.3333],\n",
            "\u001b[2m\u001b[36m(launch_and_fit pid=32456)\u001b[0m probas after normalization 11: tensor([[0.3333, 0.3333, 0.3333,  ..., 0.3333, 0.3333, 0.3333],\n",
            "\u001b[2m\u001b[36m(launch_and_fit pid=32456)\u001b[0m         [0.3333, 0.3333, 0.3333,  ..., 0.3333, 0.3333, 0.3333]])\u001b[32m [repeated 4x across cluster]\u001b[0m\n",
            "\u001b[2m\u001b[36m(launch_and_fit pid=32456)\u001b[0m mixture_weights 11: tensor([0.3333, 0.3333, 0.3333])\u001b[32m [repeated 2x across cluster]\u001b[0m\n",
            "\u001b[2m\u001b[36m(launch_and_fit pid=32455)\u001b[0m probas after normalization 15: tensor([[0.3333, 0.3333, 0.3333,  ..., 0.3333, 0.3333, 0.3333],\n",
            "\u001b[2m\u001b[36m(launch_and_fit pid=32455)\u001b[0m probas after normalization 2: tensor([[0.3333, 0.3333, 0.3333,  ..., 0.3333, 0.3333, 0.3333],\n",
            "\u001b[2m\u001b[36m(launch_and_fit pid=32455)\u001b[0m         [0.3333, 0.3333, 0.3333,  ..., 0.3333, 0.3333, 0.3333]])\u001b[32m [repeated 4x across cluster]\u001b[0m\n",
            "\u001b[2m\u001b[36m(launch_and_fit pid=32455)\u001b[0m mixture_weights 2: tensor([0.3333, 0.3333, 0.3333])\u001b[32m [repeated 2x across cluster]\u001b[0m\n",
            "\u001b[2m\u001b[36m(launch_and_fit pid=32456)\u001b[0m probas after normalization 4: tensor([[0.3333, 0.3333, 0.3333,  ..., 0.3333, 0.3333, 0.3333],\n",
            "\u001b[2m\u001b[36m(launch_and_fit pid=32455)\u001b[0m         [0.3333, 0.3333, 0.3333,  ..., 0.3333, 0.3333, 0.3333]])\u001b[32m [repeated 4x across cluster]\u001b[0m\n",
            "\u001b[2m\u001b[36m(launch_and_fit pid=32455)\u001b[0m mixture_weights 17: tensor([0.3333, 0.3333, 0.3333])\u001b[32m [repeated 2x across cluster]\u001b[0m\n",
            "\u001b[2m\u001b[36m(launch_and_fit pid=32455)\u001b[0m mixture_weights 17: tensor([0.3333, 0.3333, 0.3333])\n",
            "\u001b[2m\u001b[36m(launch_and_fit pid=32456)\u001b[0m probas after normalization 12: tensor([[0.3333, 0.3333, 0.3333,  ..., 0.3333, 0.3333, 0.3333],\n",
            "\u001b[2m\u001b[36m(launch_and_fit pid=32455)\u001b[0m         [0.3333, 0.3333, 0.3333,  ..., 0.3333, 0.3333, 0.3333]])\u001b[32m [repeated 4x across cluster]\u001b[0m\n",
            "\u001b[2m\u001b[36m(launch_and_fit pid=32455)\u001b[0m mixture_weights 6: tensor([0.3333, 0.3333, 0.3333])\u001b[32m [repeated 2x across cluster]\u001b[0m\n",
            "\u001b[2m\u001b[36m(launch_and_fit pid=32455)\u001b[0m mixture_weights 6: tensor([0.3333, 0.3333, 0.3333])\n",
            "\u001b[2m\u001b[36m(launch_and_fit pid=32456)\u001b[0m probas after normalization 3: tensor([[0.3333, 0.3333, 0.3333,  ..., 0.3333, 0.3333, 0.3333],\n",
            "\u001b[2m\u001b[36m(launch_and_fit pid=32455)\u001b[0m         [0.3333, 0.3333, 0.3333,  ..., 0.3333, 0.3333, 0.3333]])\u001b[32m [repeated 4x across cluster]\u001b[0m\n",
            "\u001b[2m\u001b[36m(launch_and_fit pid=32455)\u001b[0m mixture_weights 10: tensor([0.3333, 0.3333, 0.3333])\u001b[32m [repeated 2x across cluster]\u001b[0m\n",
            "\u001b[2m\u001b[36m(launch_and_fit pid=32455)\u001b[0m mixture_weights 10: tensor([0.3333, 0.3333, 0.3333])\n",
            "\u001b[2m\u001b[36m(launch_and_fit pid=32456)\u001b[0m probas after normalization 18: tensor([[0.3333, 0.3333, 0.3333,  ..., 0.3333, 0.3333, 0.3333],\n",
            "\u001b[2m\u001b[36m(launch_and_fit pid=32455)\u001b[0m         [0.3333, 0.3333, 0.3333,  ..., 0.3333, 0.3333, 0.3333]])\u001b[32m [repeated 4x across cluster]\u001b[0m\n",
            "\u001b[2m\u001b[36m(launch_and_fit pid=32455)\u001b[0m mixture_weights 5: tensor([0.3333, 0.3333, 0.3333])\u001b[32m [repeated 2x across cluster]\u001b[0m\n",
            "\u001b[2m\u001b[36m(launch_and_fit pid=32455)\u001b[0m mixture_weights 5: tensor([0.3333, 0.3333, 0.3333])\n",
            "\u001b[2m\u001b[36m(launch_and_fit pid=32456)\u001b[0m probas after normalization 14: tensor([[0.3333, 0.3333, 0.3333,  ..., 0.3333, 0.3333, 0.3333],\n",
            "\u001b[2m\u001b[36m(launch_and_fit pid=32455)\u001b[0m         [0.3333, 0.3333, 0.3333,  ..., 0.3333, 0.3333, 0.3333]])\u001b[32m [repeated 4x across cluster]\u001b[0m\n",
            "\u001b[2m\u001b[36m(launch_and_fit pid=32455)\u001b[0m mixture_weights 19: tensor([0.3333, 0.3333, 0.3333])\u001b[32m [repeated 2x across cluster]\u001b[0m\n",
            "\u001b[2m\u001b[36m(launch_and_fit pid=32455)\u001b[0m mixture_weights 19: tensor([0.3333, 0.3333, 0.3333])\n",
            "\u001b[2m\u001b[36m(launch_and_fit pid=32456)\u001b[0m probas after normalization 9: tensor([[0.3333, 0.3333, 0.3333,  ..., 0.3333, 0.3333, 0.3333],\n"
          ]
        },
        {
          "output_type": "stream",
          "name": "stderr",
          "text": [
            "DEBUG flwr 2023-06-07 23:44:21,922 | server.py:232 | fit_round 15 received 20 results and 0 failures\n",
            "DEBUG:flwr:fit_round 15 received 20 results and 0 failures\n",
            "DEBUG flwr 2023-06-07 23:44:21,958 | server.py:168 | evaluate_round 15: strategy sampled 20 clients (out of 20)\n",
            "DEBUG:flwr:evaluate_round 15: strategy sampled 20 clients (out of 20)\n"
          ]
        },
        {
          "output_type": "stream",
          "name": "stdout",
          "text": [
            "aggregate_fit\n",
            "configure_evaluate\n",
            "end configure_evaluate\n"
          ]
        },
        {
          "output_type": "stream",
          "name": "stderr",
          "text": [
            "DEBUG flwr 2023-06-07 23:45:56,184 | server.py:182 | evaluate_round 15 received 20 results and 0 failures\n",
            "DEBUG:flwr:evaluate_round 15 received 20 results and 0 failures\n",
            "INFO flwr 2023-06-07 23:45:56,187 | server.py:147 | FL finished in 3095.5698878880003\n",
            "INFO:flwr:FL finished in 3095.5698878880003\n",
            "INFO flwr 2023-06-07 23:45:56,191 | app.py:218 | app_fit: losses_distributed [(1, 1.7270421743392945), (2, 1.7046153128147126), (3, 1.6896473526954652), (4, 1.6794777750968932), (5, 1.671791523694992), (6, 1.6655180215835572), (7, 1.6605035543441773), (8, 1.6562655746936799), (9, 1.6527080237865448), (10, 1.6496465444564818), (11, 1.6470032155513763), (12, 1.6446938633918762), (13, 1.6426656305789948), (14, 1.6408718526363373), (15, 1.639277744293213)]\n",
            "INFO:flwr:app_fit: losses_distributed [(1, 1.7270421743392945), (2, 1.7046153128147126), (3, 1.6896473526954652), (4, 1.6794777750968932), (5, 1.671791523694992), (6, 1.6655180215835572), (7, 1.6605035543441773), (8, 1.6562655746936799), (9, 1.6527080237865448), (10, 1.6496465444564818), (11, 1.6470032155513763), (12, 1.6446938633918762), (13, 1.6426656305789948), (14, 1.6408718526363373), (15, 1.639277744293213)]\n",
            "INFO flwr 2023-06-07 23:45:56,235 | app.py:219 | app_fit: metrics_distributed_fit {'train_loss': [(1, tensor(0.0034)), (2, tensor(0.0041)), (3, tensor(0.0041)), (4, tensor(0.0040)), (5, tensor(0.0040)), (6, tensor(0.0040)), (7, tensor(0.0040)), (8, tensor(0.0040)), (9, tensor(0.0039)), (10, tensor(0.0039)), (11, tensor(0.0039)), (12, tensor(0.0039)), (13, tensor(0.0039)), (14, tensor(0.0039)), (15, tensor(0.0039))], 'models': [(1, [Net(\n",
            "  (fc): Linear(in_features=3072, out_features=10, bias=True)\n",
            "), Net(\n",
            "  (fc): Linear(in_features=3072, out_features=10, bias=True)\n",
            "), Net(\n",
            "  (fc): Linear(in_features=3072, out_features=10, bias=True)\n",
            ")]), (2, [Net(\n",
            "  (fc): Linear(in_features=3072, out_features=10, bias=True)\n",
            "), Net(\n",
            "  (fc): Linear(in_features=3072, out_features=10, bias=True)\n",
            "), Net(\n",
            "  (fc): Linear(in_features=3072, out_features=10, bias=True)\n",
            ")]), (3, [Net(\n",
            "  (fc): Linear(in_features=3072, out_features=10, bias=True)\n",
            "), Net(\n",
            "  (fc): Linear(in_features=3072, out_features=10, bias=True)\n",
            "), Net(\n",
            "  (fc): Linear(in_features=3072, out_features=10, bias=True)\n",
            ")]), (4, [Net(\n",
            "  (fc): Linear(in_features=3072, out_features=10, bias=True)\n",
            "), Net(\n",
            "  (fc): Linear(in_features=3072, out_features=10, bias=True)\n",
            "), Net(\n",
            "  (fc): Linear(in_features=3072, out_features=10, bias=True)\n",
            ")]), (5, [Net(\n",
            "  (fc): Linear(in_features=3072, out_features=10, bias=True)\n",
            "), Net(\n",
            "  (fc): Linear(in_features=3072, out_features=10, bias=True)\n",
            "), Net(\n",
            "  (fc): Linear(in_features=3072, out_features=10, bias=True)\n",
            ")]), (6, [Net(\n",
            "  (fc): Linear(in_features=3072, out_features=10, bias=True)\n",
            "), Net(\n",
            "  (fc): Linear(in_features=3072, out_features=10, bias=True)\n",
            "), Net(\n",
            "  (fc): Linear(in_features=3072, out_features=10, bias=True)\n",
            ")]), (7, [Net(\n",
            "  (fc): Linear(in_features=3072, out_features=10, bias=True)\n",
            "), Net(\n",
            "  (fc): Linear(in_features=3072, out_features=10, bias=True)\n",
            "), Net(\n",
            "  (fc): Linear(in_features=3072, out_features=10, bias=True)\n",
            ")]), (8, [Net(\n",
            "  (fc): Linear(in_features=3072, out_features=10, bias=True)\n",
            "), Net(\n",
            "  (fc): Linear(in_features=3072, out_features=10, bias=True)\n",
            "), Net(\n",
            "  (fc): Linear(in_features=3072, out_features=10, bias=True)\n",
            ")]), (9, [Net(\n",
            "  (fc): Linear(in_features=3072, out_features=10, bias=True)\n",
            "), Net(\n",
            "  (fc): Linear(in_features=3072, out_features=10, bias=True)\n",
            "), Net(\n",
            "  (fc): Linear(in_features=3072, out_features=10, bias=True)\n",
            ")]), (10, [Net(\n",
            "  (fc): Linear(in_features=3072, out_features=10, bias=True)\n",
            "), Net(\n",
            "  (fc): Linear(in_features=3072, out_features=10, bias=True)\n",
            "), Net(\n",
            "  (fc): Linear(in_features=3072, out_features=10, bias=True)\n",
            ")]), (11, [Net(\n",
            "  (fc): Linear(in_features=3072, out_features=10, bias=True)\n",
            "), Net(\n",
            "  (fc): Linear(in_features=3072, out_features=10, bias=True)\n",
            "), Net(\n",
            "  (fc): Linear(in_features=3072, out_features=10, bias=True)\n",
            ")]), (12, [Net(\n",
            "  (fc): Linear(in_features=3072, out_features=10, bias=True)\n",
            "), Net(\n",
            "  (fc): Linear(in_features=3072, out_features=10, bias=True)\n",
            "), Net(\n",
            "  (fc): Linear(in_features=3072, out_features=10, bias=True)\n",
            ")]), (13, [Net(\n",
            "  (fc): Linear(in_features=3072, out_features=10, bias=True)\n",
            "), Net(\n",
            "  (fc): Linear(in_features=3072, out_features=10, bias=True)\n",
            "), Net(\n",
            "  (fc): Linear(in_features=3072, out_features=10, bias=True)\n",
            ")]), (14, [Net(\n",
            "  (fc): Linear(in_features=3072, out_features=10, bias=True)\n",
            "), Net(\n",
            "  (fc): Linear(in_features=3072, out_features=10, bias=True)\n",
            "), Net(\n",
            "  (fc): Linear(in_features=3072, out_features=10, bias=True)\n",
            ")]), (15, [Net(\n",
            "  (fc): Linear(in_features=3072, out_features=10, bias=True)\n",
            "), Net(\n",
            "  (fc): Linear(in_features=3072, out_features=10, bias=True)\n",
            "), Net(\n",
            "  (fc): Linear(in_features=3072, out_features=10, bias=True)\n",
            ")])]}\n",
            "INFO:flwr:app_fit: metrics_distributed_fit {'train_loss': [(1, tensor(0.0034)), (2, tensor(0.0041)), (3, tensor(0.0041)), (4, tensor(0.0040)), (5, tensor(0.0040)), (6, tensor(0.0040)), (7, tensor(0.0040)), (8, tensor(0.0040)), (9, tensor(0.0039)), (10, tensor(0.0039)), (11, tensor(0.0039)), (12, tensor(0.0039)), (13, tensor(0.0039)), (14, tensor(0.0039)), (15, tensor(0.0039))], 'models': [(1, [Net(\n",
            "  (fc): Linear(in_features=3072, out_features=10, bias=True)\n",
            "), Net(\n",
            "  (fc): Linear(in_features=3072, out_features=10, bias=True)\n",
            "), Net(\n",
            "  (fc): Linear(in_features=3072, out_features=10, bias=True)\n",
            ")]), (2, [Net(\n",
            "  (fc): Linear(in_features=3072, out_features=10, bias=True)\n",
            "), Net(\n",
            "  (fc): Linear(in_features=3072, out_features=10, bias=True)\n",
            "), Net(\n",
            "  (fc): Linear(in_features=3072, out_features=10, bias=True)\n",
            ")]), (3, [Net(\n",
            "  (fc): Linear(in_features=3072, out_features=10, bias=True)\n",
            "), Net(\n",
            "  (fc): Linear(in_features=3072, out_features=10, bias=True)\n",
            "), Net(\n",
            "  (fc): Linear(in_features=3072, out_features=10, bias=True)\n",
            ")]), (4, [Net(\n",
            "  (fc): Linear(in_features=3072, out_features=10, bias=True)\n",
            "), Net(\n",
            "  (fc): Linear(in_features=3072, out_features=10, bias=True)\n",
            "), Net(\n",
            "  (fc): Linear(in_features=3072, out_features=10, bias=True)\n",
            ")]), (5, [Net(\n",
            "  (fc): Linear(in_features=3072, out_features=10, bias=True)\n",
            "), Net(\n",
            "  (fc): Linear(in_features=3072, out_features=10, bias=True)\n",
            "), Net(\n",
            "  (fc): Linear(in_features=3072, out_features=10, bias=True)\n",
            ")]), (6, [Net(\n",
            "  (fc): Linear(in_features=3072, out_features=10, bias=True)\n",
            "), Net(\n",
            "  (fc): Linear(in_features=3072, out_features=10, bias=True)\n",
            "), Net(\n",
            "  (fc): Linear(in_features=3072, out_features=10, bias=True)\n",
            ")]), (7, [Net(\n",
            "  (fc): Linear(in_features=3072, out_features=10, bias=True)\n",
            "), Net(\n",
            "  (fc): Linear(in_features=3072, out_features=10, bias=True)\n",
            "), Net(\n",
            "  (fc): Linear(in_features=3072, out_features=10, bias=True)\n",
            ")]), (8, [Net(\n",
            "  (fc): Linear(in_features=3072, out_features=10, bias=True)\n",
            "), Net(\n",
            "  (fc): Linear(in_features=3072, out_features=10, bias=True)\n",
            "), Net(\n",
            "  (fc): Linear(in_features=3072, out_features=10, bias=True)\n",
            ")]), (9, [Net(\n",
            "  (fc): Linear(in_features=3072, out_features=10, bias=True)\n",
            "), Net(\n",
            "  (fc): Linear(in_features=3072, out_features=10, bias=True)\n",
            "), Net(\n",
            "  (fc): Linear(in_features=3072, out_features=10, bias=True)\n",
            ")]), (10, [Net(\n",
            "  (fc): Linear(in_features=3072, out_features=10, bias=True)\n",
            "), Net(\n",
            "  (fc): Linear(in_features=3072, out_features=10, bias=True)\n",
            "), Net(\n",
            "  (fc): Linear(in_features=3072, out_features=10, bias=True)\n",
            ")]), (11, [Net(\n",
            "  (fc): Linear(in_features=3072, out_features=10, bias=True)\n",
            "), Net(\n",
            "  (fc): Linear(in_features=3072, out_features=10, bias=True)\n",
            "), Net(\n",
            "  (fc): Linear(in_features=3072, out_features=10, bias=True)\n",
            ")]), (12, [Net(\n",
            "  (fc): Linear(in_features=3072, out_features=10, bias=True)\n",
            "), Net(\n",
            "  (fc): Linear(in_features=3072, out_features=10, bias=True)\n",
            "), Net(\n",
            "  (fc): Linear(in_features=3072, out_features=10, bias=True)\n",
            ")]), (13, [Net(\n",
            "  (fc): Linear(in_features=3072, out_features=10, bias=True)\n",
            "), Net(\n",
            "  (fc): Linear(in_features=3072, out_features=10, bias=True)\n",
            "), Net(\n",
            "  (fc): Linear(in_features=3072, out_features=10, bias=True)\n",
            ")]), (14, [Net(\n",
            "  (fc): Linear(in_features=3072, out_features=10, bias=True)\n",
            "), Net(\n",
            "  (fc): Linear(in_features=3072, out_features=10, bias=True)\n",
            "), Net(\n",
            "  (fc): Linear(in_features=3072, out_features=10, bias=True)\n",
            ")]), (15, [Net(\n",
            "  (fc): Linear(in_features=3072, out_features=10, bias=True)\n",
            "), Net(\n",
            "  (fc): Linear(in_features=3072, out_features=10, bias=True)\n",
            "), Net(\n",
            "  (fc): Linear(in_features=3072, out_features=10, bias=True)\n",
            ")])]}\n",
            "INFO flwr 2023-06-07 23:45:56,242 | app.py:220 | app_fit: metrics_distributed {'test_accuracy': [(1, 0.4098393574297189), (2, 0.42088353413654617), (3, 0.4257028112449799), (4, 0.428714859437751), (5, 0.43273092369477906), (6, 0.43433734939759033), (7, 0.4381526104417671), (8, 0.4401606425702812), (9, 0.4427710843373494), (10, 0.44176706827309226), (11, 0.4419678714859437), (12, 0.44116465863453824), (13, 0.44337349397590364), (14, 0.443574297188755), (15, 0.44417670682730936)]}\n",
            "INFO:flwr:app_fit: metrics_distributed {'test_accuracy': [(1, 0.4098393574297189), (2, 0.42088353413654617), (3, 0.4257028112449799), (4, 0.428714859437751), (5, 0.43273092369477906), (6, 0.43433734939759033), (7, 0.4381526104417671), (8, 0.4401606425702812), (9, 0.4427710843373494), (10, 0.44176706827309226), (11, 0.4419678714859437), (12, 0.44116465863453824), (13, 0.44337349397590364), (14, 0.443574297188755), (15, 0.44417670682730936)]}\n",
            "INFO flwr 2023-06-07 23:45:56,247 | app.py:221 | app_fit: losses_centralized []\n",
            "INFO:flwr:app_fit: losses_centralized []\n",
            "INFO flwr 2023-06-07 23:45:56,250 | app.py:222 | app_fit: metrics_centralized {}\n",
            "INFO:flwr:app_fit: metrics_centralized {}\n"
          ]
        }
      ],
      "source": [
        "# Create FedAvg strategy\n",
        "strategy = FedEM(\n",
        "    total_nb_clients=NUM_CLIENTS,\n",
        "    num_components = NUM_COMPONENTS,\n",
        "    initial_model = Net(),\n",
        "    fraction_fit=1.0,  # Sample 100% of available clients for training\n",
        "    fraction_evaluate=1,  # Sample 50% of available clients for evaluation\n",
        "    min_evaluate_clients=5,  # Never sample less than 5 clients for evaluation\n",
        "    min_available_clients=5,  # Wait until 5 clients are available\n",
        "    fit_metrics_aggregation_fn=weighted_average_train_loss,\n",
        "    evaluate_metrics_aggregation_fn=weighted_average_test_acc,  # <-- pass the metric aggregation function\n",
        "    initial_parameters=ndarrays_to_parameters(get_parameters_network(Net()))\n",
        ")\n",
        "\n",
        "# Specify client resources if you need GPU (defaults to 1 CPU and 0 GPU)\n",
        "client_resources = None\n",
        "if DEVICE.type == \"cuda\":\n",
        "    client_resources = {\"num_gpus\": 1}\n",
        "\n",
        "# Start simulation\n",
        "result_fedEM = fl.simulation.start_simulation(\n",
        "    client_fn=client_fn_FedEM,\n",
        "    num_clients=NUM_CLIENTS,\n",
        "    config=fl.server.ServerConfig(num_rounds=NUM_EPOCHS),\n",
        "    strategy=strategy,\n",
        "    client_resources=client_resources,\n",
        ")"
      ]
    },
    {
      "cell_type": "code",
      "source": [
        "result_fedEM"
      ],
      "metadata": {
        "colab": {
          "base_uri": "https://localhost:8080/"
        },
        "id": "ULXOATAB5pW3",
        "outputId": "67f9341c-8ffe-49e5-8611-62d039611441"
      },
      "execution_count": 31,
      "outputs": [
        {
          "output_type": "execute_result",
          "data": {
            "text/plain": [
              "History (loss, distributed):\n",
              "\tround 1: 1.7270421743392945\n",
              "\tround 2: 1.7046153128147126\n",
              "\tround 3: 1.6896473526954652\n",
              "\tround 4: 1.6794777750968932\n",
              "\tround 5: 1.671791523694992\n",
              "\tround 6: 1.6655180215835572\n",
              "\tround 7: 1.6605035543441773\n",
              "\tround 8: 1.6562655746936799\n",
              "\tround 9: 1.6527080237865448\n",
              "\tround 10: 1.6496465444564818\n",
              "\tround 11: 1.6470032155513763\n",
              "\tround 12: 1.6446938633918762\n",
              "\tround 13: 1.6426656305789948\n",
              "\tround 14: 1.6408718526363373\n",
              "\tround 15: 1.639277744293213\n",
              "History (metrics, distributed, fit):\n",
              "{'train_loss': [(1, tensor(0.0034)), (2, tensor(0.0041)), (3, tensor(0.0041)), (4, tensor(0.0040)), (5, tensor(0.0040)), (6, tensor(0.0040)), (7, tensor(0.0040)), (8, tensor(0.0040)), (9, tensor(0.0039)), (10, tensor(0.0039)), (11, tensor(0.0039)), (12, tensor(0.0039)), (13, tensor(0.0039)), (14, tensor(0.0039)), (15, tensor(0.0039))], 'models': [(1, [Net(\n",
              "  (fc): Linear(in_features=3072, out_features=10, bias=True)\n",
              "), Net(\n",
              "  (fc): Linear(in_features=3072, out_features=10, bias=True)\n",
              "), Net(\n",
              "  (fc): Linear(in_features=3072, out_features=10, bias=True)\n",
              ")]), (2, [Net(\n",
              "  (fc): Linear(in_features=3072, out_features=10, bias=True)\n",
              "), Net(\n",
              "  (fc): Linear(in_features=3072, out_features=10, bias=True)\n",
              "), Net(\n",
              "  (fc): Linear(in_features=3072, out_features=10, bias=True)\n",
              ")]), (3, [Net(\n",
              "  (fc): Linear(in_features=3072, out_features=10, bias=True)\n",
              "), Net(\n",
              "  (fc): Linear(in_features=3072, out_features=10, bias=True)\n",
              "), Net(\n",
              "  (fc): Linear(in_features=3072, out_features=10, bias=True)\n",
              ")]), (4, [Net(\n",
              "  (fc): Linear(in_features=3072, out_features=10, bias=True)\n",
              "), Net(\n",
              "  (fc): Linear(in_features=3072, out_features=10, bias=True)\n",
              "), Net(\n",
              "  (fc): Linear(in_features=3072, out_features=10, bias=True)\n",
              ")]), (5, [Net(\n",
              "  (fc): Linear(in_features=3072, out_features=10, bias=True)\n",
              "), Net(\n",
              "  (fc): Linear(in_features=3072, out_features=10, bias=True)\n",
              "), Net(\n",
              "  (fc): Linear(in_features=3072, out_features=10, bias=True)\n",
              ")]), (6, [Net(\n",
              "  (fc): Linear(in_features=3072, out_features=10, bias=True)\n",
              "), Net(\n",
              "  (fc): Linear(in_features=3072, out_features=10, bias=True)\n",
              "), Net(\n",
              "  (fc): Linear(in_features=3072, out_features=10, bias=True)\n",
              ")]), (7, [Net(\n",
              "  (fc): Linear(in_features=3072, out_features=10, bias=True)\n",
              "), Net(\n",
              "  (fc): Linear(in_features=3072, out_features=10, bias=True)\n",
              "), Net(\n",
              "  (fc): Linear(in_features=3072, out_features=10, bias=True)\n",
              ")]), (8, [Net(\n",
              "  (fc): Linear(in_features=3072, out_features=10, bias=True)\n",
              "), Net(\n",
              "  (fc): Linear(in_features=3072, out_features=10, bias=True)\n",
              "), Net(\n",
              "  (fc): Linear(in_features=3072, out_features=10, bias=True)\n",
              ")]), (9, [Net(\n",
              "  (fc): Linear(in_features=3072, out_features=10, bias=True)\n",
              "), Net(\n",
              "  (fc): Linear(in_features=3072, out_features=10, bias=True)\n",
              "), Net(\n",
              "  (fc): Linear(in_features=3072, out_features=10, bias=True)\n",
              ")]), (10, [Net(\n",
              "  (fc): Linear(in_features=3072, out_features=10, bias=True)\n",
              "), Net(\n",
              "  (fc): Linear(in_features=3072, out_features=10, bias=True)\n",
              "), Net(\n",
              "  (fc): Linear(in_features=3072, out_features=10, bias=True)\n",
              ")]), (11, [Net(\n",
              "  (fc): Linear(in_features=3072, out_features=10, bias=True)\n",
              "), Net(\n",
              "  (fc): Linear(in_features=3072, out_features=10, bias=True)\n",
              "), Net(\n",
              "  (fc): Linear(in_features=3072, out_features=10, bias=True)\n",
              ")]), (12, [Net(\n",
              "  (fc): Linear(in_features=3072, out_features=10, bias=True)\n",
              "), Net(\n",
              "  (fc): Linear(in_features=3072, out_features=10, bias=True)\n",
              "), Net(\n",
              "  (fc): Linear(in_features=3072, out_features=10, bias=True)\n",
              ")]), (13, [Net(\n",
              "  (fc): Linear(in_features=3072, out_features=10, bias=True)\n",
              "), Net(\n",
              "  (fc): Linear(in_features=3072, out_features=10, bias=True)\n",
              "), Net(\n",
              "  (fc): Linear(in_features=3072, out_features=10, bias=True)\n",
              ")]), (14, [Net(\n",
              "  (fc): Linear(in_features=3072, out_features=10, bias=True)\n",
              "), Net(\n",
              "  (fc): Linear(in_features=3072, out_features=10, bias=True)\n",
              "), Net(\n",
              "  (fc): Linear(in_features=3072, out_features=10, bias=True)\n",
              ")]), (15, [Net(\n",
              "  (fc): Linear(in_features=3072, out_features=10, bias=True)\n",
              "), Net(\n",
              "  (fc): Linear(in_features=3072, out_features=10, bias=True)\n",
              "), Net(\n",
              "  (fc): Linear(in_features=3072, out_features=10, bias=True)\n",
              ")])]}History (metrics, distributed, evaluate):\n",
              "{'test_accuracy': [(1, 0.4098393574297189), (2, 0.42088353413654617), (3, 0.4257028112449799), (4, 0.428714859437751), (5, 0.43273092369477906), (6, 0.43433734939759033), (7, 0.4381526104417671), (8, 0.4401606425702812), (9, 0.4427710843373494), (10, 0.44176706827309226), (11, 0.4419678714859437), (12, 0.44116465863453824), (13, 0.44337349397590364), (14, 0.443574297188755), (15, 0.44417670682730936)]}"
            ]
          },
          "metadata": {},
          "execution_count": 31
        }
      ]
    },
    {
      "cell_type": "code",
      "source": [
        "test_losses_fedEM = [key[1] for key in result_fedEM.losses_distributed]\n",
        "train_losses_fedEM = [key[1] for key in result_fedEM.metrics_distributed_fit['train_loss']]\n",
        "accuracies_fedEM = [key[1] for key in result_fedEM.metrics_distributed['test_accuracy']]\n",
        "\n",
        "plot_metrics([train_losses_fedEM], [test_losses_fedEM],\n",
        "             [accuracies_fedEM], [\"FedEM\"])"
      ],
      "metadata": {
        "colab": {
          "base_uri": "https://localhost:8080/",
          "height": 487
        },
        "id": "UBqwQSuy5YS0",
        "outputId": "256728c9-263b-4882-c280-eff6dc222e35"
      },
      "execution_count": 32,
      "outputs": [
        {
          "output_type": "display_data",
          "data": {
            "text/plain": [
              "<Figure size 1500x500 with 3 Axes>"
            ],
            "image/png": "[encoded data removed]"
          },
          "metadata": {}
        }
      ]
    },
    {
      "cell_type": "markdown",
      "metadata": {
        "id": "7ZpsPLvQ-a-A"
      },
      "source": [
        "### Comparing to FedAvg"
      ]
    },
    {
      "cell_type": "code",
      "source": [
        "np.log10(losses_fedavg)"
      ],
      "metadata": {
        "id": "ZUek33tsRnSk",
        "colab": {
          "base_uri": "https://localhost:8080/"
        },
        "outputId": "362c6d9d-7a43-4952-88be-aaceb6f86885"
      },
      "execution_count": 33,
      "outputs": [
        {
          "output_type": "execute_result",
          "data": {
            "text/plain": [
              "array([0.26674997, 0.25605995, 0.25228816, 0.24696717, 0.24226308,\n",
              "       0.23972935, 0.23656343, 0.23074682, 0.23109491, 0.2291036 ,\n",
              "       0.22939817, 0.22817832, 0.22662643, 0.22592004, 0.22518458])"
            ]
          },
          "metadata": {},
          "execution_count": 33
        }
      ]
    },
    {
      "cell_type": "code",
      "execution_count": 34,
      "metadata": {
        "id": "KJskNLjk-gIr",
        "colab": {
          "base_uri": "https://localhost:8080/",
          "height": 219
        },
        "outputId": "ddc446d3-c221-43d6-8d63-bff9d6f25ff5"
      },
      "outputs": [
        {
          "output_type": "error",
          "ename": "NameError",
          "evalue": "ignored",
          "traceback": [
            "\u001b[0;31m---------------------------------------------------------------------------\u001b[0m",
            "\u001b[0;31mNameError\u001b[0m                                 Traceback (most recent call last)",
            "\u001b[0;32m<ipython-input-34-f5dafda5550e>\u001b[0m in \u001b[0;36m<cell line: 5>\u001b[0;34m()\u001b[0m\n\u001b[1;32m      3\u001b[0m \u001b[0maccuracies_fedEM\u001b[0m \u001b[0;34m=\u001b[0m \u001b[0;34m[\u001b[0m\u001b[0mkey\u001b[0m\u001b[0;34m[\u001b[0m\u001b[0;36m1\u001b[0m\u001b[0;34m]\u001b[0m \u001b[0;32mfor\u001b[0m \u001b[0mkey\u001b[0m \u001b[0;32min\u001b[0m \u001b[0mresult_fedEM\u001b[0m\u001b[0;34m.\u001b[0m\u001b[0mmetrics_distributed\u001b[0m\u001b[0;34m[\u001b[0m\u001b[0;34m'test_accuracy'\u001b[0m\u001b[0;34m]\u001b[0m\u001b[0;34m]\u001b[0m\u001b[0;34m\u001b[0m\u001b[0;34m\u001b[0m\u001b[0m\n\u001b[1;32m      4\u001b[0m \u001b[0;34m\u001b[0m\u001b[0m\n\u001b[0;32m----> 5\u001b[0;31m plot_metrics([train_losses_fedavg, train_losses_fedEM], [test_losses_fedavg, test_losses_fedEM],\n\u001b[0m\u001b[1;32m      6\u001b[0m              [accuracies_fedavg, accuracies_fedEM], [\"Fedavg\", \"FedEM\"])\n",
            "\u001b[0;31mNameError\u001b[0m: name 'test_losses_fedavg' is not defined"
          ]
        }
      ],
      "source": [
        "test_losses_fedEM = [key[1] for key in result_fedEM.losses_distributed]\n",
        "train_losses_fedEM = [key[1] for key in result_fedEM.metrics_distributed_fit['train_loss']]\n",
        "accuracies_fedEM = [key[1] for key in result_fedEM.metrics_distributed['test_accuracy']]\n",
        "\n",
        "plot_metrics([train_losses_fedavg, train_losses_fedEM], [test_losses_fedavg, test_losses_fedEM],\n",
        "             [accuracies_fedavg, accuracies_fedEM], [\"Fedavg\", \"FedEM\"])"
      ]
    },
    {
      "cell_type": "markdown",
      "metadata": {
        "id": "r6iq2c_KWjuA"
      },
      "source": [
        "## Final remarks\n",
        "\n",
        "Congratulations, you just trained a convolutional neural network, federated over 20 heterogeneous clients! With that, you understand the basics of federated learning with Flower. The same approach you've seen can be used with other machine learning frameworks (not just PyTorch) and tasks (not just CIFAR-10 images classification).\n"
      ]
    },
    {
      "cell_type": "markdown",
      "metadata": {
        "id": "nUVeXjPn0SDx"
      },
      "source": [
        "## Citing Flowers\n",
        "\n",
        "\n",
        "```\n",
        "@article{beutel2020flower,\n",
        "  title={Flower: A Friendly Federated Learning Research Framework},\n",
        "  author={Beutel, Daniel J and Topal, Taner and Mathur, Akhil and Qiu, Xinchi and Fernandez-Marques, Javier and Gao, Yan and Sani, Lorenzo and Kwing, Hei Li and Parcollet, Titouan and Gusmão, Pedro PB de and Lane, Nicholas D}, \n",
        "  journal={arXiv preprint arXiv:2007.14390},\n",
        "  year={2020}\n",
        "}\n",
        "```\n",
        "\n"
      ]
    }
  ],
  "metadata": {
    "colab": {
      "provenance": [],
      "toc_visible": true,
      "gpuType": "T4"
    },
    "kernelspec": {
      "display_name": "Python 3",
      "name": "python3"
    },
    "language_info": {
      "codemirror_mode": {
        "name": "ipython",
        "version": 3
      },
      "file_extension": ".py",
      "mimetype": "text/x-python",
      "name": "python",
      "nbconvert_exporter": "python",
      "pygments_lexer": "ipython3",
      "version": "3.8.10"
    }
  },
  "nbformat": 4,
  "nbformat_minor": 0
}